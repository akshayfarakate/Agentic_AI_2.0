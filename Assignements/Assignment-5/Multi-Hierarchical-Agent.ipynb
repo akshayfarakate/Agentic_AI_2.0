{
 "cells": [
  {
   "cell_type": "code",
   "execution_count": 1,
   "id": "67a8f378",
   "metadata": {},
   "outputs": [],
   "source": [
    "from dotenv import load_dotenv\n",
    "import os\n",
    "from langgraph.prebuilt import create_react_agent\n",
    "from langgraph.types import Command\n",
    "from langchain_core.messages import AIMessage, HumanMessage\n",
    "from langgraph.graph import MessagesState,StateGraph,START, END\n",
    "from typing_extensions import TypedDict\n",
    "from langchain_groq import ChatGroq\n",
    "from typing import Literal\n",
    "from typing import Annotated\n",
    "from langchain_core.tools import tool"
   ]
  },
  {
   "cell_type": "code",
   "execution_count": 2,
   "id": "783be758",
   "metadata": {},
   "outputs": [
    {
     "data": {
      "text/plain": [
       "True"
      ]
     },
     "execution_count": 2,
     "metadata": {},
     "output_type": "execute_result"
    }
   ],
   "source": [
    "load_dotenv()"
   ]
  },
  {
   "cell_type": "code",
   "execution_count": null,
   "id": "8c6824bf",
   "metadata": {},
   "outputs": [],
   "source": []
  },
  {
   "cell_type": "code",
   "execution_count": 3,
   "id": "9bc174b0",
   "metadata": {},
   "outputs": [],
   "source": [
    "llm=ChatGroq(model=\"deepseek-r1-distill-llama-70b\")"
   ]
  },
  {
   "cell_type": "code",
   "execution_count": 4,
   "id": "c8d47277",
   "metadata": {},
   "outputs": [
    {
     "name": "stdout",
     "output_type": "stream",
     "text": [
      "content='<think>\\n\\n</think>\\n\\nHello! How can I assist you today? 😊' additional_kwargs={} response_metadata={'token_usage': {'completion_tokens': 16, 'prompt_tokens': 5, 'total_tokens': 21, 'completion_time': 0.088137308, 'prompt_time': 0.000111469, 'queue_time': 0.052597951999999996, 'total_time': 0.088248777}, 'model_name': 'deepseek-r1-distill-llama-70b', 'system_fingerprint': 'fp_1bbe7845ec', 'finish_reason': 'stop', 'logprobs': None} id='run--afbf5bd1-b36f-42ba-9709-72329f0fe02d-0' usage_metadata={'input_tokens': 5, 'output_tokens': 16, 'total_tokens': 21}\n"
     ]
    }
   ],
   "source": [
    "print(llm.invoke(\"Hi?\"))"
   ]
  },
  {
   "cell_type": "markdown",
   "id": "483f2df9",
   "metadata": {},
   "source": [
    "### Message Satate class"
   ]
  },
  {
   "cell_type": "code",
   "execution_count": 5,
   "id": "c348aac4",
   "metadata": {},
   "outputs": [],
   "source": [
    "class State(MessagesState):\n",
    "    next:str"
   ]
  },
  {
   "cell_type": "markdown",
   "id": "09a1105d",
   "metadata": {},
   "source": [
    "## Supervisor Node"
   ]
  },
  {
   "cell_type": "code",
   "execution_count": null,
   "id": "816b8bde",
   "metadata": {},
   "outputs": [],
   "source": [
    "class SupervisorRouter(TypedDict):\n",
    "    next: Literal['research_supervisor', 'reports_supervisor', '__end__']"
   ]
  },
  {
   "cell_type": "code",
   "execution_count": null,
   "id": "ce3b89ca",
   "metadata": {},
   "outputs": [],
   "source": [
    "supervisor_agent_prompt = f\"\"\"\n",
    "You are a Supervisor Agent responsible for routing user requests to the appropriate sub-agent based on the intent and context of the conversation. Your role is to analyze the user's messages and the conversation state to determine the next step in the workflow. You can route to one of the following commands:\n",
    "\n",
    "- **research_supervisor**: Routes to agents handling medical/pharma research or financial research. Select this if the user is asking for information, analysis, or insights related to medical/pharma topics (e.g., drug discovery, clinical trials, healthcare data) or financial topics (e.g., market analysis, stock trends, investment strategies).\n",
    "- **reports_supervisor**: Routes to agents responsible for generating summaries, reports, or formatted outputs (e.g., PDF or DOCX documents) based on research or conversation results. Select this if the user requests a summary, document, or formatted output, or if research has been completed and a summary needs to be generated.\n",
    "- **__end__**: Terminates the workflow if the user's request has been fully addressed, no further action is needed, or the intent is unclear and cannot be routed.\n",
    "\n",
    "### Input:\n",
    "The state object, which inherits from MessagesState, contains:\n",
    "- A 'next' field (str) indicating the current stage of the workflow or the next agent to route to.\n",
    "- Conversation history (messages) containing user requests and agent responses.\n",
    "\n",
    "### Instructions:\n",
    "1. Analyze the 'next' field and the conversation history in the state to identify the user's intent and workflow stage.\n",
    "2. If the 'next' field indicates research is needed (e.g., 'next' is empty, null, or set to 'research'), or the user's latest message requests medical/pharma or financial research, route to 'research_supervisor'.\n",
    "3. If the 'next' field indicates research is complete (e.g., 'next' is set to 'research_complete' or similar), or the user requests a summary, report, or formatted output (e.g., PDF or DOCX), route to 'reports_supervisor'.\n",
    "4. If research has been completed (e.g., messages contain research results and 'next' is 'research_complete'), always route to 'reports_supervisor' to generate and save a summary in PDF or DOCX format, even if not explicitly requested by the user.\n",
    "5. If the 'next' field or intent is ambiguous, unclear, or the workflow is complete (e.g., 'next' is 'done' or messages indicate no further action), route to '__end__'.\n",
    "6. Provide a single command as output: 'research_supervisor', 'reports_supervisor', or '__end__'.\n",
    "7. Do not provide explanations or additional text beyond the command name.\n",
    "\"\"\""
   ]
  },
  {
   "cell_type": "code",
   "execution_count": null,
   "id": "218894c4",
   "metadata": {},
   "outputs": [],
   "source": [
    "def supervisor_agent(state:State)->Command[Literal['research_supervisor', 'reports_supervisor', '__end__']]:\n",
    "    \"\"\"Supervisor Agent function to route user requests based on intent and context.\"\"\"\n",
    "    # Print the state for debugging purposes\n",
    "    print(f\"---------------- Supervisor Agent invoked with state: {state} ----------------\")\n",
    "\n",
    "    # Prepare the messages for the LLM, including the system prompt\n",
    "    messages = [{\"role\": \"system\", \"content\": supervisor_agent_prompt},] + state[\"messages\"]\n",
    "\n",
    "    llm_with_supervisor_router = llm.with_structured_output(SupervisorRouter)\n",
    "\n",
    "    response=llm_with_supervisor_router.invoke(messages)\n",
    "\n",
    "    goto = response[\"next\"]\n",
    "    print(f\"response: {response} \\ngoto: {goto}\")\n",
    "\n",
    "    if goto == \"__end__\":\n",
    "        goto=END\n",
    "\n",
    "    print(f\"command : {Command(goto=goto, update={\"next\": goto})}\")\n",
    "    return Command(goto=goto, update={\"next\": goto})"
   ]
  },
  {
   "cell_type": "markdown",
   "id": "423eb026",
   "metadata": {},
   "source": [
    "## 1. Reaserach Team"
   ]
  },
  {
   "cell_type": "markdown",
   "id": "d6c08574",
   "metadata": {},
   "source": [
    "#### 1.1 Reaserach Router"
   ]
  },
  {
   "cell_type": "code",
   "execution_count": 6,
   "id": "f28d58a9",
   "metadata": {},
   "outputs": [],
   "source": [
    "class ResearchRouter(TypedDict):\n",
    "    next: Literal['medical_agent', 'finance_agent', 'supervisor']"
   ]
  },
  {
   "cell_type": "code",
   "execution_count": null,
   "id": "9a33a78e",
   "metadata": {},
   "outputs": [],
   "source": [
    "research_team_supervisor_prompt = f\"\"\" \n",
    "You are a Research Team Supervisor Agent responsible for routing research tasks to the appropriate agent based on their domain. Your task is to analyze the research request in the provided state and determine which agent should handle it. The possible agents are:\n",
    "\n",
    "medical_agent: For research tasks related to medical, pharmaceutical, healthcare, or biological topics.\n",
    "finance_agent: For research tasks related to finance, economics, banking, investments, or financial markets.\n",
    "supervisor: For all other research tasks that do not clearly fall into the medical or finance domains, or when the task requires higher-level oversight.\n",
    "\n",
    "Input: The state object contains the research request, which includes a description of the task or query to be researched.\n",
    "Instructions:\n",
    "\n",
    "Analyze the research request in the state to identify its domain.\n",
    "If the request involves medical, pharmaceutical, healthcare, or biological topics, Route to the command \"medical_agent\".\n",
    "If the request involves finance, economics, banking, investments, or financial markets, Route to the command \"finance_agent\".\n",
    "For any other topic or if the request is ambiguous and requires higher-level decision-making, Route to the command \"supervisor\".\n",
    "Route only the command name as a string: \"medical_agent\", \"finance_agent\", or \"supervisor\".\n",
    "Do not provide explanations or additional text beyond the command name.\n",
    "\n",
    "\"\"\"\n"
   ]
  },
  {
   "cell_type": "markdown",
   "id": "3e316fd7",
   "metadata": {},
   "source": [
    "#### 1.2 Reaserach team supervisor:"
   ]
  },
  {
   "cell_type": "code",
   "execution_count": null,
   "id": "68b9e6aa",
   "metadata": {},
   "outputs": [],
   "source": [
    "def reresearch_team_supervisor_agent(state:State)->Command[Literal['medical_agent', 'finance_agent', 'supervisor']]:\n",
    "    # Print the state for debugging purposes\n",
    "    print(f\"---------------- Reasreach team Agent invoked with state: {state} ----------------\")\n",
    "\n",
    "    # Prepare the messages for the LLM, including the system prompt\n",
    "    messages = [{\"role\": \"system\", \"content\": research_team_supervisor_prompt},] + state[\"messages\"]\n",
    "\n",
    "    llm_with_research_router = llm.with_structured_output(ResearchRouter)\n",
    "\n",
    "    response=llm_with_research_router.invoke(messages)\n",
    "\n",
    "    goto = response[\"next\"]\n",
    "    print(f\"response: {response} \\ngoto: {goto}\")\n",
    "\n",
    "    # if goto == \"FINISH\":\n",
    "    #     goto=END\n",
    "\n",
    "    print(f\"command : {Command(goto=goto, update={\"next\": goto})}\")\n",
    "    return Command(goto=goto, update={\"next\": goto})"
   ]
  },
  {
   "cell_type": "markdown",
   "id": "6a7de5b1",
   "metadata": {},
   "source": [
    "##### 1.2.1 Medical Pharma Agent:"
   ]
  },
  {
   "cell_type": "code",
   "execution_count": 8,
   "id": "f8d51fa9",
   "metadata": {},
   "outputs": [],
   "source": [
    "def medical_agent(state:State)->Command[Literal['research_supervisor']]:\n",
    "    pass"
   ]
  },
  {
   "cell_type": "markdown",
   "id": "0dd9ae8b",
   "metadata": {},
   "source": [
    "##### 1.2.2 Financial Agent:"
   ]
  },
  {
   "cell_type": "code",
   "execution_count": 9,
   "id": "e9a1e388",
   "metadata": {},
   "outputs": [],
   "source": [
    "def finance_agent(state:State)->Command[Literal['research_supervisor']]:\n",
    "    pass"
   ]
  },
  {
   "cell_type": "markdown",
   "id": "13b3c270",
   "metadata": {},
   "source": [
    "## 2. Reports Team"
   ]
  },
  {
   "cell_type": "markdown",
   "id": "a4779c13",
   "metadata": {},
   "source": [
    "#### 2.1 Reports Router"
   ]
  },
  {
   "cell_type": "code",
   "execution_count": 13,
   "id": "1b66297a",
   "metadata": {},
   "outputs": [],
   "source": [
    "class ReportsRouter(TypedDict):\n",
    "    next: Literal['summary_agent', 'document_agent', 'supervisor']"
   ]
  },
  {
   "cell_type": "code",
   "execution_count": null,
   "id": "993b23c8",
   "metadata": {},
   "outputs": [],
   "source": [
    "report_team_supervisor_prompt = f\"\"\"\n",
    "You are a Reports Team Supervisor Agent responsible for managing the workflow of generating and saving research summaries. Your task is to route the workflow based on the current state of the research process. The possible agents are:\n",
    "\n",
    "summary_agent: For generating a summary of all prior research data contained in the state.\n",
    "document_agent: For saving the generated summary in PDF or DOCX format.\n",
    "supervisor: For returning control to the higher-level supervisor after the summary is saved or if further oversight is needed.\n",
    "\n",
    "Input: The state object contains the research data, including prior research, the current status of the summary, and any instructions for saving the output.\n",
    "Instructions:\n",
    "\n",
    "Analyze the state to determine the current stage of the workflow.\n",
    "If no summary has been generated, route to the command \"summary_agent\" to create a summary of all prior research.\n",
    "If a summary has been generated but not saved, route to the command \"document_agent\" to save the summary in PDF or DOCX format, as specified in the state or context.\n",
    "If the summary has been generated and saved, route to the command \"supervisor\" to return control to the higher-level supervisor with the updated state, including the saved document's metadata (e.g., file path or format).\n",
    "If the state is ambiguous or contains errors (e.g., missing research data or invalid format), route to the command \"supervisor\" with appropriate feedback in the state.\n",
    "Route only the command name as a string: \"summary_agent\", \"document_agent\", or \"supervisor\".\n",
    "Do not provide explanations or additional text beyond the command name.\n",
    "\"\"\""
   ]
  },
  {
   "cell_type": "markdown",
   "id": "45faa22d",
   "metadata": {},
   "source": [
    "#### 2.2 Reports team supervisor:"
   ]
  },
  {
   "cell_type": "code",
   "execution_count": 10,
   "id": "e2f2d6d9",
   "metadata": {},
   "outputs": [],
   "source": [
    "def reports_team_supervisor_agent(state:State)->Command[Literal['summary_agent', 'document_agent','supervisor']]:\n",
    "    pass"
   ]
  },
  {
   "cell_type": "markdown",
   "id": "51875c8e",
   "metadata": {},
   "source": [
    "##### 2.2.1 Summry of result Agent:"
   ]
  },
  {
   "cell_type": "code",
   "execution_count": 11,
   "id": "9827a992",
   "metadata": {},
   "outputs": [],
   "source": [
    "def summary_agent(state:State)->Command[Literal['reports_supervisor']]:\n",
    "    pass"
   ]
  },
  {
   "cell_type": "markdown",
   "id": "03ffce57",
   "metadata": {},
   "source": [
    "##### 2.2.2 Document Agent:"
   ]
  },
  {
   "cell_type": "code",
   "execution_count": 12,
   "id": "5c86767d",
   "metadata": {},
   "outputs": [],
   "source": [
    "def document_agent(state:State)->Command[Literal['reports_supervisor']]:\n",
    "    pass"
   ]
  },
  {
   "cell_type": "code",
   "execution_count": null,
   "id": "5cb1c50f",
   "metadata": {},
   "outputs": [],
   "source": []
  },
  {
   "cell_type": "markdown",
   "id": "3164267f",
   "metadata": {},
   "source": [
    "### Graph workflow"
   ]
  },
  {
   "cell_type": "code",
   "execution_count": 15,
   "id": "42be9e2b",
   "metadata": {},
   "outputs": [],
   "source": [
    "graph=StateGraph(State)\n",
    "graph.add_node(\"supervisor\", supervisor_agent)\n",
    "\n",
    "graph.add_node(\"research_supervisor\", reresearch_team_supervisor_agent)\n",
    "graph.add_node(\"medical_agent\", medical_agent)\n",
    "graph.add_node(\"finance_agent\", finance_agent)\n",
    "\n",
    "graph.add_node(\"reports_supervisor\",reports_team_supervisor_agent)\n",
    "graph.add_node(\"summary_agent\", summary_agent)\n",
    "graph.add_node(\"document_agent\", document_agent)    \n",
    "\n",
    "graph.add_edge(START,\"supervisor\")\n",
    "\n",
    "app=graph.compile()"
   ]
  },
  {
   "cell_type": "code",
   "execution_count": 16,
   "id": "625c3b8c",
   "metadata": {},
   "outputs": [],
   "source": [
    "\n",
    "from IPython.display import display,Image"
   ]
  },
  {
   "cell_type": "code",
   "execution_count": 17,
   "id": "124a3816",
   "metadata": {},
   "outputs": [
    {
     "data": {
      "image/png": "[encoded data removed]",
      "text/plain": [
       "<IPython.core.display.Image object>"
      ]
     },
     "metadata": {},
     "output_type": "display_data"
    }
   ],
   "source": [
    "display(Image(app.get_graph().draw_mermaid_png()))"
   ]
  },
  {
   "cell_type": "code",
   "execution_count": 18,
   "id": "60f29e71",
   "metadata": {},
   "outputs": [],
   "source": [
    "### Graph state\n",
    "graph=StateGraph(State)\n"
   ]
  },
  {
   "cell_type": "code",
   "execution_count": null,
   "id": "fb495f8d",
   "metadata": {},
   "outputs": [],
   "source": []
  },
  {
   "cell_type": "code",
   "execution_count": null,
   "id": "2e8f174e",
   "metadata": {},
   "outputs": [],
   "source": []
  }
 ],
 "metadata": {
  "kernelspec": {
   "display_name": "Python 3",
   "language": "python",
   "name": "python3"
  },
  "language_info": {
   "codemirror_mode": {
    "name": "ipython",
    "version": 3
   },
   "file_extension": ".py",
   "mimetype": "text/x-python",
   "name": "python",
   "nbconvert_exporter": "python",
   "pygments_lexer": "ipython3",
   "version": "3.10.18"
  }
 },
 "nbformat": 4,
 "nbformat_minor": 5
}
