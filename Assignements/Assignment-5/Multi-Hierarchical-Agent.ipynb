{
 "cells": [
  {
   "cell_type": "code",
   "execution_count": 1,
   "id": "67a8f378",
   "metadata": {},
   "outputs": [
    {
     "name": "stderr",
     "output_type": "stream",
     "text": [
      "USER_AGENT environment variable not set, consider setting it to identify your requests.\n"
     ]
    }
   ],
   "source": [
    "from dotenv import load_dotenv\n",
    "import os\n",
    "from langgraph.prebuilt import create_react_agent\n",
    "from langchain_core.prompts import ChatPromptTemplate\n",
    "from langgraph.types import Command\n",
    "from langchain_core.messages import AIMessage, HumanMessage\n",
    "from langgraph.graph import MessagesState,StateGraph,START, END\n",
    "from typing_extensions import TypedDict\n",
    "from langchain_groq import ChatGroq\n",
    "from langchain_openai import ChatOpenAI\n",
    "from typing import Literal\n",
    "from typing import Annotated\n",
    "from langchain_core.tools import tool\n",
    "from langchain_community.tools.yahoo_finance_news import YahooFinanceNewsTool\n",
    "from langgraph.prebuilt import create_react_agent\n",
    "from langchain_fmp_data.tools import ResponseFormat\n",
    "from langchain_tavily import TavilySearch\n",
    "\n",
    "from langchain_community.tools.pubmed.tool import PubmedQueryRun\n",
    "from langchain_fmp_data import FMPDataTool"
   ]
  },
  {
   "cell_type": "code",
   "execution_count": 2,
   "id": "783be758",
   "metadata": {},
   "outputs": [
    {
     "data": {
      "text/plain": [
       "True"
      ]
     },
     "execution_count": 2,
     "metadata": {},
     "output_type": "execute_result"
    }
   ],
   "source": [
    "load_dotenv()"
   ]
  },
  {
   "cell_type": "code",
   "execution_count": 3,
   "id": "6b324e77",
   "metadata": {},
   "outputs": [],
   "source": [
    "os.environ[\"FMP_API_KEY\"] = os.getenv(\"FMP_API_KEY\")\n",
    "os.environ[\"SERP_API_KEY\"] = os.getenv(\"SERP_API_KEY\")"
   ]
  },
  {
   "cell_type": "code",
   "execution_count": 4,
   "id": "9bc174b0",
   "metadata": {},
   "outputs": [],
   "source": [
    "# llm=ChatGroq(model=\"deepseek-r1-distill-llama-70b\")\n",
    "llm=ChatOpenAI(\n",
    "    model=\"gpt-4o\"\n",
    ")"
   ]
  },
  {
   "cell_type": "code",
   "execution_count": 40,
   "id": "c8d47277",
   "metadata": {},
   "outputs": [
    {
     "name": "stdout",
     "output_type": "stream",
     "text": [
      "content='Hello! How can I assist you today?' additional_kwargs={'refusal': None} response_metadata={'token_usage': {'completion_tokens': 9, 'prompt_tokens': 9, 'total_tokens': 18, 'completion_tokens_details': {'accepted_prediction_tokens': 0, 'audio_tokens': 0, 'reasoning_tokens': 0, 'rejected_prediction_tokens': 0}, 'prompt_tokens_details': {'audio_tokens': 0, 'cached_tokens': 0}}, 'model_name': 'gpt-4o-2024-08-06', 'system_fingerprint': None, 'id': 'chatcmpl-BtTVge72MgEsN1IbUdDeTGz6N9aM7', 'service_tier': 'default', 'finish_reason': 'stop', 'logprobs': None} id='run--47609bba-3179-425a-b004-0bfd76ae36c0-0' usage_metadata={'input_tokens': 9, 'output_tokens': 9, 'total_tokens': 18, 'input_token_details': {'audio': 0, 'cache_read': 0}, 'output_token_details': {'audio': 0, 'reasoning': 0}}\n"
     ]
    }
   ],
   "source": [
    "print(llm.invoke(\"Hi?\"))"
   ]
  },
  {
   "cell_type": "markdown",
   "id": "483f2df9",
   "metadata": {},
   "source": [
    "### Message Satate class"
   ]
  },
  {
   "cell_type": "code",
   "execution_count": 5,
   "id": "c348aac4",
   "metadata": {},
   "outputs": [],
   "source": [
    "class State(MessagesState):\n",
    "    next:str"
   ]
  },
  {
   "cell_type": "markdown",
   "id": "09a1105d",
   "metadata": {},
   "source": [
    "## Supervisor Node"
   ]
  },
  {
   "cell_type": "code",
   "execution_count": 6,
   "id": "816b8bde",
   "metadata": {},
   "outputs": [],
   "source": [
    "class SupervisorRouter(TypedDict):\n",
    "    next: Literal['research_supervisor', 'reports_supervisor', '__end__']"
   ]
  },
  {
   "cell_type": "code",
   "execution_count": 7,
   "id": "ce3b89ca",
   "metadata": {},
   "outputs": [],
   "source": [
    "supervisor_agent_prompt = f\"\"\"\n",
    "You are a Supervisor Agent responsible for routing user requests to the appropriate sub-agent based on the intent and context of the conversation. Your role is to analyze the user's messages and the conversation state to determine the next step in the workflow. You can route to one of the following commands:\n",
    "\n",
    "- **research_supervisor**: Routes to agents handling medical/pharma research or financial research. Select this if the user is asking for information, analysis, or insights related to medical/pharma topics (e.g., drug discovery, clinical trials, healthcare data) or financial topics (e.g., market analysis, stock trends, investment strategies).\n",
    "- **reports_supervisor**: Routes to agents responsible for generating summaries, reports, or formatted outputs (e.g., PDF or DOCX documents) based on research or conversation results. Select summary agent before giving result. Select this if the user requests a summary, document, or formatted output, or if research has been completed and a summary needs to be generated.\n",
    "- **__end__**: Terminates the workflow if the user's request has been fully addressed, no further action is needed, or the intent is unclear and cannot be routed.\n",
    "\n",
    "### Input:\n",
    "The state object, which inherits from MessagesState, contains:\n",
    "- A 'next' field (str) indicating the current stage of the workflow or the next agent to route to.\n",
    "- Conversation history (messages) containing user requests and agent responses.\n",
    "\n",
    "### Instructions:\n",
    "1. Analyze the 'next' field and the conversation history in the state to identify the user's intent and workflow stage.\n",
    "2. If the 'next' field indicates research is needed (e.g., 'next' is empty, null, or set to 'research'), or the user's latest message requests medical/pharma or financial research, route to 'research_supervisor'.\n",
    "3. If the 'next' field indicates research is complete (e.g., 'next' is set to 'research_complete' or similar), or the user requests a summary, report, or formatted output (e.g., PDF or DOCX), route to 'reports_supervisor'.\n",
    "4. If research has been completed (e.g., messages contain research results and 'next' is 'research_complete'), always route to 'reports_supervisor' to generate and save a summary in PDF or DOCX format, even if not explicitly requested by the user.\n",
    "5. If the 'next' field or intent is ambiguous, unclear, or the workflow is complete (e.g., 'next' is 'done' or messages indicate no further action), route to '__end__'.\n",
    "6. Provide a single command as output: 'research_supervisor', 'reports_supervisor', or '__end__'.\n",
    "7. Do not provide explanations or additional text beyond the command name.\n",
    "\"\"\""
   ]
  },
  {
   "cell_type": "code",
   "execution_count": 8,
   "id": "218894c4",
   "metadata": {},
   "outputs": [],
   "source": [
    "def supervisor_agent(state:State)->Command[Literal['research_supervisor', 'reports_supervisor', '__end__']]:\n",
    "    \"\"\"Supervisor Agent function to route user requests based on intent and context.\"\"\"\n",
    "    # Print the state for debugging purposes\n",
    "    print(f\"---------------- Supervisor Agent invoked with state: {state} ----------------\")\n",
    "\n",
    "    # Prepare the messages for the LLM, including the system prompt\n",
    "    messages = [{\"role\": \"system\", \"content\": supervisor_agent_prompt},] + state[\"messages\"]\n",
    "\n",
    "    llm_with_supervisor_router = llm.with_structured_output(SupervisorRouter)\n",
    "\n",
    "    response=llm_with_supervisor_router.invoke(messages)\n",
    "\n",
    "    print(f\"response: {response}\")\n",
    "\n",
    "    goto = response[\"next\"]\n",
    "    # print(f\"response: {response} \\ngoto: {goto}\")\n",
    "\n",
    "    # print(f\"goto: {goto}\")\n",
    "    \n",
    "    if goto == '__end__':\n",
    "        goto=END\n",
    "\n",
    "    print(f\"command : {Command(goto=goto, update={'next': goto})}\")\n",
    "    return Command(goto=goto, update={\"next\": goto})"
   ]
  },
  {
   "cell_type": "markdown",
   "id": "423eb026",
   "metadata": {},
   "source": [
    "## 1. Reaserach Team"
   ]
  },
  {
   "cell_type": "markdown",
   "id": "d6c08574",
   "metadata": {},
   "source": [
    "#### 1.1 Reaserach Router"
   ]
  },
  {
   "cell_type": "code",
   "execution_count": 9,
   "id": "f28d58a9",
   "metadata": {},
   "outputs": [],
   "source": [
    "class ResearchRouter(TypedDict):\n",
    "    next: Literal['medical_agent', 'finance_agent', 'FINISH']"
   ]
  },
  {
   "cell_type": "code",
   "execution_count": 10,
   "id": "6c4d589e",
   "metadata": {},
   "outputs": [],
   "source": [
    "research_team_members = [\"medical_agent\", \"finance_agent\"]\n",
    "report_team_members = [\"summary_agent\", \"report_agent\"]"
   ]
  },
  {
   "cell_type": "code",
   "execution_count": 11,
   "id": "9a33a78e",
   "metadata": {},
   "outputs": [],
   "source": [
    "# research_team_supervisor_prompt = f\"\"\" \n",
    "# You are a Research Team Supervisor Agent responsible for routing research tasks to the appropriate agent based on their domain. Your task is to analyze the research request in the provided state and determine which agent should handle it. The possible agents are:\n",
    "\n",
    "# medical_agent: For research tasks related to medical, pharmaceutical, healthcare, or biological topics.\n",
    "# finance_agent: For research tasks related to finance, economics, banking, investments, or financial markets.\n",
    "# When finished, respond with FINISH.\n",
    "\n",
    "# Input: The state object contains the research request, which includes a description of the task or query to be researched.\n",
    "# Instructions:\n",
    "\n",
    "# Analyze the research request in the state to identify its domain.\n",
    "# If the request involves medical, pharmaceutical, healthcare, or biological topics, Route to the command \"medical_agent\".\n",
    "# If the request involves finance, economics, banking, investments, or financial markets, Route to the command \"finance_agent\".\n",
    "# For any other topic or if the request is ambiguous and requires higher-level decision-making, Route to the command \"supervisor\".\n",
    "# Route only the command name as a string: \"medical_agent\", \"finance_agent\", or \"supervisor\".\n",
    "# Do not provide explanations or additional text beyond the command name.\n",
    "\n",
    "# \"\"\"\n",
    "\n",
    "research_team_supervisor_prompt = f\"\"\"\"\n",
    "You are a supervisor, tasked with managing a conversation between the following workers: {research_team_members}. \n",
    "Given the following user request, respond with the worker to act next. \n",
    "Each worker will perform a task and respond with their results and status. \n",
    "When finished, respond with FINISH.\n",
    "\"\"\"\n"
   ]
  },
  {
   "cell_type": "markdown",
   "id": "3e316fd7",
   "metadata": {},
   "source": [
    "#### 1.2 Reaserach team supervisor:"
   ]
  },
  {
   "cell_type": "code",
   "execution_count": 12,
   "id": "68b9e6aa",
   "metadata": {},
   "outputs": [],
   "source": [
    "def reresearch_team_supervisor_agent(state:State)->Command[Literal['medical_agent', 'finance_agent', 'supervisor']]:\n",
    "    # Print the state for debugging purposes\n",
    "    print(f\"---------------- Reasreach team Agent invoked with state: {state} ----------------\")\n",
    "\n",
    "    # Prepare the messages for the LLM, including the system prompt\n",
    "    messages = [{\"role\": \"system\", \"content\": research_team_supervisor_prompt},] + state[\"messages\"]\n",
    "\n",
    "    llm_with_research_router = llm.with_structured_output(ResearchRouter)\n",
    "\n",
    "    response=llm_with_research_router.invoke(messages)\n",
    "\n",
    "    goto = response[\"next\"]\n",
    "    print(f\"response: {response} \\ngoto: {goto}\")\n",
    "\n",
    "    if goto == \"FINISH\":\n",
    "        goto=\"supervisor\"\n",
    "\n",
    "    print(f\"command : {Command(goto=goto, update={'next': goto})}\")\n",
    "    return Command(goto=goto, update={\"next\": goto})"
   ]
  },
  {
   "cell_type": "markdown",
   "id": "6a7de5b1",
   "metadata": {},
   "source": [
    "##### 1.2.1 Medical Pharma Agent:"
   ]
  },
  {
   "cell_type": "code",
   "execution_count": 13,
   "id": "8d88114a",
   "metadata": {},
   "outputs": [],
   "source": [
    "medical_tools = [PubmedQueryRun(), TavilySearch()]\n",
    "# medical_research_agent_prompt = f\"\"\"\n",
    "# You are a Medical Research Agent responsible for conducting research on medical, pharmaceutical, healthcare, or biological topics based on the user's request. Your task is to analyze the request, provide relevant information, insights, or data, and route the workflow appropriately.\n",
    "# available tools: {medical_tools}\n",
    "# ### Input:\n",
    "# The state object, which inherits from MessagesState, contains:\n",
    "# - A 'next' field (str) indicating the current stage of the workflow or the next agent to route to.\n",
    "# - Conversation history (messages) containing user requests and prior responses.\n",
    "\n",
    "# ### Instructions:\n",
    "# 1. Analyze the user's latest request and conversation history in the state to identify the medical research topic (e.g., disease information, treatment options, pharmaceutical data, healthcare trends, or biological mechanisms).\n",
    "# 2. If the 'next' field is empty, null, or indicates a new research task (e.g., 'research'), conduct the medical research using available data in the state or your knowledge base. Store the results in the state and set 'next' to 'research_complete'.\n",
    "# 3. If up-to-date information or news is required and not available in your knowledge base, route to the command 'tavily_search' to fetch the latest data using the TavilySearch tool.\n",
    "# 4. If research is complete (e.g., 'next' is 'research_complete' or the state contains sufficient research results), route to the command 'reports_supervisor' to generate a summary in PDF or DOCX format.\n",
    "# 5. If the request is ambiguous, incomplete, or requires higher-level expertise (e.g., proprietary medical data or clinical trial access), route to the command 'research_supervisor' with appropriate feedback in the state.\n",
    "# 6. Provide a single command as output: 'tavily_search', 'reports_supervisor', or 'research_supervisor'.\n",
    "# 7. Do not provide explanations or additional text beyond the command name.\n",
    "# \"\"\"\n",
    "medical_research_agent_prompt = f\"\"\"\n",
    "You are a Medical Research Agent responsible for conducting research on medical, pharmaceutical, healthcare, or biological topics based on the user's request. Your task is to analyze the request, provide relevant information, insights, or data, and route the workflow appropriately.\n",
    "available tools: {medical_tools}\n",
    "\"\"\"\n"
   ]
  },
  {
   "cell_type": "code",
   "execution_count": 14,
   "id": "f8d51fa9",
   "metadata": {},
   "outputs": [],
   "source": [
    "def medical_agent(state:State)->Command[Literal['research_supervisor']]:\n",
    "    print(f\"---------------- Medical Agent invoked with state: {state} ----------------\")\n",
    "    medical_agent=create_react_agent(model=llm, tools=medical_tools, prompt=medical_research_agent_prompt)\n",
    "    result=medical_agent.invoke(state)\n",
    "\n",
    "    print(f'''command : {Command(\n",
    "        goto=\"research_supervisor\",\n",
    "        update={\"messages\": [\n",
    "            HumanMessage(content=result[\"messages\"][-1].content, name=\"medical_agent\")\n",
    "        ]}\n",
    "    )}''')\n",
    "    return Command(\n",
    "        goto=\"research_supervisor\",\n",
    "        update={\"messages\": [\n",
    "            HumanMessage(content=result[\"messages\"][-1].content, name=\"medical_agent\")\n",
    "        ]}\n",
    "    )\n",
    "\n"
   ]
  },
  {
   "cell_type": "markdown",
   "id": "0dd9ae8b",
   "metadata": {},
   "source": [
    "##### 1.2.2 Financial Agent:"
   ]
  },
  {
   "cell_type": "code",
   "execution_count": 32,
   "id": "5c2e533a",
   "metadata": {},
   "outputs": [],
   "source": [
    "finance_tools = [YahooFinanceNewsTool(), TavilySearch()]\n",
    "# finance_tools = [TavilySearch()]\n",
    "\n",
    "# financial_research_agent_prompt = f\"\"\"\n",
    "# You are a Financial Research Agent responsible for conducting research on financial topics based on the user's request. Your task is to analyze the request, provide relevant information, insights, or data related to finance, economics, banking, investments, or financial markets, and route the workflow appropriately.\n",
    "# available tools: {finance_tools}\n",
    "# ### Input:\n",
    "# The state object, which inherits from MessagesState, contains:\n",
    "# - A 'next' field (str) indicating the current stage of the workflow or the next agent to route to.\n",
    "# - Conversation history (messages) containing user requests and prior responses.\n",
    "\n",
    "# ### Instructions:\n",
    "# 1. Analyze the user's latest request and conversation history in the state to identify the financial research topic (e.g., market analysis, stock trends, investment strategies, economic data).\n",
    "# 2. If the 'next' field is empty, null, or indicates a new research task (e.g., 'research'), conduct the financial research using available data in the state or your knowledge base. Store the results in the state and set 'next' to 'research_complete'.\n",
    "# 3. If up-to-date information or news is required and not available in your knowledge base, route to the command 'tavily_search' to fetch the latest news or data.\n",
    "# 4. If research is complete (e.g., 'next' is 'research_complete' or the state contains sufficient research results), route to the command 'reports_supervisor' to generate a summary in PDF or DOCX format.\n",
    "# 5. If the request is ambiguous, incomplete, or requires higher-level oversight, route to the command 'research_supervisor' with appropriate feedback in the state.\n",
    "# 6. Provide a single command as output: 'tavily_search', 'reports_supervisor', or 'research_supervisor'.\n",
    "# 7. Do not provide explanations or additional text beyond the command name.\n",
    "# \"\"\"\n",
    "\n",
    "financial_research_agent_prompt = f\"\"\"\n",
    "You are a Financial Research Agent responsible for conducting research on financial topics based on the user's request. Your task is to analyze the request, provide relevant information, insights, or data related to finance, economics, banking, investments, or financial markets, and route the workflow appropriately.\n",
    "available tools: {finance_tools}.\n",
    "\"\"\""
   ]
  },
  {
   "cell_type": "code",
   "execution_count": 16,
   "id": "e9a1e388",
   "metadata": {},
   "outputs": [],
   "source": [
    "def finance_agent(state:State)->Command[Literal['research_supervisor']]:\n",
    "    print(f\"---------------- Finance Agent invoked with state: {state} ----------------\")\n",
    "    finance_agent = create_react_agent(model=llm, tools=finance_tools, prompt=financial_research_agent_prompt)\n",
    "    result = finance_agent.invoke(state)\n",
    "    print(f\"finance result: {result}\")\n",
    "    return Command(\n",
    "        goto=\"research_supervisor\",\n",
    "        update={\"messages\": [\n",
    "            HumanMessage(content=result[\"messages\"][-1].content, name=\"finance_agent\")\n",
    "        ]}\n",
    "    )"
   ]
  },
  {
   "cell_type": "code",
   "execution_count": 17,
   "id": "7b0be501",
   "metadata": {},
   "outputs": [],
   "source": [
    "# finance_agent({\n",
    "#     \"messages\": [\"Give me the latest news on stock market trends and investment strategies.\"]})"
   ]
  },
  {
   "cell_type": "markdown",
   "id": "13b3c270",
   "metadata": {},
   "source": [
    "## 2. Reports Team"
   ]
  },
  {
   "cell_type": "markdown",
   "id": "a4779c13",
   "metadata": {},
   "source": [
    "#### 2.1 Reports Router"
   ]
  },
  {
   "cell_type": "code",
   "execution_count": 18,
   "id": "1b66297a",
   "metadata": {},
   "outputs": [],
   "source": [
    "class ReportsRouter(TypedDict):\n",
    "    next: Literal['summary_agent', 'document_agent', 'FINISH']"
   ]
  },
  {
   "cell_type": "code",
   "execution_count": 19,
   "id": "993b23c8",
   "metadata": {},
   "outputs": [],
   "source": [
    "report_team_supervisor_prompt = f\"\"\"\n",
    "You are a Reports Team Supervisor Agent responsible for managing the workflow of generating and saving research summaries. Your task is to route the workflow based on the current state of the research process. The possible agents are:\n",
    "\n",
    "summary_agent: For generating a summary of all prior research data contained in the state.\n",
    "document_agent: For saving the generated summary in PDF or DOCX format.\n",
    "When finished, respond with FINISH.\n",
    "\n",
    "Input: The state object contains the research data, including prior research, the current status of the summary, and any instructions for saving the output.\n",
    "Instructions:\n",
    "\n",
    "Analyze the state to determine the current stage of the workflow.\n",
    "If no summary has been generated, route to the command \"summary_agent\" to create a summary of all prior research.\n",
    "If a summary has been generated but not saved, route to the command \"document_agent\" to save the summary in PDF or DOCX format, as specified in the state or context.\n",
    "If the summary has been generated and saved, route to the command \"supervisor\" to return control to the higher-level supervisor with the updated state, including the saved document's metadata (e.g., file path or format).\n",
    "If the state is ambiguous or contains errors (e.g., missing research data or invalid format), route to the command \"supervisor\" with appropriate feedback in the state.\n",
    "Route only the command name as a string: \"summary_agent\", \"document_agent\", or \"supervisor\".\n",
    "Do not provide explanations or additional text beyond the command name.\n",
    "\"\"\""
   ]
  },
  {
   "cell_type": "markdown",
   "id": "45faa22d",
   "metadata": {},
   "source": [
    "#### 2.2 Reports team supervisor:"
   ]
  },
  {
   "cell_type": "code",
   "execution_count": 36,
   "id": "e2f2d6d9",
   "metadata": {},
   "outputs": [],
   "source": [
    "def reports_team_supervisor_agent(state:State)->Command[Literal['summary_agent', 'document_agent','supervisor']]:\n",
    "    print(f\"---------------- Report team Agent invoked with state: {state} ----------------\")\n",
    "\n",
    "    # Prepare the messages for the LLM, including the system prompt\n",
    "    messages = [{\"role\": \"system\", \"content\": report_team_supervisor_prompt},] + state[\"messages\"]\n",
    "\n",
    "    llm_with_research_router = llm.with_structured_output(ReportsRouter)\n",
    "\n",
    "    response=llm_with_research_router.invoke(messages)\n",
    "\n",
    "    goto = response[\"next\"]\n",
    "    print(f\"response: {response} \\ngoto: {goto}\")\n",
    "\n",
    "    if goto == \"FINISH\":\n",
    "        goto=\"supervisor\"\n",
    "\n",
    "    print(f\"command : {Command(goto=goto, update={'next': goto})}\")\n",
    "    return Command(goto=goto, update={\"next\": goto})"
   ]
  },
  {
   "cell_type": "markdown",
   "id": "51875c8e",
   "metadata": {},
   "source": [
    "##### 2.2.1 Summry of result Agent:"
   ]
  },
  {
   "cell_type": "code",
   "execution_count": 21,
   "id": "876bb750",
   "metadata": {},
   "outputs": [],
   "source": [
    "medical_sumary_agent_prompt = f\"\"\"\n",
    "You are a Summary Agent responsible for generating a concise summary based on research data provided from a research agent.\n",
    "\n",
    "### Instructions:\n",
    "1. Analyze the research data and the original question to identify key findings.\n",
    "2. Summarize the findings in a clear, concise, and structured format (e.g., bullet points or short paragraphs).\n",
    "3. If the research data is insufficient or unclear, use the TavilySearch tool to fetch additional relevant information.\n",
    "4. Ensure the summary is accurate, relevant to the question's domain, and avoids unnecessary details.\n",
    "5. If the request requires advanced expertise or proprietary data, include the command 'research_supervisor' in the response.\n",
    "\"\"\""
   ]
  },
  {
   "cell_type": "code",
   "execution_count": null,
   "id": "94d60d1c",
   "metadata": {},
   "outputs": [],
   "source": []
  },
  {
   "cell_type": "code",
   "execution_count": 22,
   "id": "ae07b0b3",
   "metadata": {},
   "outputs": [],
   "source": [
    "@tool\n",
    "def summary_tool(state:State):\n",
    "    \"\"\"\n",
    "    Summary Agent function to generate a summary based on the provided state.\n",
    "\n",
    "    Args:\n",
    "        state: The input state to summarize (can be any type, converted to string).\n",
    "\n",
    "    Returns:\n",
    "        str: The generated summary.\n",
    "\n",
    "    Raises:\n",
    "        ValueError: If the state is None or empty.\n",
    "        LangChainException: If the LLM invocation fails.\n",
    "    \"\"\"\n",
    "    print(f\"---------------- summary_tool invoked with state: {state} ----------------\")\n",
    "    prompt = ChatPromptTemplate.from_template(\"\"\"\n",
    "        You are a Summary Agent.\n",
    "\n",
    "        Extract insights from this state:\n",
    "\n",
    "        {state}\n",
    "\n",
    "        Output:\n",
    "        Summary:\"\"\")\n",
    "    \n",
    "    chain = prompt | llm\n",
    "    result = chain.invoke({\"state\": state})\n",
    "    print(f\"Summary result: {result}\")\n",
    "    return result\n",
    "    \n",
    "    "
   ]
  },
  {
   "cell_type": "code",
   "execution_count": 23,
   "id": "9827a992",
   "metadata": {},
   "outputs": [],
   "source": [
    "summary_agent_prompt=f\"\"\"\n",
    "You are a Summary Agent responsible for generating a concise and accurate summary based on the provided state, which includes conversation history and research results. \n",
    "Your task is to analyze the state, extract key insights, and produce a structured summary for inclusion in a report (e.g., PDF or DOCX).\n",
    "\"\"\"\n",
    "\n",
    "def summary_agent(state:State)->Command[Literal['reports_supervisor']]:\n",
    "    summary_agent = create_react_agent(model=llm, tools=[summary_tool],prompt=summary_agent_prompt)\n",
    "    result = summary_agent.invoke(state)\n",
    "\n",
    "    return Command(\n",
    "        goto=\"reports_supervisor\",\n",
    "        update={\"messages\": [\n",
    "            HumanMessage(content=result[\"messages\"][-1].content, name=\"summary_agent\")\n",
    "        ]}\n",
    "    )"
   ]
  },
  {
   "cell_type": "markdown",
   "id": "03ffce57",
   "metadata": {},
   "source": [
    "##### 2.2.2 Document Agent:"
   ]
  },
  {
   "cell_type": "code",
   "execution_count": 41,
   "id": "13d857b6",
   "metadata": {},
   "outputs": [],
   "source": [
    "# import os\n",
    "# import re\n",
    "# from datetime import datetime\n",
    "\n",
    "# def pdf_report_tool(summary: str = None, question_name: str = \"default_report\") -> str:\n",
    "#     \"\"\"\n",
    "#     Generates a LaTeX document for a PDF report containing the provided summary and saves it to the 'docs_result/' folder.\n",
    "\n",
    "#     Args:\n",
    "#         summary (str, optional): The summary content to include in the LaTeX document. If None, returns an error message.\n",
    "#         question_name (str, optional): The name of the question to use as the filename (default: 'default_report').\n",
    "\n",
    "#     Returns:\n",
    "#         str: Confirmation message with the file path or an error message.\n",
    "\n",
    "#     Raises:\n",
    "#         OSError: If there are issues creating the directory or saving the file.\n",
    "#     \"\"\"\n",
    "#     if not summary:\n",
    "#         return \"Error: No summary provided for PDF generation.\"\n",
    "\n",
    "#     # Ensure the docs_result directory exists\n",
    "#     output_dir = \"docs_result\"\n",
    "#     try:\n",
    "#         os.makedirs(output_dir, exist_ok=True)\n",
    "#     except OSError as e:\n",
    "#         return f\"Error: Failed to create directory '{output_dir}': {str(e)}\"\n",
    "\n",
    "#     # Sanitize question_name to create a valid filename\n",
    "#     sanitized_name = re.sub(r'[^\\w\\s-]', '', question_name).strip().replace(' ', '_')\n",
    "#     if not sanitized_name:\n",
    "#         sanitized_name = \"default_report\"\n",
    "#     file_path = os.path.join(output_dir, f\"{sanitized_name}.tex\")\n",
    "\n",
    "#     # Escape special LaTeX characters in the summary\n",
    "#     latex_escape_chars = {\n",
    "#         '&': r'\\&', '%': r'\\%', '$': r'\\$', '#': r'\\#', '_': r'\\_',\n",
    "#         '{': r'\\{', '}': r'\\}', '~': r'\\textasciitilde{}', '^': r'\\textasciicircum{}',\n",
    "#         '\\\\': r'\\textbackslash{}'\n",
    "#     }\n",
    "#     escaped_summary = summary\n",
    "#     for char, escape in latex_escape_chars.items():\n",
    "#         escaped_summary = escaped_summary.replace(char, escape)\n",
    "\n",
    "#     # Parse summary for lists (similar to docx_report_tool)\n",
    "#     lines = escaped_summary.split(\"\\n\")\n",
    "#     latex_summary = []\n",
    "#     in_itemize = False\n",
    "#     in_enumerate = False\n",
    "#     for line in lines:\n",
    "#         line = line.strip()\n",
    "#         if not line:\n",
    "#             if in_itemize:\n",
    "#                 latex_summary.append(r\"\\end{itemize}\")\n",
    "#                 in_itemize = False\n",
    "#             if in_enumerate:\n",
    "#                 latex_summary.append(r\"\\end{enumerate}\")\n",
    "#                 in_enumerate = False\n",
    "#             continue\n",
    "#         if re.match(r\"^[-*]\\s+\", line):\n",
    "#             if not in_itemize:\n",
    "#                 latex_summary.append(r\"\\begin{itemize}\")\n",
    "#                 in_itemize = True\n",
    "#             if in_enumerate:\n",
    "#                 latex_summary.append(r\"\\end{enumerate}\")\n",
    "#                 in_enumerate = False\n",
    "#             latex_summary.append(\"\\\\item \" + line[2:].strip())\n",
    "#         elif re.match(r\"^\\d+\\.\\s+\", line):\n",
    "#             if not in_enumerate:\n",
    "#                 latex_summary.append(r\"\\begin{enumerate}\")\n",
    "#                 in_enumerate = True\n",
    "#             if in_itemize:\n",
    "#                 latex_summary.append(r\"\\end{itemize}\")\n",
    "#                 in_itemize = False\n",
    "#             latex_summary.append(\"\\\\item \" + re.sub(r'^\\d+\\.\\s+', '', line).strip())\n",
    "#         else:\n",
    "#             if in_itemize:\n",
    "#                 latex_summary.append(r\"\\end{itemize}\")\n",
    "#                 in_itemize = False\n",
    "#             if in_enumerate:\n",
    "#                 latex_summary.append(r\"\\end{enumerate}\")\n",
    "#                 in_enumerate = False\n",
    "#             latex_summary.append(line)\n",
    "#     if in_itemize:\n",
    "#         latex_summary.append(r\"\\end{itemize}\")\n",
    "#     if in_enumerate:\n",
    "#         latex_summary.append(r\"\\end{enumerate}\")\n",
    "\n",
    "#     # Join the processed summary lines\n",
    "#     formatted_summary = \"\\n\".join(latex_summary)\n",
    "\n",
    "#     # Comprehensive LaTeX preamble\n",
    "#     latex_content = rf\"\"\"\n",
    "# \\documentclass[a4paper,12pt]{{article}}\n",
    "# \\usepackage[utf8]{{inputenc}}\n",
    "# \\usepackage[T1]{{fontenc}}\n",
    "# \\usepackage{{geometry}}\n",
    "# \\usepackage{{parskip}}\n",
    "# \\usepackage{{enumitem}}\n",
    "# \\usepackage{{noto}}\n",
    "# \\geometry{{margin=1in}}\n",
    "# \\title{{Research Summary Report}}\n",
    "# \\author{{}}\n",
    "# \\date{{\\today}}\n",
    "\n",
    "# \\begin{{document}}\n",
    "# \\maketitle\n",
    "# \\section*{{Summary}}\n",
    "# {formatted_summary}\n",
    "# \\end{{document}}\n",
    "# \"\"\"\n",
    "\n",
    "#     # Save the LaTeX content to the file\n",
    "#     try:\n",
    "#         with open(file_path, 'w', encoding='utf-8') as f:\n",
    "#             f.write(latex_content)\n",
    "#         return f\"Success: LaTeX file saved to '{file_path}'. Compile with latexmk -pdf to generate PDF.\"\n",
    "#     except OSError as e:\n",
    "#         return f\"Error: Failed to save LaTeX file to '{file_path}': {str(e)}\""
   ]
  },
  {
   "cell_type": "code",
   "execution_count": 25,
   "id": "11ab987d",
   "metadata": {},
   "outputs": [],
   "source": [
    "from docx import Document\n",
    "from datetime import datetime\n",
    "import re\n",
    "import os\n",
    "\n",
    "@tool\n",
    "def docx_report_tool(summary: str = None, question_name: str = \"default_report\") -> str:\n",
    "    \"\"\"\n",
    "    Generates a DOCX document containing the provided summary and saves it to the 'docs_result/' folder.\n",
    "\n",
    "    Args:\n",
    "        summary (str, optional): The summary content to include in the DOCX. If None, returns an error message.\n",
    "        question_name (str, optional): The name of the question to use as the filename (default: 'default_report').\n",
    "\n",
    "    Returns:\n",
    "        str: Confirmation message with the file path or an error message.\n",
    "\n",
    "    Raises:\n",
    "        OSError: If there are issues creating the directory or saving the file.\n",
    "    \"\"\"\n",
    "    if not summary:\n",
    "        return \"Error: No summary provided for DOCX generation.\"\n",
    "\n",
    "    # Ensure the docs_result directory exists\n",
    "    output_dir = \"docs_result\"\n",
    "    try:\n",
    "        os.makedirs(output_dir, exist_ok=True)\n",
    "    except OSError as e:\n",
    "        return f\"Error: Failed to create directory '{output_dir}': {str(e)}\"\n",
    "\n",
    "    # Sanitize question_name to create a valid filename\n",
    "    sanitized_name = re.sub(r'[^\\w\\s-]', '', question_name).strip().replace(' ', '_')\n",
    "    if not sanitized_name:\n",
    "        sanitized_name = \"default_report\"\n",
    "    file_path = os.path.join(output_dir, f\"{sanitized_name}.docx\")\n",
    "\n",
    "    # Create a new Document\n",
    "    doc = Document()\n",
    "    doc.add_heading(\"Research Summary Report\", 0)\n",
    "    doc.add_paragraph(f\"Generated on: {datetime.now().strftime('%Y-%m-%d %H:%M:%S')}\")\n",
    "\n",
    "    # Parse summary for formatting (e.g., detect bullet points or numbered lists)\n",
    "    lines = summary.split(\"\\n\")\n",
    "    current_list = None\n",
    "    for line in lines:\n",
    "        line = line.strip()\n",
    "        if not line:\n",
    "            continue\n",
    "        # Detect bullet points (e.g., \"- Item\" or \"* Item\")\n",
    "        if re.match(r\"^[-*]\\s+\", line):\n",
    "            if current_list is None:\n",
    "                current_list = doc.add_paragraph(style=\"ListBullet\")\n",
    "            else:\n",
    "                current_list = doc.add_paragraph(style=\"ListBullet\")\n",
    "            current_list.add_run(line[2:].strip())\n",
    "        # Detect numbered lists (e.g., \"1. Item\")\n",
    "        elif re.match(r\"^\\d+\\.\\s+\", line):\n",
    "            if current_list is None or current_list.style.name != \"ListNumber\":\n",
    "                current_list = doc.add_paragraph(style=\"ListNumber\")\n",
    "            else:\n",
    "                current_list = doc.add_paragraph(style=\"ListNumber\")\n",
    "            current_list.add_run(re.sub(r\"^\\d+\\.\\s+\", \"\", line).strip())\n",
    "        else:\n",
    "            current_list = None\n",
    "            doc.add_paragraph(line)\n",
    "\n",
    "    # Save the document to the specified file path\n",
    "    try:\n",
    "        doc.save(file_path)\n",
    "        return f\"Success: DOCX file saved to '{file_path}'\"\n",
    "    except OSError as e:\n",
    "        return f\"Error: Failed to save DOCX file to '{file_path}': {str(e)}\""
   ]
  },
  {
   "cell_type": "code",
   "execution_count": 42,
   "id": "fb2a5d50",
   "metadata": {},
   "outputs": [],
   "source": [
    "\n",
    "report_agent_tools = [docx_report_tool]\n",
    "\n",
    "report_agent_prompt = f\"\"\"You are a Document Agent responsible for generating and saving research summaries in PDF or DOCX format. \n",
    "Your task is to analyze the provided state, which includes the summary content and the desired output format, and produce the document accordingly.\n",
    "If user has not specified the format, choose DOCX as the default format.\n",
    "available tools: {report_agent_tools}\n",
    "\"\"\""
   ]
  },
  {
   "cell_type": "code",
   "execution_count": 43,
   "id": "5c86767d",
   "metadata": {},
   "outputs": [],
   "source": [
    "def document_agent(state:State)->Command[Literal['reports_supervisor']]:\n",
    "    document_agent = create_react_agent(model=llm, tools=report_agent_tools, prompt=report_agent_prompt)\n",
    "    result = document_agent.invoke(state)\n",
    "\n",
    "\n",
    "    return Command(\n",
    "        goto=\"reports_supervisor\",\n",
    "        update={\"messages\": [\n",
    "            HumanMessage(content=result[\"messages\"][-1].content, name=\"document_agent\")\n",
    "        ]}\n",
    "    )"
   ]
  },
  {
   "cell_type": "markdown",
   "id": "3164267f",
   "metadata": {},
   "source": [
    "### Graph workflow"
   ]
  },
  {
   "cell_type": "code",
   "execution_count": 44,
   "id": "42be9e2b",
   "metadata": {},
   "outputs": [],
   "source": [
    "graph=StateGraph(State)\n",
    "graph.add_node(\"supervisor\", supervisor_agent)\n",
    "\n",
    "graph.add_node(\"research_supervisor\", reresearch_team_supervisor_agent)\n",
    "graph.add_node(\"medical_agent\", medical_agent)\n",
    "graph.add_node(\"finance_agent\", finance_agent)\n",
    "\n",
    "graph.add_node(\"reports_supervisor\",reports_team_supervisor_agent)\n",
    "graph.add_node(\"summary_agent\", summary_agent)\n",
    "graph.add_node(\"document_agent\", document_agent)    \n",
    "\n",
    "graph.add_edge(START,\"supervisor\")\n",
    "\n",
    "# graph.add_edge(\"supervisor\", \"research_supervisor\")\n",
    "# graph.add_edge(\"research_supervisor\", \"supervisor\")\n",
    "# graph.add_edge(\"research_supervisor\", \"medical_agent\")\n",
    "# graph.add_edge(\"research_supervisor\", \"finance_agent\")\n",
    "# graph.add_edge(\"medical_agent\", \"research_supervisor\")\n",
    "# graph.add_edge(\"finance_agent\", \"research_supervisor\")\n",
    "\n",
    "# graph.add_edge(\"supervisor\", \"reports_supervisor\")\n",
    "# graph.add_edge(\"reports_supervisor\", \"supervisor\")\n",
    "# graph.add_edge(\"reports_supervisor\", \"summary_agent\")\n",
    "# graph.add_edge(\"reports_supervisor\", \"document_agent\")\n",
    "# graph.add_edge(\"summary_agent\", \"reports_supervisor\")\n",
    "# graph.add_edge(\"document_agent\", \"reports_supervisor\")\n",
    "app=graph.compile()\n"
   ]
  },
  {
   "cell_type": "code",
   "execution_count": 29,
   "id": "625c3b8c",
   "metadata": {},
   "outputs": [],
   "source": [
    "\n",
    "from IPython.display import display,Image"
   ]
  },
  {
   "cell_type": "code",
   "execution_count": null,
   "id": "124a3816",
   "metadata": {},
   "outputs": [
    {
     "data": {
      "image/png": "[encoded data removed]",
      "text/plain": [
       "<IPython.core.display.Image object>"
      ]
     },
     "metadata": {},
     "output_type": "display_data"
    }
   ],
   "source": [
    "display(Image(app.get_graph().draw_mermaid_png()))"
   ]
  },
  {
   "cell_type": "code",
   "execution_count": 31,
   "id": "60f29e71",
   "metadata": {},
   "outputs": [
    {
     "name": "stdout",
     "output_type": "stream",
     "text": [
      "---------------- Supervisor Agent invoked with state: {'messages': [HumanMessage(content='I need to research the latest trends in AI and its applications in healthcare.', additional_kwargs={}, response_metadata={}, id='9ce405d9-d956-49ca-95b9-249fc5a1daaa')]} ----------------\n",
      "response: {'next': 'research_supervisor'}\n",
      "command : Command(update={'next': 'research_supervisor'}, goto='research_supervisor')\n",
      "((), {'supervisor': {'next': 'research_supervisor'}})\n",
      "---------------- Reasreach team Agent invoked with state: {'messages': [HumanMessage(content='I need to research the latest trends in AI and its applications in healthcare.', additional_kwargs={}, response_metadata={}, id='9ce405d9-d956-49ca-95b9-249fc5a1daaa')], 'next': 'research_supervisor'} ----------------\n",
      "response: {'next': 'medical_agent'} \n",
      "goto: medical_agent\n",
      "command : Command(update={'next': 'medical_agent'}, goto='medical_agent')\n",
      "((), {'research_supervisor': {'next': 'medical_agent'}})\n",
      "---------------- Medical Agent invoked with state: {'messages': [HumanMessage(content='I need to research the latest trends in AI and its applications in healthcare.', additional_kwargs={}, response_metadata={}, id='9ce405d9-d956-49ca-95b9-249fc5a1daaa')], 'next': 'medical_agent'} ----------------\n",
      "(('medical_agent:b722b541-6018-0bf5-b14d-68bb38795ff6',), {'agent': {'messages': [AIMessage(content='', additional_kwargs={'tool_calls': [{'id': 'call_xd3Zf4eYJ7zLRCIghwRSIXFd', 'function': {'arguments': '{\"query\": \"latest trends AI healthcare applications\"}', 'name': 'pub_med'}, 'type': 'function'}, {'id': 'call_T2ovi0yN5bK0Ubld4JYjm1VN', 'function': {'arguments': '{\"query\": \"latest trends in AI applications in healthcare\", \"search_depth\": \"advanced\", \"topic\": \"news\"}', 'name': 'tavily_search'}, 'type': 'function'}], 'refusal': None}, response_metadata={'token_usage': {'completion_tokens': 65, 'prompt_tokens': 1043, 'total_tokens': 1108, 'completion_tokens_details': {'accepted_prediction_tokens': 0, 'audio_tokens': 0, 'reasoning_tokens': 0, 'rejected_prediction_tokens': 0}, 'prompt_tokens_details': {'audio_tokens': 0, 'cached_tokens': 0}}, 'model_name': 'gpt-4o-2024-08-06', 'system_fingerprint': None, 'id': 'chatcmpl-BtTKGM1HHHHz2svxfnsIP3cgBOA3v', 'service_tier': 'default', 'finish_reason': 'tool_calls', 'logprobs': None}, id='run--ae601115-9a91-4582-b0d6-4cb6a6c42d3a-0', tool_calls=[{'name': 'pub_med', 'args': {'query': 'latest trends AI healthcare applications'}, 'id': 'call_xd3Zf4eYJ7zLRCIghwRSIXFd', 'type': 'tool_call'}, {'name': 'tavily_search', 'args': {'query': 'latest trends in AI applications in healthcare', 'search_depth': 'advanced', 'topic': 'news'}, 'id': 'call_T2ovi0yN5bK0Ubld4JYjm1VN', 'type': 'tool_call'}], usage_metadata={'input_tokens': 1043, 'output_tokens': 65, 'total_tokens': 1108, 'input_token_details': {'audio': 0, 'cache_read': 0}, 'output_token_details': {'audio': 0, 'reasoning': 0}})]}})\n",
      "(('medical_agent:b722b541-6018-0bf5-b14d-68bb38795ff6',), {'tools': {'messages': [ToolMessage(content='Published: --\\nTitle: Advancements in AI for Computational Biology and Bioinformatics: A Comprehensive Review.\\nCopyright Information: © 2025. The Author(s), under exclusive license to Springer Science+Business Media, LLC, part of Springer Nature.\\nSummary::\\nThe field of computational biology and bioinformatics has seen remarkable progress in recent years, driven largely by advancements in artificial intelligence (AI) technologies. This review synthesizes the latest developments in AI methodologies and their applications in addressing key challenges within the field of computational biology and bioinformatics. This review begins by outlining fundamental concepts in AI relevant to computational biology, including machine learning algorithms such as neural networks, support vector machines, and decision trees. It then explores how these algorithms have been adapted and optimized for specific tasks in bioinformatics, such as sequence analysis, protein structure prediction, and drug discovery. AI techniques can be integrated with big data analytics, cloud computing, and high-performance computing to handle the vast amounts of biological data generated by modern experimental techniques. The chapter discusses the role of AI in processing and interpreting various types of biological data, including genomic sequences, protein-protein interactions, and gene expression profiles. This chapter highlights recent breakthroughs in AI-driven precision medicine, personalized genomics, and systems biology, showcasing how AI algorithms are revolutionizing our understanding of complex biological systems and driving innovations in healthcare and biotechnology. Additionally, it addresses emerging challenges and future directions in the field, such as the ethical implications of AI in healthcare, the need for robust validation and reproducibility of AI models, and the importance of interdisciplinary collaboration between computer scientists, biologists, and clinicians. In conclusion, this co', name='pub_med', id='a6a0fced-f28f-47ec-a80b-1c877dbb21db', tool_call_id='call_xd3Zf4eYJ7zLRCIghwRSIXFd'), ToolMessage(content='{\"query\": \"latest trends in AI applications in healthcare\", \"follow_up_questions\": null, \"answer\": null, \"images\": [], \"results\": [{\"url\": \"https://www.mobihealthnews.com/news/building-house-ai-tool-scratch\", \"title\": \"Building an in-house AI tool from scratch - Mobi Health News\", \"score\": 0.5689194, \"published_date\": \"Mon, 14 Jul 2025 17:08:04 GMT\", \"content\": \"Image 3: Person signing a document with a gavel on the table\\\\n\\\\nPointClickCare files lawsuit against former partner for patent infringement\\\\n\\\\nBy []( Hagen | July 14, 2025\\\\n\\\\nImage 4: Agentic AI panel at HIMSS AI Forum 2025\\\\n\\\\nImplementing agentic AI in healthcare requires caution\\\\n\\\\nBy []( Hagen | July 11, 2025\\\\n\\\\nImage 5: Panelists at HIMSS AI Forum 2025\\\\n\\\\nUnderserved hospitals and the digital divide\\\\n\\\\nBy []( Vecchione | July 10, 2025\\\\n\\\\nImage 6: Healthcare IT News logo\\\\n\\\\nMore News\\\\n\\\\nHealthcare IT News [...] Sadeghian said that the initial focus areas included subjective, objective, assessment and plan (SOAP) note quality and documentation feedback; CPT/HCC capture to support value-based care; MyChart message volume and response time; educational tools for students; clinical decision support; and 45+ GPT-based applications across pediatrics, internal medicine, surgery, psychiatry and OB/GYN. [...] In his presentation, Sadeghian said AI should be integrated into existing IT governance and clinical governance and should align with safety, equity, change management and ROI standards.\\\\n\\\\nAdditionally, AI should help reinforce, not bypass, oversight around patient safety, compliance and bias mitigation.\\\\n\\\\nSadeghian noted that it was important to ask the question, \\\\\"What do we really need to do for our organization in terms of technology?”\", \"raw_content\": null}, {\"url\": \"https://healthtechmagazine.net/article/2025/07/what-are-senior-and-post-acute-care-organizations-top-technology-priorities-today\", \"title\": \"What Are Senior and Post-Acute Care Organizations’ Top Technology Priorities Today? - HealthTech Magazine\", \"score\": 0.47051823, \"published_date\": \"Mon, 14 Jul 2025 16:38:53 GMT\", \"content\": \"Image 22: Xray machine in hospital\\\\n\\\\nArtificial Intelligence\\\\n\\\\nSurprising Ways AI Is Transforming Care Delivery\\\\n\\\\n### Latest Articles\\\\n\\\\nImage 23: Older person using tablet\\\\n\\\\nWhat Are Senior and Post-Acute Care Organizations’ Top Technology Priorities Today?\\\\n\\\\nImage 24: Doctor speaking with patient\\\\n\\\\nPrioritizing Cybersecurity in Healthcare as a Measure of Patient Safety\\\\n\\\\nImage 25: Administrative assistant\\\\n\\\\nExtending IAM and Zero Trust to All Administrative Accounts [...] AI may seem like a buzzword, but everyone is trying to determine how they can apply it most effectively. Some are going all in to use AI as much as they can while others are taking a more conservative approach. The challenge is, many senior living and post-acute care organizations don’t feel their data or security is ready for AI. We’ll likely see a continued focus to shore up security posture and improve data governance in preparation for future uses of AI. [...] Image 26: People reviewing research\\\\n\\\\nLessons Learned From CDW’s AI Research Report\\\\n\\\\nImage 27: Doctor speaking with patient\\\\nSecurity\\\\n\\\\nPrioritizing Cybersecurity in Healthcare as a Measure of Patient Safety\\\\n\\\\nImage 28: People reviewing research\\\\nArtificial Intelligence\\\\n\\\\nLessons Learned From CDW’s AI Research Report\\\\n\\\\n### Advertisement\\\\n\\\\n### Trending Now\\\\n\\\\nImage 29: IT expert looks at monitor\\\\n\\\\nHow Can Healthcare Organizations Create Self-Aware and Secure IT Networks?\", \"raw_content\": null}, {\"url\": \"https://www.nature.com/articles/s41598-025-10358-7\", \"title\": \"Lay beliefs about AI assessment of interpersonal skills in personnel selection - Nature\", \"score\": 0.41421208, \"published_date\": \"Sun, 13 Jul 2025 10:20:25 GMT\", \"content\": \"improving understanding of AI’s healthcare diagnoses) could enhance understanding and, consequently, willingness to adopt AI applications10.\\\\\"),35.\\\\\"). Therefore, we predict that informing individuals about various examples of recently developed AI selection technologies that can assess interpersonal skills may increase knowledge, and ultimately help reduce negative lay beliefs.\", \"raw_content\": null}, {\"url\": \"https://www.pymnts.com/artificial-intelligence-2/2025/chatgpt-as-doctor-when-consumers-rely-on-ai-for-medical-advice/\", \"title\": \"Reddit Post Reignites Debate Over AI’s Role in Medical Advice - PYMNTS.com\", \"score\": 0.40161797, \"published_date\": \"Thu, 10 Jul 2025 13:03:13 GMT\", \"content\": \"Image 10 TikTok Working on Standalone App for American Users\\\\n\\\\nImage 11 OpenAI Reportedly Prepping Browser to Take on Google Chrome\\\\n\\\\nSee More In: AI, AI healthcare, AI medical advice, chatbots, ChatGPT, News, PYMNTS News\\\\n\\\\nWhen CEOs Let AI Take the Wheel — the Brave, the Bold and the Bizarre in FinTech AI\\\\n===================================================================================\\\\n\\\\nByPYMNTS|July 12, 2025 [...] He told PYMNTS that he had injured his knee skiing and MRI scans from radiologists were inconclusive. So he turned to ChatGPT, using a multimodal prompt workflow he created and uploaded his MRI scans. The AI correctly diagnosed a major meniscus tear and confirmed his ACL was intact. His surgeon later validated the AI’s diagnosis.\\\\n\\\\nRead more: Ant Group Unveils AI-Powered Healthcare Smartphone App\\\\n\\\\nRead more: Samsung Health Hub Aims to Simplify Doctor-Patient Communication [...] Read more: AI Medical Note-Taking Apps Enjoy Healthy Wave of Investment\\\\n\\\\nImage 6: North ad promoting that Payment Integration Built by Developers for Developers: Clck to learn more.Image 7\\\\n\\\\n#### Recommended\\\\n\\\\nImage 8: medical advice ai doctor ChatGPT as Doctor: When Consumers Rely on AI for Medical Advice\\\\n\\\\nImage 9: Amazon Expands Investment in AI Firm Anthropic to $4 Billion Amazon Reportedly Mulling New Multibillion-Dollar Anthropic Investment\", \"raw_content\": null}, {\"url\": \"https://www.sciencedaily.com/releases/2025/07/250710113152.htm\", \"title\": \"In seconds, AI builds proteins to battle cancer and antibiotic resistance - ScienceDaily\", \"score\": 0.39733082, \"published_date\": \"Fri, 11 Jul 2025 04:03:47 GMT\", \"content\": \"Date:July 11, 2025 Source:Monash University Summary:Artificial intelligence is now designing custom proteins in seconds—a process that once took years—paving the way for cures to diseases like cancer and antibiotic-resistant infections. Australian scientists have joined this biomedical frontier by creating bacteria-killing proteins with AI. Their new platform, built by a team of biologists and computer scientists, is part of a global movement to democratize and accelerate protein design for [...] In the last year, there has been a surge in proteins developed by AI that will eventually be used in the treatment of everything from snakebites to cancer. What would normally take decades for a scientist to create -- a custom-made protein for a particular disease -- can now be done in seconds. [...] This study, published in Nature Communications, provides a new way to combat the growing crisis caused by antibiotic resistant super bugs. By using AI in this way, Australian science has now joined countries like the US and China having developed AI platforms capable of rapidly generating thousands of ready-to-use proteins, paving the way for faster, more affordable drug development and diagnostics that could transform biomedical research and patient care.\", \"raw_content\": null}], \"response_time\": 1.48}', name='tavily_search', id='fe7e5806-f4e6-400e-ade9-0f20a9661031', tool_call_id='call_T2ovi0yN5bK0Ubld4JYjm1VN')]}})\n",
      "command : Command(update={'messages': [HumanMessage(content=\"The latest trends in AI and its applications in healthcare are evolving rapidly, showcasing significant advancements and challenges. Here's a summary of the key insights from recent studies and articles:\\n\\n1. **AI in Computational Biology and Bioinformatics:**\\n   - AI technologies, particularly machine learning algorithms like neural networks, support vector machines, and decision trees, are being increasingly utilized for computational biology and bioinformatics tasks. This includes sequence analysis, protein structure prediction, and drug discovery.\\n   - AI-driven precision medicine and personalized genomics are revolutionizing healthcare and biotechnology by enhancing our understanding of complex biological systems.\\n   - Emerging challenges include ethical implications, validation of AI models, and the need for interdisciplinary collaboration between computer scientists, biologists, and clinicians.\\n\\n2. **AI in Healthcare Delivery:**\\n   - Hospitals are integrating AI into IT and clinical governance to support various healthcare functions such as documentation, clinical decision support, and communication tools. AI applications are seen across multiple specialties, including pediatrics, internal medicine, surgery, psychiatry, and OB/GYN.\\n   - There is a focus on integrating AI with existing governance and aligning it with safety, equity, change management, and ROI standards. Oversight around patient safety, compliance, and bias mitigation remains a priority.\\n\\n3. **AI for Protein Design:**\\n   - AI is transforming protein design, which has applications in combating diseases like cancer and antibiotic-resistant infections. Australian scientists have developed AI platforms that quickly create bacteria-killing proteins, ushering in faster, more affordable drug development and diagnostics.\\n\\n4. **AI for Medical Advice:**\\n   - AI tools are being explored for providing medical advice, though this area is subject to debate and ethical considerations. For instance, ChatGPT successfully diagnosed a knee condition from MRI scans, highlighting AI's potential role in diagnosis.\\n\\nOverall, while AI is driving rapid advancements in healthcare, it also introduces ethical, technical, and validation challenges that need ongoing attention and collaboration among different stakeholders.\", additional_kwargs={}, response_metadata={}, name='medical_agent')]}, goto='research_supervisor')(('medical_agent:b722b541-6018-0bf5-b14d-68bb38795ff6',), {'agent': {'messages': [AIMessage(content=\"The latest trends in AI and its applications in healthcare are evolving rapidly, showcasing significant advancements and challenges. Here's a summary of the key insights from recent studies and articles:\\n\\n1. **AI in Computational Biology and Bioinformatics:**\\n   - AI technologies, particularly machine learning algorithms like neural networks, support vector machines, and decision trees, are being increasingly utilized for computational biology and bioinformatics tasks. This includes sequence analysis, protein structure prediction, and drug discovery.\\n   - AI-driven precision medicine and personalized genomics are revolutionizing healthcare and biotechnology by enhancing our understanding of complex biological systems.\\n   - Emerging challenges include ethical implications, validation of AI models, and the need for interdisciplinary collaboration between computer scientists, biologists, and clinicians.\\n\\n2. **AI in Healthcare Delivery:**\\n   - Hospitals are integrating AI into IT and clinical governance to support various healthcare functions such as documentation, clinical decision support, and communication tools. AI applications are seen across multiple specialties, including pediatrics, internal medicine, surgery, psychiatry, and OB/GYN.\\n   - There is a focus on integrating AI with existing governance and aligning it with safety, equity, change management, and ROI standards. Oversight around patient safety, compliance, and bias mitigation remains a priority.\\n\\n3. **AI for Protein Design:**\\n   - AI is transforming protein design, which has applications in combating diseases like cancer and antibiotic-resistant infections. Australian scientists have developed AI platforms that quickly create bacteria-killing proteins, ushering in faster, more affordable drug development and diagnostics.\\n\\n4. **AI for Medical Advice:**\\n   - AI tools are being explored for providing medical advice, though this area is subject to debate and ethical considerations. For instance, ChatGPT successfully diagnosed a knee condition from MRI scans, highlighting AI's potential role in diagnosis.\\n\\nOverall, while AI is driving rapid advancements in healthcare, it also introduces ethical, technical, and validation challenges that need ongoing attention and collaboration among different stakeholders.\", additional_kwargs={'refusal': None}, response_metadata={'token_usage': {'completion_tokens': 391, 'prompt_tokens': 3193, 'total_tokens': 3584, 'completion_tokens_details': {'accepted_prediction_tokens': 0, 'audio_tokens': 0, 'reasoning_tokens': 0, 'rejected_prediction_tokens': 0}, 'prompt_tokens_details': {'audio_tokens': 0, 'cached_tokens': 1024}}, 'model_name': 'gpt-4o-2024-08-06', 'system_fingerprint': None, 'id': 'chatcmpl-BtTKQnn2L9xFMmonUda6B2vBigBhs', 'service_tier': 'default', 'finish_reason': 'stop', 'logprobs': None}, id='run--79b5880b-20c6-4e5a-b3ca-f99717156de9-0', usage_metadata={'input_tokens': 3193, 'output_tokens': 391, 'total_tokens': 3584, 'input_token_details': {'audio': 0, 'cache_read': 1024}, 'output_token_details': {'audio': 0, 'reasoning': 0}})]}})\n",
      "\n",
      "((), {'medical_agent': {'messages': [HumanMessage(content=\"The latest trends in AI and its applications in healthcare are evolving rapidly, showcasing significant advancements and challenges. Here's a summary of the key insights from recent studies and articles:\\n\\n1. **AI in Computational Biology and Bioinformatics:**\\n   - AI technologies, particularly machine learning algorithms like neural networks, support vector machines, and decision trees, are being increasingly utilized for computational biology and bioinformatics tasks. This includes sequence analysis, protein structure prediction, and drug discovery.\\n   - AI-driven precision medicine and personalized genomics are revolutionizing healthcare and biotechnology by enhancing our understanding of complex biological systems.\\n   - Emerging challenges include ethical implications, validation of AI models, and the need for interdisciplinary collaboration between computer scientists, biologists, and clinicians.\\n\\n2. **AI in Healthcare Delivery:**\\n   - Hospitals are integrating AI into IT and clinical governance to support various healthcare functions such as documentation, clinical decision support, and communication tools. AI applications are seen across multiple specialties, including pediatrics, internal medicine, surgery, psychiatry, and OB/GYN.\\n   - There is a focus on integrating AI with existing governance and aligning it with safety, equity, change management, and ROI standards. Oversight around patient safety, compliance, and bias mitigation remains a priority.\\n\\n3. **AI for Protein Design:**\\n   - AI is transforming protein design, which has applications in combating diseases like cancer and antibiotic-resistant infections. Australian scientists have developed AI platforms that quickly create bacteria-killing proteins, ushering in faster, more affordable drug development and diagnostics.\\n\\n4. **AI for Medical Advice:**\\n   - AI tools are being explored for providing medical advice, though this area is subject to debate and ethical considerations. For instance, ChatGPT successfully diagnosed a knee condition from MRI scans, highlighting AI's potential role in diagnosis.\\n\\nOverall, while AI is driving rapid advancements in healthcare, it also introduces ethical, technical, and validation challenges that need ongoing attention and collaboration among different stakeholders.\", additional_kwargs={}, response_metadata={}, name='medical_agent')]}})\n",
      "---------------- Reasreach team Agent invoked with state: {'messages': [HumanMessage(content='I need to research the latest trends in AI and its applications in healthcare.', additional_kwargs={}, response_metadata={}, id='9ce405d9-d956-49ca-95b9-249fc5a1daaa'), HumanMessage(content=\"The latest trends in AI and its applications in healthcare are evolving rapidly, showcasing significant advancements and challenges. Here's a summary of the key insights from recent studies and articles:\\n\\n1. **AI in Computational Biology and Bioinformatics:**\\n   - AI technologies, particularly machine learning algorithms like neural networks, support vector machines, and decision trees, are being increasingly utilized for computational biology and bioinformatics tasks. This includes sequence analysis, protein structure prediction, and drug discovery.\\n   - AI-driven precision medicine and personalized genomics are revolutionizing healthcare and biotechnology by enhancing our understanding of complex biological systems.\\n   - Emerging challenges include ethical implications, validation of AI models, and the need for interdisciplinary collaboration between computer scientists, biologists, and clinicians.\\n\\n2. **AI in Healthcare Delivery:**\\n   - Hospitals are integrating AI into IT and clinical governance to support various healthcare functions such as documentation, clinical decision support, and communication tools. AI applications are seen across multiple specialties, including pediatrics, internal medicine, surgery, psychiatry, and OB/GYN.\\n   - There is a focus on integrating AI with existing governance and aligning it with safety, equity, change management, and ROI standards. Oversight around patient safety, compliance, and bias mitigation remains a priority.\\n\\n3. **AI for Protein Design:**\\n   - AI is transforming protein design, which has applications in combating diseases like cancer and antibiotic-resistant infections. Australian scientists have developed AI platforms that quickly create bacteria-killing proteins, ushering in faster, more affordable drug development and diagnostics.\\n\\n4. **AI for Medical Advice:**\\n   - AI tools are being explored for providing medical advice, though this area is subject to debate and ethical considerations. For instance, ChatGPT successfully diagnosed a knee condition from MRI scans, highlighting AI's potential role in diagnosis.\\n\\nOverall, while AI is driving rapid advancements in healthcare, it also introduces ethical, technical, and validation challenges that need ongoing attention and collaboration among different stakeholders.\", additional_kwargs={}, response_metadata={}, name='medical_agent', id='8612a36f-e16a-49de-8fc9-abe77fc963b7')], 'next': 'medical_agent'} ----------------\n",
      "response: {'next': 'finance_agent'} \n",
      "goto: finance_agent\n",
      "command : Command(update={'next': 'finance_agent'}, goto='finance_agent')\n",
      "((), {'research_supervisor': {'next': 'finance_agent'}})\n",
      "(('finance_agent:6f865f3a-b7ca-af23-451b-75adc4905098',), {'agent': {'messages': [AIMessage(content='tavily_search', additional_kwargs={'refusal': None}, response_metadata={'token_usage': {'completion_tokens': 5, 'prompt_tokens': 1628, 'total_tokens': 1633, 'completion_tokens_details': {'accepted_prediction_tokens': 0, 'audio_tokens': 0, 'reasoning_tokens': 0, 'rejected_prediction_tokens': 0}, 'prompt_tokens_details': {'audio_tokens': 0, 'cached_tokens': 0}}, 'model_name': 'gpt-4o-2024-08-06', 'system_fingerprint': None, 'id': 'chatcmpl-BtTKfW3ztOtSI0eiOpQCg3qUkSJkE', 'service_tier': 'default', 'finish_reason': 'stop', 'logprobs': None}, id='run--ea69b641-27c8-470d-8b0d-f38c29c4fa3d-0', usage_metadata={'input_tokens': 1628, 'output_tokens': 5, 'total_tokens': 1633, 'input_token_details': {'audio': 0, 'cache_read': 0}, 'output_token_details': {'audio': 0, 'reasoning': 0}})]}})\n",
      "((), {'finance_agent': {'messages': [HumanMessage(content='tavily_search', additional_kwargs={}, response_metadata={}, name='finance_agent')]}})\n",
      "---------------- Reasreach team Agent invoked with state: {'messages': [HumanMessage(content='I need to research the latest trends in AI and its applications in healthcare.', additional_kwargs={}, response_metadata={}, id='9ce405d9-d956-49ca-95b9-249fc5a1daaa'), HumanMessage(content=\"The latest trends in AI and its applications in healthcare are evolving rapidly, showcasing significant advancements and challenges. Here's a summary of the key insights from recent studies and articles:\\n\\n1. **AI in Computational Biology and Bioinformatics:**\\n   - AI technologies, particularly machine learning algorithms like neural networks, support vector machines, and decision trees, are being increasingly utilized for computational biology and bioinformatics tasks. This includes sequence analysis, protein structure prediction, and drug discovery.\\n   - AI-driven precision medicine and personalized genomics are revolutionizing healthcare and biotechnology by enhancing our understanding of complex biological systems.\\n   - Emerging challenges include ethical implications, validation of AI models, and the need for interdisciplinary collaboration between computer scientists, biologists, and clinicians.\\n\\n2. **AI in Healthcare Delivery:**\\n   - Hospitals are integrating AI into IT and clinical governance to support various healthcare functions such as documentation, clinical decision support, and communication tools. AI applications are seen across multiple specialties, including pediatrics, internal medicine, surgery, psychiatry, and OB/GYN.\\n   - There is a focus on integrating AI with existing governance and aligning it with safety, equity, change management, and ROI standards. Oversight around patient safety, compliance, and bias mitigation remains a priority.\\n\\n3. **AI for Protein Design:**\\n   - AI is transforming protein design, which has applications in combating diseases like cancer and antibiotic-resistant infections. Australian scientists have developed AI platforms that quickly create bacteria-killing proteins, ushering in faster, more affordable drug development and diagnostics.\\n\\n4. **AI for Medical Advice:**\\n   - AI tools are being explored for providing medical advice, though this area is subject to debate and ethical considerations. For instance, ChatGPT successfully diagnosed a knee condition from MRI scans, highlighting AI's potential role in diagnosis.\\n\\nOverall, while AI is driving rapid advancements in healthcare, it also introduces ethical, technical, and validation challenges that need ongoing attention and collaboration among different stakeholders.\", additional_kwargs={}, response_metadata={}, name='medical_agent', id='8612a36f-e16a-49de-8fc9-abe77fc963b7'), HumanMessage(content='tavily_search', additional_kwargs={}, response_metadata={}, name='finance_agent', id='eb00641e-0b50-4057-b005-c994614cb3d8')], 'next': 'finance_agent'} ----------------\n",
      "response: {'next': 'finance_agent'} \n",
      "goto: finance_agent\n",
      "command : Command(update={'next': 'finance_agent'}, goto='finance_agent')\n",
      "((), {'research_supervisor': {'next': 'finance_agent'}})\n",
      "(('finance_agent:2c14149d-562b-90e6-d063-7735f6532202',), {'agent': {'messages': [AIMessage(content='', additional_kwargs={'tool_calls': [{'id': 'call_ZZQVotr3vNBGMNv3wSOMBWA4', 'function': {'arguments': '{\"query\":\"latest trends in AI applications in healthcare\",\"topic\":\"finance\"}', 'name': 'tavily_search'}, 'type': 'function'}], 'refusal': None}, response_metadata={'token_usage': {'completion_tokens': 26, 'prompt_tokens': 1639, 'total_tokens': 1665, 'completion_tokens_details': {'accepted_prediction_tokens': 0, 'audio_tokens': 0, 'reasoning_tokens': 0, 'rejected_prediction_tokens': 0}, 'prompt_tokens_details': {'audio_tokens': 0, 'cached_tokens': 1536}}, 'model_name': 'gpt-4o-2024-08-06', 'system_fingerprint': None, 'id': 'chatcmpl-BtTKixwfkOXXsGM1m1E9xrl5OU2Fk', 'service_tier': 'default', 'finish_reason': 'tool_calls', 'logprobs': None}, id='run--f0532b07-156b-421f-8c35-60f35340a1bc-0', tool_calls=[{'name': 'tavily_search', 'args': {'query': 'latest trends in AI applications in healthcare', 'topic': 'finance'}, 'id': 'call_ZZQVotr3vNBGMNv3wSOMBWA4', 'type': 'tool_call'}], usage_metadata={'input_tokens': 1639, 'output_tokens': 26, 'total_tokens': 1665, 'input_token_details': {'audio': 0, 'cache_read': 1536}, 'output_token_details': {'audio': 0, 'reasoning': 0}})]}})\n",
      "(('finance_agent:2c14149d-562b-90e6-d063-7735f6532202',), {'tools': {'messages': [ToolMessage(content='{\"query\": \"latest trends in AI applications in healthcare\", \"follow_up_questions\": null, \"answer\": null, \"images\": [], \"results\": [{\"url\": \"https://www.forbes.com/sites/johnwerner/2025/04/05/ai-in-healthcare-trends-and-turning-points/\", \"title\": \"AI In Healthcare: Trends And Turning Points\", \"content\": \"Artificial intelligence is revolutionizing healthcare, transforming clinical workflows, and addressing critical challenges like workforce shortages.\", \"score\": 0.63288915, \"raw_content\": null}, {\"url\": \"https://www.forbes.com/sites/exl/2024/11/25/5-ai-trends-leading-to-healthcare-payer-transformation/\", \"title\": \"5 AI Trends Leading To Healthcare Payer Transformation\", \"content\": \"Healthcare leaders are turning to generative AI technology with the hope of addressing industry challenges more effectively.\", \"score\": 0.63234437, \"raw_content\": null}, {\"url\": \"https://finance.yahoo.com/news/artificial-intelligence-ai-healthcare-research-141900122.html\", \"title\": \"Artificial Intelligence (AI) in Healthcare Market\", \"content\": \"Cloud-based AI solutions are gaining traction for their scalability and cost-efficiency, especially amid the rise of telehealth. The Asia\", \"score\": 0.4905535, \"raw_content\": null}, {\"url\": \"https://www.forbes.com/sites/davidhenkin/2024/11/04/ai-in-healthcare-delivering-value-today-and-in-the-future/\", \"title\": \"AI In Healthcare—Delivering Value Today And In The Future\", \"content\": \"Remote Patient Monitoring: AI-enabled devices and platforms enable remote monitoring of patients, improving care for chronic conditions.\", \"score\": 0.41962478, \"raw_content\": null}, {\"url\": \"https://www.forbes.com/councils/forbestechcouncil/2025/06/13/adopting-ai-agents-in-healthcare-a-new-era-of-intelligent-care/\", \"title\": \"Adopting AI Agents In Healthcare: A New Era Of Intelligent ...\", \"content\": \"AI agents integrated with IoT-enabled wearables can continuously monitor patients with chronic conditions, alerting healthcare providers in real\", \"score\": 0.40896168, \"raw_content\": null}], \"response_time\": 2.19}', name='tavily_search', id='bc00ddf7-1f53-4c57-a1e7-f70c1366a3d0', tool_call_id='call_ZZQVotr3vNBGMNv3wSOMBWA4')]}})\n",
      "(('finance_agent:2c14149d-562b-90e6-d063-7735f6532202',), {'agent': {'messages': [AIMessage(content='research_supervisor', additional_kwargs={'refusal': None}, response_metadata={'token_usage': {'completion_tokens': 4, 'prompt_tokens': 2176, 'total_tokens': 2180, 'completion_tokens_details': {'accepted_prediction_tokens': 0, 'audio_tokens': 0, 'reasoning_tokens': 0, 'rejected_prediction_tokens': 0}, 'prompt_tokens_details': {'audio_tokens': 0, 'cached_tokens': 1664}}, 'model_name': 'gpt-4o-2024-08-06', 'system_fingerprint': None, 'id': 'chatcmpl-BtTKmeZwrNPymDXkZnVnvZYoJzUmJ', 'service_tier': 'default', 'finish_reason': 'stop', 'logprobs': None}, id='run--f931713c-e839-4e81-9f8b-63c103a09a7a-0', usage_metadata={'input_tokens': 2176, 'output_tokens': 4, 'total_tokens': 2180, 'input_token_details': {'audio': 0, 'cache_read': 1664}, 'output_token_details': {'audio': 0, 'reasoning': 0}})]}})\n",
      "((), {'finance_agent': {'messages': [HumanMessage(content='research_supervisor', additional_kwargs={}, response_metadata={}, name='finance_agent')]}})\n",
      "---------------- Reasreach team Agent invoked with state: {'messages': [HumanMessage(content='I need to research the latest trends in AI and its applications in healthcare.', additional_kwargs={}, response_metadata={}, id='9ce405d9-d956-49ca-95b9-249fc5a1daaa'), HumanMessage(content=\"The latest trends in AI and its applications in healthcare are evolving rapidly, showcasing significant advancements and challenges. Here's a summary of the key insights from recent studies and articles:\\n\\n1. **AI in Computational Biology and Bioinformatics:**\\n   - AI technologies, particularly machine learning algorithms like neural networks, support vector machines, and decision trees, are being increasingly utilized for computational biology and bioinformatics tasks. This includes sequence analysis, protein structure prediction, and drug discovery.\\n   - AI-driven precision medicine and personalized genomics are revolutionizing healthcare and biotechnology by enhancing our understanding of complex biological systems.\\n   - Emerging challenges include ethical implications, validation of AI models, and the need for interdisciplinary collaboration between computer scientists, biologists, and clinicians.\\n\\n2. **AI in Healthcare Delivery:**\\n   - Hospitals are integrating AI into IT and clinical governance to support various healthcare functions such as documentation, clinical decision support, and communication tools. AI applications are seen across multiple specialties, including pediatrics, internal medicine, surgery, psychiatry, and OB/GYN.\\n   - There is a focus on integrating AI with existing governance and aligning it with safety, equity, change management, and ROI standards. Oversight around patient safety, compliance, and bias mitigation remains a priority.\\n\\n3. **AI for Protein Design:**\\n   - AI is transforming protein design, which has applications in combating diseases like cancer and antibiotic-resistant infections. Australian scientists have developed AI platforms that quickly create bacteria-killing proteins, ushering in faster, more affordable drug development and diagnostics.\\n\\n4. **AI for Medical Advice:**\\n   - AI tools are being explored for providing medical advice, though this area is subject to debate and ethical considerations. For instance, ChatGPT successfully diagnosed a knee condition from MRI scans, highlighting AI's potential role in diagnosis.\\n\\nOverall, while AI is driving rapid advancements in healthcare, it also introduces ethical, technical, and validation challenges that need ongoing attention and collaboration among different stakeholders.\", additional_kwargs={}, response_metadata={}, name='medical_agent', id='8612a36f-e16a-49de-8fc9-abe77fc963b7'), HumanMessage(content='tavily_search', additional_kwargs={}, response_metadata={}, name='finance_agent', id='eb00641e-0b50-4057-b005-c994614cb3d8'), HumanMessage(content='research_supervisor', additional_kwargs={}, response_metadata={}, name='finance_agent', id='ec633f4a-d4a6-40fe-a4c3-8bbc711fe0d6')], 'next': 'finance_agent'} ----------------\n",
      "response: {'next': 'finance_agent'} \n",
      "goto: finance_agent\n",
      "command : Command(update={'next': 'finance_agent'}, goto='finance_agent')\n",
      "((), {'research_supervisor': {'next': 'finance_agent'}})\n",
      "(('finance_agent:c1a729d9-9608-5d01-a01e-fbac415e5322',), {'agent': {'messages': [AIMessage(content='tavily_search', additional_kwargs={'refusal': None}, response_metadata={'token_usage': {'completion_tokens': 5, 'prompt_tokens': 1649, 'total_tokens': 1654, 'completion_tokens_details': {'accepted_prediction_tokens': 0, 'audio_tokens': 0, 'reasoning_tokens': 0, 'rejected_prediction_tokens': 0}, 'prompt_tokens_details': {'audio_tokens': 0, 'cached_tokens': 1536}}, 'model_name': 'gpt-4o-2024-08-06', 'system_fingerprint': None, 'id': 'chatcmpl-BtTKngsUZQxJkiMQVem2bAwibBG7w', 'service_tier': 'default', 'finish_reason': 'stop', 'logprobs': None}, id='run--12fd681a-7a3a-4a34-8540-dee5e499d85e-0', usage_metadata={'input_tokens': 1649, 'output_tokens': 5, 'total_tokens': 1654, 'input_token_details': {'audio': 0, 'cache_read': 1536}, 'output_token_details': {'audio': 0, 'reasoning': 0}})]}})\n",
      "((), {'finance_agent': {'messages': [HumanMessage(content='tavily_search', additional_kwargs={}, response_metadata={}, name='finance_agent')]}})\n",
      "---------------- Reasreach team Agent invoked with state: {'messages': [HumanMessage(content='I need to research the latest trends in AI and its applications in healthcare.', additional_kwargs={}, response_metadata={}, id='9ce405d9-d956-49ca-95b9-249fc5a1daaa'), HumanMessage(content=\"The latest trends in AI and its applications in healthcare are evolving rapidly, showcasing significant advancements and challenges. Here's a summary of the key insights from recent studies and articles:\\n\\n1. **AI in Computational Biology and Bioinformatics:**\\n   - AI technologies, particularly machine learning algorithms like neural networks, support vector machines, and decision trees, are being increasingly utilized for computational biology and bioinformatics tasks. This includes sequence analysis, protein structure prediction, and drug discovery.\\n   - AI-driven precision medicine and personalized genomics are revolutionizing healthcare and biotechnology by enhancing our understanding of complex biological systems.\\n   - Emerging challenges include ethical implications, validation of AI models, and the need for interdisciplinary collaboration between computer scientists, biologists, and clinicians.\\n\\n2. **AI in Healthcare Delivery:**\\n   - Hospitals are integrating AI into IT and clinical governance to support various healthcare functions such as documentation, clinical decision support, and communication tools. AI applications are seen across multiple specialties, including pediatrics, internal medicine, surgery, psychiatry, and OB/GYN.\\n   - There is a focus on integrating AI with existing governance and aligning it with safety, equity, change management, and ROI standards. Oversight around patient safety, compliance, and bias mitigation remains a priority.\\n\\n3. **AI for Protein Design:**\\n   - AI is transforming protein design, which has applications in combating diseases like cancer and antibiotic-resistant infections. Australian scientists have developed AI platforms that quickly create bacteria-killing proteins, ushering in faster, more affordable drug development and diagnostics.\\n\\n4. **AI for Medical Advice:**\\n   - AI tools are being explored for providing medical advice, though this area is subject to debate and ethical considerations. For instance, ChatGPT successfully diagnosed a knee condition from MRI scans, highlighting AI's potential role in diagnosis.\\n\\nOverall, while AI is driving rapid advancements in healthcare, it also introduces ethical, technical, and validation challenges that need ongoing attention and collaboration among different stakeholders.\", additional_kwargs={}, response_metadata={}, name='medical_agent', id='8612a36f-e16a-49de-8fc9-abe77fc963b7'), HumanMessage(content='tavily_search', additional_kwargs={}, response_metadata={}, name='finance_agent', id='eb00641e-0b50-4057-b005-c994614cb3d8'), HumanMessage(content='research_supervisor', additional_kwargs={}, response_metadata={}, name='finance_agent', id='ec633f4a-d4a6-40fe-a4c3-8bbc711fe0d6'), HumanMessage(content='tavily_search', additional_kwargs={}, response_metadata={}, name='finance_agent', id='36208ad4-82f2-404a-b7ac-c605f60bc7cf')], 'next': 'finance_agent'} ----------------\n",
      "response: {'next': 'finance_agent'} \n",
      "goto: finance_agent\n",
      "command : Command(update={'next': 'finance_agent'}, goto='finance_agent')\n",
      "((), {'research_supervisor': {'next': 'finance_agent'}})\n",
      "(('finance_agent:419c4072-3c1c-b134-d309-87e88e38998e',), {'agent': {'messages': [AIMessage(content='', additional_kwargs={'tool_calls': [{'id': 'call_t33s4ZODYV5INrxB5e8DNsll', 'function': {'arguments': '{\"query\":\"latest trends in AI applications in healthcare\",\"search_depth\":\"advanced\",\"topic\":\"finance\"}', 'name': 'tavily_search'}, 'type': 'function'}], 'refusal': None}, response_metadata={'token_usage': {'completion_tokens': 31, 'prompt_tokens': 1660, 'total_tokens': 1691, 'completion_tokens_details': {'accepted_prediction_tokens': 0, 'audio_tokens': 0, 'reasoning_tokens': 0, 'rejected_prediction_tokens': 0}, 'prompt_tokens_details': {'audio_tokens': 0, 'cached_tokens': 1536}}, 'model_name': 'gpt-4o-2024-08-06', 'system_fingerprint': None, 'id': 'chatcmpl-BtTKp2FG1NMeBB374ejP0HDikyWp5', 'service_tier': 'default', 'finish_reason': 'tool_calls', 'logprobs': None}, id='run--985b5c64-1529-4ebe-b40e-4867ae7699b9-0', tool_calls=[{'name': 'tavily_search', 'args': {'query': 'latest trends in AI applications in healthcare', 'search_depth': 'advanced', 'topic': 'finance'}, 'id': 'call_t33s4ZODYV5INrxB5e8DNsll', 'type': 'tool_call'}], usage_metadata={'input_tokens': 1660, 'output_tokens': 31, 'total_tokens': 1691, 'input_token_details': {'audio': 0, 'cache_read': 1536}, 'output_token_details': {'audio': 0, 'reasoning': 0}})]}})\n",
      "(('finance_agent:419c4072-3c1c-b134-d309-87e88e38998e',), {'tools': {'messages': [ToolMessage(content='{\"query\": \"latest trends in AI applications in healthcare\", \"follow_up_questions\": null, \"answer\": null, \"images\": [], \"results\": [{\"url\": \"https://www.forbes.com/sites/exl/2024/11/25/5-ai-trends-leading-to-healthcare-payer-transformation/\", \"title\": \"5 AI Trends Leading To Healthcare Payer Transformation\", \"content\": \"Healthcare leaders are turning to generative AI technology with the hope of addressing industry challenges more effectively.\", \"score\": 0.6455898, \"raw_content\": null}, {\"url\": \"https://www.forbes.com/sites/johnwerner/2025/04/05/ai-in-healthcare-trends-and-turning-points/\", \"title\": \"AI In Healthcare: Trends And Turning Points\", \"content\": \"Artificial intelligence is revolutionizing healthcare, transforming clinical workflows, and addressing critical challenges like workforce shortages.\", \"score\": 0.63939893, \"raw_content\": null}, {\"url\": \"https://www.forbes.com/sites/davidhenkin/2024/11/04/ai-in-healthcare-delivering-value-today-and-in-the-future/\", \"title\": \"AI In Healthcare—Delivering Value Today And In The Future\", \"content\": \"AI-powered healthcare tools are no longer experimental prototypes, they are driving meaningful improvements in patient outcomes, operational efficiency, and\", \"score\": 0.52100873, \"raw_content\": null}, {\"url\": \"https://finance.yahoo.com/news/artificial-intelligence-ai-healthcare-research-141900122.html\", \"title\": \"Artificial Intelligence (AI) in Healthcare Market\", \"content\": \"Cloud-based AI solutions are gaining traction for their scalability and cost-efficiency, especially amid the rise of telehealth. The Asia\", \"score\": 0.4948006, \"raw_content\": null}, {\"url\": \"https://www.forbes.com/sites/bernardmarr/2025/06/25/the-amazing-ways-ai-agents-will-transform-healthcare/\", \"title\": \"The Amazing Ways AI Agents Will Transform Healthcare\", \"content\": \"Automated triage and scheduling systems could relieve clinical and administrative staff of much of the burden of routine procedures and\", \"score\": 0.4184836, \"raw_content\": null}], \"response_time\": 1.26}', name='tavily_search', id='54a32c7d-d2af-4b28-9e0e-f2248b591a4e', tool_call_id='call_t33s4ZODYV5INrxB5e8DNsll')]}})\n",
      "(('finance_agent:419c4072-3c1c-b134-d309-87e88e38998e',), {'agent': {'messages': [AIMessage(content='tavily_search', additional_kwargs={'refusal': None}, response_metadata={'token_usage': {'completion_tokens': 5, 'prompt_tokens': 2190, 'total_tokens': 2195, 'completion_tokens_details': {'accepted_prediction_tokens': 0, 'audio_tokens': 0, 'reasoning_tokens': 0, 'rejected_prediction_tokens': 0}, 'prompt_tokens_details': {'audio_tokens': 0, 'cached_tokens': 1664}}, 'model_name': 'gpt-4o-2024-08-06', 'system_fingerprint': None, 'id': 'chatcmpl-BtTKs9w9VN4HiZvnRN7EEomyV72y4', 'service_tier': 'default', 'finish_reason': 'stop', 'logprobs': None}, id='run--dd7717a1-5782-4190-9ac5-cd329271264d-0', usage_metadata={'input_tokens': 2190, 'output_tokens': 5, 'total_tokens': 2195, 'input_token_details': {'audio': 0, 'cache_read': 1664}, 'output_token_details': {'audio': 0, 'reasoning': 0}})]}})\n",
      "((), {'finance_agent': {'messages': [HumanMessage(content='tavily_search', additional_kwargs={}, response_metadata={}, name='finance_agent')]}})\n",
      "---------------- Reasreach team Agent invoked with state: {'messages': [HumanMessage(content='I need to research the latest trends in AI and its applications in healthcare.', additional_kwargs={}, response_metadata={}, id='9ce405d9-d956-49ca-95b9-249fc5a1daaa'), HumanMessage(content=\"The latest trends in AI and its applications in healthcare are evolving rapidly, showcasing significant advancements and challenges. Here's a summary of the key insights from recent studies and articles:\\n\\n1. **AI in Computational Biology and Bioinformatics:**\\n   - AI technologies, particularly machine learning algorithms like neural networks, support vector machines, and decision trees, are being increasingly utilized for computational biology and bioinformatics tasks. This includes sequence analysis, protein structure prediction, and drug discovery.\\n   - AI-driven precision medicine and personalized genomics are revolutionizing healthcare and biotechnology by enhancing our understanding of complex biological systems.\\n   - Emerging challenges include ethical implications, validation of AI models, and the need for interdisciplinary collaboration between computer scientists, biologists, and clinicians.\\n\\n2. **AI in Healthcare Delivery:**\\n   - Hospitals are integrating AI into IT and clinical governance to support various healthcare functions such as documentation, clinical decision support, and communication tools. AI applications are seen across multiple specialties, including pediatrics, internal medicine, surgery, psychiatry, and OB/GYN.\\n   - There is a focus on integrating AI with existing governance and aligning it with safety, equity, change management, and ROI standards. Oversight around patient safety, compliance, and bias mitigation remains a priority.\\n\\n3. **AI for Protein Design:**\\n   - AI is transforming protein design, which has applications in combating diseases like cancer and antibiotic-resistant infections. Australian scientists have developed AI platforms that quickly create bacteria-killing proteins, ushering in faster, more affordable drug development and diagnostics.\\n\\n4. **AI for Medical Advice:**\\n   - AI tools are being explored for providing medical advice, though this area is subject to debate and ethical considerations. For instance, ChatGPT successfully diagnosed a knee condition from MRI scans, highlighting AI's potential role in diagnosis.\\n\\nOverall, while AI is driving rapid advancements in healthcare, it also introduces ethical, technical, and validation challenges that need ongoing attention and collaboration among different stakeholders.\", additional_kwargs={}, response_metadata={}, name='medical_agent', id='8612a36f-e16a-49de-8fc9-abe77fc963b7'), HumanMessage(content='tavily_search', additional_kwargs={}, response_metadata={}, name='finance_agent', id='eb00641e-0b50-4057-b005-c994614cb3d8'), HumanMessage(content='research_supervisor', additional_kwargs={}, response_metadata={}, name='finance_agent', id='ec633f4a-d4a6-40fe-a4c3-8bbc711fe0d6'), HumanMessage(content='tavily_search', additional_kwargs={}, response_metadata={}, name='finance_agent', id='36208ad4-82f2-404a-b7ac-c605f60bc7cf'), HumanMessage(content='tavily_search', additional_kwargs={}, response_metadata={}, name='finance_agent', id='f970d5d1-60be-4fc1-9bd7-093ca586e4ac')], 'next': 'finance_agent'} ----------------\n",
      "response: {'next': 'FINISH'} \n",
      "goto: FINISH\n",
      "command : Command(update={'next': 'supervisor'}, goto='supervisor')\n",
      "((), {'research_supervisor': {'next': 'supervisor'}})\n",
      "---------------- Supervisor Agent invoked with state: {'messages': [HumanMessage(content='I need to research the latest trends in AI and its applications in healthcare.', additional_kwargs={}, response_metadata={}, id='9ce405d9-d956-49ca-95b9-249fc5a1daaa'), HumanMessage(content=\"The latest trends in AI and its applications in healthcare are evolving rapidly, showcasing significant advancements and challenges. Here's a summary of the key insights from recent studies and articles:\\n\\n1. **AI in Computational Biology and Bioinformatics:**\\n   - AI technologies, particularly machine learning algorithms like neural networks, support vector machines, and decision trees, are being increasingly utilized for computational biology and bioinformatics tasks. This includes sequence analysis, protein structure prediction, and drug discovery.\\n   - AI-driven precision medicine and personalized genomics are revolutionizing healthcare and biotechnology by enhancing our understanding of complex biological systems.\\n   - Emerging challenges include ethical implications, validation of AI models, and the need for interdisciplinary collaboration between computer scientists, biologists, and clinicians.\\n\\n2. **AI in Healthcare Delivery:**\\n   - Hospitals are integrating AI into IT and clinical governance to support various healthcare functions such as documentation, clinical decision support, and communication tools. AI applications are seen across multiple specialties, including pediatrics, internal medicine, surgery, psychiatry, and OB/GYN.\\n   - There is a focus on integrating AI with existing governance and aligning it with safety, equity, change management, and ROI standards. Oversight around patient safety, compliance, and bias mitigation remains a priority.\\n\\n3. **AI for Protein Design:**\\n   - AI is transforming protein design, which has applications in combating diseases like cancer and antibiotic-resistant infections. Australian scientists have developed AI platforms that quickly create bacteria-killing proteins, ushering in faster, more affordable drug development and diagnostics.\\n\\n4. **AI for Medical Advice:**\\n   - AI tools are being explored for providing medical advice, though this area is subject to debate and ethical considerations. For instance, ChatGPT successfully diagnosed a knee condition from MRI scans, highlighting AI's potential role in diagnosis.\\n\\nOverall, while AI is driving rapid advancements in healthcare, it also introduces ethical, technical, and validation challenges that need ongoing attention and collaboration among different stakeholders.\", additional_kwargs={}, response_metadata={}, name='medical_agent', id='8612a36f-e16a-49de-8fc9-abe77fc963b7'), HumanMessage(content='tavily_search', additional_kwargs={}, response_metadata={}, name='finance_agent', id='eb00641e-0b50-4057-b005-c994614cb3d8'), HumanMessage(content='research_supervisor', additional_kwargs={}, response_metadata={}, name='finance_agent', id='ec633f4a-d4a6-40fe-a4c3-8bbc711fe0d6'), HumanMessage(content='tavily_search', additional_kwargs={}, response_metadata={}, name='finance_agent', id='36208ad4-82f2-404a-b7ac-c605f60bc7cf'), HumanMessage(content='tavily_search', additional_kwargs={}, response_metadata={}, name='finance_agent', id='f970d5d1-60be-4fc1-9bd7-093ca586e4ac')], 'next': 'supervisor'} ----------------\n",
      "response: {'next': 'reports_supervisor'}\n",
      "command : Command(update={'next': 'reports_supervisor'}, goto='reports_supervisor')\n",
      "((), {'supervisor': {'next': 'reports_supervisor'}})\n",
      "---------------- Report team Agent invoked with state: {'messages': [HumanMessage(content='I need to research the latest trends in AI and its applications in healthcare.', additional_kwargs={}, response_metadata={}, id='9ce405d9-d956-49ca-95b9-249fc5a1daaa'), HumanMessage(content=\"The latest trends in AI and its applications in healthcare are evolving rapidly, showcasing significant advancements and challenges. Here's a summary of the key insights from recent studies and articles:\\n\\n1. **AI in Computational Biology and Bioinformatics:**\\n   - AI technologies, particularly machine learning algorithms like neural networks, support vector machines, and decision trees, are being increasingly utilized for computational biology and bioinformatics tasks. This includes sequence analysis, protein structure prediction, and drug discovery.\\n   - AI-driven precision medicine and personalized genomics are revolutionizing healthcare and biotechnology by enhancing our understanding of complex biological systems.\\n   - Emerging challenges include ethical implications, validation of AI models, and the need for interdisciplinary collaboration between computer scientists, biologists, and clinicians.\\n\\n2. **AI in Healthcare Delivery:**\\n   - Hospitals are integrating AI into IT and clinical governance to support various healthcare functions such as documentation, clinical decision support, and communication tools. AI applications are seen across multiple specialties, including pediatrics, internal medicine, surgery, psychiatry, and OB/GYN.\\n   - There is a focus on integrating AI with existing governance and aligning it with safety, equity, change management, and ROI standards. Oversight around patient safety, compliance, and bias mitigation remains a priority.\\n\\n3. **AI for Protein Design:**\\n   - AI is transforming protein design, which has applications in combating diseases like cancer and antibiotic-resistant infections. Australian scientists have developed AI platforms that quickly create bacteria-killing proteins, ushering in faster, more affordable drug development and diagnostics.\\n\\n4. **AI for Medical Advice:**\\n   - AI tools are being explored for providing medical advice, though this area is subject to debate and ethical considerations. For instance, ChatGPT successfully diagnosed a knee condition from MRI scans, highlighting AI's potential role in diagnosis.\\n\\nOverall, while AI is driving rapid advancements in healthcare, it also introduces ethical, technical, and validation challenges that need ongoing attention and collaboration among different stakeholders.\", additional_kwargs={}, response_metadata={}, name='medical_agent', id='8612a36f-e16a-49de-8fc9-abe77fc963b7'), HumanMessage(content='tavily_search', additional_kwargs={}, response_metadata={}, name='finance_agent', id='eb00641e-0b50-4057-b005-c994614cb3d8'), HumanMessage(content='research_supervisor', additional_kwargs={}, response_metadata={}, name='finance_agent', id='ec633f4a-d4a6-40fe-a4c3-8bbc711fe0d6'), HumanMessage(content='tavily_search', additional_kwargs={}, response_metadata={}, name='finance_agent', id='36208ad4-82f2-404a-b7ac-c605f60bc7cf'), HumanMessage(content='tavily_search', additional_kwargs={}, response_metadata={}, name='finance_agent', id='f970d5d1-60be-4fc1-9bd7-093ca586e4ac')], 'next': 'reports_supervisor'} ----------------\n",
      "response: {'next': 'summary_agent'} \n",
      "goto: summary_agent\n",
      "command : Command(update={'next': 'summary_agent'}, goto='summary_agent')\n",
      "((), {'reports_supervisor': {'next': 'summary_agent'}})\n",
      "(('summary_agent:6f236da9-9992-83a5-47fd-bf2d4b05332e',), {'agent': {'messages': [AIMessage(content=\"It seems there might be some confusion or an error with your request. If you are attempting to perform a specific action or need information related to finance, please provide more context or clarify the request, and I'll be glad to assist you accordingly.\", additional_kwargs={'refusal': None}, response_metadata={'token_usage': {'completion_tokens': 49, 'prompt_tokens': 3554, 'total_tokens': 3603, 'completion_tokens_details': {'accepted_prediction_tokens': 0, 'audio_tokens': 0, 'reasoning_tokens': 0, 'rejected_prediction_tokens': 0}, 'prompt_tokens_details': {'audio_tokens': 0, 'cached_tokens': 0}}, 'model_name': 'gpt-4o-2024-08-06', 'system_fingerprint': None, 'id': 'chatcmpl-BtTKy7p8wKElPZHeSQuKyRV5gfjwl', 'service_tier': 'default', 'finish_reason': 'stop', 'logprobs': None}, id='run--4de5bd9d-341f-40e6-9a39-ff041e59cc95-0', usage_metadata={'input_tokens': 3554, 'output_tokens': 49, 'total_tokens': 3603, 'input_token_details': {'audio': 0, 'cache_read': 0}, 'output_token_details': {'audio': 0, 'reasoning': 0}})]}})\n",
      "((), {'summary_agent': {'messages': [HumanMessage(content=\"It seems there might be some confusion or an error with your request. If you are attempting to perform a specific action or need information related to finance, please provide more context or clarify the request, and I'll be glad to assist you accordingly.\", additional_kwargs={}, response_metadata={}, name='summary_agent')]}})\n",
      "---------------- Report team Agent invoked with state: {'messages': [HumanMessage(content='I need to research the latest trends in AI and its applications in healthcare.', additional_kwargs={}, response_metadata={}, id='9ce405d9-d956-49ca-95b9-249fc5a1daaa'), HumanMessage(content=\"The latest trends in AI and its applications in healthcare are evolving rapidly, showcasing significant advancements and challenges. Here's a summary of the key insights from recent studies and articles:\\n\\n1. **AI in Computational Biology and Bioinformatics:**\\n   - AI technologies, particularly machine learning algorithms like neural networks, support vector machines, and decision trees, are being increasingly utilized for computational biology and bioinformatics tasks. This includes sequence analysis, protein structure prediction, and drug discovery.\\n   - AI-driven precision medicine and personalized genomics are revolutionizing healthcare and biotechnology by enhancing our understanding of complex biological systems.\\n   - Emerging challenges include ethical implications, validation of AI models, and the need for interdisciplinary collaboration between computer scientists, biologists, and clinicians.\\n\\n2. **AI in Healthcare Delivery:**\\n   - Hospitals are integrating AI into IT and clinical governance to support various healthcare functions such as documentation, clinical decision support, and communication tools. AI applications are seen across multiple specialties, including pediatrics, internal medicine, surgery, psychiatry, and OB/GYN.\\n   - There is a focus on integrating AI with existing governance and aligning it with safety, equity, change management, and ROI standards. Oversight around patient safety, compliance, and bias mitigation remains a priority.\\n\\n3. **AI for Protein Design:**\\n   - AI is transforming protein design, which has applications in combating diseases like cancer and antibiotic-resistant infections. Australian scientists have developed AI platforms that quickly create bacteria-killing proteins, ushering in faster, more affordable drug development and diagnostics.\\n\\n4. **AI for Medical Advice:**\\n   - AI tools are being explored for providing medical advice, though this area is subject to debate and ethical considerations. For instance, ChatGPT successfully diagnosed a knee condition from MRI scans, highlighting AI's potential role in diagnosis.\\n\\nOverall, while AI is driving rapid advancements in healthcare, it also introduces ethical, technical, and validation challenges that need ongoing attention and collaboration among different stakeholders.\", additional_kwargs={}, response_metadata={}, name='medical_agent', id='8612a36f-e16a-49de-8fc9-abe77fc963b7'), HumanMessage(content='tavily_search', additional_kwargs={}, response_metadata={}, name='finance_agent', id='eb00641e-0b50-4057-b005-c994614cb3d8'), HumanMessage(content='research_supervisor', additional_kwargs={}, response_metadata={}, name='finance_agent', id='ec633f4a-d4a6-40fe-a4c3-8bbc711fe0d6'), HumanMessage(content='tavily_search', additional_kwargs={}, response_metadata={}, name='finance_agent', id='36208ad4-82f2-404a-b7ac-c605f60bc7cf'), HumanMessage(content='tavily_search', additional_kwargs={}, response_metadata={}, name='finance_agent', id='f970d5d1-60be-4fc1-9bd7-093ca586e4ac'), HumanMessage(content=\"It seems there might be some confusion or an error with your request. If you are attempting to perform a specific action or need information related to finance, please provide more context or clarify the request, and I'll be glad to assist you accordingly.\", additional_kwargs={}, response_metadata={}, name='summary_agent', id='929960f0-31a2-45fe-abf7-e935f4153c85')], 'next': 'summary_agent'} ----------------\n",
      "response: {'next': 'summary_agent'} \n",
      "goto: summary_agent\n",
      "command : Command(update={'next': 'summary_agent'}, goto='summary_agent')\n",
      "((), {'reports_supervisor': {'next': 'summary_agent'}})\n",
      "---------------- summary_tool invoked with state: {'messages': [AIMessage(content=\"The latest trends in AI and its applications in healthcare are evolving rapidly, showcasing significant advancements and challenges. Here's a summary of the key insights from recent studies and articles:\\n\\n1. **AI in Computational Biology and Bioinformatics:**\\n   - AI technologies, particularly machine learning algorithms like neural networks, support vector machines, and decision trees, are being increasingly utilized for computational biology and bioinformatics tasks. This includes sequence analysis, protein structure prediction, and drug discovery.\\n   - AI-driven precision medicine and personalized genomics are revolutionizing healthcare and biotechnology by enhancing our understanding of complex biological systems.\\n   - Emerging challenges include ethical implications, validation of AI models, and the need for interdisciplinary collaboration between computer scientists, biologists, and clinicians.\\n\\n2. **AI in Healthcare Delivery:**\\n   - Hospitals are integrating AI into IT and clinical governance to support various healthcare functions such as documentation, clinical decision support, and communication tools. AI applications are seen across multiple specialties, including pediatrics, internal medicine, surgery, psychiatry, and OB/GYN.\\n   - There is a focus on integrating AI with existing governance and aligning it with safety, equity, change management, and ROI standards. Oversight around patient safety, compliance, and bias mitigation remains a priority.\\n\\n3. **AI for Protein Design:**\\n   - AI is transforming protein design, which has applications in combating diseases like cancer and antibiotic-resistant infections. Australian scientists have developed AI platforms that quickly create bacteria-killing proteins, ushering in faster, more affordable drug development and diagnostics.\\n\\n4. **AI for Medical Advice:**\\n   - AI tools are being explored for providing medical advice, though this area is subject to debate and ethical considerations. For instance, ChatGPT successfully diagnosed a knee condition from MRI scans, highlighting AI's potential role in diagnosis.\\n\\nOverall, while AI is driving rapid advancements in healthcare, it also introduces ethical, technical, and validation challenges that need ongoing attention and collaboration among different stakeholders.\", additional_kwargs={}, response_metadata={}), HumanMessage(content='tavily_search', additional_kwargs={}, response_metadata={})], 'next': \"The user expressed a possible intent to search for something, but it's repeated and unclear in its current form. Ensure clarity in future communication for appropriate assistance.\"} ----------------\n",
      "(('summary_agent:96d27a66-befe-4cfe-52a0-0837afcd7d8a',), {'agent': {'messages': [AIMessage(content='', additional_kwargs={'tool_calls': [{'id': 'call_CUSQxcB49clyJtbPBseMZmT0', 'function': {'arguments': '{\"state\":{\"messages\":[{\"content\":\"The latest trends in AI and its applications in healthcare are evolving rapidly, showcasing significant advancements and challenges. Here\\'s a summary of the key insights from recent studies and articles:\\\\n\\\\n1. **AI in Computational Biology and Bioinformatics:**\\\\n   - AI technologies, particularly machine learning algorithms like neural networks, support vector machines, and decision trees, are being increasingly utilized for computational biology and bioinformatics tasks. This includes sequence analysis, protein structure prediction, and drug discovery.\\\\n   - AI-driven precision medicine and personalized genomics are revolutionizing healthcare and biotechnology by enhancing our understanding of complex biological systems.\\\\n   - Emerging challenges include ethical implications, validation of AI models, and the need for interdisciplinary collaboration between computer scientists, biologists, and clinicians.\\\\n\\\\n2. **AI in Healthcare Delivery:**\\\\n   - Hospitals are integrating AI into IT and clinical governance to support various healthcare functions such as documentation, clinical decision support, and communication tools. AI applications are seen across multiple specialties, including pediatrics, internal medicine, surgery, psychiatry, and OB/GYN.\\\\n   - There is a focus on integrating AI with existing governance and aligning it with safety, equity, change management, and ROI standards. Oversight around patient safety, compliance, and bias mitigation remains a priority.\\\\n\\\\n3. **AI for Protein Design:**\\\\n   - AI is transforming protein design, which has applications in combating diseases like cancer and antibiotic-resistant infections. Australian scientists have developed AI platforms that quickly create bacteria-killing proteins, ushering in faster, more affordable drug development and diagnostics.\\\\n\\\\n4. **AI for Medical Advice:**\\\\n   - AI tools are being explored for providing medical advice, though this area is subject to debate and ethical considerations. For instance, ChatGPT successfully diagnosed a knee condition from MRI scans, highlighting AI\\'s potential role in diagnosis.\\\\n\\\\nOverall, while AI is driving rapid advancements in healthcare, it also introduces ethical, technical, and validation challenges that need ongoing attention and collaboration among different stakeholders.\",\"type\":\"ai\"},{\"content\":\"tavily_search\",\"type\":\"human\"}],\"next\":\"The user expressed a possible intent to search for something, but it\\'s repeated and unclear in its current form. Ensure clarity in future communication for appropriate assistance.\"}}', 'name': 'summary_tool'}, 'type': 'function'}], 'refusal': None}, response_metadata={'token_usage': {'completion_tokens': 473, 'prompt_tokens': 3609, 'total_tokens': 4082, 'completion_tokens_details': {'accepted_prediction_tokens': 0, 'audio_tokens': 0, 'reasoning_tokens': 0, 'rejected_prediction_tokens': 0}, 'prompt_tokens_details': {'audio_tokens': 0, 'cached_tokens': 3456}}, 'model_name': 'gpt-4o-2024-08-06', 'system_fingerprint': None, 'id': 'chatcmpl-BtTL5YokSaBajWc5CgeBH57CsMw3x', 'service_tier': 'default', 'finish_reason': 'tool_calls', 'logprobs': None}, id='run--d2393a67-88e9-48b6-92dc-353c3ba68d89-0', tool_calls=[{'name': 'summary_tool', 'args': {'state': {'messages': [{'content': \"The latest trends in AI and its applications in healthcare are evolving rapidly, showcasing significant advancements and challenges. Here's a summary of the key insights from recent studies and articles:\\n\\n1. **AI in Computational Biology and Bioinformatics:**\\n   - AI technologies, particularly machine learning algorithms like neural networks, support vector machines, and decision trees, are being increasingly utilized for computational biology and bioinformatics tasks. This includes sequence analysis, protein structure prediction, and drug discovery.\\n   - AI-driven precision medicine and personalized genomics are revolutionizing healthcare and biotechnology by enhancing our understanding of complex biological systems.\\n   - Emerging challenges include ethical implications, validation of AI models, and the need for interdisciplinary collaboration between computer scientists, biologists, and clinicians.\\n\\n2. **AI in Healthcare Delivery:**\\n   - Hospitals are integrating AI into IT and clinical governance to support various healthcare functions such as documentation, clinical decision support, and communication tools. AI applications are seen across multiple specialties, including pediatrics, internal medicine, surgery, psychiatry, and OB/GYN.\\n   - There is a focus on integrating AI with existing governance and aligning it with safety, equity, change management, and ROI standards. Oversight around patient safety, compliance, and bias mitigation remains a priority.\\n\\n3. **AI for Protein Design:**\\n   - AI is transforming protein design, which has applications in combating diseases like cancer and antibiotic-resistant infections. Australian scientists have developed AI platforms that quickly create bacteria-killing proteins, ushering in faster, more affordable drug development and diagnostics.\\n\\n4. **AI for Medical Advice:**\\n   - AI tools are being explored for providing medical advice, though this area is subject to debate and ethical considerations. For instance, ChatGPT successfully diagnosed a knee condition from MRI scans, highlighting AI's potential role in diagnosis.\\n\\nOverall, while AI is driving rapid advancements in healthcare, it also introduces ethical, technical, and validation challenges that need ongoing attention and collaboration among different stakeholders.\", 'type': 'ai'}, {'content': 'tavily_search', 'type': 'human'}], 'next': \"The user expressed a possible intent to search for something, but it's repeated and unclear in its current form. Ensure clarity in future communication for appropriate assistance.\"}}, 'id': 'call_CUSQxcB49clyJtbPBseMZmT0', 'type': 'tool_call'}], usage_metadata={'input_tokens': 3609, 'output_tokens': 473, 'total_tokens': 4082, 'input_token_details': {'audio': 0, 'cache_read': 3456}, 'output_token_details': {'audio': 0, 'reasoning': 0}})]}})\n",
      "Summary result: content='AI is significantly advancing in healthcare, particularly in fields such as computational biology, bioinformatics, healthcare delivery, protein design, and medical advice. Key insights include the use of AI technologies like machine learning for tasks such as sequence analysis, protein prediction, and drug discovery, enhancing precision medicine and personalized genomics. In healthcare delivery, AI is integrated into IT systems to support documentation, decision support, and communication across specialties while focusing on safety and equity. AI is also rapidly transforming protein design for disease management and shows potential in diagnostic support, as demonstrated by AI tools interpreting medical scans. Despite these advancements, challenges such as ethical implications, model validation, interdisciplinary collaboration, and oversight on patient safety and bias persist, necessitating continuous attention and collaboration.' additional_kwargs={'refusal': None} response_metadata={'token_usage': {'completion_tokens': 147, 'prompt_tokens': 503, 'total_tokens': 650, 'completion_tokens_details': {'accepted_prediction_tokens': 0, 'audio_tokens': 0, 'reasoning_tokens': 0, 'rejected_prediction_tokens': 0}, 'prompt_tokens_details': {'audio_tokens': 0, 'cached_tokens': 0}}, 'model_name': 'gpt-4o-2024-08-06', 'system_fingerprint': None, 'id': 'chatcmpl-BtTLBYKDbZFsgW1DpPSjW0hpLpjyO', 'service_tier': 'default', 'finish_reason': 'stop', 'logprobs': None} id='run--1349fc96-145b-4ad2-b4ad-6f0d6d09eeb3-0' usage_metadata={'input_tokens': 503, 'output_tokens': 147, 'total_tokens': 650, 'input_token_details': {'audio': 0, 'cache_read': 0}, 'output_token_details': {'audio': 0, 'reasoning': 0}}\n",
      "(('summary_agent:96d27a66-befe-4cfe-52a0-0837afcd7d8a',), {'tools': {'messages': [ToolMessage(content=\"content='AI is significantly advancing in healthcare, particularly in fields such as computational biology, bioinformatics, healthcare delivery, protein design, and medical advice. Key insights include the use of AI technologies like machine learning for tasks such as sequence analysis, protein prediction, and drug discovery, enhancing precision medicine and personalized genomics. In healthcare delivery, AI is integrated into IT systems to support documentation, decision support, and communication across specialties while focusing on safety and equity. AI is also rapidly transforming protein design for disease management and shows potential in diagnostic support, as demonstrated by AI tools interpreting medical scans. Despite these advancements, challenges such as ethical implications, model validation, interdisciplinary collaboration, and oversight on patient safety and bias persist, necessitating continuous attention and collaboration.' additional_kwargs={'refusal': None} response_metadata={'token_usage': {'completion_tokens': 147, 'prompt_tokens': 503, 'total_tokens': 650, 'completion_tokens_details': {'accepted_prediction_tokens': 0, 'audio_tokens': 0, 'reasoning_tokens': 0, 'rejected_prediction_tokens': 0}, 'prompt_tokens_details': {'audio_tokens': 0, 'cached_tokens': 0}}, 'model_name': 'gpt-4o-2024-08-06', 'system_fingerprint': None, 'id': 'chatcmpl-BtTLBYKDbZFsgW1DpPSjW0hpLpjyO', 'service_tier': 'default', 'finish_reason': 'stop', 'logprobs': None} id='run--1349fc96-145b-4ad2-b4ad-6f0d6d09eeb3-0' usage_metadata={'input_tokens': 503, 'output_tokens': 147, 'total_tokens': 650, 'input_token_details': {'audio': 0, 'cache_read': 0}, 'output_token_details': {'audio': 0, 'reasoning': 0}}\", name='summary_tool', id='ab148d6d-c74e-4634-84b0-3d8e830c7c67', tool_call_id='call_CUSQxcB49clyJtbPBseMZmT0')]}})\n",
      "(('summary_agent:96d27a66-befe-4cfe-52a0-0837afcd7d8a',), {'agent': {'messages': [AIMessage(content='Here is a summary of the latest trends in AI and its applications in healthcare:\\n\\n**Advancements in AI Healthcare Applications:**\\n1. **Computational Biology and Bioinformatics:**\\n   - Machine learning algorithms are key in tasks like sequence analysis, protein prediction, and drug discovery. \\n   - AI enhances precision medicine and genomics by improving our understanding of complex biological systems.\\n\\n2. **Healthcare Delivery:**\\n   - AI is integrated into hospital IT systems for documentation, clinical decision support, and communication, across various medical specialties.\\n   - Focus is placed on ensuring safety, equity, and bias mitigation in these applications.\\n\\n3. **Protein Design:**\\n   - AI technologies are used for designing proteins to address diseases like cancer and antibiotic resistance, accelerating drug development and diagnostics.\\n\\n4. **Medical Advice and Diagnostics:**\\n   - AI tools provide diagnostic support, as shown by successful AI assessments of medical scans.\\n   - This application area raises ethical considerations and underscores the need for validation and oversight.\\n\\n**Challenges:**\\n- Ethical concerns, model validation, and the need for interdisciplinary collaboration are ongoing issues.\\n- Continuous oversight is essential to ensure patient safety and mitigate biases in AI applications. \\n\\nAI is revolutionizing healthcare, but these advancements come with challenges that necessitate careful management and collaborative solutions.', additional_kwargs={'refusal': None}, response_metadata={'token_usage': {'completion_tokens': 259, 'prompt_tokens': 4495, 'total_tokens': 4754, 'completion_tokens_details': {'accepted_prediction_tokens': 0, 'audio_tokens': 0, 'reasoning_tokens': 0, 'rejected_prediction_tokens': 0}, 'prompt_tokens_details': {'audio_tokens': 0, 'cached_tokens': 3968}}, 'model_name': 'gpt-4o-2024-08-06', 'system_fingerprint': None, 'id': 'chatcmpl-BtTLG5yP7UDgA4oHGbxCL5Z5fHmqb', 'service_tier': 'default', 'finish_reason': 'stop', 'logprobs': None}, id='run--93196af8-f294-4108-99a1-250f9e5c5b60-0', usage_metadata={'input_tokens': 4495, 'output_tokens': 259, 'total_tokens': 4754, 'input_token_details': {'audio': 0, 'cache_read': 3968}, 'output_token_details': {'audio': 0, 'reasoning': 0}})]}})\n",
      "((), {'summary_agent': {'messages': [HumanMessage(content='Here is a summary of the latest trends in AI and its applications in healthcare:\\n\\n**Advancements in AI Healthcare Applications:**\\n1. **Computational Biology and Bioinformatics:**\\n   - Machine learning algorithms are key in tasks like sequence analysis, protein prediction, and drug discovery. \\n   - AI enhances precision medicine and genomics by improving our understanding of complex biological systems.\\n\\n2. **Healthcare Delivery:**\\n   - AI is integrated into hospital IT systems for documentation, clinical decision support, and communication, across various medical specialties.\\n   - Focus is placed on ensuring safety, equity, and bias mitigation in these applications.\\n\\n3. **Protein Design:**\\n   - AI technologies are used for designing proteins to address diseases like cancer and antibiotic resistance, accelerating drug development and diagnostics.\\n\\n4. **Medical Advice and Diagnostics:**\\n   - AI tools provide diagnostic support, as shown by successful AI assessments of medical scans.\\n   - This application area raises ethical considerations and underscores the need for validation and oversight.\\n\\n**Challenges:**\\n- Ethical concerns, model validation, and the need for interdisciplinary collaboration are ongoing issues.\\n- Continuous oversight is essential to ensure patient safety and mitigate biases in AI applications. \\n\\nAI is revolutionizing healthcare, but these advancements come with challenges that necessitate careful management and collaborative solutions.', additional_kwargs={}, response_metadata={}, name='summary_agent')]}})\n",
      "---------------- Report team Agent invoked with state: {'messages': [HumanMessage(content='I need to research the latest trends in AI and its applications in healthcare.', additional_kwargs={}, response_metadata={}, id='9ce405d9-d956-49ca-95b9-249fc5a1daaa'), HumanMessage(content=\"The latest trends in AI and its applications in healthcare are evolving rapidly, showcasing significant advancements and challenges. Here's a summary of the key insights from recent studies and articles:\\n\\n1. **AI in Computational Biology and Bioinformatics:**\\n   - AI technologies, particularly machine learning algorithms like neural networks, support vector machines, and decision trees, are being increasingly utilized for computational biology and bioinformatics tasks. This includes sequence analysis, protein structure prediction, and drug discovery.\\n   - AI-driven precision medicine and personalized genomics are revolutionizing healthcare and biotechnology by enhancing our understanding of complex biological systems.\\n   - Emerging challenges include ethical implications, validation of AI models, and the need for interdisciplinary collaboration between computer scientists, biologists, and clinicians.\\n\\n2. **AI in Healthcare Delivery:**\\n   - Hospitals are integrating AI into IT and clinical governance to support various healthcare functions such as documentation, clinical decision support, and communication tools. AI applications are seen across multiple specialties, including pediatrics, internal medicine, surgery, psychiatry, and OB/GYN.\\n   - There is a focus on integrating AI with existing governance and aligning it with safety, equity, change management, and ROI standards. Oversight around patient safety, compliance, and bias mitigation remains a priority.\\n\\n3. **AI for Protein Design:**\\n   - AI is transforming protein design, which has applications in combating diseases like cancer and antibiotic-resistant infections. Australian scientists have developed AI platforms that quickly create bacteria-killing proteins, ushering in faster, more affordable drug development and diagnostics.\\n\\n4. **AI for Medical Advice:**\\n   - AI tools are being explored for providing medical advice, though this area is subject to debate and ethical considerations. For instance, ChatGPT successfully diagnosed a knee condition from MRI scans, highlighting AI's potential role in diagnosis.\\n\\nOverall, while AI is driving rapid advancements in healthcare, it also introduces ethical, technical, and validation challenges that need ongoing attention and collaboration among different stakeholders.\", additional_kwargs={}, response_metadata={}, name='medical_agent', id='8612a36f-e16a-49de-8fc9-abe77fc963b7'), HumanMessage(content='tavily_search', additional_kwargs={}, response_metadata={}, name='finance_agent', id='eb00641e-0b50-4057-b005-c994614cb3d8'), HumanMessage(content='research_supervisor', additional_kwargs={}, response_metadata={}, name='finance_agent', id='ec633f4a-d4a6-40fe-a4c3-8bbc711fe0d6'), HumanMessage(content='tavily_search', additional_kwargs={}, response_metadata={}, name='finance_agent', id='36208ad4-82f2-404a-b7ac-c605f60bc7cf'), HumanMessage(content='tavily_search', additional_kwargs={}, response_metadata={}, name='finance_agent', id='f970d5d1-60be-4fc1-9bd7-093ca586e4ac'), HumanMessage(content=\"It seems there might be some confusion or an error with your request. If you are attempting to perform a specific action or need information related to finance, please provide more context or clarify the request, and I'll be glad to assist you accordingly.\", additional_kwargs={}, response_metadata={}, name='summary_agent', id='929960f0-31a2-45fe-abf7-e935f4153c85'), HumanMessage(content='Here is a summary of the latest trends in AI and its applications in healthcare:\\n\\n**Advancements in AI Healthcare Applications:**\\n1. **Computational Biology and Bioinformatics:**\\n   - Machine learning algorithms are key in tasks like sequence analysis, protein prediction, and drug discovery. \\n   - AI enhances precision medicine and genomics by improving our understanding of complex biological systems.\\n\\n2. **Healthcare Delivery:**\\n   - AI is integrated into hospital IT systems for documentation, clinical decision support, and communication, across various medical specialties.\\n   - Focus is placed on ensuring safety, equity, and bias mitigation in these applications.\\n\\n3. **Protein Design:**\\n   - AI technologies are used for designing proteins to address diseases like cancer and antibiotic resistance, accelerating drug development and diagnostics.\\n\\n4. **Medical Advice and Diagnostics:**\\n   - AI tools provide diagnostic support, as shown by successful AI assessments of medical scans.\\n   - This application area raises ethical considerations and underscores the need for validation and oversight.\\n\\n**Challenges:**\\n- Ethical concerns, model validation, and the need for interdisciplinary collaboration are ongoing issues.\\n- Continuous oversight is essential to ensure patient safety and mitigate biases in AI applications. \\n\\nAI is revolutionizing healthcare, but these advancements come with challenges that necessitate careful management and collaborative solutions.', additional_kwargs={}, response_metadata={}, name='summary_agent', id='f4af5d25-8eb3-454a-9430-55f04f632b1f')], 'next': 'summary_agent'} ----------------\n",
      "response: {'next': 'document_agent'} \n",
      "goto: document_agent\n",
      "command : Command(update={'next': 'document_agent'}, goto='document_agent')\n",
      "((), {'reports_supervisor': {'next': 'document_agent'}})\n",
      "(('document_agent:99caaa8d-6bfe-e140-7c17-c0ce7e986e6c',), {'agent': {'messages': [AIMessage(content='', additional_kwargs={'tool_calls': [{'id': 'call_OVHPEroQLPoTmIrnPQrbiORv', 'function': {'arguments': '{\"summary\":\"Advancements in AI Healthcare Applications:\\\\n1. Computational Biology and Bioinformatics:\\\\n   - Machine learning algorithms are key in tasks like sequence analysis, protein prediction, and drug discovery. \\\\n   - AI enhances precision medicine and genomics by improving our understanding of complex biological systems.\\\\n\\\\n2. Healthcare Delivery:\\\\n   - AI is integrated into hospital IT systems for documentation, clinical decision support, and communication, across various medical specialties.\\\\n   - Focus is placed on ensuring safety, equity, and bias mitigation in these applications.\\\\n\\\\n3. Protein Design:\\\\n   - AI technologies are used for designing proteins to address diseases like cancer and antibiotic resistance, accelerating drug development and diagnostics.\\\\n\\\\n4. Medical Advice and Diagnostics:\\\\n   - AI tools provide diagnostic support, as shown by successful AI assessments of medical scans.\\\\n   - This application area raises ethical considerations and underscores the need for validation and oversight.\\\\n\\\\nChallenges:\\\\n- Ethical concerns, model validation, and the need for interdisciplinary collaboration are ongoing issues.\\\\n- Continuous oversight is essential to ensure patient safety and mitigate biases in AI applications.\\\\n\\\\nAI is revolutionizing healthcare, but these advancements come with challenges that necessitate careful management and collaborative solutions.\",\"question_name\":\"AI_and_Healthcare_Trends\"}', 'name': 'docx_report_tool'}, 'type': 'function'}], 'refusal': None}, response_metadata={'token_usage': {'completion_tokens': 272, 'prompt_tokens': 1337, 'total_tokens': 1609, 'completion_tokens_details': {'accepted_prediction_tokens': 0, 'audio_tokens': 0, 'reasoning_tokens': 0, 'rejected_prediction_tokens': 0}, 'prompt_tokens_details': {'audio_tokens': 0, 'cached_tokens': 0}}, 'model_name': 'gpt-4o-2024-08-06', 'system_fingerprint': None, 'id': 'chatcmpl-BtTLO20A8oi8bhRLqeC8zI4CmtOlt', 'service_tier': 'default', 'finish_reason': 'tool_calls', 'logprobs': None}, id='run--9fc7a908-95bf-46eb-a91f-6f5d575753fc-0', tool_calls=[{'name': 'docx_report_tool', 'args': {'summary': 'Advancements in AI Healthcare Applications:\\n1. Computational Biology and Bioinformatics:\\n   - Machine learning algorithms are key in tasks like sequence analysis, protein prediction, and drug discovery. \\n   - AI enhances precision medicine and genomics by improving our understanding of complex biological systems.\\n\\n2. Healthcare Delivery:\\n   - AI is integrated into hospital IT systems for documentation, clinical decision support, and communication, across various medical specialties.\\n   - Focus is placed on ensuring safety, equity, and bias mitigation in these applications.\\n\\n3. Protein Design:\\n   - AI technologies are used for designing proteins to address diseases like cancer and antibiotic resistance, accelerating drug development and diagnostics.\\n\\n4. Medical Advice and Diagnostics:\\n   - AI tools provide diagnostic support, as shown by successful AI assessments of medical scans.\\n   - This application area raises ethical considerations and underscores the need for validation and oversight.\\n\\nChallenges:\\n- Ethical concerns, model validation, and the need for interdisciplinary collaboration are ongoing issues.\\n- Continuous oversight is essential to ensure patient safety and mitigate biases in AI applications.\\n\\nAI is revolutionizing healthcare, but these advancements come with challenges that necessitate careful management and collaborative solutions.', 'question_name': 'AI_and_Healthcare_Trends'}, 'id': 'call_OVHPEroQLPoTmIrnPQrbiORv', 'type': 'tool_call'}], usage_metadata={'input_tokens': 1337, 'output_tokens': 272, 'total_tokens': 1609, 'input_token_details': {'audio': 0, 'cache_read': 0}, 'output_token_details': {'audio': 0, 'reasoning': 0}})]}})\n",
      "(('document_agent:99caaa8d-6bfe-e140-7c17-c0ce7e986e6c',), {'tools': {'messages': [ToolMessage(content=\"Success: DOCX file saved to 'docs_result\\\\AI_and_Healthcare_Trends.docx'\", name='docx_report_tool', id='7b28125f-b3bb-43d7-8ebe-153c35e882c3', tool_call_id='call_OVHPEroQLPoTmIrnPQrbiORv')]}})\n"
     ]
    },
    {
     "name": "stderr",
     "output_type": "stream",
     "text": [
      "e:\\practice\\Agentic_AI_2.0\\Assignements\\agentic_ai\\lib\\site-packages\\docx\\styles\\styles.py:125: UserWarning: style lookup by style_id is deprecated. Use style name as key instead.\n",
      "  return self._get_style_id_from_style(self[style_name], style_type)\n"
     ]
    },
    {
     "name": "stdout",
     "output_type": "stream",
     "text": [
      "(('document_agent:99caaa8d-6bfe-e140-7c17-c0ce7e986e6c',), {'agent': {'messages': [AIMessage(content=\"The summary of the latest trends in AI and its applications in healthcare has been saved as a DOCX document. You can find it in the file path: 'docs_result/AI_and_Healthcare_Trends.docx'.\", additional_kwargs={'refusal': None}, response_metadata={'token_usage': {'completion_tokens': 45, 'prompt_tokens': 1639, 'total_tokens': 1684, 'completion_tokens_details': {'accepted_prediction_tokens': 0, 'audio_tokens': 0, 'reasoning_tokens': 0, 'rejected_prediction_tokens': 0}, 'prompt_tokens_details': {'audio_tokens': 0, 'cached_tokens': 1536}}, 'model_name': 'gpt-4o-2024-08-06', 'system_fingerprint': None, 'id': 'chatcmpl-BtTLRzhobivfM8UJLHeejgs8h6o8p', 'service_tier': 'default', 'finish_reason': 'stop', 'logprobs': None}, id='run--f3ac4964-787e-4723-ba4c-bc368df22d61-0', usage_metadata={'input_tokens': 1639, 'output_tokens': 45, 'total_tokens': 1684, 'input_token_details': {'audio': 0, 'cache_read': 1536}, 'output_token_details': {'audio': 0, 'reasoning': 0}})]}})\n",
      "((), {'document_agent': {'messages': [HumanMessage(content=\"The summary of the latest trends in AI and its applications in healthcare has been saved as a DOCX document. You can find it in the file path: 'docs_result/AI_and_Healthcare_Trends.docx'.\", additional_kwargs={}, response_metadata={}, name='document_agent')]}})\n",
      "---------------- Report team Agent invoked with state: {'messages': [HumanMessage(content='I need to research the latest trends in AI and its applications in healthcare.', additional_kwargs={}, response_metadata={}, id='9ce405d9-d956-49ca-95b9-249fc5a1daaa'), HumanMessage(content=\"The latest trends in AI and its applications in healthcare are evolving rapidly, showcasing significant advancements and challenges. Here's a summary of the key insights from recent studies and articles:\\n\\n1. **AI in Computational Biology and Bioinformatics:**\\n   - AI technologies, particularly machine learning algorithms like neural networks, support vector machines, and decision trees, are being increasingly utilized for computational biology and bioinformatics tasks. This includes sequence analysis, protein structure prediction, and drug discovery.\\n   - AI-driven precision medicine and personalized genomics are revolutionizing healthcare and biotechnology by enhancing our understanding of complex biological systems.\\n   - Emerging challenges include ethical implications, validation of AI models, and the need for interdisciplinary collaboration between computer scientists, biologists, and clinicians.\\n\\n2. **AI in Healthcare Delivery:**\\n   - Hospitals are integrating AI into IT and clinical governance to support various healthcare functions such as documentation, clinical decision support, and communication tools. AI applications are seen across multiple specialties, including pediatrics, internal medicine, surgery, psychiatry, and OB/GYN.\\n   - There is a focus on integrating AI with existing governance and aligning it with safety, equity, change management, and ROI standards. Oversight around patient safety, compliance, and bias mitigation remains a priority.\\n\\n3. **AI for Protein Design:**\\n   - AI is transforming protein design, which has applications in combating diseases like cancer and antibiotic-resistant infections. Australian scientists have developed AI platforms that quickly create bacteria-killing proteins, ushering in faster, more affordable drug development and diagnostics.\\n\\n4. **AI for Medical Advice:**\\n   - AI tools are being explored for providing medical advice, though this area is subject to debate and ethical considerations. For instance, ChatGPT successfully diagnosed a knee condition from MRI scans, highlighting AI's potential role in diagnosis.\\n\\nOverall, while AI is driving rapid advancements in healthcare, it also introduces ethical, technical, and validation challenges that need ongoing attention and collaboration among different stakeholders.\", additional_kwargs={}, response_metadata={}, name='medical_agent', id='8612a36f-e16a-49de-8fc9-abe77fc963b7'), HumanMessage(content='tavily_search', additional_kwargs={}, response_metadata={}, name='finance_agent', id='eb00641e-0b50-4057-b005-c994614cb3d8'), HumanMessage(content='research_supervisor', additional_kwargs={}, response_metadata={}, name='finance_agent', id='ec633f4a-d4a6-40fe-a4c3-8bbc711fe0d6'), HumanMessage(content='tavily_search', additional_kwargs={}, response_metadata={}, name='finance_agent', id='36208ad4-82f2-404a-b7ac-c605f60bc7cf'), HumanMessage(content='tavily_search', additional_kwargs={}, response_metadata={}, name='finance_agent', id='f970d5d1-60be-4fc1-9bd7-093ca586e4ac'), HumanMessage(content=\"It seems there might be some confusion or an error with your request. If you are attempting to perform a specific action or need information related to finance, please provide more context or clarify the request, and I'll be glad to assist you accordingly.\", additional_kwargs={}, response_metadata={}, name='summary_agent', id='929960f0-31a2-45fe-abf7-e935f4153c85'), HumanMessage(content='Here is a summary of the latest trends in AI and its applications in healthcare:\\n\\n**Advancements in AI Healthcare Applications:**\\n1. **Computational Biology and Bioinformatics:**\\n   - Machine learning algorithms are key in tasks like sequence analysis, protein prediction, and drug discovery. \\n   - AI enhances precision medicine and genomics by improving our understanding of complex biological systems.\\n\\n2. **Healthcare Delivery:**\\n   - AI is integrated into hospital IT systems for documentation, clinical decision support, and communication, across various medical specialties.\\n   - Focus is placed on ensuring safety, equity, and bias mitigation in these applications.\\n\\n3. **Protein Design:**\\n   - AI technologies are used for designing proteins to address diseases like cancer and antibiotic resistance, accelerating drug development and diagnostics.\\n\\n4. **Medical Advice and Diagnostics:**\\n   - AI tools provide diagnostic support, as shown by successful AI assessments of medical scans.\\n   - This application area raises ethical considerations and underscores the need for validation and oversight.\\n\\n**Challenges:**\\n- Ethical concerns, model validation, and the need for interdisciplinary collaboration are ongoing issues.\\n- Continuous oversight is essential to ensure patient safety and mitigate biases in AI applications. \\n\\nAI is revolutionizing healthcare, but these advancements come with challenges that necessitate careful management and collaborative solutions.', additional_kwargs={}, response_metadata={}, name='summary_agent', id='f4af5d25-8eb3-454a-9430-55f04f632b1f'), HumanMessage(content=\"The summary of the latest trends in AI and its applications in healthcare has been saved as a DOCX document. You can find it in the file path: 'docs_result/AI_and_Healthcare_Trends.docx'.\", additional_kwargs={}, response_metadata={}, name='document_agent', id='23362603-14fb-4c7b-a1c4-5a8cef6f042b')], 'next': 'document_agent'} ----------------\n",
      "response: {'next': 'FINISH'} \n",
      "goto: FINISH\n",
      "command : Command(update={'next': 'supervisor'}, goto='supervisor')\n",
      "((), {'reports_supervisor': {'next': 'supervisor'}})\n",
      "---------------- Supervisor Agent invoked with state: {'messages': [HumanMessage(content='I need to research the latest trends in AI and its applications in healthcare.', additional_kwargs={}, response_metadata={}, id='9ce405d9-d956-49ca-95b9-249fc5a1daaa'), HumanMessage(content=\"The latest trends in AI and its applications in healthcare are evolving rapidly, showcasing significant advancements and challenges. Here's a summary of the key insights from recent studies and articles:\\n\\n1. **AI in Computational Biology and Bioinformatics:**\\n   - AI technologies, particularly machine learning algorithms like neural networks, support vector machines, and decision trees, are being increasingly utilized for computational biology and bioinformatics tasks. This includes sequence analysis, protein structure prediction, and drug discovery.\\n   - AI-driven precision medicine and personalized genomics are revolutionizing healthcare and biotechnology by enhancing our understanding of complex biological systems.\\n   - Emerging challenges include ethical implications, validation of AI models, and the need for interdisciplinary collaboration between computer scientists, biologists, and clinicians.\\n\\n2. **AI in Healthcare Delivery:**\\n   - Hospitals are integrating AI into IT and clinical governance to support various healthcare functions such as documentation, clinical decision support, and communication tools. AI applications are seen across multiple specialties, including pediatrics, internal medicine, surgery, psychiatry, and OB/GYN.\\n   - There is a focus on integrating AI with existing governance and aligning it with safety, equity, change management, and ROI standards. Oversight around patient safety, compliance, and bias mitigation remains a priority.\\n\\n3. **AI for Protein Design:**\\n   - AI is transforming protein design, which has applications in combating diseases like cancer and antibiotic-resistant infections. Australian scientists have developed AI platforms that quickly create bacteria-killing proteins, ushering in faster, more affordable drug development and diagnostics.\\n\\n4. **AI for Medical Advice:**\\n   - AI tools are being explored for providing medical advice, though this area is subject to debate and ethical considerations. For instance, ChatGPT successfully diagnosed a knee condition from MRI scans, highlighting AI's potential role in diagnosis.\\n\\nOverall, while AI is driving rapid advancements in healthcare, it also introduces ethical, technical, and validation challenges that need ongoing attention and collaboration among different stakeholders.\", additional_kwargs={}, response_metadata={}, name='medical_agent', id='8612a36f-e16a-49de-8fc9-abe77fc963b7'), HumanMessage(content='tavily_search', additional_kwargs={}, response_metadata={}, name='finance_agent', id='eb00641e-0b50-4057-b005-c994614cb3d8'), HumanMessage(content='research_supervisor', additional_kwargs={}, response_metadata={}, name='finance_agent', id='ec633f4a-d4a6-40fe-a4c3-8bbc711fe0d6'), HumanMessage(content='tavily_search', additional_kwargs={}, response_metadata={}, name='finance_agent', id='36208ad4-82f2-404a-b7ac-c605f60bc7cf'), HumanMessage(content='tavily_search', additional_kwargs={}, response_metadata={}, name='finance_agent', id='f970d5d1-60be-4fc1-9bd7-093ca586e4ac'), HumanMessage(content=\"It seems there might be some confusion or an error with your request. If you are attempting to perform a specific action or need information related to finance, please provide more context or clarify the request, and I'll be glad to assist you accordingly.\", additional_kwargs={}, response_metadata={}, name='summary_agent', id='929960f0-31a2-45fe-abf7-e935f4153c85'), HumanMessage(content='Here is a summary of the latest trends in AI and its applications in healthcare:\\n\\n**Advancements in AI Healthcare Applications:**\\n1. **Computational Biology and Bioinformatics:**\\n   - Machine learning algorithms are key in tasks like sequence analysis, protein prediction, and drug discovery. \\n   - AI enhances precision medicine and genomics by improving our understanding of complex biological systems.\\n\\n2. **Healthcare Delivery:**\\n   - AI is integrated into hospital IT systems for documentation, clinical decision support, and communication, across various medical specialties.\\n   - Focus is placed on ensuring safety, equity, and bias mitigation in these applications.\\n\\n3. **Protein Design:**\\n   - AI technologies are used for designing proteins to address diseases like cancer and antibiotic resistance, accelerating drug development and diagnostics.\\n\\n4. **Medical Advice and Diagnostics:**\\n   - AI tools provide diagnostic support, as shown by successful AI assessments of medical scans.\\n   - This application area raises ethical considerations and underscores the need for validation and oversight.\\n\\n**Challenges:**\\n- Ethical concerns, model validation, and the need for interdisciplinary collaboration are ongoing issues.\\n- Continuous oversight is essential to ensure patient safety and mitigate biases in AI applications. \\n\\nAI is revolutionizing healthcare, but these advancements come with challenges that necessitate careful management and collaborative solutions.', additional_kwargs={}, response_metadata={}, name='summary_agent', id='f4af5d25-8eb3-454a-9430-55f04f632b1f'), HumanMessage(content=\"The summary of the latest trends in AI and its applications in healthcare has been saved as a DOCX document. You can find it in the file path: 'docs_result/AI_and_Healthcare_Trends.docx'.\", additional_kwargs={}, response_metadata={}, name='document_agent', id='23362603-14fb-4c7b-a1c4-5a8cef6f042b')], 'next': 'supervisor'} ----------------\n",
      "response: {'next': '__end__'}\n",
      "command : Command(update={'next': '__end__'}, goto='__end__')\n",
      "((), {'supervisor': {'next': '__end__'}})\n"
     ]
    }
   ],
   "source": [
    "for s in app.stream({\"messages\":[(\"user\",\"I need to research the latest trends in AI and its applications in healthcare.\")]}, subgraphs=True):\n",
    "    print(s)"
   ]
  },
  {
   "cell_type": "code",
   "execution_count": 40,
   "id": "a026a587",
   "metadata": {},
   "outputs": [
    {
     "name": "stdout",
     "output_type": "stream",
     "text": [
      "---------------- Supervisor Agent invoked with state: {'messages': [HumanMessage(content='What is stock price of Apple today. What is the latest news about apple company', additional_kwargs={}, response_metadata={}, id='d381bc85-f6aa-4cc2-9d70-925be8a5de71')]} ----------------\n",
      "response: {'next': 'research_supervisor'}\n",
      "command : Command(update={'next': 'research_supervisor'}, goto='research_supervisor')\n",
      "((), {'supervisor': {'next': 'research_supervisor'}})\n",
      "---------------- Reasreach team Agent invoked with state: {'messages': [HumanMessage(content='What is stock price of Apple today. What is the latest news about apple company', additional_kwargs={}, response_metadata={}, id='d381bc85-f6aa-4cc2-9d70-925be8a5de71')], 'next': 'research_supervisor'} ----------------\n",
      "response: {'next': 'finance_agent'} \n",
      "goto: finance_agent\n",
      "command : Command(update={'next': 'finance_agent'}, goto='finance_agent')\n",
      "((), {'research_supervisor': {'next': 'finance_agent'}})\n",
      "---------------- Finance Agent invoked with state: {'messages': [HumanMessage(content='What is stock price of Apple today. What is the latest news about apple company', additional_kwargs={}, response_metadata={}, id='d381bc85-f6aa-4cc2-9d70-925be8a5de71')], 'next': 'finance_agent'} ----------------\n",
      "(('finance_agent:25afc490-198f-4b23-319d-7234cf5ca942',), {'agent': {'messages': [AIMessage(content='', additional_kwargs={'tool_calls': [{'id': 'call_nHQuy7r65LEhjwFZw1mQVAAh', 'function': {'arguments': '{\"query\": \"Apple stock price\", \"topic\": \"finance\", \"time_range\": \"day\"}', 'name': 'tavily_search'}, 'type': 'function'}, {'id': 'call_j6oHEYT28Qsf39ytNEouhtei', 'function': {'arguments': '{\"query\": \"AAPL\"}', 'name': 'yahoo_finance_news'}, 'type': 'function'}], 'refusal': None}, response_metadata={'token_usage': {'completion_tokens': 60, 'prompt_tokens': 931, 'total_tokens': 991, 'completion_tokens_details': {'accepted_prediction_tokens': 0, 'audio_tokens': 0, 'reasoning_tokens': 0, 'rejected_prediction_tokens': 0}, 'prompt_tokens_details': {'audio_tokens': 0, 'cached_tokens': 0}}, 'model_name': 'gpt-4o-2024-08-06', 'system_fingerprint': None, 'id': 'chatcmpl-BtV5WRVVBcxyhSZyWO11IBUfTrkg4', 'service_tier': 'default', 'finish_reason': 'tool_calls', 'logprobs': None}, id='run--36c6cb85-856c-4b99-a483-180f539117ce-0', tool_calls=[{'name': 'tavily_search', 'args': {'query': 'Apple stock price', 'topic': 'finance', 'time_range': 'day'}, 'id': 'call_nHQuy7r65LEhjwFZw1mQVAAh', 'type': 'tool_call'}, {'name': 'yahoo_finance_news', 'args': {'query': 'AAPL'}, 'id': 'call_j6oHEYT28Qsf39ytNEouhtei', 'type': 'tool_call'}], usage_metadata={'input_tokens': 931, 'output_tokens': 60, 'total_tokens': 991, 'input_token_details': {'audio': 0, 'cache_read': 0}, 'output_token_details': {'audio': 0, 'reasoning': 0}})]}})\n",
      "(('finance_agent:25afc490-198f-4b23-319d-7234cf5ca942',), {'tools': {'messages': [ToolMessage(content='{\"query\": \"Apple stock price\", \"follow_up_questions\": null, \"answer\": null, \"images\": [], \"results\": [{\"title\": \"Financial Analysis for AAPL\", \"url\": \"https://finance.yahoo.com/quote/AAPL/\", \"content\": \"Stock: AAPL\\\\nFinancial Analysis:\\\\nLatest Open Price: 209.93 Latest Close Price: 208.62 Highest Close Price: 258.40 Lowest Close Price: 164.01 Average Close Price (2 years): 203.12 Standard Deviation of Close Price: 23.99 Volume Traded (2 years): 28493627300 Total Return (2 years): 8.62% Annualized Return (2 years): 4.22% CAGR (2 years): 4.22% Sharpe Ratio (2 years): 0.18 Max Drawdown (2 years): 0.02% \", \"score\": 0.98048, \"raw_content\": null}, {\"url\": \"https://uk.finance.yahoo.com/quote/AAPL250711P00240000/chart/\", \"title\": \"AAPL Jul 2025 240.000 put (AAPL250711P00240000)\", \"content\": \"Interactive chart for AAPL Jul 2025 240.000 put (AAPL250711P00240000) – analyse all of the data with a huge range of indicators.\", \"score\": 0.8783249, \"raw_content\": null}, {\"url\": \"https://finance.yahoo.com/quote/AAPL.BA/news/\", \"title\": \"Apple Inc. (AAPL.BA) Latest Stock News & Headlines\", \"content\": \"Apple Inc. (NASDAQ:AAPL) is a Must-Watch AI Stock on Wall Street. On July 11, Citi analyst Atif Malik reiterated the stock as “Buy” with a $240.00 price target.\", \"score\": 0.6884899, \"raw_content\": null}, {\"url\": \"https://finance.yahoo.com/quote/AAPL.TO/\", \"title\": \"Apple Inc. (AAPL.TO) Stock Price, News, Quote & History\", \"content\": \"Find the latest Apple Inc. (AAPL.TO) stock quote, history, news and other vital information to help you with your stock trading and investing.\", \"score\": 0.45464227, \"raw_content\": null}, {\"url\": \"https://finance.yahoo.com/calendar/earnings?symbol=AAPL\", \"title\": \"Company Earnings Calendar - Yahoo Finance\", \"content\": \"AAPL. Apple Inc. October 31, 2024 at 4 PM EDT, 0.95, 0.97. +2.48. AAPL. Apple Inc. August 1, 2024 at 3 PM EDT, 1.34, 1.4. +4.36. AAPL. Apple Inc. May 2, 2024 at\", \"score\": 0.40797067, \"raw_content\": null}], \"response_time\": 2.14}', name='tavily_search', id='4f983f2b-9932-47a0-874b-98d6f09ff795', tool_call_id='call_nHQuy7r65LEhjwFZw1mQVAAh'), ToolMessage(content='Apple Undergoing Major Management Overhaul, But CEO Tim Cook To Stay On\\nApple Inc. (NASDAQ:AAPL) is in the midst of a significant management reshuffle. Despite the company’s biggest crisis in years, CEO Tim Cook remains firmly at the helm. Bloomberg\\'s Mark Gurman, in his latest weekly \"Power On” report revealed that, Jeff Williams, Tim Cook‘s longtime deputy, has announced his retirement plans, leaving no clear successor in place. Despite this, there are no signs that Cook is planning to step down or is grooming a replacement. The board, which is largely made up of\\n\\nApple (AAPL) $240 PT, Buy — Citi Sees Tariff Boost Now, AI Risks Later\\nApple Inc. (NASDAQ:AAPL) is a Must-Watch AI Stock on Wall Street. On July 11, Citi analyst Atif Malik reiterated the stock as “Buy” with a $240.00 price target. The firm said it sees some uncertainty for Apple but that it’s sticking with its buy rating. Adjusting its iPhone unit sales forecast, the investment bank now anticipates […]', name='yahoo_finance_news', id='b18ef62d-d08c-47a1-93eb-039d103a17a4', tool_call_id='call_j6oHEYT28Qsf39ytNEouhtei')]}})\n",
      "finance result: {'messages': [HumanMessage(content='What is stock price of Apple today. What is the latest news about apple company', additional_kwargs={}, response_metadata={}, id='d381bc85-f6aa-4cc2-9d70-925be8a5de71'), AIMessage(content='', additional_kwargs={'tool_calls': [{'id': 'call_nHQuy7r65LEhjwFZw1mQVAAh', 'function': {'arguments': '{\"query\": \"Apple stock price\", \"topic\": \"finance\", \"time_range\": \"day\"}', 'name': 'tavily_search'}, 'type': 'function'}, {'id': 'call_j6oHEYT28Qsf39ytNEouhtei', 'function': {'arguments': '{\"query\": \"AAPL\"}', 'name': 'yahoo_finance_news'}, 'type': 'function'}], 'refusal': None}, response_metadata={'token_usage': {'completion_tokens': 60, 'prompt_tokens': 931, 'total_tokens': 991, 'completion_tokens_details': {'accepted_prediction_tokens': 0, 'audio_tokens': 0, 'reasoning_tokens': 0, 'rejected_prediction_tokens': 0}, 'prompt_tokens_details': {'audio_tokens': 0, 'cached_tokens': 0}}, 'model_name': 'gpt-4o-2024-08-06', 'system_fingerprint': None, 'id': 'chatcmpl-BtV5WRVVBcxyhSZyWO11IBUfTrkg4', 'service_tier': 'default', 'finish_reason': 'tool_calls', 'logprobs': None}, id='run--36c6cb85-856c-4b99-a483-180f539117ce-0', tool_calls=[{'name': 'tavily_search', 'args': {'query': 'Apple stock price', 'topic': 'finance', 'time_range': 'day'}, 'id': 'call_nHQuy7r65LEhjwFZw1mQVAAh', 'type': 'tool_call'}, {'name': 'yahoo_finance_news', 'args': {'query': 'AAPL'}, 'id': 'call_j6oHEYT28Qsf39ytNEouhtei', 'type': 'tool_call'}], usage_metadata={'input_tokens': 931, 'output_tokens': 60, 'total_tokens': 991, 'input_token_details': {'audio': 0, 'cache_read': 0}, 'output_token_details': {'audio': 0, 'reasoning': 0}}), ToolMessage(content='{\"query\": \"Apple stock price\", \"follow_up_questions\": null, \"answer\": null, \"images\": [], \"results\": [{\"title\": \"Financial Analysis for AAPL\", \"url\": \"https://finance.yahoo.com/quote/AAPL/\", \"content\": \"Stock: AAPL\\\\nFinancial Analysis:\\\\nLatest Open Price: 209.93 Latest Close Price: 208.62 Highest Close Price: 258.40 Lowest Close Price: 164.01 Average Close Price (2 years): 203.12 Standard Deviation of Close Price: 23.99 Volume Traded (2 years): 28493627300 Total Return (2 years): 8.62% Annualized Return (2 years): 4.22% CAGR (2 years): 4.22% Sharpe Ratio (2 years): 0.18 Max Drawdown (2 years): 0.02% \", \"score\": 0.98048, \"raw_content\": null}, {\"url\": \"https://uk.finance.yahoo.com/quote/AAPL250711P00240000/chart/\", \"title\": \"AAPL Jul 2025 240.000 put (AAPL250711P00240000)\", \"content\": \"Interactive chart for AAPL Jul 2025 240.000 put (AAPL250711P00240000) – analyse all of the data with a huge range of indicators.\", \"score\": 0.8783249, \"raw_content\": null}, {\"url\": \"https://finance.yahoo.com/quote/AAPL.BA/news/\", \"title\": \"Apple Inc. (AAPL.BA) Latest Stock News & Headlines\", \"content\": \"Apple Inc. (NASDAQ:AAPL) is a Must-Watch AI Stock on Wall Street. On July 11, Citi analyst Atif Malik reiterated the stock as “Buy” with a $240.00 price target.\", \"score\": 0.6884899, \"raw_content\": null}, {\"url\": \"https://finance.yahoo.com/quote/AAPL.TO/\", \"title\": \"Apple Inc. (AAPL.TO) Stock Price, News, Quote & History\", \"content\": \"Find the latest Apple Inc. (AAPL.TO) stock quote, history, news and other vital information to help you with your stock trading and investing.\", \"score\": 0.45464227, \"raw_content\": null}, {\"url\": \"https://finance.yahoo.com/calendar/earnings?symbol=AAPL\", \"title\": \"Company Earnings Calendar - Yahoo Finance\", \"content\": \"AAPL. Apple Inc. October 31, 2024 at 4 PM EDT, 0.95, 0.97. +2.48. AAPL. Apple Inc. August 1, 2024 at 3 PM EDT, 1.34, 1.4. +4.36. AAPL. Apple Inc. May 2, 2024 at\", \"score\": 0.40797067, \"raw_content\": null}], \"response_time\": 2.14}', name='tavily_search', id='4f983f2b-9932-47a0-874b-98d6f09ff795', tool_call_id='call_nHQuy7r65LEhjwFZw1mQVAAh'), ToolMessage(content='Apple Undergoing Major Management Overhaul, But CEO Tim Cook To Stay On\\nApple Inc. (NASDAQ:AAPL) is in the midst of a significant management reshuffle. Despite the company’s biggest crisis in years, CEO Tim Cook remains firmly at the helm. Bloomberg\\'s Mark Gurman, in his latest weekly \"Power On” report revealed that, Jeff Williams, Tim Cook‘s longtime deputy, has announced his retirement plans, leaving no clear successor in place. Despite this, there are no signs that Cook is planning to step down or is grooming a replacement. The board, which is largely made up of\\n\\nApple (AAPL) $240 PT, Buy — Citi Sees Tariff Boost Now, AI Risks Later\\nApple Inc. (NASDAQ:AAPL) is a Must-Watch AI Stock on Wall Street. On July 11, Citi analyst Atif Malik reiterated the stock as “Buy” with a $240.00 price target. The firm said it sees some uncertainty for Apple but that it’s sticking with its buy rating. Adjusting its iPhone unit sales forecast, the investment bank now anticipates […]', name='yahoo_finance_news', id='b18ef62d-d08c-47a1-93eb-039d103a17a4', tool_call_id='call_j6oHEYT28Qsf39ytNEouhtei'), AIMessage(content='### Stock Price of Apple (AAPL) Today\\n\\n- **Latest Open Price:** $209.93\\n- **Latest Close Price:** $208.62\\n\\nFor more detailed financial information about Apple, you can visit [Yahoo Finance\\'s page on Apple](https://finance.yahoo.com/quote/AAPL/).\\n\\n### Latest News about Apple\\n\\n1. **Management Overhaul:**\\n   - Apple is undergoing a major management reshuffle. Jeff Williams, the longtime deputy to CEO Tim Cook, has announced his retirement plans. Despite these shifts, Tim Cook intends to stay on as CEO, with no clear successor in place as of now. This information was reported by Bloomberg\\'s Mark Gurman in his weekly \"Power On\" report.\\n\\n2. **Stock Rating and Predictions:**\\n   - Citi analyst Atif Malik has reiterated a \"Buy\" rating for Apple with a $240 price target. The firm acknowledges some uncertainties but remains optimistic about Apple\\'s performance, particularly considering its AI potential.\\n\\nFor further details and updates on Apple, you might want to check [Yahoo Finance\\'s news section on Apple](https://finance.yahoo.com/quote/AAPL.BA/news/).', additional_kwargs={'refusal': None}, response_metadata={'token_usage': {'completion_tokens': 234, 'prompt_tokens': 1901, 'total_tokens': 2135, 'completion_tokens_details': {'accepted_prediction_tokens': 0, 'audio_tokens': 0, 'reasoning_tokens': 0, 'rejected_prediction_tokens': 0}, 'prompt_tokens_details': {'audio_tokens': 0, 'cached_tokens': 0}}, 'model_name': 'gpt-4o-2024-08-06', 'system_fingerprint': None, 'id': 'chatcmpl-BtV63JG7ajt4vg0SZKkJHRURRgv6G', 'service_tier': 'default', 'finish_reason': 'stop', 'logprobs': None}, id='run--badab1b7-e848-4b0e-bf5f-42888730baa4-0', usage_metadata={'input_tokens': 1901, 'output_tokens': 234, 'total_tokens': 2135, 'input_token_details': {'audio': 0, 'cache_read': 0}, 'output_token_details': {'audio': 0, 'reasoning': 0}})]}\n",
      "(('finance_agent:25afc490-198f-4b23-319d-7234cf5ca942',), {'agent': {'messages': [AIMessage(content='### Stock Price of Apple (AAPL) Today\\n\\n- **Latest Open Price:** $209.93\\n- **Latest Close Price:** $208.62\\n\\nFor more detailed financial information about Apple, you can visit [Yahoo Finance\\'s page on Apple](https://finance.yahoo.com/quote/AAPL/).\\n\\n### Latest News about Apple\\n\\n1. **Management Overhaul:**\\n   - Apple is undergoing a major management reshuffle. Jeff Williams, the longtime deputy to CEO Tim Cook, has announced his retirement plans. Despite these shifts, Tim Cook intends to stay on as CEO, with no clear successor in place as of now. This information was reported by Bloomberg\\'s Mark Gurman in his weekly \"Power On\" report.\\n\\n2. **Stock Rating and Predictions:**\\n   - Citi analyst Atif Malik has reiterated a \"Buy\" rating for Apple with a $240 price target. The firm acknowledges some uncertainties but remains optimistic about Apple\\'s performance, particularly considering its AI potential.\\n\\nFor further details and updates on Apple, you might want to check [Yahoo Finance\\'s news section on Apple](https://finance.yahoo.com/quote/AAPL.BA/news/).', additional_kwargs={'refusal': None}, response_metadata={'token_usage': {'completion_tokens': 234, 'prompt_tokens': 1901, 'total_tokens': 2135, 'completion_tokens_details': {'accepted_prediction_tokens': 0, 'audio_tokens': 0, 'reasoning_tokens': 0, 'rejected_prediction_tokens': 0}, 'prompt_tokens_details': {'audio_tokens': 0, 'cached_tokens': 0}}, 'model_name': 'gpt-4o-2024-08-06', 'system_fingerprint': None, 'id': 'chatcmpl-BtV63JG7ajt4vg0SZKkJHRURRgv6G', 'service_tier': 'default', 'finish_reason': 'stop', 'logprobs': None}, id='run--badab1b7-e848-4b0e-bf5f-42888730baa4-0', usage_metadata={'input_tokens': 1901, 'output_tokens': 234, 'total_tokens': 2135, 'input_token_details': {'audio': 0, 'cache_read': 0}, 'output_token_details': {'audio': 0, 'reasoning': 0}})]}})\n",
      "((), {'finance_agent': {'messages': [HumanMessage(content='### Stock Price of Apple (AAPL) Today\\n\\n- **Latest Open Price:** $209.93\\n- **Latest Close Price:** $208.62\\n\\nFor more detailed financial information about Apple, you can visit [Yahoo Finance\\'s page on Apple](https://finance.yahoo.com/quote/AAPL/).\\n\\n### Latest News about Apple\\n\\n1. **Management Overhaul:**\\n   - Apple is undergoing a major management reshuffle. Jeff Williams, the longtime deputy to CEO Tim Cook, has announced his retirement plans. Despite these shifts, Tim Cook intends to stay on as CEO, with no clear successor in place as of now. This information was reported by Bloomberg\\'s Mark Gurman in his weekly \"Power On\" report.\\n\\n2. **Stock Rating and Predictions:**\\n   - Citi analyst Atif Malik has reiterated a \"Buy\" rating for Apple with a $240 price target. The firm acknowledges some uncertainties but remains optimistic about Apple\\'s performance, particularly considering its AI potential.\\n\\nFor further details and updates on Apple, you might want to check [Yahoo Finance\\'s news section on Apple](https://finance.yahoo.com/quote/AAPL.BA/news/).', additional_kwargs={}, response_metadata={}, name='finance_agent')]}})\n",
      "---------------- Reasreach team Agent invoked with state: {'messages': [HumanMessage(content='What is stock price of Apple today. What is the latest news about apple company', additional_kwargs={}, response_metadata={}, id='d381bc85-f6aa-4cc2-9d70-925be8a5de71'), HumanMessage(content='### Stock Price of Apple (AAPL) Today\\n\\n- **Latest Open Price:** $209.93\\n- **Latest Close Price:** $208.62\\n\\nFor more detailed financial information about Apple, you can visit [Yahoo Finance\\'s page on Apple](https://finance.yahoo.com/quote/AAPL/).\\n\\n### Latest News about Apple\\n\\n1. **Management Overhaul:**\\n   - Apple is undergoing a major management reshuffle. Jeff Williams, the longtime deputy to CEO Tim Cook, has announced his retirement plans. Despite these shifts, Tim Cook intends to stay on as CEO, with no clear successor in place as of now. This information was reported by Bloomberg\\'s Mark Gurman in his weekly \"Power On\" report.\\n\\n2. **Stock Rating and Predictions:**\\n   - Citi analyst Atif Malik has reiterated a \"Buy\" rating for Apple with a $240 price target. The firm acknowledges some uncertainties but remains optimistic about Apple\\'s performance, particularly considering its AI potential.\\n\\nFor further details and updates on Apple, you might want to check [Yahoo Finance\\'s news section on Apple](https://finance.yahoo.com/quote/AAPL.BA/news/).', additional_kwargs={}, response_metadata={}, name='finance_agent', id='9dd55b69-da84-442f-829f-451fb8f9e60d')], 'next': 'finance_agent'} ----------------\n",
      "response: {'next': 'medical_agent'} \n",
      "goto: medical_agent\n",
      "command : Command(update={'next': 'medical_agent'}, goto='medical_agent')\n",
      "((), {'research_supervisor': {'next': 'medical_agent'}})\n",
      "---------------- Medical Agent invoked with state: {'messages': [HumanMessage(content='What is stock price of Apple today. What is the latest news about apple company', additional_kwargs={}, response_metadata={}, id='d381bc85-f6aa-4cc2-9d70-925be8a5de71'), HumanMessage(content='### Stock Price of Apple (AAPL) Today\\n\\n- **Latest Open Price:** $209.93\\n- **Latest Close Price:** $208.62\\n\\nFor more detailed financial information about Apple, you can visit [Yahoo Finance\\'s page on Apple](https://finance.yahoo.com/quote/AAPL/).\\n\\n### Latest News about Apple\\n\\n1. **Management Overhaul:**\\n   - Apple is undergoing a major management reshuffle. Jeff Williams, the longtime deputy to CEO Tim Cook, has announced his retirement plans. Despite these shifts, Tim Cook intends to stay on as CEO, with no clear successor in place as of now. This information was reported by Bloomberg\\'s Mark Gurman in his weekly \"Power On\" report.\\n\\n2. **Stock Rating and Predictions:**\\n   - Citi analyst Atif Malik has reiterated a \"Buy\" rating for Apple with a $240 price target. The firm acknowledges some uncertainties but remains optimistic about Apple\\'s performance, particularly considering its AI potential.\\n\\nFor further details and updates on Apple, you might want to check [Yahoo Finance\\'s news section on Apple](https://finance.yahoo.com/quote/AAPL.BA/news/).', additional_kwargs={}, response_metadata={}, name='finance_agent', id='9dd55b69-da84-442f-829f-451fb8f9e60d')], 'next': 'medical_agent'} ----------------\n",
      "(('medical_agent:3a5536cb-dc82-b4ae-3b80-1d53e1600110',), {'agent': {'messages': [AIMessage(content='', additional_kwargs={'tool_calls': [{'id': 'call_nm20qsNFA11IsiWWAppbwnFx', 'function': {'arguments': '{\"query\": \"Apple Inc latest news\", \"topic\": \"news\"}', 'name': 'tavily_search'}, 'type': 'function'}, {'id': 'call_Xb82BqhbmRysUypALgt9YPB1', 'function': {'arguments': '{\"query\": \"Apple Inc stock price today\", \"topic\": \"finance\"}', 'name': 'tavily_search'}, 'type': 'function'}], 'refusal': None}, response_metadata={'token_usage': {'completion_tokens': 63, 'prompt_tokens': 1285, 'total_tokens': 1348, 'completion_tokens_details': {'accepted_prediction_tokens': 0, 'audio_tokens': 0, 'reasoning_tokens': 0, 'rejected_prediction_tokens': 0}, 'prompt_tokens_details': {'audio_tokens': 0, 'cached_tokens': 0}}, 'model_name': 'gpt-4o-2024-08-06', 'system_fingerprint': None, 'id': 'chatcmpl-BtV69sMYgfamrCda8sw38zcuSTWfc', 'service_tier': 'default', 'finish_reason': 'tool_calls', 'logprobs': None}, id='run--1a75798e-ed36-46e9-8aa7-18116073fde9-0', tool_calls=[{'name': 'tavily_search', 'args': {'query': 'Apple Inc latest news', 'topic': 'news'}, 'id': 'call_nm20qsNFA11IsiWWAppbwnFx', 'type': 'tool_call'}, {'name': 'tavily_search', 'args': {'query': 'Apple Inc stock price today', 'topic': 'finance'}, 'id': 'call_Xb82BqhbmRysUypALgt9YPB1', 'type': 'tool_call'}], usage_metadata={'input_tokens': 1285, 'output_tokens': 63, 'total_tokens': 1348, 'input_token_details': {'audio': 0, 'cache_read': 0}, 'output_token_details': {'audio': 0, 'reasoning': 0}})]}})\n",
      "(('medical_agent:3a5536cb-dc82-b4ae-3b80-1d53e1600110',), {'tools': {'messages': [ToolMessage(content='{\"query\": \"Apple Inc latest news\", \"follow_up_questions\": null, \"answer\": null, \"images\": [], \"results\": [{\"url\": \"https://www.newsfilecorp.com/release/258608/AAPL-FRAUD-Contact-BFA-Law-by-August-19-Court-Deadline-if-You-Suffered-Losses-on-Your-Apple-Inc.-Investment\", \"title\": \"AAPL FRAUD: Contact BFA Law by August 19 Court Deadline if You Suffered Losses on Your Apple Inc. Investment - Newsfile\", \"score\": 0.599087, \"published_date\": \"Sun, 13 Jul 2025 11:08:00 GMT\", \"content\": \"AAPL FRAUD: Contact BFA Law by August 19 Court Deadline if You Suffered Losses on Your Apple Inc. Investment AAPL FRAUD: Contact BFA Law by August 19 Court Deadline if You Suffered Losses on Your Apple Inc. Investment - July 13, 2025) - Leading securities law firm **Bleichmar Fonti & Auld LLP** announces that a lawsuit has been filed against Apple Inc. If you invested in Apple, you are encouraged to obtain additional information by visiting: **https://www.bfalaw.com/cases-investigations/apple-inc-class-action-lawsuit****.** Sign up to receive news releases by email for Bleichmar Fonti & Auld or all companies belonging to the Banking/Financial Services, Investment Banking industries. *   HIMS FRAUD: Contact BFA Law by August 25 Court Deadline if You Suffered Losses on Your Hims & Hers Health, Inc. Investment\", \"raw_content\": null}, {\"url\": \"https://www.globenewswire.com/news-release/2025/07/13/3114451/0/en/VRA-Investor-News-If-You-Have-Suffered-Losses-in-Vera-Bradley-Inc-NASDAQ-VRA-You-Are-Encouraged-to-Contact-The-Rosen-Law-Firm-About-Your-Rights.html\", \"title\": \"VRA Investor News: If You Have Suffered Losses in Vera - GlobeNewswire\", \"score\": 0.51076555, \"published_date\": \"Sun, 13 Jul 2025 18:32:17 GMT\", \"content\": \"(NYSE: SLQT), You Are Encouraged to Contact The Rosen Law Firm About Your Rights NEW YORK, July 13, 2025 (GLOBE NEWSWIRE) -- WHY: Rosen Law Firm, a global investor rights law firm, continues to investigate potential securities claims on behalf of shareholders of SelectQuote,... Read More   Image 4: ROSEN, TOP RANKED INVESTOR COUNSEL, Encourages Apple Inc. Investors to Secure Counsel Before Important Deadline in Securities Class Action – AAPL   *   July 13, 2025 14:23 ET|Source: The Rosen Law Firm PA ROSEN, TOP RANKED INVESTOR COUNSEL, Encourages Apple Inc. Investors to Secure Counsel Before Important Deadline in Securities Class Action – AAPL NEW YORK, July 13, 2025 (GLOBE NEWSWIRE) -- WHY:Rosen Law Firm, a global investor rights law firm, reminds purchasers of securities of Apple Inc.\", \"raw_content\": null}, {\"url\": \"https://www.macrumors.com/2025/07/14/research-firm-says-tim-cook-should-be-replaced/\", \"title\": \"Apple CEO Tim Cook Should Be Replaced, Research Firm Says - MacRumors\", \"score\": 0.49245724, \"published_date\": \"Tue, 15 Jul 2025 02:33:51 GMT\", \"content\": \"*   Apple Watch 10Image 13 *   Apple Watch Ultra 2Image 15 *   iPhone 15Image 28 *   iPhone 16Image 29 *   iPhone 17Image 32 *   iPhone 18Image 35 Image 49: apple tv 4k new orange Image 51: iphone 16 pro ghost hand Apple will launch its new iPhone 17 series in two months, and the iPhone 17 Pro models are expected to get a new design for the rear casing and the camera area. Image 53: iPhone 17 Pro in Hand Feature Lowgo Image 55: Apple Watch Ultra 2 Complications Image 67: Apple Hornsby Image 69: apple intelligence black everything you need to know Image 76: iPhone 17 Pro in Hand Feature Lowgo Image 77: iPhone 17 Pro in Hand Feature Lowgo\", \"raw_content\": null}, {\"url\": \"https://9to5mac.com/2025/07/11/leaker-teases-dynamic-islands-significant-evolution-ahead/\", \"title\": \"Leaker teases Dynamic Island’s ‘significant evolution’ ahead - 9to5Mac\", \"score\": 0.4574039, \"published_date\": \"Fri, 11 Jul 2025 19:32:00 GMT\", \"content\": \"*   Apple One Perhaps as we move closer to an all-screen iPhone, with no cutout, Apple intends to evolve the Dynamic Island’s functionality in new ways too. *   Image 4### Apple planning new Mac external display, MacBooks, iPads, and more for early 2026 *   Image 6### Rumor Replay: iPhone 17 Air colors, Apple’s 2026 lineup, and more *   Image 10: Amazon-Prime-Day-Apple deals### Apple Prime Day deals: AirPods, iPad, MacBook Air, iPhone 16 Pro, more For two years he co-hosted the Adapt podcast on Relay FM, which focused entirely on the iPad. As a result, it should come as no surprise that his favorite Apple device is the iPad Pro.\", \"raw_content\": null}, {\"url\": \"https://9to5mac.com/2025/07/11/new-homepad-product-gets-fresh-launch-timing-update/\", \"title\": \"New ‘HomePad’ product gets fresh launch timing update - 9to5Mac\", \"score\": 0.4511578, \"published_date\": \"Fri, 11 Jul 2025 15:33:00 GMT\", \"content\": \"*   Apple Watch *   Apple Store *   Apple One If you’re interested in Apple’s smart home products, one of the most highly anticipated debuts is a brand new ‘HomePad,’ and this cross between an iPad and HomePod just got a launch timing update via _Bloomberg_. Apple has confirmed that Siri’s AI upgrades won’t arrive before 2026, and now Gurman believes the HomePad is coming in the first half of 2026 too. *   Image 5### Apple planning new Mac external display, MacBooks, iPads, and more for early 2026 *   Image 7### Rumor Replay: iPhone 17 Air colors, Apple’s 2026 lineup, and more *   Image 11: Amazon-Prime-Day-Apple deals### Apple Prime Day deals: AirPods, iPad, MacBook Air, iPhone 16 Pro, more Check out 9to5Mac on YouTube for more Apple news:\", \"raw_content\": null}], \"response_time\": 0.7}', name='tavily_search', id='e1a90e16-89d4-4247-af7b-3c85ad67ba7d', tool_call_id='call_nm20qsNFA11IsiWWAppbwnFx'), ToolMessage(content='{\"query\": \"Apple Inc stock price today\", \"follow_up_questions\": null, \"answer\": null, \"images\": [], \"results\": [{\"title\": \"Financial Analysis for AAPL\", \"url\": \"https://finance.yahoo.com/quote/AAPL/\", \"content\": \"Stock: AAPL\\\\nFinancial Analysis:\\\\nLatest Open Price: 209.93 Latest Close Price: 208.62 Highest Close Price: 258.40 Lowest Close Price: 164.01 Average Close Price (2 years): 203.12 Standard Deviation of Close Price: 23.99 Volume Traded (2 years): 28493627300 Total Return (2 years): 8.62% Annualized Return (2 years): 4.22% CAGR (2 years): 4.22% Sharpe Ratio (2 years): 0.18 Max Drawdown (2 years): 0.02% \", \"score\": 0.9875, \"raw_content\": null}, {\"url\": \"https://www.wsj.com/market-data/quotes/AAPL\", \"title\": \"Apple Inc. (AAPL) Stock Price Today - WSJ\", \"content\": \"Apple Inc. · AT CLOSE 4:00 PM EDT 07/11/25 · 211.16USD · -1.25-0.59% · Volume39,765,812. PRE MARKET 7:13 AM\", \"score\": 0.8830044, \"raw_content\": null}, {\"url\": \"https://ca.finance.yahoo.com/quote/AAPL/news/\", \"title\": \"Apple Inc. (AAPL) Latest Stock News & Headlines\", \"content\": \"Apple (AAPL) Stock Slides as Market Rises: Facts to Know Before You Trade. Apple (AAPL) reached $208.62 at the closing of the latest trading day, reflecting a -\", \"score\": 0.7178241, \"raw_content\": null}, {\"url\": \"https://ca.finance.yahoo.com/quote/AAPL/history/\", \"title\": \"Apple Inc. (AAPL) Stock Historical Prices & Data\", \"content\": \"Apple Inc. 208.43 -0.09%. Summary · News · Research · Chart · Community · Statistics · Historical Data · Profile · Financials · Analysis · Options · Holders\", \"score\": 0.6803909, \"raw_content\": null}, {\"url\": \"https://ca.finance.yahoo.com/quote/AAPL/\", \"title\": \"Apple Inc. (AAPL) Stock Price, News, Quote & History\", \"content\": \"Find the latest Apple Inc. (AAPL) stock quote, history, news and other vital information to help you with your stock trading and investing.\", \"score\": 0.52670854, \"raw_content\": null}], \"response_time\": 2.15}', name='tavily_search', id='50655ca7-ea4d-4a11-9774-85cbce80f893', tool_call_id='call_Xb82BqhbmRysUypALgt9YPB1')]}})\n",
      "command : Command(update={'messages': [HumanMessage(content=\"### Stock Price of Apple (AAPL) Today\\n\\n- **Latest Open Price:** $209.93\\n- **Latest Close Price:** $208.62\\n\\nFor more detailed financial information about Apple, you can visit [Yahoo Finance's page on Apple](https://finance.yahoo.com/quote/AAPL/).\\n\\n### Latest News about Apple\\n\\n1. **Lawsuit Against Apple:**\\n   - A lawsuit has been filed against Apple Inc. by Bleichmar Fonti & Auld LLP. Investors who have suffered losses are encouraged to contact the law firm before the court deadline. More details can be found in the [Newsfile article](https://www.newsfilecorp.com/release/258608/AAPL-FRAUD-Contact-BFA-Law-by-August-19-Court-Deadline-if-You-Suffered-Losses-on-Your-Apple-Inc.-Investment).\\n\\n2. **Management Speculations:**\\n   - A research firm has opined that Apple CEO Tim Cook should be replaced, possibly indicating underlying management challenges. This view was reported by [MacRumors](https://www.macrumors.com/2025/07/14/research-firm-says-tim-cook-should-be-replaced/).\\n\\n3. **Product Innovations:**\\n   - New developments are anticipated in Apple’s Dynamic Island functionality as well as the introduction of a novel 'HomePad' product, which merges an iPad and HomePod. This update has been reported by [9to5Mac](https://9to5mac.com/2025/07/11/new-homepad-product-gets-fresh-launch-timing-update/). \\n\\nThese highlights reflect recent news and legal proceedings related to Apple, as well as innovations in their product lineup.\", additional_kwargs={}, response_metadata={}, name='medical_agent')]}, goto='research_supervisor')\n",
      "(('medical_agent:3a5536cb-dc82-b4ae-3b80-1d53e1600110',), {'agent': {'messages': [AIMessage(content=\"### Stock Price of Apple (AAPL) Today\\n\\n- **Latest Open Price:** $209.93\\n- **Latest Close Price:** $208.62\\n\\nFor more detailed financial information about Apple, you can visit [Yahoo Finance's page on Apple](https://finance.yahoo.com/quote/AAPL/).\\n\\n### Latest News about Apple\\n\\n1. **Lawsuit Against Apple:**\\n   - A lawsuit has been filed against Apple Inc. by Bleichmar Fonti & Auld LLP. Investors who have suffered losses are encouraged to contact the law firm before the court deadline. More details can be found in the [Newsfile article](https://www.newsfilecorp.com/release/258608/AAPL-FRAUD-Contact-BFA-Law-by-August-19-Court-Deadline-if-You-Suffered-Losses-on-Your-Apple-Inc.-Investment).\\n\\n2. **Management Speculations:**\\n   - A research firm has opined that Apple CEO Tim Cook should be replaced, possibly indicating underlying management challenges. This view was reported by [MacRumors](https://www.macrumors.com/2025/07/14/research-firm-says-tim-cook-should-be-replaced/).\\n\\n3. **Product Innovations:**\\n   - New developments are anticipated in Apple’s Dynamic Island functionality as well as the introduction of a novel 'HomePad' product, which merges an iPad and HomePod. This update has been reported by [9to5Mac](https://9to5mac.com/2025/07/11/new-homepad-product-gets-fresh-launch-timing-update/). \\n\\nThese highlights reflect recent news and legal proceedings related to Apple, as well as innovations in their product lineup.\", additional_kwargs={'refusal': None}, response_metadata={'token_usage': {'completion_tokens': 358, 'prompt_tokens': 3604, 'total_tokens': 3962, 'completion_tokens_details': {'accepted_prediction_tokens': 0, 'audio_tokens': 0, 'reasoning_tokens': 0, 'rejected_prediction_tokens': 0}, 'prompt_tokens_details': {'audio_tokens': 0, 'cached_tokens': 1280}}, 'model_name': 'gpt-4o-2024-08-06', 'system_fingerprint': None, 'id': 'chatcmpl-BtV6Dl2NvuCLKWnHPTWygkINYF1s6', 'service_tier': 'default', 'finish_reason': 'stop', 'logprobs': None}, id='run--6cf378d4-b413-4f8c-9356-fdad008f11a9-0', usage_metadata={'input_tokens': 3604, 'output_tokens': 358, 'total_tokens': 3962, 'input_token_details': {'audio': 0, 'cache_read': 1280}, 'output_token_details': {'audio': 0, 'reasoning': 0}})]}})\n",
      "((), {'medical_agent': {'messages': [HumanMessage(content=\"### Stock Price of Apple (AAPL) Today\\n\\n- **Latest Open Price:** $209.93\\n- **Latest Close Price:** $208.62\\n\\nFor more detailed financial information about Apple, you can visit [Yahoo Finance's page on Apple](https://finance.yahoo.com/quote/AAPL/).\\n\\n### Latest News about Apple\\n\\n1. **Lawsuit Against Apple:**\\n   - A lawsuit has been filed against Apple Inc. by Bleichmar Fonti & Auld LLP. Investors who have suffered losses are encouraged to contact the law firm before the court deadline. More details can be found in the [Newsfile article](https://www.newsfilecorp.com/release/258608/AAPL-FRAUD-Contact-BFA-Law-by-August-19-Court-Deadline-if-You-Suffered-Losses-on-Your-Apple-Inc.-Investment).\\n\\n2. **Management Speculations:**\\n   - A research firm has opined that Apple CEO Tim Cook should be replaced, possibly indicating underlying management challenges. This view was reported by [MacRumors](https://www.macrumors.com/2025/07/14/research-firm-says-tim-cook-should-be-replaced/).\\n\\n3. **Product Innovations:**\\n   - New developments are anticipated in Apple’s Dynamic Island functionality as well as the introduction of a novel 'HomePad' product, which merges an iPad and HomePod. This update has been reported by [9to5Mac](https://9to5mac.com/2025/07/11/new-homepad-product-gets-fresh-launch-timing-update/). \\n\\nThese highlights reflect recent news and legal proceedings related to Apple, as well as innovations in their product lineup.\", additional_kwargs={}, response_metadata={}, name='medical_agent')]}})\n",
      "---------------- Reasreach team Agent invoked with state: {'messages': [HumanMessage(content='What is stock price of Apple today. What is the latest news about apple company', additional_kwargs={}, response_metadata={}, id='d381bc85-f6aa-4cc2-9d70-925be8a5de71'), HumanMessage(content='### Stock Price of Apple (AAPL) Today\\n\\n- **Latest Open Price:** $209.93\\n- **Latest Close Price:** $208.62\\n\\nFor more detailed financial information about Apple, you can visit [Yahoo Finance\\'s page on Apple](https://finance.yahoo.com/quote/AAPL/).\\n\\n### Latest News about Apple\\n\\n1. **Management Overhaul:**\\n   - Apple is undergoing a major management reshuffle. Jeff Williams, the longtime deputy to CEO Tim Cook, has announced his retirement plans. Despite these shifts, Tim Cook intends to stay on as CEO, with no clear successor in place as of now. This information was reported by Bloomberg\\'s Mark Gurman in his weekly \"Power On\" report.\\n\\n2. **Stock Rating and Predictions:**\\n   - Citi analyst Atif Malik has reiterated a \"Buy\" rating for Apple with a $240 price target. The firm acknowledges some uncertainties but remains optimistic about Apple\\'s performance, particularly considering its AI potential.\\n\\nFor further details and updates on Apple, you might want to check [Yahoo Finance\\'s news section on Apple](https://finance.yahoo.com/quote/AAPL.BA/news/).', additional_kwargs={}, response_metadata={}, name='finance_agent', id='9dd55b69-da84-442f-829f-451fb8f9e60d'), HumanMessage(content=\"### Stock Price of Apple (AAPL) Today\\n\\n- **Latest Open Price:** $209.93\\n- **Latest Close Price:** $208.62\\n\\nFor more detailed financial information about Apple, you can visit [Yahoo Finance's page on Apple](https://finance.yahoo.com/quote/AAPL/).\\n\\n### Latest News about Apple\\n\\n1. **Lawsuit Against Apple:**\\n   - A lawsuit has been filed against Apple Inc. by Bleichmar Fonti & Auld LLP. Investors who have suffered losses are encouraged to contact the law firm before the court deadline. More details can be found in the [Newsfile article](https://www.newsfilecorp.com/release/258608/AAPL-FRAUD-Contact-BFA-Law-by-August-19-Court-Deadline-if-You-Suffered-Losses-on-Your-Apple-Inc.-Investment).\\n\\n2. **Management Speculations:**\\n   - A research firm has opined that Apple CEO Tim Cook should be replaced, possibly indicating underlying management challenges. This view was reported by [MacRumors](https://www.macrumors.com/2025/07/14/research-firm-says-tim-cook-should-be-replaced/).\\n\\n3. **Product Innovations:**\\n   - New developments are anticipated in Apple’s Dynamic Island functionality as well as the introduction of a novel 'HomePad' product, which merges an iPad and HomePod. This update has been reported by [9to5Mac](https://9to5mac.com/2025/07/11/new-homepad-product-gets-fresh-launch-timing-update/). \\n\\nThese highlights reflect recent news and legal proceedings related to Apple, as well as innovations in their product lineup.\", additional_kwargs={}, response_metadata={}, name='medical_agent', id='8a38779c-5b2b-434b-a242-73c98933e21a')], 'next': 'medical_agent'} ----------------\n",
      "response: {'next': 'FINISH'} \n",
      "goto: FINISH\n",
      "command : Command(update={'next': 'supervisor'}, goto='supervisor')\n",
      "((), {'research_supervisor': {'next': 'supervisor'}})\n",
      "---------------- Supervisor Agent invoked with state: {'messages': [HumanMessage(content='What is stock price of Apple today. What is the latest news about apple company', additional_kwargs={}, response_metadata={}, id='d381bc85-f6aa-4cc2-9d70-925be8a5de71'), HumanMessage(content='### Stock Price of Apple (AAPL) Today\\n\\n- **Latest Open Price:** $209.93\\n- **Latest Close Price:** $208.62\\n\\nFor more detailed financial information about Apple, you can visit [Yahoo Finance\\'s page on Apple](https://finance.yahoo.com/quote/AAPL/).\\n\\n### Latest News about Apple\\n\\n1. **Management Overhaul:**\\n   - Apple is undergoing a major management reshuffle. Jeff Williams, the longtime deputy to CEO Tim Cook, has announced his retirement plans. Despite these shifts, Tim Cook intends to stay on as CEO, with no clear successor in place as of now. This information was reported by Bloomberg\\'s Mark Gurman in his weekly \"Power On\" report.\\n\\n2. **Stock Rating and Predictions:**\\n   - Citi analyst Atif Malik has reiterated a \"Buy\" rating for Apple with a $240 price target. The firm acknowledges some uncertainties but remains optimistic about Apple\\'s performance, particularly considering its AI potential.\\n\\nFor further details and updates on Apple, you might want to check [Yahoo Finance\\'s news section on Apple](https://finance.yahoo.com/quote/AAPL.BA/news/).', additional_kwargs={}, response_metadata={}, name='finance_agent', id='9dd55b69-da84-442f-829f-451fb8f9e60d'), HumanMessage(content=\"### Stock Price of Apple (AAPL) Today\\n\\n- **Latest Open Price:** $209.93\\n- **Latest Close Price:** $208.62\\n\\nFor more detailed financial information about Apple, you can visit [Yahoo Finance's page on Apple](https://finance.yahoo.com/quote/AAPL/).\\n\\n### Latest News about Apple\\n\\n1. **Lawsuit Against Apple:**\\n   - A lawsuit has been filed against Apple Inc. by Bleichmar Fonti & Auld LLP. Investors who have suffered losses are encouraged to contact the law firm before the court deadline. More details can be found in the [Newsfile article](https://www.newsfilecorp.com/release/258608/AAPL-FRAUD-Contact-BFA-Law-by-August-19-Court-Deadline-if-You-Suffered-Losses-on-Your-Apple-Inc.-Investment).\\n\\n2. **Management Speculations:**\\n   - A research firm has opined that Apple CEO Tim Cook should be replaced, possibly indicating underlying management challenges. This view was reported by [MacRumors](https://www.macrumors.com/2025/07/14/research-firm-says-tim-cook-should-be-replaced/).\\n\\n3. **Product Innovations:**\\n   - New developments are anticipated in Apple’s Dynamic Island functionality as well as the introduction of a novel 'HomePad' product, which merges an iPad and HomePod. This update has been reported by [9to5Mac](https://9to5mac.com/2025/07/11/new-homepad-product-gets-fresh-launch-timing-update/). \\n\\nThese highlights reflect recent news and legal proceedings related to Apple, as well as innovations in their product lineup.\", additional_kwargs={}, response_metadata={}, name='medical_agent', id='8a38779c-5b2b-434b-a242-73c98933e21a')], 'next': 'supervisor'} ----------------\n",
      "response: {'next': 'research_supervisor'}\n",
      "command : Command(update={'next': 'research_supervisor'}, goto='research_supervisor')\n",
      "((), {'supervisor': {'next': 'research_supervisor'}})\n",
      "---------------- Reasreach team Agent invoked with state: {'messages': [HumanMessage(content='What is stock price of Apple today. What is the latest news about apple company', additional_kwargs={}, response_metadata={}, id='d381bc85-f6aa-4cc2-9d70-925be8a5de71'), HumanMessage(content='### Stock Price of Apple (AAPL) Today\\n\\n- **Latest Open Price:** $209.93\\n- **Latest Close Price:** $208.62\\n\\nFor more detailed financial information about Apple, you can visit [Yahoo Finance\\'s page on Apple](https://finance.yahoo.com/quote/AAPL/).\\n\\n### Latest News about Apple\\n\\n1. **Management Overhaul:**\\n   - Apple is undergoing a major management reshuffle. Jeff Williams, the longtime deputy to CEO Tim Cook, has announced his retirement plans. Despite these shifts, Tim Cook intends to stay on as CEO, with no clear successor in place as of now. This information was reported by Bloomberg\\'s Mark Gurman in his weekly \"Power On\" report.\\n\\n2. **Stock Rating and Predictions:**\\n   - Citi analyst Atif Malik has reiterated a \"Buy\" rating for Apple with a $240 price target. The firm acknowledges some uncertainties but remains optimistic about Apple\\'s performance, particularly considering its AI potential.\\n\\nFor further details and updates on Apple, you might want to check [Yahoo Finance\\'s news section on Apple](https://finance.yahoo.com/quote/AAPL.BA/news/).', additional_kwargs={}, response_metadata={}, name='finance_agent', id='9dd55b69-da84-442f-829f-451fb8f9e60d'), HumanMessage(content=\"### Stock Price of Apple (AAPL) Today\\n\\n- **Latest Open Price:** $209.93\\n- **Latest Close Price:** $208.62\\n\\nFor more detailed financial information about Apple, you can visit [Yahoo Finance's page on Apple](https://finance.yahoo.com/quote/AAPL/).\\n\\n### Latest News about Apple\\n\\n1. **Lawsuit Against Apple:**\\n   - A lawsuit has been filed against Apple Inc. by Bleichmar Fonti & Auld LLP. Investors who have suffered losses are encouraged to contact the law firm before the court deadline. More details can be found in the [Newsfile article](https://www.newsfilecorp.com/release/258608/AAPL-FRAUD-Contact-BFA-Law-by-August-19-Court-Deadline-if-You-Suffered-Losses-on-Your-Apple-Inc.-Investment).\\n\\n2. **Management Speculations:**\\n   - A research firm has opined that Apple CEO Tim Cook should be replaced, possibly indicating underlying management challenges. This view was reported by [MacRumors](https://www.macrumors.com/2025/07/14/research-firm-says-tim-cook-should-be-replaced/).\\n\\n3. **Product Innovations:**\\n   - New developments are anticipated in Apple’s Dynamic Island functionality as well as the introduction of a novel 'HomePad' product, which merges an iPad and HomePod. This update has been reported by [9to5Mac](https://9to5mac.com/2025/07/11/new-homepad-product-gets-fresh-launch-timing-update/). \\n\\nThese highlights reflect recent news and legal proceedings related to Apple, as well as innovations in their product lineup.\", additional_kwargs={}, response_metadata={}, name='medical_agent', id='8a38779c-5b2b-434b-a242-73c98933e21a')], 'next': 'research_supervisor'} ----------------\n",
      "response: {'next': 'FINISH'} \n",
      "goto: FINISH\n",
      "command : Command(update={'next': 'supervisor'}, goto='supervisor')\n",
      "((), {'research_supervisor': {'next': 'supervisor'}})\n",
      "---------------- Supervisor Agent invoked with state: {'messages': [HumanMessage(content='What is stock price of Apple today. What is the latest news about apple company', additional_kwargs={}, response_metadata={}, id='d381bc85-f6aa-4cc2-9d70-925be8a5de71'), HumanMessage(content='### Stock Price of Apple (AAPL) Today\\n\\n- **Latest Open Price:** $209.93\\n- **Latest Close Price:** $208.62\\n\\nFor more detailed financial information about Apple, you can visit [Yahoo Finance\\'s page on Apple](https://finance.yahoo.com/quote/AAPL/).\\n\\n### Latest News about Apple\\n\\n1. **Management Overhaul:**\\n   - Apple is undergoing a major management reshuffle. Jeff Williams, the longtime deputy to CEO Tim Cook, has announced his retirement plans. Despite these shifts, Tim Cook intends to stay on as CEO, with no clear successor in place as of now. This information was reported by Bloomberg\\'s Mark Gurman in his weekly \"Power On\" report.\\n\\n2. **Stock Rating and Predictions:**\\n   - Citi analyst Atif Malik has reiterated a \"Buy\" rating for Apple with a $240 price target. The firm acknowledges some uncertainties but remains optimistic about Apple\\'s performance, particularly considering its AI potential.\\n\\nFor further details and updates on Apple, you might want to check [Yahoo Finance\\'s news section on Apple](https://finance.yahoo.com/quote/AAPL.BA/news/).', additional_kwargs={}, response_metadata={}, name='finance_agent', id='9dd55b69-da84-442f-829f-451fb8f9e60d'), HumanMessage(content=\"### Stock Price of Apple (AAPL) Today\\n\\n- **Latest Open Price:** $209.93\\n- **Latest Close Price:** $208.62\\n\\nFor more detailed financial information about Apple, you can visit [Yahoo Finance's page on Apple](https://finance.yahoo.com/quote/AAPL/).\\n\\n### Latest News about Apple\\n\\n1. **Lawsuit Against Apple:**\\n   - A lawsuit has been filed against Apple Inc. by Bleichmar Fonti & Auld LLP. Investors who have suffered losses are encouraged to contact the law firm before the court deadline. More details can be found in the [Newsfile article](https://www.newsfilecorp.com/release/258608/AAPL-FRAUD-Contact-BFA-Law-by-August-19-Court-Deadline-if-You-Suffered-Losses-on-Your-Apple-Inc.-Investment).\\n\\n2. **Management Speculations:**\\n   - A research firm has opined that Apple CEO Tim Cook should be replaced, possibly indicating underlying management challenges. This view was reported by [MacRumors](https://www.macrumors.com/2025/07/14/research-firm-says-tim-cook-should-be-replaced/).\\n\\n3. **Product Innovations:**\\n   - New developments are anticipated in Apple’s Dynamic Island functionality as well as the introduction of a novel 'HomePad' product, which merges an iPad and HomePod. This update has been reported by [9to5Mac](https://9to5mac.com/2025/07/11/new-homepad-product-gets-fresh-launch-timing-update/). \\n\\nThese highlights reflect recent news and legal proceedings related to Apple, as well as innovations in their product lineup.\", additional_kwargs={}, response_metadata={}, name='medical_agent', id='8a38779c-5b2b-434b-a242-73c98933e21a')], 'next': 'supervisor'} ----------------\n",
      "response: {'next': '__end__'}\n",
      "command : Command(update={'next': '__end__'}, goto='__end__')\n",
      "((), {'supervisor': {'next': '__end__'}})\n"
     ]
    }
   ],
   "source": [
    "for s in app.stream({\"messages\":[(\"user\",\"What is stock price of Apple today. What is the latest news about apple company\")]}, subgraphs=True):\n",
    "    print(s)"
   ]
  },
  {
   "cell_type": "code",
   "execution_count": null,
   "id": "ecf83624",
   "metadata": {},
   "outputs": [],
   "source": []
  }
 ],
 "metadata": {
  "kernelspec": {
   "display_name": "Python 3",
   "language": "python",
   "name": "python3"
  },
  "language_info": {
   "codemirror_mode": {
    "name": "ipython",
    "version": 3
   },
   "file_extension": ".py",
   "mimetype": "text/x-python",
   "name": "python",
   "nbconvert_exporter": "python",
   "pygments_lexer": "ipython3",
   "version": "3.10.18"
  }
 },
 "nbformat": 4,
 "nbformat_minor": 5
}
