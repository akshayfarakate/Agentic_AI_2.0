{
 "cells": [
  {
   "cell_type": "code",
   "execution_count": 1,
   "id": "67a8f378",
   "metadata": {},
   "outputs": [],
   "source": [
    "from dotenv import load_dotenv\n",
    "import os\n",
    "from langgraph.prebuilt import create_react_agent\n",
    "from langgraph.types import Command\n",
    "from langchain_core.messages import AIMessage, HumanMessage\n",
    "from langgraph.graph import MessagesState,StateGraph,START, END\n",
    "from typing_extensions import TypedDict\n",
    "from langchain_groq import ChatGroq\n",
    "from typing import Literal\n",
    "from typing import Annotated\n",
    "from langchain_core.tools import tool"
   ]
  },
  {
   "cell_type": "code",
   "execution_count": 37,
   "id": "783be758",
   "metadata": {},
   "outputs": [
    {
     "data": {
      "text/plain": [
       "True"
      ]
     },
     "execution_count": 37,
     "metadata": {},
     "output_type": "execute_result"
    }
   ],
   "source": [
    "load_dotenv()"
   ]
  },
  {
   "cell_type": "code",
   "execution_count": null,
   "id": "8c6824bf",
   "metadata": {},
   "outputs": [],
   "source": []
  },
  {
   "cell_type": "code",
   "execution_count": 3,
   "id": "9bc174b0",
   "metadata": {},
   "outputs": [],
   "source": [
    "llm=ChatGroq(model=\"deepseek-r1-distill-llama-70b\")"
   ]
  },
  {
   "cell_type": "code",
   "execution_count": 4,
   "id": "c8d47277",
   "metadata": {},
   "outputs": [
    {
     "name": "stdout",
     "output_type": "stream",
     "text": [
      "content='<think>\\n\\n</think>\\n\\nHello! How can I assist you today? 😊' additional_kwargs={} response_metadata={'token_usage': {'completion_tokens': 16, 'prompt_tokens': 5, 'total_tokens': 21, 'completion_time': 0.088137308, 'prompt_time': 0.000111469, 'queue_time': 0.052597951999999996, 'total_time': 0.088248777}, 'model_name': 'deepseek-r1-distill-llama-70b', 'system_fingerprint': 'fp_1bbe7845ec', 'finish_reason': 'stop', 'logprobs': None} id='run--afbf5bd1-b36f-42ba-9709-72329f0fe02d-0' usage_metadata={'input_tokens': 5, 'output_tokens': 16, 'total_tokens': 21}\n"
     ]
    }
   ],
   "source": [
    "print(llm.invoke(\"Hi?\"))"
   ]
  },
  {
   "cell_type": "markdown",
   "id": "483f2df9",
   "metadata": {},
   "source": [
    "### Message Satate class"
   ]
  },
  {
   "cell_type": "code",
   "execution_count": 5,
   "id": "c348aac4",
   "metadata": {},
   "outputs": [],
   "source": [
    "class State(MessagesState):\n",
    "    next:str"
   ]
  },
  {
   "cell_type": "markdown",
   "id": "09a1105d",
   "metadata": {},
   "source": [
    "## Supervisor Node"
   ]
  },
  {
   "cell_type": "code",
   "execution_count": null,
   "id": "816b8bde",
   "metadata": {},
   "outputs": [],
   "source": [
    "class SupervisorRouter(TypedDict):\n",
    "    next: Literal['research_supervisor', 'reports_supervisor', '__end__']"
   ]
  },
  {
   "cell_type": "code",
   "execution_count": null,
   "id": "ce3b89ca",
   "metadata": {},
   "outputs": [],
   "source": [
    "supervisor_agent_prompt = f\"\"\"\n",
    "You are a Supervisor Agent responsible for routing user requests to the appropriate sub-agent based on the intent and context of the conversation. Your role is to analyze the user's messages and the conversation state to determine the next step in the workflow. You can route to one of the following commands:\n",
    "\n",
    "- **research_supervisor**: Routes to agents handling medical/pharma research or financial research. Select this if the user is asking for information, analysis, or insights related to medical/pharma topics (e.g., drug discovery, clinical trials, healthcare data) or financial topics (e.g., market analysis, stock trends, investment strategies).\n",
    "- **reports_supervisor**: Routes to agents responsible for generating summaries, reports, or formatted outputs (e.g., PDF or DOCX documents) based on research or conversation results. Select this if the user requests a summary, document, or formatted output, or if research has been completed and a summary needs to be generated.\n",
    "- **__end__**: Terminates the workflow if the user's request has been fully addressed, no further action is needed, or the intent is unclear and cannot be routed.\n",
    "\n",
    "### Input:\n",
    "The state object, which inherits from MessagesState, contains:\n",
    "- A 'next' field (str) indicating the current stage of the workflow or the next agent to route to.\n",
    "- Conversation history (messages) containing user requests and agent responses.\n",
    "\n",
    "### Instructions:\n",
    "1. Analyze the 'next' field and the conversation history in the state to identify the user's intent and workflow stage.\n",
    "2. If the 'next' field indicates research is needed (e.g., 'next' is empty, null, or set to 'research'), or the user's latest message requests medical/pharma or financial research, route to 'research_supervisor'.\n",
    "3. If the 'next' field indicates research is complete (e.g., 'next' is set to 'research_complete' or similar), or the user requests a summary, report, or formatted output (e.g., PDF or DOCX), route to 'reports_supervisor'.\n",
    "4. If research has been completed (e.g., messages contain research results and 'next' is 'research_complete'), always route to 'reports_supervisor' to generate and save a summary in PDF or DOCX format, even if not explicitly requested by the user.\n",
    "5. If the 'next' field or intent is ambiguous, unclear, or the workflow is complete (e.g., 'next' is 'done' or messages indicate no further action), route to '__end__'.\n",
    "6. Provide a single command as output: 'research_supervisor', 'reports_supervisor', or '__end__'.\n",
    "7. Do not provide explanations or additional text beyond the command name.\n",
    "\"\"\""
   ]
  },
  {
   "cell_type": "code",
   "execution_count": null,
   "id": "218894c4",
   "metadata": {},
   "outputs": [],
   "source": [
    "def supervisor_agent(state:State)->Command[Literal['research_supervisor', 'reports_supervisor', '__end__']]:\n",
    "    \"\"\"Supervisor Agent function to route user requests based on intent and context.\"\"\"\n",
    "    # Print the state for debugging purposes\n",
    "    print(f\"---------------- Supervisor Agent invoked with state: {state} ----------------\")\n",
    "\n",
    "    # Prepare the messages for the LLM, including the system prompt\n",
    "    messages = [{\"role\": \"system\", \"content\": supervisor_agent_prompt},] + state[\"messages\"]\n",
    "\n",
    "    llm_with_supervisor_router = llm.with_structured_output(SupervisorRouter)\n",
    "\n",
    "    response=llm_with_supervisor_router.invoke(messages)\n",
    "\n",
    "    goto = response[\"next\"]\n",
    "    print(f\"response: {response} \\ngoto: {goto}\")\n",
    "\n",
    "    if goto == \"__end__\":\n",
    "        goto=END\n",
    "\n",
    "    print(f\"command : {Command(goto=goto, update={\"next\": goto})}\")\n",
    "    return Command(goto=goto, update={\"next\": goto})"
   ]
  },
  {
   "cell_type": "markdown",
   "id": "423eb026",
   "metadata": {},
   "source": [
    "## 1. Reaserach Team"
   ]
  },
  {
   "cell_type": "markdown",
   "id": "d6c08574",
   "metadata": {},
   "source": [
    "#### 1.1 Reaserach Router"
   ]
  },
  {
   "cell_type": "code",
   "execution_count": 6,
   "id": "f28d58a9",
   "metadata": {},
   "outputs": [],
   "source": [
    "class ResearchRouter(TypedDict):\n",
    "    next: Literal['medical_agent', 'finance_agent', 'supervisor']"
   ]
  },
  {
   "cell_type": "code",
   "execution_count": null,
   "id": "9a33a78e",
   "metadata": {},
   "outputs": [],
   "source": [
    "research_team_supervisor_prompt = f\"\"\" \n",
    "You are a Research Team Supervisor Agent responsible for routing research tasks to the appropriate agent based on their domain. Your task is to analyze the research request in the provided state and determine which agent should handle it. The possible agents are:\n",
    "\n",
    "medical_agent: For research tasks related to medical, pharmaceutical, healthcare, or biological topics.\n",
    "finance_agent: For research tasks related to finance, economics, banking, investments, or financial markets.\n",
    "supervisor: For all other research tasks that do not clearly fall into the medical or finance domains, or when the task requires higher-level oversight.\n",
    "\n",
    "Input: The state object contains the research request, which includes a description of the task or query to be researched.\n",
    "Instructions:\n",
    "\n",
    "Analyze the research request in the state to identify its domain.\n",
    "If the request involves medical, pharmaceutical, healthcare, or biological topics, Route to the command \"medical_agent\".\n",
    "If the request involves finance, economics, banking, investments, or financial markets, Route to the command \"finance_agent\".\n",
    "For any other topic or if the request is ambiguous and requires higher-level decision-making, Route to the command \"supervisor\".\n",
    "Route only the command name as a string: \"medical_agent\", \"finance_agent\", or \"supervisor\".\n",
    "Do not provide explanations or additional text beyond the command name.\n",
    "\n",
    "\"\"\"\n"
   ]
  },
  {
   "cell_type": "markdown",
   "id": "3e316fd7",
   "metadata": {},
   "source": [
    "#### 1.2 Reaserach team supervisor:"
   ]
  },
  {
   "cell_type": "code",
   "execution_count": null,
   "id": "68b9e6aa",
   "metadata": {},
   "outputs": [],
   "source": [
    "def reresearch_team_supervisor_agent(state:State)->Command[Literal['medical_agent', 'finance_agent', 'supervisor']]:\n",
    "    # Print the state for debugging purposes\n",
    "    print(f\"---------------- Reasreach team Agent invoked with state: {state} ----------------\")\n",
    "\n",
    "    # Prepare the messages for the LLM, including the system prompt\n",
    "    messages = [{\"role\": \"system\", \"content\": research_team_supervisor_prompt},] + state[\"messages\"]\n",
    "\n",
    "    llm_with_research_router = llm.with_structured_output(ResearchRouter)\n",
    "\n",
    "    response=llm_with_research_router.invoke(messages)\n",
    "\n",
    "    goto = response[\"next\"]\n",
    "    print(f\"response: {response} \\ngoto: {goto}\")\n",
    "\n",
    "    # if goto == \"FINISH\":\n",
    "    #     goto=END\n",
    "\n",
    "    print(f\"command : {Command(goto=goto, update={\"next\": goto})}\")\n",
    "    return Command(goto=goto, update={\"next\": goto})"
   ]
  },
  {
   "cell_type": "markdown",
   "id": "6a7de5b1",
   "metadata": {},
   "source": [
    "##### 1.2.1 Medical Pharma Agent:"
   ]
  },
  {
   "cell_type": "code",
   "execution_count": 8,
   "id": "f8d51fa9",
   "metadata": {},
   "outputs": [],
   "source": [
    "def medical_agent(state:State)->Command[Literal['research_supervisor']]:\n",
    "    pass"
   ]
  },
  {
   "cell_type": "markdown",
   "id": "0dd9ae8b",
   "metadata": {},
   "source": [
    "##### 1.2.2 Financial Agent:"
   ]
  },
  {
   "cell_type": "code",
   "execution_count": 9,
   "id": "e9a1e388",
   "metadata": {},
   "outputs": [],
   "source": [
    "def finance_agent(state:State)->Command[Literal['research_supervisor']]:\n",
    "    pass"
   ]
  },
  {
   "cell_type": "markdown",
   "id": "13b3c270",
   "metadata": {},
   "source": [
    "## 2. Reports Team"
   ]
  },
  {
   "cell_type": "markdown",
   "id": "a4779c13",
   "metadata": {},
   "source": [
    "#### 2.1 Reports Router"
   ]
  },
  {
   "cell_type": "code",
   "execution_count": 13,
   "id": "1b66297a",
   "metadata": {},
   "outputs": [],
   "source": [
    "class ReportsRouter(TypedDict):\n",
    "    next: Literal['summary_agent', 'document_agent', 'supervisor']"
   ]
  },
  {
   "cell_type": "code",
   "execution_count": null,
   "id": "993b23c8",
   "metadata": {},
   "outputs": [],
   "source": [
    "report_team_supervisor_prompt = f\"\"\"\n",
    "You are a Reports Team Supervisor Agent responsible for managing the workflow of generating and saving research summaries. Your task is to route the workflow based on the current state of the research process. The possible agents are:\n",
    "\n",
    "summary_agent: For generating a summary of all prior research data contained in the state.\n",
    "document_agent: For saving the generated summary in PDF or DOCX format.\n",
    "supervisor: For returning control to the higher-level supervisor after the summary is saved or if further oversight is needed.\n",
    "\n",
    "Input: The state object contains the research data, including prior research, the current status of the summary, and any instructions for saving the output.\n",
    "Instructions:\n",
    "\n",
    "Analyze the state to determine the current stage of the workflow.\n",
    "If no summary has been generated, route to the command \"summary_agent\" to create a summary of all prior research.\n",
    "If a summary has been generated but not saved, route to the command \"document_agent\" to save the summary in PDF or DOCX format, as specified in the state or context.\n",
    "If the summary has been generated and saved, route to the command \"supervisor\" to return control to the higher-level supervisor with the updated state, including the saved document's metadata (e.g., file path or format).\n",
    "If the state is ambiguous or contains errors (e.g., missing research data or invalid format), route to the command \"supervisor\" with appropriate feedback in the state.\n",
    "Route only the command name as a string: \"summary_agent\", \"document_agent\", or \"supervisor\".\n",
    "Do not provide explanations or additional text beyond the command name.\n",
    "\"\"\""
   ]
  },
  {
   "cell_type": "markdown",
   "id": "45faa22d",
   "metadata": {},
   "source": [
    "#### 2.2 Reports team supervisor:"
   ]
  },
  {
   "cell_type": "code",
   "execution_count": 10,
   "id": "e2f2d6d9",
   "metadata": {},
   "outputs": [],
   "source": [
    "def reports_team_supervisor_agent(state:State)->Command[Literal['summary_agent', 'document_agent','supervisor']]:\n",
    "    pass"
   ]
  },
  {
   "cell_type": "markdown",
   "id": "51875c8e",
   "metadata": {},
   "source": [
    "##### 2.2.1 Summry of result Agent:"
   ]
  },
  {
   "cell_type": "code",
   "execution_count": 11,
   "id": "9827a992",
   "metadata": {},
   "outputs": [],
   "source": [
    "def summary_agent(state:State)->Command[Literal['reports_supervisor']]:\n",
    "    pass"
   ]
  },
  {
   "cell_type": "markdown",
   "id": "03ffce57",
   "metadata": {},
   "source": [
    "##### 2.2.2 Document Agent:"
   ]
  },
  {
   "cell_type": "code",
   "execution_count": 12,
   "id": "5c86767d",
   "metadata": {},
   "outputs": [],
   "source": [
    "def document_agent(state:State)->Command[Literal['reports_supervisor']]:\n",
    "    pass"
   ]
  },
  {
   "cell_type": "code",
   "execution_count": null,
   "id": "5cb1c50f",
   "metadata": {},
   "outputs": [],
   "source": []
  },
  {
   "cell_type": "markdown",
   "id": "3164267f",
   "metadata": {},
   "source": [
    "### Graph workflow"
   ]
  },
  {
   "cell_type": "code",
   "execution_count": 15,
   "id": "42be9e2b",
   "metadata": {},
   "outputs": [],
   "source": [
    "graph=StateGraph(State)\n",
    "graph.add_node(\"supervisor\", supervisor_agent)\n",
    "\n",
    "graph.add_node(\"research_supervisor\", reresearch_team_supervisor_agent)\n",
    "graph.add_node(\"medical_agent\", medical_agent)\n",
    "graph.add_node(\"finance_agent\", finance_agent)\n",
    "\n",
    "graph.add_node(\"reports_supervisor\",reports_team_supervisor_agent)\n",
    "graph.add_node(\"summary_agent\", summary_agent)\n",
    "graph.add_node(\"document_agent\", document_agent)    \n",
    "\n",
    "graph.add_edge(START,\"supervisor\")\n",
    "\n",
    "app=graph.compile()"
   ]
  },
  {
   "cell_type": "code",
   "execution_count": 16,
   "id": "625c3b8c",
   "metadata": {},
   "outputs": [],
   "source": [
    "\n",
    "from IPython.display import display,Image"
   ]
  },
  {
   "cell_type": "code",
   "execution_count": 17,
   "id": "124a3816",
   "metadata": {},
   "outputs": [
    {
     "data": {
      "image/png": "[encoded data removed]",
      "text/plain": [
       "<IPython.core.display.Image object>"
      ]
     },
     "metadata": {},
     "output_type": "display_data"
    }
   ],
   "source": [
    "display(Image(app.get_graph().draw_mermaid_png()))"
   ]
  },
  {
   "cell_type": "code",
   "execution_count": 18,
   "id": "60f29e71",
   "metadata": {},
   "outputs": [],
   "source": [
    "### Graph state\n",
    "graph=StateGraph(State)\n"
   ]
  },
  {
   "cell_type": "code",
   "execution_count": null,
   "id": "fb495f8d",
   "metadata": {},
   "outputs": [],
   "source": []
  },
  {
   "cell_type": "code",
   "execution_count": 21,
   "id": "2e8f174e",
   "metadata": {},
   "outputs": [
    {
     "name": "stderr",
     "output_type": "stream",
     "text": [
      "USER_AGENT environment variable not set, consider setting it to identify your requests.\n"
     ]
    }
   ],
   "source": [
    "from langchain_community.tools.yahoo_finance_news import YahooFinanceNewsTool\n",
    "from langgraph.prebuilt import create_react_agent\n",
    "\n",
    "tools = [YahooFinanceNewsTool()]\n",
    "agent = create_react_agent(llm, tools)"
   ]
  },
  {
   "cell_type": "code",
   "execution_count": 30,
   "id": "7b98b592",
   "metadata": {},
   "outputs": [],
   "source": [
    "# input_message = {\n",
    "#     \"role\": \"user\",\n",
    "#     \"content\": \"What happened today with Microsoft stocks?\",\n",
    "# }\n",
    "\n",
    "input_message = {\n",
    "    \"role\": \"user\",\n",
    "    \"content\": \"How does Microsoft feels today comparing with Nvidia? What was the stcok price in last 7 days? Give me in tabular format.\",\n",
    "}\n",
    "\n",
    "# for step in agent.stream(\n",
    "#     {\"messages\": [input_message]},\n",
    "#     stream_mode=\"values\",\n",
    "# ):\n",
    "#     step[\"messages\"][-1].pretty_print()\n",
    "\n",
    "result = agent.invoke({\"messages\": [input_message]})"
   ]
  },
  {
   "cell_type": "code",
   "execution_count": 31,
   "id": "3b15bf06",
   "metadata": {},
   "outputs": [
    {
     "data": {
      "text/plain": [
       "{'messages': [HumanMessage(content='How does Microsoft feels today comparing with Nvidia? What was the stcok price in last 7 days? Give me in tabular format.', additional_kwargs={}, response_metadata={}, id='3b6fbe25-8ce2-43dc-a84f-a2e4828493a0'),\n",
       "  AIMessage(content='', additional_kwargs={'tool_calls': [{'id': 'm422cryep', 'function': {'arguments': '{\"query\":\"MSFT\"}', 'name': 'yahoo_finance_news'}, 'type': 'function'}]}, response_metadata={'token_usage': {'completion_tokens': 362, 'prompt_tokens': 191, 'total_tokens': 553, 'completion_time': 1.9557247530000001, 'prompt_time': 0.012811245, 'queue_time': 0.30140756399999996, 'total_time': 1.9685359980000001}, 'model_name': 'deepseek-r1-distill-llama-70b', 'system_fingerprint': 'fp_87ec4d1ec3', 'finish_reason': 'tool_calls', 'logprobs': None}, id='run--6cc5a4d1-3201-4610-8ef8-3726db95482b-0', tool_calls=[{'name': 'yahoo_finance_news', 'args': {'query': 'MSFT'}, 'id': 'm422cryep', 'type': 'tool_call'}], usage_metadata={'input_tokens': 191, 'output_tokens': 362, 'total_tokens': 553}),\n",
       "  ToolMessage(content='Microsoft, Viome Life Sciences Partner to Power Next-Gen Personalized Healthcare with AI, Azure\\nMicrosoft Corporation (NASDAQ:MSFT) is one of the best US stocks to buy and hold in 2025. On July 7, Viome Life Sciences announced a collaboration with Microsoft. The partnership will accelerate the next generation of preventive and personalized healthcare by integrating Viome’s extensive dataset of human and microbial gene expression with Microsoft Azure infrastructure services, […]\\n\\nThe Zacks Analyst Blog Highlights Microsoft, Alphabet, Amazon and Nvidia\\nMSFT surges ahead in AI and cloud, with $13B in AI revenue, Copilot adoption, and $80B in infrastructure fueling growth.', name='yahoo_finance_news', id='d64b9606-b23d-4730-b2ae-69e2be8561cf', tool_call_id='m422cryep'),\n",
       "  AIMessage(content=\"I currently cannot retrieve historical stock price data or provide direct comparisons between companies. However, I can help you analyze news or provide general information about companies like Microsoft (MSFT) and Nvidia (NVDA) based on available news articles.\\n\\nIf you have access to stock price data, you can create a table comparing the stock prices of MSFT and NVDA over the past 7 days. Let me know if you'd like help with anything else!\", additional_kwargs={}, response_metadata={'token_usage': {'completion_tokens': 369, 'prompt_tokens': 377, 'total_tokens': 746, 'completion_time': 1.751951708, 'prompt_time': 0.024551499, 'queue_time': 0.292800596, 'total_time': 1.776503207}, 'model_name': 'deepseek-r1-distill-llama-70b', 'system_fingerprint': 'fp_87ec4d1ec3', 'finish_reason': 'stop', 'logprobs': None}, id='run--5d237550-b25a-4279-a70b-28758f4a278c-0', usage_metadata={'input_tokens': 377, 'output_tokens': 369, 'total_tokens': 746})]}"
      ]
     },
     "execution_count": 31,
     "metadata": {},
     "output_type": "execute_result"
    }
   ],
   "source": [
    "result"
   ]
  },
  {
   "cell_type": "code",
   "execution_count": 35,
   "id": "c5dadf9b",
   "metadata": {},
   "outputs": [
    {
     "name": "stdout",
     "output_type": "stream",
     "text": [
      "================================\u001b[1m Human Message \u001b[0m=================================\n",
      "\n",
      "How does Microsoft feels today comparing with Nvidia? What was the stcok price in last 7 days? Give me in tabular format.\n",
      "==================================\u001b[1m Ai Message \u001b[0m==================================\n",
      "Tool Calls:\n",
      "  yahoo_finance_news (m422cryep)\n",
      " Call ID: m422cryep\n",
      "  Args:\n",
      "    query: MSFT\n",
      "=================================\u001b[1m Tool Message \u001b[0m=================================\n",
      "Name: yahoo_finance_news\n",
      "\n",
      "Microsoft, Viome Life Sciences Partner to Power Next-Gen Personalized Healthcare with AI, Azure\n",
      "Microsoft Corporation (NASDAQ:MSFT) is one of the best US stocks to buy and hold in 2025. On July 7, Viome Life Sciences announced a collaboration with Microsoft. The partnership will accelerate the next generation of preventive and personalized healthcare by integrating Viome’s extensive dataset of human and microbial gene expression with Microsoft Azure infrastructure services, […]\n",
      "\n",
      "The Zacks Analyst Blog Highlights Microsoft, Alphabet, Amazon and Nvidia\n",
      "MSFT surges ahead in AI and cloud, with $13B in AI revenue, Copilot adoption, and $80B in infrastructure fueling growth.\n",
      "==================================\u001b[1m Ai Message \u001b[0m==================================\n",
      "\n",
      "I currently cannot retrieve historical stock price data or provide direct comparisons between companies. However, I can help you analyze news or provide general information about companies like Microsoft (MSFT) and Nvidia (NVDA) based on available news articles.\n",
      "\n",
      "If you have access to stock price data, you can create a table comparing the stock prices of MSFT and NVDA over the past 7 days. Let me know if you'd like help with anything else!\n"
     ]
    }
   ],
   "source": [
    "for step in result[\"messages\"]:\n",
    "    step.pretty_print()"
   ]
  },
  {
   "cell_type": "code",
   "execution_count": 38,
   "id": "d7b59a4f",
   "metadata": {},
   "outputs": [],
   "source": [
    "os.environ[\"FMP_API_KEY\"] = os.getenv(\"FMP_API_KEY\")\n"
   ]
  },
  {
   "cell_type": "code",
   "execution_count": 42,
   "id": "96caeb68",
   "metadata": {},
   "outputs": [],
   "source": [
    "from langchain.agents import AgentExecutor, create_openai_functions_agent\n",
    "from langchain_openai import ChatOpenAI\n",
    "from langchain_fmp_data import FMPDataToolkit"
   ]
  },
  {
   "cell_type": "code",
   "execution_count": 47,
   "id": "59d34bdb",
   "metadata": {},
   "outputs": [
    {
     "name": "stdout",
     "output_type": "stream",
     "text": [
      "2025-07-09 17:36:29,463 - fmp_data.fmp_data.base - INFO - Initializing API client\n"
     ]
    },
    {
     "name": "stdout",
     "output_type": "stream",
     "text": [
      "2025-07-09 17:36:29,516 - fmp_data.fmp_data.lc.vector_store - WARNING - Missing endpoints in store: {'get_crypto_intraday', 'get_etf_list', 'get_dividends_calendar', 'get_geographic_revenue_segmentation', 'get_historical_prices', 'get_company_logo_url', 'get_esg_ratings', 'get_press_releases_by_symbol', 'get_forex_quote', 'get_press_releases', 'get_gainers', 'get_mutual_fund_dates', 'get_social_sentiment_changes', 'get_historical_share_float', 'get_crypto_historical', 'get_market_hours', 'get_forex_intraday', 'get_institutional_holders', 'get_executives', 'get_esg_data', 'get_stock_news_sentiments', 'get_senate_trading_rss', 'get_stock_splits_calendar', 'get_crypto_quotes', 'get_employee_count', 'get_asset_allocation', 'search_by_isin', 'get_commodities_list', 'get_commodities_quotes', 'get_mutual_fund_holdings', 'get_product_revenue_segmentation', 'get_cik_mapper_by_symbol', 'get_earnings_calendar', 'get_adx', 'get_quote', 'get_analyst_estimates', 'get_upgrades_downgrades', 'get_institutional_holdings', 'get_etf_info', 'get_equity_offering_search', 'get_esg_benchmark', 'get_exchange_symbols', 'get_commodity_intraday', 'get_share_float', 'get_mutual_fund_by_name', 'get_form_13f', 'get_crowdfunding_search', 'get_crypto_quote', 'get_sector_performance', 'get_etf_holding_dates', 'get_treasury_rates', 'get_etf_sector_weightings', 'get_etf_exposure', 'get_etf_holdings', 'get_financial_reports_dates', 'get_historical_social_sentiment', 'get_all_shares_float', 'get_cik_mapper_by_name', 'get_standard_deviation', 'get_form_13f_dates', 'get_fail_to_deliver', 'get_full_financial_statement', 'get_mutual_fund_holder', 'get_company_notes', 'get_market_cap', 'get_simple_quote', 'get_ema', 'get_intraday_prices', 'get_stock_list', 'get_executive_compensation', 'get_transaction_types', 'get_general_news', 'get_dema', 'get_commodity_quote', 'get_pre_post_market', 'get_wma', 'get_commodity_historical', 'get_equity_offering_by_cik', 'get_fmp_articles', 'get_etf_holder', 'get_economic_calendar', 'get_economic_indicators', 'search_by_cusip', 'get_williams', 'get_beneficial_ownership', 'get_profile', 'get_etf_country_weightings', 'get_levered_dcf', 'get_forex_news', 'get_ipo_calendar', 'get_crowdfunding_by_cik', 'get_insider_trades', 'get_senate_trading', 'get_owner_earnings', 'get_price_target_summary', 'get_crypto_list', 'get_tema', 'get_cik_mapper', 'get_income_statement', 'get_insider_roster', 'get_price_target_consensus', 'get_house_disclosure_rss', 'get_historical_market_cap', 'get_balance_sheet', 'get_key_metrics', 'get_historical_earnings', 'get_crowdfunding_rss', 'get_most_active', 'get_upgrades_downgrades_consensus', 'search_by_cik', 'get_forex_list', 'get_losers', 'get_stock_news', 'get_rsi', 'get_analyst_recommendations', 'get_trending_social_sentiment', 'get_historical_rating', 'search', 'get_equity_offering_rss', 'get_price_target', 'get_earnings_confirmed', 'get_crypto_news', 'get_insider_statistics', 'get_symbol_changes', 'get_available_indexes', 'get_house_disclosure', 'get_cash_flow', 'get_forex_historical', 'get_market_risk_premium', 'get_forex_quotes', 'get_earnings_surprises', 'get_financial_ratios', 'get_sma', 'get_core_information'}\n",
      "2025-07-09 17:36:29,516 - fmp_data.fmp_data.lc.vector_store - WARNING - Extra endpoints in store: {'4b220547-6d61-42b0-9758-a6c3fd3867df', '0be3d780-f670-4325-b008-da61e9d8b406', '815d5707-1d50-4052-8282-4cfd1ddb431e', 'aa2c38d5-70c5-427a-ad4c-863e67b0b3e5', 'ace39d4f-207b-4bf3-8ffb-4b5484d0a23f', '91802644-a59f-4724-8cce-642928e1b5a7', '72e946da-07a5-4e5f-ad15-5db19aef99b6', '1e771c7f-aa5b-4b20-965f-e584109369d4', '6d1ed2bd-63d2-4b2b-a3df-daa65cd826ee', '8aeb7ea1-adfc-43af-95ef-79546e81d3f5', '19314b4c-e6bb-470e-baef-e767b1991956', 'c2e09374-046b-435c-8470-e0494c457e6c', '00c272a6-66e8-4d4f-b5ce-e2ff7e04c73b', '7a0562c7-500a-473c-b20b-cf77cde01057', '2be04d96-9130-4a2a-be02-054036d82ded', '468edaee-bb01-41e4-87c9-25079f397e89', '30f1734a-f075-46e0-9e92-c4d82ca6cd68', '9d8cd86a-f8e4-484c-9383-238f27e30479', '416642e4-20c2-4abd-af1a-361dbdf1abb4', '6e40d016-8f5a-485a-9e8b-668f26196a58', '043312ea-8eac-4690-a84b-0806683f1b13', '9ca54d46-bbc9-45e2-b22f-6511482474ae', '49f76e6e-3e32-4648-b51d-5ad40d0b3767', '3d926791-cd11-47b4-853d-a88e2f41b11c', 'ea722169-2d4c-4719-87f8-19932a034688', '9a1f185d-098e-484e-8028-b3e1fda8a7b4', '8b0cebd6-18b8-48f6-9fb2-64843ce4621a', 'f50dcac2-99b7-451e-b4c1-adc3cd1891de', '0f359e80-d7c7-4afa-8f99-bc97b4b5953a', '1bc030ef-a013-4ed8-b3ac-71e1bf5a7d71', 'b4247809-e8ec-4368-b4da-cfe52395f803', 'f4a91351-0098-425f-991c-c5b79209c622', '51aef1cb-890b-45f6-8d48-8f74d94dabb6', 'ee01a97b-fb51-4355-9692-268a7cf133c7', 'be95d17d-79c8-4faf-91b9-43dcf430deb2', '9f331092-9282-4acc-a601-08c256202e2c', '8a59a623-fadb-4b71-87f1-1c5c8597314a', '8b269b6e-8b92-47c8-9103-c6d5af104d91', '73d50e99-9e14-4343-bcb4-7c904634aff8', '30ea6b0f-8537-49f4-b388-afb1b165b3f1', '4e80ce60-5527-46a0-89d1-ab960b246a19', '321a95ce-a80c-4067-8419-08a716165706', '81b98e4c-889c-4426-be3b-0e83c4233376', '9af5a260-86c0-4df8-b5e6-597c9e2f5535', 'cd824184-47ef-4cf0-b157-0008e8df4fa2', 'e3f48c1e-71fc-483f-a997-9817e3e7c091', '1b9bd756-ea8c-48be-9c8b-98090915461f', '2390a110-0f6e-49af-b831-499068573ad1', '2406db62-f5ae-4495-b80a-9075b060f1b9', '7b42f37f-ffb6-4d4a-bab2-6abc706067ce', '63c1953d-133e-4c6c-9149-22ef57821059', '2bed7d08-e9ba-4cdc-98bf-ece1a395097a', '18a34e89-4b5a-4b2a-be33-ceafc2195ec7', '271c5579-67d5-49e2-b6f3-0a87941daf7a', 'e74b4e83-bbca-447d-a69c-eb525c7498d1', '3de1345f-606b-492e-8cdb-1823487722f4', '5768dc35-f293-4d2d-8ef9-a2556070ad59', '71a5070d-43ee-451a-a5f8-b9e2a993976b', 'c22b85bd-63da-441a-bce1-2f4ca5283ddf', '89f20c30-e662-42a4-8050-4c2d3aa2851f', 'c82372e3-e3d9-406e-8135-04a3455e753d', '14dfc3ff-5938-4657-9754-ee42d5ddfc23', '7672224d-7877-4719-91dd-b8974477ca9d', 'd8f398ea-d6d6-49ff-adaa-dafd98e98e76', '9a2e62c4-aed8-4629-9a96-aa6b8e822c6b', '4dc6b050-85d7-47b2-8f92-15b6e78c6882', '910a20ce-11f6-4da5-8952-13a6d03cc8d0', '68aa1080-62bf-4ffd-8381-66b525f74bc8', 'b9c92f9c-4ebf-4673-a280-422be668ea2d', '86a438bf-51c2-4c96-a58d-a480395533c4', '2c7e59ba-965b-4b93-97b3-9ac7a536a88d', '7eec65be-6d2f-4cf1-bad5-bbc76c8bbb09', 'b95e60ff-2108-4ee9-803f-23675b9c70fc', 'b041f8b1-c2a0-421d-afd4-843ec0be8f29', 'd001d077-0e31-452c-a001-8a0eac402824', '90fe31a8-1573-4e56-a15b-a3c829585c61', '3455a953-96d7-4471-88af-d496885df85b', 'be0fd486-8223-426e-86fe-6e7050fe7434', 'fa9ccf07-756d-4f96-903f-91990a98ebe9', '3b9ed650-e531-4720-ab35-d82755f7da3b', '625799b5-06e0-4309-8bf6-b709d54f4cc9', '7cfec6c9-63af-44f2-8740-1fec7798b975', '6de43c52-9b5d-4302-806a-31e80eb58e85', '8b048aac-1fff-4c14-bf00-6530262ef64c', 'e13afd21-8dca-4688-b811-8349aff66883', 'b8d46c8f-ed0e-4fc7-ba3e-2ec6ee9be99c', 'b5c47c2c-3ea1-403c-a03c-ff0b88beb66c', 'a03c67b1-6e24-4712-9004-bd05a76788ca', '76cbc9b4-6612-4780-a656-6091db5f9ed9', '2fa8d4fa-58da-41a0-8aaa-9edfb10d3285', '81a73e71-2001-4d38-8502-f31cfa6eceeb', '8e9d9949-7546-4d49-812a-e2155a89a13f', '925c6e9e-5546-4b90-82e3-05025b90ca2b', 'd17c3688-25a0-4cd2-b954-9da759b6200e', 'dfe236d6-3477-4681-aab3-c4a00499e913', 'd50ea5d1-1b38-4ab8-a52f-0f11bea00c67', '0b1e5c35-1429-43d8-89a3-d81bbc2ec4fb', 'c860d34d-b155-4c87-8c84-bdb8f5818f15', '18c6b090-8064-4918-9154-61e49b2292fa', '140c2b4b-29c4-441d-b1ff-00cf0e9bdba4', '94b3d0a6-f956-420c-ab90-5883c43c5d42', 'aa81745a-6802-4fb9-8289-092c940eab17', '149ec598-b108-4f9a-aaf0-7de83b63cfd6', '6f0fe354-0892-4f42-a3db-9f0ef2a028f3', '5999c050-6730-42ba-982a-e711b236459d', '222df93b-8e64-4a67-b09d-6ccc3f1d837d', 'd51c8282-cd07-4513-8caa-06c28b85fa3e', '9c736bea-836c-4ff5-abea-12f4cdbed746', '3d8b425c-d980-4e1c-81fa-091055ab1136', '27239f07-1b23-4820-8e41-42ee91a07f49', '211feb6a-4131-4372-bcd3-26151ca021d4', '90cfa6b9-ea18-4a3d-98d8-7c3dd8452537', '83e46c39-f931-4f02-8e6d-35a0f58ef90e', '5efc8529-d581-4e8b-80ad-c99a047e3cef', 'd21dfe08-7b9b-4433-a851-f1700f5d9ebb', '7c3f3547-0c23-4b9e-970d-b5a352f3c3a5', '8ee85817-6fb1-4f28-9720-46dace18a7bf', '4769212e-4ee0-421d-842a-180e3b5e710f', '2ce8d961-0097-49a2-8efd-c037588d4a59', 'ee349c66-5b05-47b5-a23c-7b5d48f25637', '34e85236-c399-4371-b1d1-799cb6da6e5d', '9ce03fd4-1ba6-4cbe-afca-46825176d518', '2e312316-2002-4301-ad21-823c0e693bbd', '0ac8d9e4-34f9-42e2-9306-b368b08d04d2', '6961d0c3-e492-499b-b1d5-a67d5dec4aaa', 'b82b4a98-791b-49a4-9c1a-9277c83714cb', '442261be-fb8f-4568-9ad8-fc74bb32d415', 'd0eade64-09ba-46ac-8da4-b1ca23d304f7', 'a2f908a2-8e99-43e2-b8f3-89182685ec50', 'bb0befc2-f555-4b29-aab6-211efc901ea1', '2de34812-0f38-42ed-9ee1-9085ff29a83d', '2b19b0bc-c5ca-4511-91af-98c469782887', '87df0950-333d-4c3d-b790-f40e7fb39bcf', 'b638e57d-34e6-416a-81b3-b71886a34023', '13e58ce9-ffb0-4d5e-bdc5-46f3b4eec7ae', '675daeb9-dd04-4d27-8455-a1e7697f802d', 'a085b97f-2606-4a25-848a-c4ae1319dc28', '75cc7d52-7f7d-4740-a724-c8b7fa96d0ff', '82403936-12ec-4f01-bd0b-e8ee6e8f0fae', '25da9c00-2c55-4a6b-984e-49efb40a5c43', '19932ecc-eff5-4790-8f65-4f932e4f2aad', '876db303-3c7e-4a8b-8251-28c19efede24', 'ac591c99-c657-4ee7-b2c2-7f42843028d8', '7cfd6f73-3f16-4b3d-bbbf-1b069c5044d3', '9e26e6b1-0c57-4074-a95c-01f7301f97df', '75016ad1-e34d-42fb-9527-5955d0a9f17e', 'b09353c0-d320-4c14-b063-29d5f73eaec6', '961ce0d7-ccd6-4228-b214-ddfca3db8f25', 'abc7edf0-4d47-446b-8279-f9571f3fd9ce', '3c5d4991-ad14-4e06-ab10-2d3ce923216e', '1e3fe310-5216-41ae-a62b-a575ee426ce8', '5ea3a2d6-9b33-4f80-ba34-5cf38adeb837', '1f4e1bdf-6d49-479a-96fa-5a8074478045', '8ffb0754-d64b-45d8-b712-25feb4af5b75', '05f04cc3-1776-4fb4-8fde-b8a84705bd9b', '990e9567-f810-4e91-940b-b1f553b3d16c', 'ebd3c476-440a-4fbc-ad53-80573d78df21', 'de9d5202-b826-471c-90f8-bcbcaa68e940', '5b23e982-d9d3-4885-a70f-d73480fe792f', '039581f6-df82-4659-8d04-82627a78d65d', 'd3e1f0b9-224e-4010-baeb-2360e95d1cb9', '173eb75d-844a-4b4b-9fad-7da1fc61d042', '62b2e74a-7c03-4c0c-883e-a16c10332d21', '5ef69fa3-8df4-4f2e-b714-205a951f9ccc', 'aa143608-23c5-4a3e-b280-b84ec7535400', '5323b45a-fd08-42bd-9b61-cc389039e31c', '1bf7e1e2-fcec-458c-9ad5-7dc30306e25d', '549e63d3-31ce-4ca4-a21a-3ff2bab06d2f', '0a1e2ea1-4ce4-458e-ad7a-395f4c22eb7d', '170c96d8-6f62-4edb-9956-1a6f2d81d10b', '3e5ebbab-4533-4d1b-aea6-d449457dbf8b', '9604b5f8-6a7a-465c-bf6a-322679be1ed4', '589a4514-c021-4871-8875-7184655f1071', '16b7280c-e220-4595-b753-35c36f0836a4', '4b1918e8-a439-45c4-b17f-f5b28607aa79', '91898ffb-d101-49cb-95ba-09e31de2a9f5', '8956d112-f760-4b29-b7df-3be2913a4df3', 'fc0e3b90-10ef-445e-81e9-8d5b39ce3363', 'b5a04ae7-b120-430a-9496-ad10fe754b28', '3804633b-e377-4101-b68e-b30e1a942652', '077d2df0-588e-42bc-b834-1d3ef9993675', '7e494a16-b296-4ca4-aa62-484c0a4f35e9', '81668247-9645-438d-9c26-a375900c6323', '2684f2a2-a135-4c5d-896d-531be8bebf34', 'df15e7e3-999e-442a-8718-0c1e94f814b9', '5bd6b642-49ab-4e78-b6ca-579c9e3cfb68', '9a29a326-3db4-44dd-8d01-ca683a4f661d', '72306531-c978-44f5-9d0f-1215fe1afd78', '9087127e-98be-4000-a32c-6a8c3df0e33c', 'c00bb2e0-1bc2-4508-878a-c86c2df2831d', '40de888b-3163-4e44-84b3-8880d46d28c7', '71121b77-2b1b-4f01-b509-cbb5849f77cf', 'bb20c02d-bb65-4bee-add6-06d6ebfd5b3f', '2238be23-0d54-4adc-9df1-92116199db5f', '555f3268-3980-4b73-a88f-defe04b4108b', 'c1838e2b-fad7-4d6b-bdf4-d46be6bb272b', '81845f73-f753-4ecd-958a-0845601c075a', '63dff12d-3d54-46ec-ba00-2ec5d2b4e64c', '71603d1e-c04b-49e0-8a60-526f0b872247', '7a56dd8c-9e63-49dc-b155-fcadad3f0252', 'ef6f29a7-08e7-434e-ace9-0e76dac0f2dc', 'a0864418-1e35-4a53-813e-4bbfd8800ad3', '49e079af-a9bc-4059-976a-5acbe91fa7bb', '2accfb56-5a2b-4504-afe6-b9193ca36175', 'ffd6af47-eec1-4121-b3ce-cb8f3383041b', 'ed746501-999c-4425-9557-69171c9fa367', '7696387f-c7dc-4c0f-a66a-a08092fe5c44', 'c269a8e5-5b55-4b35-9752-41116339d65d', '377de1aa-31b2-4671-a58b-525013efbeac', 'ba5b8e4d-5d06-4f72-a102-6cb14e5c1a13', '92162e01-6560-4550-876a-be40b875559c', '60a6905c-7d5d-46c1-99f1-f7febb9d49ee', '049a7042-2ae1-4fbd-a509-22fb11ac0c95', 'd125fad2-f588-4165-b3d0-965d479b486c', '6c41442f-4740-418c-903d-c5e43319538b', 'b5e4b9a7-492c-4dba-b0b5-2f688f52021b', 'b98fbe0e-7ced-425e-acd9-528edac6b7d7', 'a647509f-da4e-4b73-91bc-7606599e0c20', '87a35a30-b395-4ec0-80e9-47e6a17e38ba', '560306fe-b304-402f-b7cd-9431363ff5b9', '8e7b8f9e-dee6-405d-998e-92910f2e0b4e', 'caaaef91-a8ef-40f5-8b8d-5e2da653e8bc', '0ddfcbe6-1a00-45e6-8a04-fd9992b2677b', '7098cdb2-0cc1-49de-a62a-772ab4da17c3', '20665228-24fd-4794-a139-f9e91d9b0544', 'be235d89-9319-4524-b573-ba85e0fc94a7', '046be690-2a76-4f91-8e55-36e5b3f5e663', '685cc972-0cb2-40de-afcd-bf01a1df357c', 'aa767e13-f818-4661-938a-1976ac216109', 'e80c7cf2-653e-42f4-b2b0-39ac6bbac8b6', '90d3e202-b1fb-4435-ae80-cd16fa3a6eb5', 'f4e25b5f-d6aa-402a-9c9c-469863e09446', '3441cdff-3a9d-4bf8-ba28-137bc2fccc7b', '27372213-e864-4ee4-8642-8ed2ae8d0fdd', 'a97c0b5c-ec70-48e1-8a74-1507c768b28c', '59ab3d3b-24ce-4636-b66a-1e3f1c638464', 'b5e1a03d-617c-4b18-8068-9fb4cf99f728', '41e10b26-5093-468e-b6aa-0e03c269c56d', 'cbb6f3e3-4afb-4778-829a-46e16aba593e', 'a9dc52aa-3050-432d-a46b-977a984176a8', '23bdade2-9742-4a6a-b3c1-874a83b4eff3', '56082a52-9e75-4f10-9c65-97df9c72fde5', 'e83eb816-32f8-4f99-b8a8-83a3a603db77', 'e1eb41d6-3038-444b-be17-8173ec4ada97', '003a1893-db92-41c5-b658-742c69675042', '0990a278-2f3f-4e17-a139-821611ab3154', '16b07d05-eb33-438d-9e4f-cd33a610f68a', '6bb6e2f1-5d5b-4de8-b38a-d42d7ab53e93', 'eafb155a-24f2-4aff-b5a4-b34d1c3a1ab0', 'd402ed07-3e47-4d5f-8eb6-7648c96e6525', '57c6ece9-22c9-43ae-9c55-bd204e771565', '34f9c007-56c7-40b3-93b4-a827d1f9c5da', 'b4b1e4de-c57f-475e-9489-c57194a4c31b', 'c6c40a34-18db-4ac8-b5f8-5194327e559d', 'a9df442a-3412-48ce-b1ac-94d7d8959f98', '65e0f585-1a62-4711-a0b0-ad28813ce761', 'fb807254-0629-460c-af09-07ff20f75d93', '20f2bf1f-8f4f-43e3-9656-d1ac236a9d57', '2c668cfd-4b2f-4aa0-8b87-85ff029c7179', '3a4e4212-a300-43f7-b89f-87693d7734f0', '255a3003-04ba-4a40-8e71-c5683a09b2cf', '443188af-b537-4ccc-9b46-110d4701174b', '74ac77bc-4c84-47d5-a5d2-b0c0f57a74cc', '23a0ace8-dcd6-46a2-96cb-97824322fc03', '0f3adb8e-a822-467c-babf-1b68f8dbbf42', '380b16e9-d186-4a70-bc44-63f9007381c6', 'd2d980db-18b7-4bbe-8bf0-c10f150a4f5c', 'b7007cb5-1ed7-49a3-9fe3-60b14791f212', '873dc24b-5390-400e-8c66-454197a52bfd', 'c5b0e18a-5e12-4c45-9417-47f1a5359475', 'b5a832d8-471b-4e29-9398-9093a68cc23c', '0a5d4173-2c98-4958-98bc-811d6659bf9e', 'a15eec50-ea8d-4677-b9b8-1ef595a0bb41', 'a3f58c99-1a58-4a1b-96eb-bbfdfc49329b', '85311e60-06f6-4b81-942a-418fc0001114', 'be808444-0a4f-475e-b1ec-cc520a6160b5', '85caf12f-7ca1-46b7-a5c9-888536be9d01', 'e0ae012c-640a-49e7-8ec1-8c078f285b8d', 'b00f98dc-097a-4b3c-b731-4f7180aa8bf9', '843a3670-f41f-4cf5-84d8-7a40734aac18', 'e3786264-cd7e-4234-b62f-b070a7f39d8e', '0acac01e-12d9-4f94-a72b-38585c8648f5', 'ff80e28e-cb32-40fa-85ae-0751c95c31a4', '971ab226-bede-43a4-882e-700e44718498', 'b885b641-eee9-48a9-bfd8-0bb33dc8d05d', 'bd6550d8-e3ef-46eb-85da-9d26d5ccfdd4', 'cd0d9d0d-a5b2-463f-bd69-baf4dabd686e', '901dd715-e68e-4713-b48e-0fd9f3a74abd', '0fedc16c-371f-4528-8605-d67e5302b863', '12b2e875-5bef-481c-993f-e86625003211', '222bb08c-c78b-4056-ae52-42d3a0060f7c', 'cc9d161d-18d1-40fe-8874-3a0238e09685', '2243723a-3580-4f0c-a911-2f61b50fa558', 'f7e38281-743c-4eba-a8c7-b8326373f06e', '4f8bf58c-d543-454a-a085-4fe78f2128ad', '90e3e645-c46e-46a7-9222-32a7536f4f44', 'b099fa0c-3a68-4ddf-b407-2c960b4afc43', 'b32fd933-6011-4826-89db-b83e8c501176', 'bb268ff3-6abf-47f5-999b-68e2c85d35a2', 'bfe84610-8cf2-4974-bf07-70b3f5dd242e', 'b6d4839b-7135-4aa8-b883-ba7e3b86def4', 'ef93b53b-7c53-4f84-a26f-120dc5d36407', 'c493c4e9-000e-4c7f-978f-8d5275761fb6', '7d14298c-933e-461e-b329-30984d8b3e5b', 'd7b07b55-5c13-4992-8e26-dbcb3087d600', '76066b58-ee2c-4e65-ab02-5173b9e6dc35', '358cd206-24cc-4900-ba83-805e3e639f1c', 'f456a3be-c526-45ac-bb4c-553da07f9b09', '7945db0e-e2b5-4e36-9dc9-2553a91b7cb1', '5de8d704-c72a-408b-94d9-a80445df27a0', '2b481ba4-0072-4629-8e2c-fef7ac564677', 'ff00a006-e2ed-419c-ab99-81cc72ab2b4f', '4671335b-a8b2-488d-ac76-734d420170de', '82bfba22-2ac4-4594-9f6d-7efd3666ed88', '36a19bca-e3ff-4aeb-8e9e-d3afcea756f5', 'de059f6d-5a69-4760-b9f3-e446cc9c0f59', '81623fd1-347c-4929-a184-e97862dbf08c', '620ec31f-6e9c-4119-b613-22c74c66ecf9', '439a7773-f5ab-4c71-8ac8-772ab44bf70b', '4e5c5b49-acd2-4c87-aa9e-603f4079efe6', '37fc7a40-e313-4c67-ae56-50bfe0ad7c48', '8195b510-f714-41fd-8de9-04879667c8bf', '17cf9e32-f7b6-43ea-aac9-9d466ad73c16', '245c0df8-1b4f-4569-98ff-23b5f57176c8', 'a805ecad-c448-4a86-87b1-6d6a546f2f65', '50242f7d-b285-4776-a809-32e7620601c5', '212979e8-8a79-422f-8465-ca9bf86003d2', '0712f676-b46d-452d-8552-41b4fd3b50b3', '1b2a1956-428d-439c-980b-6dcbefabe649', 'c4750e44-597e-4a04-802d-5805966907c8', '798215bf-2d47-4f39-8e6f-ee75792b05f0', 'a2570012-5484-4ded-b7e7-60adfd0dc60e', '3de5fafe-7768-4da2-af5a-9687880da891', 'd80da3e1-1740-4230-be4d-0e52fae9d87d', '6e827513-e893-40ff-900f-085c68c19266', 'e987162a-b0f2-4776-94ff-750c8d42e30a', 'c89306f6-1819-409c-a64e-c07ff872f79b', '8c0fc653-01b2-462d-8975-b16f52dccabc', '908ac3df-4f55-48cb-b319-cfce64b0e528', 'c3c5dfb3-6ed9-4326-b50a-23d080310411', 'ed3fc094-fabf-4872-af5d-4b660a4efbf8', 'dadacece-9d8b-4c25-affa-dfa33f31be5d', '84900543-1f63-4ea5-9220-b709c576bcbb', '45c92a01-0103-4486-a721-10ea1bdeafc4', 'c9aa98ca-8d03-4510-aaaa-915a6c3bd6a9', 'fb41079d-644b-4cc7-bdc2-5f23489395d3', '32c0d6c3-47c6-4730-8511-2b74735a0f0f', '01ff104c-9ed2-4d0e-8777-ef53249ffd21', 'a977b937-9314-429f-87d1-d4ac329b6086', '7cd2ea42-b325-41b6-a108-95a43a716285', '8d140795-74c5-4af3-97eb-c4fa38d7d518', '6595af60-081c-466f-aa50-d7014d8f317d', '571c552f-6ff5-4706-98fd-d37bc3f1e7f6', '549ab2c9-8473-4f34-b9d9-d6a1ef1bd832', 'a3860bf1-df9a-4a99-80a1-a3fd21d802c0', 'e6b61e0a-d7a6-4ddd-90ea-873167a4f40e', 'd6c3a6ea-bf9f-4402-94a0-ca6fb879b0c0', 'd38ff9cd-57f9-48f7-b1ad-160f0229c395', '8191d41b-3967-486e-991c-0b3591be08af', '9670ba01-8d57-4708-ae70-ab67eacc916e', '7e4fce4e-a2b4-4a7f-b1a3-81d0f4ad1edc', 'ea1f7b8f-a3d9-41fd-b4f0-28da6ca289c8', '4f22793d-64ee-481c-8279-7ca4370f44e6', '02bcd2cc-b143-4383-86f3-93d8d76f7adf', '910ff44d-bf91-46d6-9c80-b4a97c88eccf', 'dae38a5f-8aca-405c-9577-e70fd3cc047b', '9584069a-d4d1-470b-86e0-fa48bb62857e', 'bf2e4749-548e-410a-abf2-57a3a211a7f1', 'eed48430-c42a-4527-a854-7eeea672a8c0', 'cca86565-e4a1-4302-9f79-5a4d6649b022', 'bf9e32ff-45a8-4749-b07f-566067740c75', 'e681df24-ca08-47c8-a3f1-6bdc22f64ef9', 'c7f5e78e-ddab-4a7a-a42b-0c96d92ad768', '1b233bf7-1eca-405f-90c1-681752dc0e9a', '1b2d1048-5ce8-4e37-adce-260438a90092', '7d09e61a-c33c-45ce-bcbe-c445250197aa', '44588ec2-a0c6-4ae9-9477-b56d0e315572', 'e2f4ad5a-f2fe-4b42-b3db-e7df59aff026', '2100af8d-d2dc-48a4-86f3-51454de87947', 'e13dbdc0-86ad-4498-b514-00e98fa5c57c', '949f5d64-8a7f-43fe-8065-72ee54728d34', 'fa8fd8e1-1c98-4f72-baec-e16521f7ec19', 'c2203dab-3025-47d6-8ee3-e4c0c0cc8f77', '0382a870-fd72-42db-a3e0-27cc8671d3c1', '17c0e1c4-0c64-4a9d-b159-7171941ed852', '9c96e5c5-b5af-443a-a21d-cf3a80ac6eff', '49986d6d-ea94-433b-96e7-1f03a9289788', '281973b5-03ff-41bd-91d7-a0447c137eb5', 'f4d496a6-0ff8-4fdc-9880-139317942f1e', 'c3b1d3f1-fd5f-49c6-804a-73179d719e5b', '11614c33-d96e-4b48-9f4b-0e43e478f80b', 'eb9b6c74-de4b-4c70-8560-9a3d083fbe9a', '012dd97b-d231-412f-8e4c-2f205cbde1a9', '2b1bb909-c32b-4213-98d5-186633df0b3b', 'f465f52c-2d50-4023-864a-c81e4266ef62', 'e59f07b4-2302-4fb2-a3e4-ef4e7ed5bf8d', 'f89140be-415a-45a3-8a53-5a618a2c9bc7', 'dcd68b2c-527b-42b4-abd9-835b818255da', '66f7ab94-5e9e-4720-a2e9-02a919f0d3de', 'e8ba5edf-64e3-4135-a8b7-2a9c3fe8d57d', 'a9f31837-d2b6-46fb-92aa-f2e087b7e703', 'abdeea18-1b82-4f32-892c-4b6ffd66cd0e', '6c196f1c-4713-4d35-bec5-8cea79848f3a', '6841303b-ac4d-4e96-b2e4-32c3ce98af58', 'f6a92d9a-5865-47dd-9737-8583afab938a', 'eefcd9e4-4497-4263-aaa3-3d0b693a9aad', 'a635857c-326b-4185-b468-b835449a92de', 'c91c9b28-d804-4b7c-bd07-2136dd8f35d0', '07023c1d-559c-4ca0-ab0b-aaad7871e3fe', 'a59d6bb1-b322-4e41-8346-8ecf8689e835', '6cefba87-37c3-45f7-b593-f09464ed65c0', 'ab9b9df4-e9f3-4a7b-84c5-7956dacd7451', '66d143f9-f20e-4e2d-bfae-e2b2c7502078', '13d38173-e9c3-4d7b-9906-4d4d0e7fb110', 'a6629e31-a2bb-4186-8271-4bf101cfd0cb', '7c526d88-b1db-4e3d-93fb-0479873843ef', '54261433-df83-4893-b5fb-3f75c2e91157', '2ce85422-dd10-40f8-bb56-57273b919582', 'ed7c8e16-d347-42b0-a729-f4f4dd4fd6df', 'bebfceec-de1e-4808-a264-97eafb73eab2', 'be10cc92-a482-489f-9a55-6dc019ab1748', 'a42ee8f2-fbae-4d09-b9d8-cbca6a2a7579', '1ba33eed-8747-4ddc-be30-99f78e449506', '7832e978-9337-4170-90ea-7d504d8a6295', '92070891-a9f0-4895-891d-374644b8a530', '568e9b30-d821-4a09-a20b-330900efa199', 'ac4649c9-2e8e-46c9-9f8d-7ffc8a9e6468', 'd8b51bed-63d7-41a5-933e-c9d521b9c825', '5acca3c1-d659-41f0-86fd-3bcabd227e19', '868d4728-9595-480b-891a-80792f61cb5b', 'b4510b63-d5c0-47a0-8297-c03d9b46d75c', 'eb50a9c2-2fe9-40ee-aaf7-25144c793446', 'cbe56941-6df5-4b05-85ff-56ed98655d9b', 'e42283a6-0f58-40bb-8476-885112db4632', 'd8f4d375-f83d-4754-82aa-d9475e7cb0bc', '264536fc-ceb1-47c5-bc44-544f60ba24da', 'c110069e-5499-4822-bb1d-2c79d8dd66f2', 'f86ab4ad-3530-4b5e-aa0c-5f9b9566dde9', 'e3d6874b-9d24-456c-8f6d-82ecbaad2d74', '5f43f5a8-8702-4f97-8470-cd9405783f2e', '71a87524-fbc1-48b7-be4f-a0438a7533cb', '9979fb68-aa00-4682-8aeb-0e29c5dbc8d6', '75f4e36f-d8b6-484e-b06c-73a8441fe711', '7792629f-104a-4b5e-bfe4-3b8be1ca8f06', '1c0d729d-11a5-4259-9d0c-97012a9c2658', 'b73811dd-b132-4083-8be6-ae3aac18f179', 'c6d353d2-1e0e-4087-933b-c65f5c362d27', '2dadc778-b484-403a-9d70-780290529955', '686af8a3-db5e-4150-bdba-4df91da772b7', '80a5de04-986a-471c-95ad-fc389ebb01a5', '1f74ace7-7286-4b4f-b342-d00d5c8610b2', '96da837c-9954-44c8-8b5d-c1f014381c25', 'd7276d54-ce8a-425a-871a-1fab3978e5ea', '62271330-27b8-4527-9898-4e14ef31fbf0', '72606816-0c78-4d6f-bd68-6a48aed98e7e', '043ed9f1-aff6-4b6d-b692-71c52eb29c79', 'a7ed9666-0c55-4acb-acb6-4abd3615d398', 'd0dc3b72-236b-4b5c-ad71-6732e5f59f31', '25e6280a-5cc4-4e14-993d-c6f9a4ab56b7', 'f4328ca8-1632-40ed-8a86-7c212ba5369e', 'ad949d2f-15ac-46f8-9384-a8b7563fe3ba', '9a5962fb-3a7d-452e-b540-1a0b2dbb62d0', '4ed99922-7b60-4568-8698-3943c61d1404', '503c57c9-3d83-4878-8a05-7b79e2bc3c6c', '1ce30f0c-8437-4f61-88bb-6790f16a18ae', '872975f9-764e-4bfd-b66a-df0ac2c14000', '7cdf2c4b-a10a-4428-a017-30308a2923a7', '1e794528-6459-4606-8d21-5b271725054c', '77b11e2d-95f7-4248-8cd4-ab45aa081e9f', '0a8915a2-039f-4d37-a6bf-bfa6805dfc0e', '5aa39c20-f7da-4452-bf72-d13f6af9fc2e', '8b641206-143f-4fdb-985d-98522e1b2a64', 'eb3b21dd-c933-4503-8ee1-2d4b336da213', '7dbd9ea8-846e-4c13-a2f5-c97065f6cf81', '4a72b1c4-decb-4777-be7d-852eab49926b', '7c248078-e1db-4df8-8e40-f22c6fad890e', '2574b789-8c71-496b-9c5f-19d868c3db50', 'c00eeefc-7867-41de-86ab-a237b7f71990', '6f783d1b-8b62-4902-909e-400e6e6ca35b', '2bf3dcc9-e380-449d-9aa1-b6d44dcec9e5', '891bbdd6-2502-4fa7-bf74-546351b85833', 'b5d33c6d-6581-4a18-8c52-c5b34dd5cfc8', 'a5d12867-ad65-40cd-b5bb-fc8ea3da8f79', '21d3588f-6bbf-435d-b6a7-93b72abe5769', 'bf992170-4ed1-47df-ae96-38f7e44a8125', '46016a89-adcb-4736-abfb-e8ddb4defd51', 'ac43e324-c2c9-4d91-a7ea-482820920bc1', 'c13927ec-ca6c-487e-9415-94d12d9ed8ef', '3daea5f2-0342-4602-b5cf-0f3064a0aedb', '08a88466-d92b-402c-8e77-7078785617ba', '9c27c63f-82e4-49e0-88d1-51bc0a087acd', '04722113-1f9b-4c97-b4f6-114f2d5a83fd', '9df0223c-cca7-43cf-b3a2-96c30b0e99d9', '3c28cb81-4327-4c3d-9e43-d26d3c432e63', '24ec01c5-d149-47ec-87a9-8a57baaa6a4a', '59896f31-5b3c-4663-976b-6ce2d6bc3dbd', 'a162431c-5688-4ab6-987d-b54d553642db', 'e898119c-9053-4a25-aa6f-de4ca6835ec0', 'e02aefc2-312d-49b4-a87f-063d1ea89ebc', '733a6bcf-9606-4108-b1fa-475cb4dbfb52', '912634ca-9dc3-45b7-8c8a-fecd27457cad', 'b149550f-fa07-4259-a017-f9ef10822dc5', '1b41a242-7109-4c4f-8fed-080bc77252eb', '4ab23f13-1318-4bea-8c58-84652cbd71fa', '49aa7e23-53a8-4960-9717-d839c309477d', '346f7c40-5eb1-4259-8f36-6de616fe85b1', 'be06de90-5057-4d78-beac-cafa2d6e6b28', '4626bac0-d5bc-42f6-9f00-793597ebda77', '55e37596-96a5-4ff0-979c-99c7e49525b5', 'ae21a242-51bf-42dd-a6fd-423f382856bb', '0583dc47-93c2-42b1-84dd-d98a770ac773', 'd1236c1d-a956-40e2-980c-0fa56fe08812', 'c29d4dd1-950b-4ad8-a6b3-fbfe49698abd', 'f441c32c-280e-49ee-aead-ccf5d8ff0388', '2fe8f409-b951-4d40-8e93-84b29ddc7bcb', '3e5a3cb1-c937-4857-8b89-0ae80616dc99', 'd38465e1-5ab6-4fe6-a516-1c475887eec0', '46319dd6-0d5a-4d71-939f-a65e8ce0386e', '3225711b-b360-4433-922f-a34aa3685f15', '008e614e-d8ae-4581-923a-954104bc078b', '13536031-da0d-4a85-8db3-b6d64248027c', '7f69ff32-706e-45e9-9886-5d7c2d09611f', 'b91ffaf8-115d-4f9f-8a6e-3174c6b76afd', 'e65ec7d4-1ea9-4a00-aacf-78d2122e84eb', '85068db4-5155-4639-8704-5131151622e0', '9f60412c-261b-4611-84f6-6aea7fec790a', 'f47a6b1e-0c72-4ee5-a75a-f52bc56e26cc', '83797a70-df30-42a4-9dc6-86c881b53489', 'ae86a9a8-db3f-4c07-b8b7-1bfeb14524f0', '078844a2-d866-4096-afb3-361e5808c684', '87a5f115-17cd-4884-96c3-47e4e58d455d', '22c722a5-7b2b-4f97-a1bf-6d4768ac3f48', '5512ba24-8241-4155-b178-9da2f152f6c3', 'ba154790-0bd9-4536-832b-accac10a8cf3', 'e68e3d34-4978-4910-bc1e-048ec4d3d566', '84d51ad4-06bd-4cd1-934e-5bd8b6312cba', 'de7946b5-41ba-4df6-ba14-3a21b345bd58', '1990f839-759a-4af7-a02f-2f2a42fefb5c', '8ae72b73-a1c9-402f-9a5e-c6fa7013d5de', '60c28ac5-6942-4457-aca3-c0136d6a1256', '262d7f27-e9fe-4a73-a44a-77bf76bd546c', '1834dada-60c8-4779-993e-d61784e5b415', 'e00746e7-b192-4233-8149-1140b60f2c1c', '2f4d3522-ab54-42cf-af4e-8cfb99b5169b', '92cd22e2-27e5-499b-913f-974dba4c9efc', '10f87e9c-0a7b-423f-ab0c-647245b3c23b', '56f3c7fc-5d2f-433c-a393-eba5ea519e02', '7998644c-1890-46bd-a79e-cf0154d1e5cd', '57bb2e6b-da2b-49eb-8d72-963e9f64003f', '0b329c58-de68-4dd1-b5cd-c1f2e12b7f56', '5ea68a0b-2821-4af1-b0dd-27591f9863ca', '30a6b9e4-7bf8-47a1-b1d5-66f588e27dcb', 'fc73969a-97e8-4ffa-81c6-037b4b13a929', 'b29607c8-f6a2-4d50-8730-2fc046cc3bd4', '8c2d3c4c-d280-4cd9-8bec-7f1e754a3179', 'ebcfab8c-0eb0-4855-9ad3-f9f09c13a141', '3d8ea4ca-dc72-41e7-aded-baa77dc8d274', 'faa87e53-631f-45dc-b6e4-6bf8660d106e', '7ed328dd-6cd3-47ba-bec0-cf85e83062c0', '3a3b9e34-82be-40ab-a5ec-5baacff087e0', '4d134600-3d9b-40a6-bd3b-4f8f3fc19d2d', '479f4bc7-11d5-444b-bcfd-8b1865a2f1f7', '4f240f09-d469-47dd-8791-4595d9fd6e69', '418a5549-b48e-49e9-a50e-258b3e1ce375', '9712041d-51b2-4783-a18c-9cd7fb09cb49', 'cd9ea14d-f100-482d-9259-6da6ede851c1', '01239fea-aa84-4143-8309-0abadc0c2758', '2721b46f-545c-48d1-9fb1-1325574ee4bd', '3e565738-30ee-4ca3-a0f2-826ab4a62d46', '3a09b498-77c8-4a08-8ac5-48b468e276b6', '56cfb384-32ac-4fac-bcad-dd6d8a7dfdcc', 'a77e68a1-8c34-4bf6-9db7-8bfb88427acf', 'e8d0d729-9656-4305-80dd-55db534afe9f', 'd64d28ba-1134-4829-9821-98bfd2a35f60', 'b61c9b96-75aa-4180-aab1-19bf6d42e175', '0a874ee0-bf28-42ac-8fb6-9cf8818128ee', '9d167c7f-13c8-4463-bf60-7b915040cc3e', '7e1cd47c-769e-477a-bb00-8e7377c83203', '929dd187-0266-4fda-9f24-f823ac5c8b4b', '864e21db-8d78-4e75-9651-b959bd733dfa', '4167f007-1413-4529-84de-92ef780c0ae6', '355f2c23-bdb6-403b-95a6-a5d7bab69df5', 'ea2a334a-e854-4388-9fbb-4fc1224c1377', 'fdb55285-65a9-402d-beff-4a7cb5b341c8', '41cd3d0e-aac7-4734-84b1-fd5c74d0462b', '50396b74-5b8a-49f2-a0c3-3e0bccdcacec', 'd8e78622-c25f-4a7c-a121-db1d1911a2c7', '493d227e-a41c-4531-8c02-fb61235b4ae6', 'b2a4cc0c-f189-4285-93f3-58329d59808e', '69b3da60-2b51-42d0-83f5-b4fc3c79bc2d', '504c1ddf-cf1c-422b-8fa2-f757c83595ee', '392bd16b-e2eb-40bc-a316-f06a79ad19b6', '6c45298d-b932-4656-b2b3-2e0aea8e0736', 'c63cd7ba-e777-4273-ba8f-7913e3ff78df', '4e737d9c-22e8-4a35-a2d0-c86f585cdd13', '1e6f4b5b-b5bb-46f1-a387-cde407852b54', '994d2f16-2a3f-4c5f-b28b-1c32a37f5fdf', 'f4549cc7-053c-4428-8866-f85cf9c201fd', '1df4ba49-3174-4bf5-be02-3bf8cf6d6aed', '69fffa6b-9290-4382-bb93-6cef983f0eb7', 'c70c86c3-3bf5-4b58-82f6-cf1be58c328e', 'da450eb2-ebef-4525-b67e-1e3b9e8889cc', '6e94ee57-1873-4e86-9d8a-66994878b16c', 'c8622d99-ebd8-4256-8077-5c925fbed539', '0042200f-5ba6-4ecf-9b3e-6f2816411dca', '5d94e388-0ad5-4269-99b4-f73e0f8d9263', '2986ab36-b681-4df0-bf96-3e52c8029d2b', '970e55f9-e6e6-4bca-8830-57e29f26ceec', 'df967f1e-967c-4448-ad7d-157afc9fa40a', 'c4d350bc-8768-4540-9dcf-2610049dffd0', '08a15531-6468-45e5-8745-bedc41ae009f', 'b04589b8-7101-49df-9267-85c9ec0445dc', 'e73f8824-cb04-4146-ad43-92d1aa0e13fe', '7a1e668f-5d3b-4224-a1e1-ccdadde3ccb2', '50ae715c-12c7-46ce-b670-5551e0c03a4b', 'd3a74a25-c391-4ef7-9380-438b2ee73d9b', '878c52ab-a01e-4cdc-8cf8-08664656c704', '0cbee473-c021-4822-8be2-adaf47848a6a', 'e5bcd050-cad5-4971-8a22-615ef77b42d9', '2a425e0e-87f1-4e60-b680-ac7ea38f0fb9', '5bf324e5-83c7-4bd9-8f27-93f5a4ac3632', '6926ccd5-7999-43c0-820c-89189ec099b9', '94a1e4b1-c263-4d58-b2ea-267fb13d923e', 'a5451bf3-76ea-4f0c-afdd-d10656832429', '62ff77fd-ba30-4e7f-8619-4deb89633067', '1f3483e3-7ac0-4710-b4ee-21c7fca0feb5', '58a280c0-279f-42ce-bbce-9788ed472191', '8a0aeb93-f3ea-4c52-8a90-f7d5e4bc14ea', 'df2ae32d-0389-44cc-b352-cc4c95a18ded', 'd377e026-3285-472c-a470-4d1cbafa65dd', '5cad36ee-fb73-42cf-88b2-756917543a91', 'f3de8ed9-1907-46a7-aec2-317fd4d3bcd5', '3851e2ec-7867-4d7d-9b3d-aa23f097d8a5', '61ab2f37-2936-40a3-9711-8707cfb9ad2e', '6a9b4ed9-a924-4409-bcbe-1a458bdfaf17', '754168c0-8bec-475f-8a4f-0ae50ee023ef', 'e6ec582e-0d02-4bcf-a309-0121c7cd4d95', '49b0c310-036e-417f-ab99-264e29d981d3', '59330a47-ddd5-4acc-a758-d6d4cbced11d', 'd65d5292-8055-483e-a5e9-93992ec6a5d8', '5788f804-9e24-4b1d-ae3b-8641a8dd6b39', 'c08e1c2b-d964-4284-b5e4-ef2d679ca365', '59a0d767-a0d7-4e09-904d-96cdfa11480b', '4fc823fa-1f4a-49ef-a68d-77147a04865e', '034a7424-8758-4ca4-a499-ed8a8059233b', '695626f8-ddaf-4bd1-b256-2e129a9548ab', 'db1abbed-a0bd-47ef-8aa7-99ab7b5a5fa4', 'f520ad7d-fe40-4024-8861-efa3c758a21f', '7cafebe6-2427-493e-8d9c-af348cc21dd9', '46897fe5-1f1a-4a02-af13-ae518f8fb47e', 'fe71c301-ee82-44a7-b9f6-255d53d2a25f', '1fad6289-dd04-4da1-ad9a-d5bf991a5708', '6c8548b5-32ec-4fa9-8618-aeb147b26cda', '2bf0f031-157b-4056-aee6-adad94e20ef5', '35531961-0186-4c81-b382-8aeb031dd105', 'd05cf926-f02b-452f-a562-20cd43dd6dbd', 'e2700994-bd08-4b2a-90b5-19a02e170831', '6a494211-768f-4deb-bbd2-c578ec9917d0', 'a632d235-28e2-4764-b941-c201c9aac21b', 'dbec518a-26be-43cc-b8ba-749002291522', '38bb36b3-bc3e-48ba-8c1b-cb8f8bb7bef8', 'a5860c5f-3ede-4632-a014-afbd4c7b44c8', 'bccff5dd-1cae-41ab-9e23-aaad8449a30c', '0b918b7d-f722-42ae-a4d8-838a86778391', '13c1f1d0-039e-4179-b41c-99c6df5846a0', '33cd7fe2-e308-477d-ad49-4439537816fb', '3ab6bf6d-7396-4b19-aec3-f90e6e969cea', '230720f6-dd44-4437-8710-ce2758593a0e', 'd300b0ba-9f90-41fd-b07d-23f32c224dff', 'e028d33b-d14e-4a1e-9bbb-2b713cfdd8e7', 'c6319787-7bbe-46fd-9bb4-169f4d6e08c1', '04385cb2-b1a2-4399-9905-2ae40062ac6c', '0b6cfeec-706e-412d-bcd5-75f8120e5f22', '3a5cece2-3f79-4df7-b5e8-3a1fec7314ae', '2a994011-1b78-46cf-82ae-b515d6ea28e9', '495609d7-fb53-406a-97a7-7428231e3346', '2962cfd2-e6cc-498f-a71f-f624133f7c06', 'befd0edf-35a2-4d01-8bf8-8c522eff5752', '44f0092b-d2a3-4169-a928-5f87e2821940', '735dcfb6-21be-41af-b309-c897bc086047', '81a1f3b9-bcc1-4eac-a2fb-8cafd0dee38a', '7bee1554-68e2-4559-82d3-8a1e4d168a0d', 'ae0fcae7-8144-4c47-9f03-48975f1863b6', 'f3860fae-333f-4afb-9122-8312165de7c6', '54cd1b24-3466-4294-b8d3-b09aa0384799', '313f2f61-592a-4f12-8d30-c6f198bbb496', 'bb60989d-6435-4c72-9ad4-b79f1de3fe13', '81058f34-4ca1-486c-9694-4523df14ae01', 'cd3330d1-8bd3-4a0e-b529-e526ce453ec8', '825d6bb2-099c-48ef-80de-71afeecf9e82', '7b8f8bcc-9628-41d6-bc37-139097b57d01', '0110272d-52ed-463d-a714-9289b7ff6dd7', 'aef41d01-1020-489d-8009-a5ede7fd4490', '78a516d2-9a9c-48b3-b87d-d82aea7769f2', '64ab2b15-67f6-4874-9b3f-e83a84918f8e', 'c5dc073d-efce-488a-ac83-9bdd2b842abe', '6772b9d9-d55d-4ec4-aab0-0e12721f543a', '59a02835-8ec1-4e32-9309-dfd780b0d9b2', '33ce35a5-c3c3-4bb4-b4ab-dd5e70d2d70d', '28edfdf7-5175-44f8-b8a1-40b3f07bad16', '7e6b50b5-4cc5-479e-afca-d5ad93e92406', '98df3e30-1b72-40db-8090-fdca1a6716ca', '237f1e21-680f-4387-a545-d60b1879e852', 'd59b8026-c62e-45e3-9ffc-12674c81dc5d', '3ecd5572-1c30-4ee1-9a58-06fadde2d75f', '06d3eac9-8ec0-4345-af5f-7c42b2cbc1aa', '3f66de2e-6182-417a-be53-e2033364986f', '04bb5788-857b-4e84-8115-95a33e955108', 'bf39029e-3b15-417b-bf16-ffa61a89eb75', 'c4939413-74d5-4931-adfa-4674d8e00cbd', '8064defc-b156-49a7-9747-f5fcce526a38', '78bb57f4-dbe0-48a1-8bfb-74ec5a02c3e4', 'a32dedb4-42bd-4f1d-998b-d37f9d18b854', '96a2d483-cc3d-43a7-81fd-ffa9da28cbac', '617a6ef1-8a3f-41d6-8582-300a148ace46', '36c68437-8816-4cfb-8dc2-1748c05fc303', 'fe61596f-dc80-4d8b-ab9c-513178af4d5d', 'ef4d4a4f-87d6-47bb-8cbd-9212404297a5', 'df7abe33-23fc-40f1-b409-6bbf07983f63', 'f52a5a10-56f6-4ca3-9b04-0df462e95351', '1257d88b-2fb5-4982-bb3d-12a33f51efa4', 'c0ea1648-6960-4ff7-b7ef-2447af0b18cb', 'e89de479-29e0-4e58-97d2-cbc85db56835', 'd3bc0a5a-6cc6-4f3f-ac28-13aaf0b53a62', '60437489-ae85-4e6f-8cf5-7fc346dbcdb2', '789b423b-a66d-4573-89af-d1c9b4aee761', '9edef5f0-be75-4249-80db-524c970412e8', 'f62ce670-d497-4fb2-aa48-86d04fa48482', '72c60d62-012f-4fbe-adeb-13c5db441bb2', '2044a85b-2fad-4913-9813-9485a9ac12ee', '040ba074-7825-45c1-b45a-a1e714aee6bf', '366c50da-1f9e-447d-9f7a-e01b821119bc', '8d03aabb-fa37-45a0-ba00-e3d3f1e5520a', '0a2b8551-bbd2-4fb0-91c0-735bb0026395', '70c21141-2fe3-4086-a1b6-c3c37050f979', '20d69494-1b3d-474e-8864-c606d9288188', '66b71c7c-3b47-4a95-8f8f-1db955888a56', 'b0ad4607-4437-4f45-85ce-a1123ca4faea', 'a26d4906-6986-4656-bfb3-07d2b17d92fd', 'cd94aa2f-c67f-4146-a1ca-75d1a0eabf4e', 'acce77db-86f2-4665-b031-96affb03d8be', '6d6250f5-6773-4499-ab73-7786d2e68caf', 'fb7f020e-4ab7-4a80-a716-28d0a7b4e73b', 'a0c25bd3-d640-42bc-ad16-81eea2105d99', '7f52fd13-0b9b-4b04-9249-88294a462b3f', 'e6261903-aead-4641-a15c-e905c4d3682b', '7da9370a-d7d1-4056-9cc5-c5c4e431c7a1', '2a420178-3585-4c00-856c-cce927ea2a48', '7b13c751-3fa6-4253-8264-3d1ef4b2d347', '825cd8ee-23d2-4193-9cbf-9578c92841f6', '1150e04a-478a-4d9c-a778-06325c93bf06', 'bcf1a407-b58c-4cb3-8bba-09c0f42fa158', '22834fe5-77be-4d09-9dc2-a8293e0d2079', '1839befb-0530-4808-bdb3-0ed2cdc5bccc', 'a09876b5-6b54-4970-af44-28d455592f60', 'd67d347f-98c7-43a5-bf56-c6530b69343e', '46e7c323-b819-44d9-a093-aee72ab221da', 'b302955a-b58e-4a48-847a-6f83919a0417', '355d954e-f6ca-40b2-a37f-40591cfc5503', 'a4de6e09-c6fc-479d-80d6-3b27b20f0ab0', '0058c7b3-ab66-484e-a86b-4a2c4afa5061', 'b6bd938c-72f4-4b7b-a41d-25a82a96f5e2', 'cb0a5900-cf8f-459e-b698-543923d9eb2b', '817c352b-597f-404c-824c-e0cac6493dbd', '34d1572d-7aa1-4015-a2b4-566db81850ee', '33d1e3f4-bf3e-410c-804e-619f8d39b33f', '7d4a550a-9ad8-468d-809d-3a13dab8aee6', 'de525ff7-e9fd-482c-8992-fa50917c1422', 'd0bac3d6-e01f-45c3-9a0d-b042affe5347', 'd129175c-3174-401f-8ad3-15cbe9f5e6a3', '572096ea-5dde-4302-977b-b3eab321a490', '69f3d592-67c0-44b4-98c1-9e31a20fbd27', '5c5d2e03-ddd9-4040-93a6-0e60b65d63a1', '363ee8dd-8fd4-4c3b-8ce5-42e452769b82', '475e74df-967e-4ffc-b863-e5cb889abcfb', '81a10018-9490-4b03-9442-dcd9284e92be', '8e3f6f61-e369-4728-8c71-45081f7cb0b0', 'b77a6ac0-6e87-410a-a516-5d8375d11794', '8eb3a140-fbee-4793-99e3-ff8b65e08fa5', '7f01a3ba-a9d0-4c0b-9a4d-8a51075c4e8a', 'd6a28a9c-6fe8-49f1-8a7a-96114f31a370', '091515a7-2d89-4368-9213-ad1363c8a7b5', '0668db29-e31f-437a-b8a0-a57a2be81203', '063863f0-2b33-41d9-8c26-cdfa433df909', '69a82bda-ee9b-4e35-bc9d-8b2ba2417d5a', '7de1279d-2925-485f-ab76-aa991d92ccb0', '2fb9a798-c551-4abf-9392-36990706c563', 'd67adfb2-d9ed-4508-8ca8-74712070c701', '00d59a9e-a559-4334-812c-69b34c7ff483', 'bb9256bb-50d4-4f60-9a21-3e24f8bab164', '3bbc1a3c-458a-4d84-973a-d972030f15c4', '289af29a-b32a-4ab8-b6e7-8f2c7808d3e6', '6c064963-4ed2-4616-b0f9-74d6a7e89a25', 'bb585b2e-d82c-4447-9e3d-95db0f200824', 'a5ee0735-6e07-4a20-96dc-5899ca5c83a8', '65d5c882-56b4-4f40-86dd-1dc5286ef705', 'cb3f8ce9-9fbc-44ef-8147-67805a559f1f', '11df2104-dfe0-4e03-959e-553116783947', '154dbdc8-23cc-4197-b14c-c0c1e427b70b', '816dadac-5406-431d-bc0d-ebcdd947ebfc', '3f14c8e8-7102-428e-a5d6-8f7e7ba3027b', '30ca087b-83dc-4664-9639-af8732e86a37', 'c9af300d-0a15-490f-9d05-7e833a2b7cb6', '5fa05a72-a2d8-4cba-bea8-554b6b6332ad', '1687b4d7-5b3d-4a31-9bc5-4b3c08652de9', '766adc61-5db0-4067-b54f-d0f9000c7017', '525ce0c4-5acc-46fe-a71f-6402251acc5d', 'badc5be3-209c-4208-8501-85abaa4082e9', 'b93ebcc6-fc29-4c68-a840-c09634c6ffb4', '4ed4e680-985e-42d8-b93d-c274502456b4', 'fa9adf2d-d30c-4b9c-b238-051b4cb57650', 'f08a5e1d-d227-4f1c-83de-db0a7ee9b68a', 'eabe2c4c-aca2-4d26-906c-2f94a18b5164', '3b03b610-1ad2-4d96-b194-d0cc8b548025', '47a27201-6f34-43fe-96d7-80d3cbc01dc2', '81db491a-fa44-46fb-b383-b9f33db9bfda', 'e59a9be4-416d-4723-a3ca-1fe0006ab307', '01f407ed-d1eb-4aec-80b0-486a2ce5c611', 'cb1bedde-876e-414e-9ea2-d9179ec02203', 'c7f69059-db0b-45c9-90a0-de66d7d32a3f', '22643a67-7963-425b-9b9c-e0329ec76830', '99d1369c-400a-4eda-b513-0db9b080a155', '50d0b505-816c-45ac-9bc9-ab30b8f7a33b', '737fbc2b-4e21-443d-859a-4d7b56614ea0', '02c0299b-2a73-46e1-b075-2bd41d8b07d2', 'a777a8f5-3b21-47b3-8637-ad3870084040', 'db871ec0-a95e-4a85-85db-29d5d93bed21', 'd3a2c054-34d7-4264-8a05-4a939ca53e67', '262a980a-b861-4fb5-aff9-69ea05422c00', 'c9884ed7-d05c-4a67-8b6e-e7c66f08ca92', '64e7fd9d-6d32-4489-8939-db6ec74e5da7', '0ea5d7dc-c2f0-4f09-ad75-cede37cdfc5f', '05afb4c1-968d-47bf-988f-9da14c0c7f60', 'e67e3127-fa99-4261-96f7-2faae1094568', 'dfa5ba09-078d-4fa1-b89e-8e5523e62f8e', 'ac3d8862-2fec-40bf-b7e2-cd33bd3571e6', 'e20a9735-cddd-4d21-abf2-a0ebfde547e1', '673d2512-fa67-4831-969c-443862cc13a2', '69add3fd-4df1-4943-98ab-cb81c8187ac3', '6c29af68-24bb-4213-b23c-f103778f9edf', 'c32816b9-c706-434e-8ccc-466175e94099', '3675b432-4448-40cc-a994-ccf49ca2af75', '581235ad-6337-4fd0-bcbf-cfa591f765ca', 'b50c6c2f-08e9-4674-82fa-e9708355d5d6', '2c40c0b4-a029-48d6-a751-c3f6dcda71bc', '6135263f-bf5e-4830-bf7f-e5a84e875694', '300cee5e-d5a3-4c88-a7fe-e9eb2f80b0f2', 'daf708d3-eabf-4cd9-973f-7908983c17c9', '4da1f43e-6d5a-4a94-a3f2-938122f1f469', 'e8d295e3-2d17-4cc5-8630-c7c77a30d085', '49bbc8b8-7ab6-48ba-bb21-8535bd2b3f04', 'a2fae170-b0e8-4baa-9f6f-f9d938a36899', '9f88707e-413e-4470-9797-926410d60fb9', 'e7bef944-1099-4ad9-8fc4-2a9ab19bab0b', 'ee1d1f1f-58bb-46b8-bfde-d9c420b21741', '53e9584f-9711-448f-91fa-d6fdffee759a', '5c29f5d8-3e3f-4987-965f-5b3cb7269b6d', '12425b9f-7e38-48dd-b89e-243f51289818', '84002103-0ea1-4f2f-8839-e27f6aa8815c', '26043ec8-d9d4-46bd-ace8-4a8ee37c2fac', 'f4b4ee27-95ea-4696-831e-0d313f1a4d93', '6981b5aa-e3d8-4bd8-b5ae-817cc868be1c', '6dadd42b-84fb-4a03-8595-4f95218e9428', '60fa26b1-48b8-474b-875b-2b2d59641033', 'b44352c9-3fba-4fa9-a2ec-5db48df48d73', 'b64167b8-999c-4876-994f-7318b3155a45', '42091b1d-0bbd-4715-bfe4-17754a0035fb', '7cf593e9-9add-47c9-9f39-eb1b148d497b', '563415f5-506f-44cd-a9e3-d305e90697de', 'f53b42a5-06b7-4dca-b085-6a86f9f55ac0', '9e5f0961-b4d8-4f13-ac74-3a7ca2f7700c', 'e3ae2ad4-6959-44e7-ac2a-ff6533260e02', 'ff652c9a-9f55-4feb-a7de-bddf0fa552fb', 'ee0528c5-2ba1-4b2a-a2fa-fad4158777c4', 'b85e32ae-e6c9-4c35-a380-69832439ca76', 'ea3e6b59-68f8-4732-8da2-c8dcf7839bfc', '216dccc6-b974-47c9-807f-c1d58feab65a', '5b0fba4d-e3ea-47f3-adcc-c45ec01fc2f6', 'eb8da1c2-b88f-4bc5-8edc-7166b54b2ff7', '9ebbe633-b1e9-47e0-93dc-9ff80f6d4527', 'b7b13da9-c264-4410-83c8-aaf791129dd8', '034de42b-e6c0-41cc-9fc4-9fbe50c63a90', 'd43e1b8e-c06c-4df5-84b6-12cbee9cf148', '637bcafe-c403-43ff-9f66-94c71d5235f7', 'a120f214-85be-46df-bfad-08e00e1e757e', '87d36682-c5ea-4615-976e-6f7368031119', '9bfdab1a-9cc7-4cfe-b4d2-1e61f866166c', '4d4e491c-fea3-44b1-8123-0231b106d1e2', 'cf9b7caf-fe89-4250-bde6-fe22f1fc1d80', '5d0d4302-dba7-4774-8efa-60f336977d63', '11521516-c812-42a0-b6dd-9c8b36a5d54d', 'e48a2b3b-9fb6-46d9-af0b-0c419f19a092', '23e89bfc-00b1-4da0-b3f3-d111e9471913', '71a821db-1a8c-43d5-ab96-3889ec0f6076', '405f80f2-6208-40dd-afe7-11c74e929aaa', 'c208241a-a2bc-4d45-a5b1-4fe262458f91', '90acaf21-6999-487a-ac54-4148d04fdd99', '18b83101-c835-49e0-951b-3b107b4a28d0', '8eb812c9-60b6-4a51-b364-5883611a7afd', '6d6b3a7e-283e-470d-ae1c-02b8a5ec1e3a', '8ecbaadb-a275-4ac8-adc1-68b65c516361', '871d9043-7559-417b-8ef2-c39d95ae1ff5', 'c8e448e6-1ada-43bf-83ac-0cc658d598cf', '7327f271-890c-4bd1-b547-35e6cbd9c8e7', '7b216208-1fcb-42ed-a2e9-b3b7837320f9', '4e784c6b-5ecd-407e-8040-fb517dce0175', '0d88b008-d18c-45ec-8500-62a46ef0daf1', '9b960c61-c3cc-401d-9c7b-a9bb72b42780', '5714cccb-3a94-4062-89d3-e179f228604e', '4b605c85-d5b9-49ba-ab93-4e3ed38dee43', 'f9137210-6769-4c65-928e-4c113b873a06', '21591654-a372-45f4-a273-5cd6debc40ee', '39d3a7f6-c97d-4c97-9e7d-8fe8410e2f1d', 'ef598f51-35f0-45f9-b4e0-67ab1f2924c7', '25a89489-ac57-4c07-8846-d87f8d7dfd12', '0d7b71fa-645d-4616-a712-c8b9a0f2698b', '344a5c63-ff5f-4a39-b2fe-a1667de9d1e9', '240a9eb7-c170-41cc-b3ea-300214f0023c', 'e93d44a4-3334-4463-830d-0e793f89350f', '00aecb31-2f19-4215-ab7a-0a74c7f276cb', 'e51c8885-80cd-458e-8647-c82e5a9e6555', 'e5d2582a-f576-48f0-8389-fe0eafc6d5b0', '38c35a00-26c4-453c-9e7e-c52fb88db612', '6b6d99b4-8780-4229-80d8-377043aca630', '6039fa1f-ee1a-43d5-871e-6f05ea83fb94', '34442bfd-c6f5-4dcc-ad7d-5c96924908db', '8d9ae581-c642-455e-bfad-b8f0c121510d', '30dbb592-e397-4e27-88fc-94ac0964c82f', 'dd6ca8d5-554d-4124-8b5a-129ba0d36c00', '58e5f498-eb7e-4fda-8ffa-2b934b02c69b', '8d9bcb03-4317-4601-8047-c8889416c593', '6b92f0e9-1bc3-4c19-815a-83a427552a49', 'ea692f36-1665-4499-8ce6-281405261818', 'b35255c1-7395-4fc3-b815-e36c99cd7abd', '506166fb-024a-4772-963c-ccaf0168a474', '2e6cb61a-0e3d-4631-907a-a5d687948147', 'ca174e8a-7d04-44d0-9c81-9703b3d1778e', 'd7401a22-50e6-4e1b-94f1-171cfc18eca0'}\n",
      "2025-07-09 17:36:29,516 - fmp_data.fmp_data.lc - WARNING - Existing vector store validation failed\n",
      "2025-07-09 17:36:32,678 - fmp_data.fmp_data.lc.vector_store - INFO - Added 134 endpoints to vector store (skipped 0)\n",
      "2025-07-09 17:36:32,695 - fmp_data.fmp_data.lc.vector_store - INFO - Saved vector store with 1072 vectors\n",
      "2025-07-09 17:36:32,695 - fmp_data.fmp_data.lc - INFO - Created new vector store with 134 endpoints\n",
      "2025-07-09 17:36:32,695 - fmp_data.fmp_data.client - INFO - FMP Data client closed\n",
      "Detailed Financial Analysis:\n",
      "{'natural_language': '### Financial Health Analysis of Apple:\\n\\n1. **Current Ratios and Debt Levels:**\\n   - Current Ratio: 0.8673\\n   - Quick Ratio: 0.8260\\n   - Debt-to-Equity Ratio: 2.0906\\n\\n2. **Profit Margins:**\\n   - Net Income Margin:\\n     - 2024: 23.97%\\n     - 2023: 25.31%\\n     - 2022: 25.31%\\n     - 2021: 25.88%\\n     - 2020: 20.91%\\n\\n3. **Cash Flow Trends:**\\n   - Operating Cash Flow per Share:\\n     - 2024: $7.71\\n     - 2023: $7.76\\n     - 2022: $7.09\\n\\n4. **Growth Metrics:**\\n   - Revenue per Share:\\n     - 2024: $25.48\\n     - 2023: $24.35\\n     - 2022: $24.31\\n     - 2021: $21.91\\n     - 2020: $15.11\\n\\nFor a more comprehensive analysis, additional data on growth metrics and cash flow trends can be beneficial.', 'data': None}\n"
     ]
    }
   ],
   "source": [
    "# Initialize with custom settings\n",
    "advanced_tool = FMPDataTool(\n",
    "    max_iterations=5,  # Increase max iterations for complex queries\n",
    "    temperature=0.2,  # Adjust temperature for more/less focused responses\n",
    ")\n",
    "\n",
    "# Example of a complex multi-part analysis\n",
    "query = \"\"\"\n",
    "Analyze Apple's financial health by:\n",
    "1. Examining current ratios and debt levels\n",
    "2. Comparing profit margins to industry average\n",
    "3. Looking at cash flow trends\n",
    "4. Assessing growth metrics\n",
    "\"\"\"\n",
    "# fmt: off\n",
    "response = advanced_tool.invoke(\n",
    "    {\n",
    "        \"query\": query,\n",
    "        \"response_format\": ResponseFormat.BOTH}\n",
    ")\n",
    "# fmt: on\n",
    "print(\"Detailed Financial Analysis:\")\n",
    "print(response)"
   ]
  },
  {
   "cell_type": "code",
   "execution_count": null,
   "id": "0b5473b1",
   "metadata": {},
   "outputs": [],
   "source": [
    "\n",
    "{'natural_language': '### Financial Health Analysis of Apple:\\n\\n1. **Current Ratios and Debt Levels:**\\n   - Current Ratio: 0.8673\\n   - Quick Ratio: 0.8260\\n   - Debt-to-Equity Ratio: 2.0906\\n\\n2. **Profit Margins:**\\n   - Net Income Margin:\\n     - 2024: 23.97%\\n     - 2023: 25.31%\\n     - 2022: 25.31%\\n     - 2021: 25.88%\\n     - 2020: 20.91%\\n\\n3. **Cash Flow Trends:**\\n   - Operating Cash Flow per Share:\\n     - 2024: $7.71\\n     - 2023: $7.76\\n     - 2022: $7.09\\n\\n4. **Growth Metrics:**\\n   - Revenue per Share:\\n     - 2024: $25.48\\n     - 2023: $24.35\\n     - 2022: $24.31\\n     - 2021: $21.91\\n     - 2020: $15.11\\n\\nFor a more comprehensive analysis, additional data on growth metrics and cash flow trends can be beneficial.', 'data': None}"
   ]
  }
 ],
 "metadata": {
  "kernelspec": {
   "display_name": "Python 3",
   "language": "python",
   "name": "python3"
  },
  "language_info": {
   "codemirror_mode": {
    "name": "ipython",
    "version": 3
   },
   "file_extension": ".py",
   "mimetype": "text/x-python",
   "name": "python",
   "nbconvert_exporter": "python",
   "pygments_lexer": "ipython3",
   "version": "3.10.18"
  }
 },
 "nbformat": 4,
 "nbformat_minor": 5
}
