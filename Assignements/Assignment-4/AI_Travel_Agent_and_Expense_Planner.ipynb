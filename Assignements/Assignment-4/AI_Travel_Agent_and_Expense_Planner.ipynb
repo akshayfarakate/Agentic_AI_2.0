{
 "cells": [
  {
   "cell_type": "code",
   "execution_count": 1,
   "id": "99eef993",
   "metadata": {},
   "outputs": [
    {
     "data": {
      "text/plain": [
       "True"
      ]
     },
     "execution_count": 1,
     "metadata": {},
     "output_type": "execute_result"
    }
   ],
   "source": [
    "import os\n",
    "from dotenv import load_dotenv\n",
    "load_dotenv()"
   ]
  },
  {
   "cell_type": "markdown",
   "id": "5b356f5d",
   "metadata": {},
   "source": [
    "### set environment variables"
   ]
  },
  {
   "cell_type": "code",
   "execution_count": 2,
   "id": "1080892a",
   "metadata": {},
   "outputs": [],
   "source": [
    "os.environ[\"GROQ_API_KEY\"] = os.getenv(\"GROQ_API_KEY\")\n",
    "os.environ[\"OPENWEATHERMAP_API_KEY\"] = os.getenv(\"OPENWEATHERMAP_API_KEY\")\n",
    "os.environ[\"ALPHAVANTAGE_API_KEY\"] = os.getenv(\"ALPHAVANTAGE_API_KEY\")"
   ]
  },
  {
   "cell_type": "markdown",
   "id": "8ce60ff2",
   "metadata": {},
   "source": [
    "### Import required libraries"
   ]
  },
  {
   "cell_type": "code",
   "execution_count": 3,
   "id": "730b66e6",
   "metadata": {},
   "outputs": [],
   "source": [
    "from langchain.tools import tool\n",
    "# from langchain_community.tools import DuckDuckGoSearchRun\n",
    "from langchain_core.messages import HumanMessage, SystemMessage\n",
    "from langgraph.graph import MessagesState,StateGraph, END, START\n",
    "from langgraph.prebuilt import ToolNode\n",
    "from langgraph.prebuilt import tools_condition\n",
    "from IPython.display import Image, display\n",
    "import yfinance as yf\n",
    "from langchain.prompts import PromptTemplate\n",
    "from langchain_core.output_parsers import StrOutputParser\n",
    "import re\n",
    "from langchain_groq import ChatGroq\n",
    "import pyowm\n",
    "import requests\n",
    "from bs4 import BeautifulSoup\n",
    "from datetime import datetime\n",
    "from langchain_community.utilities.alpha_vantage import AlphaVantageAPIWrapper\n"
   ]
  },
  {
   "cell_type": "markdown",
   "id": "b8fabed2",
   "metadata": {},
   "source": [
    "### Set LLM model"
   ]
  },
  {
   "cell_type": "code",
   "execution_count": 4,
   "id": "15ee3194",
   "metadata": {},
   "outputs": [],
   "source": [
    "\n",
    "llm = ChatGroq(\n",
    "    model_name=\"deepseek-r1-distill-llama-70b\",\n",
    "    temperature=0\n",
    ")"
   ]
  },
  {
   "cell_type": "code",
   "execution_count": null,
   "id": "7552fa7f",
   "metadata": {},
   "outputs": [],
   "source": [
    "class User:\n",
    "    def __init__(self, destination, trip_start_date, trip_end_date, number_of_travelers, native_currency, maximum_budget):\n",
    "        self.destination = destination\n",
    "        self.trip_start_date = trip_start_date\n",
    "        self.trip_end_date = trip_end_date\n",
    "        self.number_of_travelers = number_of_travelers\n",
    "        self.native_currency = native_currency\n",
    "        self.maximum_budget = maximum_budget\n",
    "        \n",
    "    def get_user_travel_details(self):\n",
    "        return f\"User want to travel to {self.destination} for duration {self.trip_start_date} to {self.trip_end_date} with {self.number_of_travelers} people. User's native country currency is {self.native_currency} and user has budget constrain of {self.maximum_budget}\""
   ]
  },
  {
   "cell_type": "code",
   "execution_count": null,
   "id": "9982ace5",
   "metadata": {},
   "outputs": [],
   "source": [
    "user1 = User(\"London\",\"10 July 2025\", \"17 July 2025\", 3, \"Indian Rupees\", \"1000 Euros\")\n",
    "user1.get_user_travel_details()"
   ]
  },
  {
   "cell_type": "markdown",
   "id": "3f49e3ae",
   "metadata": {},
   "source": [
    "### Attraction and Activity Manager class"
   ]
  },
  {
   "cell_type": "code",
   "execution_count": 5,
   "id": "69edb12e",
   "metadata": {},
   "outputs": [],
   "source": [
    "class AttractionActivityManager:\n",
    "    \n",
    "    def search_attraction_and_activities(self, destination):\n",
    "        \n",
    "        parser = StrOutputParser()\n",
    "        template = \"\"\"\n",
    "        You are a travel expert. Provide helpful, accurate, realistic, and up-to-date information for tourists.\n",
    "\n",
    "        Your response should follow this format:\n",
    "\n",
    "        -------------------------------------------------------------------------------------------\n",
    "        Top Attractions and Activities\n",
    "\n",
    "        Attractions\n",
    "\n",
    "        [Attraction Name]\n",
    "        Description: [Brief description]\n",
    "        Cost: [Cost per person in USD]\n",
    "        Hours: [Hours of operation]\n",
    "\n",
    "        [Repeat for minimum 10 attractions]\n",
    "\n",
    "        Restaurants\n",
    "\n",
    "        [Restaurant Name]\n",
    "        Cuisine: [Type of cuisine]\n",
    "        Cost: [Cost per person in USD]\n",
    "        Hours: [Hours of operation]\n",
    "\n",
    "        [Repeat for minimum 10 restaurants]\n",
    "\n",
    "        Activities\n",
    "\n",
    "        [Activity Name]\n",
    "        Description: [Brief description]\n",
    "        Cost: [Cost per person in USD]\n",
    "        Duration: [Duration]\n",
    "\n",
    "        [Repeat for minimum 10 activities]\n",
    "\n",
    "        Transportation\n",
    "\n",
    "        [Option Name]\n",
    "        Description: [Brief description]\n",
    "        Cost: [Cost per person or per ride in USD]\n",
    "        Recommendation: [Additional helpful information]\n",
    "\n",
    "        -------------------------------------------------------------------------------------------\n",
    "        Consider the following context:\n",
    "        - Desired destination: {destination}\n",
    "\n",
    "        Fill in the details with realistic, up-to-date information for the specified destination.\n",
    "\n",
    "        Make sure your response sticks closely to the format described above.\n",
    "        \n",
    "        All the cost should be given in USD\n",
    "\n",
    "        \"\"\"\n",
    "        \n",
    "        prompt = PromptTemplate(\n",
    "            template=template,\n",
    "            input_variable=[ \"destination\"]\n",
    "        )\n",
    "        \n",
    "        chain = prompt | llm | parser\n",
    "        response = chain.invoke({\"destination\":destination})\n",
    "        \n",
    "        # Remove <think>...</think> tags and their content from LLM response.\n",
    "        return re.sub(r'<think>.*?</think>', '', response, flags=re.MULTILINE | re.DOTALL)\n"
   ]
  },
  {
   "cell_type": "code",
   "execution_count": null,
   "id": "6fb21396",
   "metadata": {},
   "outputs": [],
   "source": [
    "obj = AttractionActivityManager()\n",
    "obj.search_attraction_and_activities(\"Mumbai\")"
   ]
  },
  {
   "cell_type": "markdown",
   "id": "1b0eb7d0",
   "metadata": {},
   "source": [
    "### Weather services"
   ]
  },
  {
   "cell_type": "code",
   "execution_count": 6,
   "id": "68589e0c",
   "metadata": {},
   "outputs": [],
   "source": [
    "class WeatherService:\n",
    "    \n",
    "    def __init__(self, api_key=None):\n",
    "        self.api_key = api_key or os.getenv(\"OPENWEATHERMAP_API_KEY\")\n",
    "        self.owm = pyowm.OWM(self.api_key)\n",
    "        self.mgr = self.owm.weather_manager()\n",
    "\n",
    "    def _get_manager(self):\n",
    "        \"\"\"Helper to reuse the Weather Manager instance.\"\"\"\n",
    "        return self.mgr\n",
    "\n",
    "    # @tool\n",
    "    def get_current_weather(self, city: str) -> str:\n",
    "        \n",
    "        try:\n",
    "            observation = self.mgr.weather_at_place(city)\n",
    "            weather = observation.weather\n",
    "\n",
    "            return f\"\"\"Location: {observation.location.name}\n",
    "            Temperature: {weather.temperature('celsius')['temp']}°C\n",
    "            Status: {weather.status}\n",
    "            Humidity: {weather.humidity}%\n",
    "            Wind Speed: {weather.wind()['speed']} m/s\n",
    "            \"\"\"\n",
    "        except Exception as e:\n",
    "            return f\"Error retrieving current weather for {city}. Exception: {e}\"\n",
    "\n",
    "    \n",
    "    # @tool\n",
    "    def get_weather_forecast(self, city: str) -> str:\n",
    "        try:\n",
    "            forecast = self.mgr.forecast_at_place(city, interval='3h')\n",
    "            forecast_report = \"\"\n",
    "\n",
    "            for weather_data in forecast.forecast:\n",
    "                forecast_report += f\"Time: {weather_data.reference_time('iso')}\\n\"\n",
    "                forecast_report += f\"Temperature: {weather_data.temperature('celsius')['temp']}°C\\n\"\n",
    "                forecast_report += f\"Status: {weather_data.status}\\n\"\n",
    "                forecast_report += \"---\\n\"\n",
    "\n",
    "            return forecast_report\n",
    "        except Exception as e:\n",
    "            return f\"Error retrieving forecast for {city}. Exception: {e}\"\n",
    "\n"
   ]
  },
  {
   "cell_type": "code",
   "execution_count": null,
   "id": "41923641",
   "metadata": {},
   "outputs": [],
   "source": [
    "obj = WeatherService(api_key=os.getenv(\"OPENWEATHERMAP_API_KEY\"))\n",
    "response1 = obj.get_current_weather(\"Mumbai\")\n",
    "print(response1)"
   ]
  },
  {
   "cell_type": "code",
   "execution_count": null,
   "id": "81abdb96",
   "metadata": {},
   "outputs": [],
   "source": [
    "response2 = obj.get_weather_forecast(\"Sidney\")\n",
    "print(response2)"
   ]
  },
  {
   "cell_type": "markdown",
   "id": "33160463",
   "metadata": {},
   "source": [
    "### Hotel booking and accomodation calculator"
   ]
  },
  {
   "cell_type": "code",
   "execution_count": 7,
   "id": "40c77a89",
   "metadata": {},
   "outputs": [],
   "source": [
    "class BookingScraper:\n",
    "    def __init__(self):\n",
    "        # Headers to mimic a browser and enforce US English\n",
    "        self.headers = {\n",
    "            'User-Agent': 'Mozilla/5.0 (Windows NT 10.0; Win64; x64) AppleWebKit/537.36 (KHTML, like Gecko) Chrome/91.0.4472.124 Safari/537.36',\n",
    "            'Accept-Language': 'en-US,en;q=0.9',  # Prioritize US English\n",
    "            'Accept': 'text/html,application/xhtml+xml,application/xml;q=0.9,image/webp,*/*;q=0.8'\n",
    "        }\n",
    "        self.session = requests.Session()  # Persistent session for cookies\n",
    "\n",
    "    def _set_currency_cookie(self, currency: str = 'USD'):\n",
    "        \"\"\"Set currency cookie for the session to enforce USD.\"\"\"\n",
    "        try:\n",
    "            url = f\"https://www.booking.com/?change_currency=1;selected_currency={currency};top_currency=1\"\n",
    "            response = self.session.get(url, headers=self.headers)\n",
    "            if response.status_code != 200:\n",
    "                print(f\"Failed to set currency cookie. Status code: {response.status_code}\")\n",
    "        except Exception as e:\n",
    "            print(f\"Error setting currency cookie: {str(e)}\")\n",
    "\n",
    "    def find_hotels(self, city: str, checkin_date: str, checkout_date: str, num_adults: int, max_budget: float = None, sort_by: str = None) -> list:\n",
    "        # Validate inputs\n",
    "        try:\n",
    "            datetime.strptime(checkin_date, '%Y-%m-%d')\n",
    "            datetime.strptime(checkout_date, '%Y-%m-%d')\n",
    "        except ValueError:\n",
    "            raise ValueError(\"Dates must be in YYYY-MM-DD format\")\n",
    "        \n",
    "        if not isinstance(num_adults, int) or num_adults < 1:\n",
    "            raise ValueError(\"Number of adults must be a positive integer\")\n",
    "        \n",
    "        if max_budget is not None and (not isinstance(max_budget, (int, float)) or max_budget <= 0):\n",
    "            raise ValueError(\"Max budget must be a positive number\")\n",
    "\n",
    "        # Set currency cookie to USD\n",
    "        self._set_currency_cookie()\n",
    "\n",
    "        # Map user-friendly sort options to Booking.com's order parameter\n",
    "        sort_options = {\n",
    "            'price_low': 'price',  # Lowest price first\n",
    "            'price_high': 'price_desc',  # Highest price first\n",
    "            'rating_high': 'review_score'  # Highest rating first\n",
    "        }\n",
    "        sort_param = f\"&order={sort_options[sort_by]}\" if sort_by in sort_options else \"\"\n",
    "\n",
    "        # Format the Booking.com search URL\n",
    "        city = city.replace(' ', '+')\n",
    "        url = (\n",
    "            f\"https://www.booking.com/searchresults.en-us.html?\"  # Set language to English\n",
    "            f\"ss={city}&\"\n",
    "            f\"checkin={checkin_date}&\"\n",
    "            f\"checkout={checkout_date}&\"\n",
    "            f\"group_adults={num_adults}&\"\n",
    "            f\"no_rooms=2&\"  # Kept 2 rooms as per your code\n",
    "            f\"currency=USD\"  # Explicitly set currency to USD\n",
    "            f\"{sort_param}\"\n",
    "        )\n",
    "\n",
    "        try:\n",
    "            # Send GET request with session\n",
    "            response = self.session.get(url, headers=self.headers)\n",
    "            if response.status_code != 200:\n",
    "                raise Exception(f\"Failed to fetch data. Status code: {response.status_code}\")\n",
    "\n",
    "            # Parse HTML with BeautifulSoup\n",
    "            soup = BeautifulSoup(response.text, 'html.parser')\n",
    "            hotels = []\n",
    "\n",
    "            # Find hotel cards (limit to 11 as in original code)\n",
    "            hotel_cards = soup.find_all('div', {'data-testid': 'property-card'})[:11]\n",
    "            if not hotel_cards:\n",
    "                return hotels  # Return empty list if no hotels found\n",
    "\n",
    "            for card in hotel_cards:\n",
    "                hotel = {}\n",
    "\n",
    "                # Extract hotel name\n",
    "                name_tag = card.find('div', {'data-testid': 'title'})\n",
    "                hotel['name'] = name_tag.text.strip() if name_tag else 'N/A'\n",
    "\n",
    "                # Extract price\n",
    "                price_tag = card.find('span', {'data-testid': 'price-and-discounted-price'})\n",
    "                price_text = price_tag.text.strip() if price_tag else 'N/A'\n",
    "                hotel['price'] = price_text\n",
    "\n",
    "                # Extract price value for budget filtering\n",
    "                if price_text != 'N/A':\n",
    "                    # Extract numeric value (e.g., \"US$1,234\" -> 1234.0)\n",
    "                    price_value = float(re.sub(r'[^\\d.]', '', price_text.replace(',', '')))\n",
    "                else:\n",
    "                    price_value = float('inf')  # Treat N/A as infinite for filtering\n",
    "\n",
    "                # Extract rating details\n",
    "                rating_tag = card.find('div', {'data-testid': 'review-score'})\n",
    "                if rating_tag:\n",
    "                    score = rating_tag.select_one(\"div.bc946a29db\")\n",
    "                    label = rating_tag.select_one(\"div.f63b14ab7a.f546354b44.becbee2f63\")\n",
    "                    reviews = rating_tag.select_one(\"div.fff1944c52.fb14de7f14.eaa8455879\")\n",
    "\n",
    "                    score = score.text.strip().replace(\"Scored \", '') if score else \"N/A\"\n",
    "                    label = label.text.strip() if label else \"N/A\"\n",
    "                    reviews = reviews.text.strip() if reviews else \"N/A\"\n",
    "\n",
    "                    hotel['reviews'] = f\"For total {reviews} rating is {score} which is {label}.\"\n",
    "                    rating_score = float(score) if score.replace('.', '').isdigit() else 0.0\n",
    "                else:\n",
    "                    hotel['reviews'] = \"N/A\"\n",
    "                    rating_score = 0.0\n",
    "\n",
    "                # Extract room details for description\n",
    "                description_parts = []\n",
    "                \n",
    "                # Room type\n",
    "                room_tag = card.find('h4', {'data-testid': 'recommended-units'})\n",
    "                room_type = room_tag.text.strip() if room_tag else 'Standard Room'\n",
    "                description_parts.append(room_type)\n",
    "\n",
    "                # Bed types\n",
    "                bed_tag = card.find('div', {'data-testid': 'property-card-unit-configuration'})\n",
    "                bed_types = bed_tag.text.strip() if bed_tag else 'Multiple bed types'\n",
    "                description_parts.append(bed_types)\n",
    "\n",
    "                # Breakfast info\n",
    "                breakfast_tag = card.find('div', {'data-testid': 'mealplan-block'})\n",
    "                breakfast = 'Breakfast included' if breakfast_tag and 'breakfast' in breakfast_tag.text.lower() else 'Breakfast not included'\n",
    "                description_parts.append(breakfast)\n",
    "\n",
    "                # Cancellation policy\n",
    "                cancellation_tag = card.find('div', {'data-testid': 'free-cancellation-block'})\n",
    "                cancellation = 'Free cancellation' if cancellation_tag else 'Non-refunded'\n",
    "                description_parts.append(cancellation)\n",
    "\n",
    "                # Availability info\n",
    "                availability_tag = card.find('div', {'data-testid': 'availability-cta'})\n",
    "                availability = availability_tag.text.strip() if availability_tag else 'Availability not specified'\n",
    "                description_parts.append(availability)\n",
    "\n",
    "                # Combine into description\n",
    "                hotel['description'] = ', '.join(description_parts)\n",
    "\n",
    "                # Apply budget filter\n",
    "                if max_budget is None or price_value <= max_budget:\n",
    "                    hotel['price_value'] = price_value  # Temporary for sorting\n",
    "                    hotel['rating_score'] = rating_score  # Temporary for sorting\n",
    "                    hotels.append(hotel)\n",
    "\n",
    "            # Sort hotels in-memory if needed\n",
    "            if sort_by == 'rating_high':\n",
    "                hotels.sort(key=lambda x: x['rating_score'], reverse=True)\n",
    "            elif sort_by == 'price_low':\n",
    "                hotels.sort(key=lambda x: x['price_value'])\n",
    "            elif sort_by == 'price_high':\n",
    "                hotels.sort(key=lambda x: x['price_value'], reverse=True)\n",
    "\n",
    "            # Remove temporary keys (price_value, rating_score)\n",
    "            hotels = [{k: v for k, v in hotel.items() if k in ['name', 'price', 'reviews', 'description']} for hotel in hotels]\n",
    "\n",
    "            return hotels\n",
    "\n",
    "        except Exception as e:\n",
    "            print(f\"Error occurred: {str(e)}\")\n",
    "            return []"
   ]
  },
  {
   "cell_type": "markdown",
   "id": "258f8151",
   "metadata": {},
   "source": [
    "### Daily and total expense calculator"
   ]
  },
  {
   "cell_type": "code",
   "execution_count": 8,
   "id": "5b654335",
   "metadata": {},
   "outputs": [],
   "source": [
    "\n",
    "class ExpenseCalculator:\n",
    "    \n",
    "    def calculate_daily_budget(self, destination, duration):\n",
    "        template = \"\"\"\n",
    "        You're a travel budget expert. Provide a **detailed travel budget breakdown in USD** for a trip with the following parameters:\n",
    "\n",
    "        Base your estimates on **current data and prices** in {destination}. Include at least the following expense categories:\n",
    "\n",
    "        - Accommodation (per night)\n",
    "        - Meals (per day)\n",
    "        - Local transportation\n",
    "        - Sightseeing and activity fees\n",
    "        - Additional expenses (souvenirs, tips, or incidentals)\n",
    "\n",
    "        Also calculate the total budget for the entire trip in USD. Provide your answer in a clear format (a list with item-wise estimates and total at the bottom).\n",
    "        Please make sure all prices reflect **current data** in the specified location.\n",
    "\n",
    "        Thank you.\n",
    "\n",
    "        - Location : {destination}\n",
    "        - Number of days : {duration}\n",
    "        \"\"\"\n",
    "        prompt = PromptTemplate(\n",
    "            template=template,\n",
    "            input_variable=[ \"destination\",\"duration\"]\n",
    "        )\n",
    "        \n",
    "        chain = prompt | llm | StrOutputParser()\n",
    "        response = chain.invoke({\"destination\":destination, \"duration\":duration})\n",
    "        print(response)\n",
    "        return re.sub(r'<think>.*?</think>', '', response, flags=re.MULTILINE | re.DOTALL)"
   ]
  },
  {
   "cell_type": "code",
   "execution_count": null,
   "id": "2a6c9234",
   "metadata": {},
   "outputs": [],
   "source": [
    "obj = ExpenseCalculator()\n",
    "obj.calculate_daily_budget(\"Old Goa\", 7)"
   ]
  },
  {
   "cell_type": "markdown",
   "id": "0ecb59ab",
   "metadata": {},
   "source": [
    "### Currency exchange rate "
   ]
  },
  {
   "cell_type": "code",
   "execution_count": 9,
   "id": "f256ca14",
   "metadata": {},
   "outputs": [],
   "source": [
    "\n",
    "class CurrencyService:\n",
    "    \n",
    "    def get_exchange_rate(self, user_currency, destination_currency):\n",
    "        alpha_vantage = AlphaVantageAPIWrapper()\n",
    "        # INR to USD conversion\n",
    "        rate_dictionary = alpha_vantage._get_exchange_rate(user_currency, destination_currency)\n",
    "        rate = float(rate_dictionary['Realtime Currency Exchange Rate']['5. Exchange Rate'])\n",
    "        return rate\n",
    "    \n",
    "    def convert_amount(self, amount, rate):\n",
    "        converted_amount = amount*rate\n",
    "        return converted_amount"
   ]
  },
  {
   "cell_type": "markdown",
   "id": "adbb0694",
   "metadata": {},
   "source": [
    "### Itinerary Planner"
   ]
  },
  {
   "cell_type": "code",
   "execution_count": 10,
   "id": "f5ae71d0",
   "metadata": {},
   "outputs": [],
   "source": [
    "\n",
    "class ItineraryPlanner:\n",
    "    \n",
    "    def create_full_itinerary(self, destination, duration):\n",
    "      template = \"\"\"\n",
    "      You are a travel agent who helps users make exciting travel plans.\n",
    "\n",
    "      Convert the user's request into a detailed itinerary describing the places\n",
    "      they should visit and the things they should do.\n",
    "\n",
    "      Try to include the specific address of each location.\n",
    "\n",
    "      Remember to take the user's preferences and timeframe into account,\n",
    "      and give them an itinerary that would be fun and doable given their constraints.\n",
    "\n",
    "      Return the itinerary as a bulleted list with clear start and end locations.\n",
    "      Be sure to mention the type of transit for the trip.\n",
    "      If specific start and end locations are not given, choose ones that you think are suitable and give specific addresses.\n",
    "      Your output must be the list and nothing else.\n",
    "      \n",
    "      destination : {destination}\n",
    "      duration in days : {duration}\n",
    "    \"\"\"\n",
    "      prompt = PromptTemplate(\n",
    "            template=template,\n",
    "            input_variable=[ \"destination\",\"duration\"]\n",
    "        )\n",
    "        \n",
    "      chain = prompt | llm | StrOutputParser()\n",
    "      response = chain.invoke({\"destination\":destination, \"duration\":duration})\n",
    "      print(response)\n",
    "      return re.sub(r'<think>.*?</think>', '', response, flags=re.MULTILINE | re.DOTALL)\n"
   ]
  },
  {
   "cell_type": "code",
   "execution_count": null,
   "id": "f624d157",
   "metadata": {},
   "outputs": [],
   "source": [
    "obj = ItineraryPlanner()\n",
    "response = obj.create_full_itinerary(\"South Goa\", 4)"
   ]
  },
  {
   "cell_type": "code",
   "execution_count": null,
   "id": "0502dd4e",
   "metadata": {},
   "outputs": [],
   "source": [
    "\n",
    "class TripSummarizer:\n",
    "    @tool\n",
    "    def create_trip_summary(self):\n",
    "        \"\"\"Generate comprehensive trip summary\"\"\"\n",
    "        pass\n",
    "\n"
   ]
  },
  {
   "cell_type": "code",
   "execution_count": null,
   "id": "9eccf76e",
   "metadata": {},
   "outputs": [],
   "source": [
    "\n",
    "# class TravelPlanCompiler:\n",
    "#     @tool\n",
    "#     def return_complete_travel_plan(self):\n",
    "#         \"\"\"Compile and return full travel plan\"\"\"\n",
    "#         pass"
   ]
  },
  {
   "cell_type": "markdown",
   "id": "c7a5fdca",
   "metadata": {},
   "source": [
    "### tool creation"
   ]
  },
  {
   "cell_type": "code",
   "execution_count": 11,
   "id": "d9d0dd1a",
   "metadata": {},
   "outputs": [],
   "source": [
    "@tool\n",
    "def attraction_and_activities_tool(destination:str)->str:\n",
    "    \"\"\"\n",
    "        Search for attractions, activities, dining options, and transportation details for a specified travel destination .\n",
    "\n",
    "        This function performs the following:\n",
    "        - Retrieves a list of popular tourist attractions in the travel destination .\n",
    "        - Recommends the best restaurants in the travel destination .\n",
    "        - Suggests activities or things to do in the travel destination .\n",
    "        - Offers details about the transportation options available within the travel destination  (such as buses, taxis, metro, etc.).\n",
    "\n",
    "        Args:\n",
    "            destination (str): Name of the destination the user plans to travel to.\n",
    "\n",
    "        Returns:\n",
    "            attractions, activities, dining options, and transportation details for a city in multiline string format\n",
    "    \"\"\"\n",
    "    attraction_and_activities_object = AttractionActivityManager()\n",
    "    attractions = attraction_and_activities_object.search_attraction_and_activities(destination=destination)\n",
    "    return attractions\n"
   ]
  },
  {
   "cell_type": "code",
   "execution_count": 12,
   "id": "38646867",
   "metadata": {},
   "outputs": [],
   "source": [
    "@tool\n",
    "def get_current_weather_tool(destination):\n",
    "    \"\"\"\n",
    "        Retrieve the current weather conditions for a specified city.\n",
    "\n",
    "        This method connects to the OpenWeatherMap API using the provided API key\n",
    "        and fetches the current temperature, atmospheric conditions, humidity, and \n",
    "        wind speed for the specified city.\n",
    "\n",
    "        Args:\n",
    "            destination (str): Name of the city  for which the current weather is to be retrieved. \n",
    "                For example: \"London\" or \"Sydney\".\n",
    "\n",
    "        Returns:\n",
    "            str: A multi-line string with the following details:\n",
    "                - Location (City)\n",
    "                - Temperature in Celsius\n",
    "                - Weather Status (Clear, Rain, Cloudy, etc.)\n",
    "                - Humidity in percent\n",
    "                - Wind Speed in m/s\n",
    "    \"\"\"\n",
    "    current_WeatherService_object = WeatherService()\n",
    "    current_weather = current_WeatherService_object.get_current_weather(city=destination)\n",
    "    return current_weather\n"
   ]
  },
  {
   "cell_type": "code",
   "execution_count": 13,
   "id": "9a84da92",
   "metadata": {},
   "outputs": [],
   "source": [
    "\n",
    "@tool\n",
    "def get_weather_forecast_tool(destination):\n",
    "    \"\"\"\n",
    "        Retrieve the 5-day weather forecast in 3-hour intervals for a specified city.\n",
    "\n",
    "        This method connects to the OpenWeatherMap API using the provided API key\n",
    "        and fetches the 5-day forecast with data points at 3-hour intervals. \n",
    "        Each entry includes the timestamp, temperature in Celsius, and \n",
    "        the atmospheric condition (status).\n",
    "\n",
    "        Args:\n",
    "            destination (str): Name of the destination for which the 5-day forecast is to be retrieved. \n",
    "                For example: \"London\" or \"Sydney\".\n",
    "\n",
    "        Returns:\n",
    "            str: A multi-line string with the following details for each 3-hour interval:\n",
    "                - Time (UTC)\n",
    "                - Temperature in Celsius\n",
    "                - Weather Status\n",
    "                - Separator (\"---\") between intervals\n",
    "    \"\"\"\n",
    "    forecasted_WeatherService_object = WeatherService()\n",
    "    forecasted_weather = forecasted_WeatherService_object.get_weather_forecast(city=destination)\n",
    "    return forecasted_weather"
   ]
  },
  {
   "cell_type": "code",
   "execution_count": 14,
   "id": "a19f373d",
   "metadata": {},
   "outputs": [],
   "source": [
    "\n",
    "@tool\n",
    "def accomodation_calculator_tool(destination, check_in_date, checkout_date, budget=1000, number_of_adults=2):\n",
    "    \"\"\"\n",
    "    Retrieve a list of hotels for a specified destination, check-in and check-out dates,and number of adults, with optional budget and sorting preferences.\n",
    "\n",
    "    This function utilizes a BookingScraper instance to search for accommodations. \n",
    "    The results include hotel details such as name, price, reviews, and a brief description (room type, bed configuration, breakfast, cancellation policy, and current availability).\n",
    "\n",
    "    Args:\n",
    "        destination (str): Name of the destination city (e.g., \"New York\").\n",
    "        check_in_date (str): Check-in date in YYYY-MM-DD format.\n",
    "        checkout_date (str): Check-out date in YYYY-MM-DD format.\n",
    "        budget (float, optional): Maximum budget per stay in USD. Default is $1000.[Optional]\n",
    "        number_of_adults (int, optional): Number of adults for the booking. Default is 2.[Optional]\n",
    "\n",
    "    Returns:\n",
    "        list of dict: A list of dictionaries, each containing the following hotel details:\n",
    "            - name (str): Name of the hotel.\n",
    "            - price (float): Staying price in USD.\n",
    "            - reviews (float): Review score or rating.\n",
    "            - description (str): Detailed room information, including room type, \n",
    "              bed configuration, breakfast, cancellation policy, and current availability.\n",
    "\n",
    "    Notes:\n",
    "        Currently, the maximum budget is enforced at $2000, and the results are sorted by highest rating by default.\n",
    "    \"\"\"\n",
    "    scraper = BookingScraper()\n",
    "    city = destination\n",
    "    checkin = check_in_date\n",
    "    checkout = checkout_date\n",
    "    adults = number_of_adults\n",
    "    budget = 2000.0  # Max $2000 USD\n",
    "    sort_option = \"rating_high\"  # Sort by highest rating\n",
    "    \n",
    "    hotels = scraper.find_hotels(city, checkin, checkout, adults, max_budget=budget, sort_by=sort_option)\n",
    "    return hotels"
   ]
  },
  {
   "cell_type": "code",
   "execution_count": 15,
   "id": "fc9349d4",
   "metadata": {},
   "outputs": [],
   "source": [
    "\n",
    "@tool\n",
    "def expense_calculator_tool(destination:str, duration:int)->str:\n",
    "    \"\"\"\n",
    "    Generate a detailed travel budget breakdown in USD for a trip to a specified destination \n",
    "    for a specified duration, using current data and prices.\n",
    "\n",
    "    This function constructs a prompt and utilizes a large language model (LLM) \n",
    "    to produce a comprehensive budget estimate. The breakdown includes per-night \n",
    "    accommodations, per-day meal costs, local transportation, sightseeing and activity fees, \n",
    "    and additional expenses (souvenirs, tips, incidentals). The total budget for the entire trip \n",
    "    is also provided.\n",
    "\n",
    "    Args:\n",
    "        destination (str): Name of the travel destination (e.g., \"Paris\", \"Sydney\").\n",
    "        duration (int): Number of days for the trip.\n",
    "\n",
    "    Returns:\n",
    "        str: A cleaned text response from the LLM, which includes:\n",
    "            - An itemized list of expenses with per-unit estimates\n",
    "            - The total budget for the trip in USD\n",
    "    \"\"\"\n",
    "    expense_calculator_object = ExpenseCalculator()\n",
    "    response = expense_calculator_object.calculate_daily_budget(destination, duration)\n",
    "    return response\n"
   ]
  },
  {
   "cell_type": "code",
   "execution_count": 16,
   "id": "d6c83e2a",
   "metadata": {},
   "outputs": [],
   "source": [
    "@tool\n",
    "def exchange_rate_tool(user_currency_code : str, destination_currency_code : str) -> str:\n",
    "    \"\"\"\n",
    "    Retrieve the real-time exchange rate from a specified base currency to a destination currency.\n",
    "\n",
    "    This function utilizes the AlphaVantageAPIWrapper to fetch the current exchange rate.\n",
    "\n",
    "    Args:\n",
    "        user_currency_code (str): The base currency code (e.g., \"USD\", \"INR\").\n",
    "        destination_currency_code (str): The destination currency code (e.g., \"EUR\", \"JPY\").\n",
    "\n",
    "    Returns:\n",
    "        float: The current exchange rate from the base to the destination currency.\n",
    "\n",
    "    Raises:\n",
    "        KeyError: If the exchange rate cannot be found in the API response.\n",
    "        ValueError: If the retrieved exchange rate cannot be parsed as a float.\n",
    "    \"\"\"\n",
    "    exchange_rate_obj = CurrencyService()\n",
    "    rate = exchange_rate_obj.get_exchange_rate(user_currency_code, destination_currency_code)\n",
    "    return rate\n"
   ]
  },
  {
   "cell_type": "code",
   "execution_count": 17,
   "id": "b8932bc2",
   "metadata": {},
   "outputs": [],
   "source": [
    "\n",
    "@tool\n",
    "def convert_amount_tool(self, amount, rate):\n",
    "    \"\"\"\n",
    "    Convert a specified amount from the base currency to the destination currency\n",
    "    using the provided exchange rate.\n",
    "\n",
    "    Args:\n",
    "        amount (float): The amount to be converted.\n",
    "        rate (float): The exchange rate from base to destination.\n",
    "\n",
    "    Returns:\n",
    "        float: The converted amount in the destination currency.\n",
    "\n",
    "    Prints:\n",
    "        A message stating the conversion details.\n",
    "    \"\"\"\n",
    "    convert_amount_obj = CurrencyService()\n",
    "    converted_amount = convert_amount_obj.convert_amount(amount,rate)\n",
    "    return converted_amount"
   ]
  },
  {
   "cell_type": "code",
   "execution_count": 18,
   "id": "d47d6f5f",
   "metadata": {},
   "outputs": [],
   "source": [
    "@tool\n",
    "def itinerary_planner_tool(destination:str, duration:int=7) -> str:\n",
    "   \"\"\"\n",
    "    Generate a detailed travel itinerary for a specified destination and duration.\n",
    "\n",
    "    This function utilizes a large language model (LLM) to produce a comprehensive,\n",
    "    day-by-day itinerary. The itinerary includes:\n",
    "    - A list of places to visit\n",
    "    - The specific addresses of each location\n",
    "    - The type of transportation to use for each transfer\n",
    "    - An enjoyable and realistic travel plan, tailored to the user's preferences and timeframe\n",
    "\n",
    "    Args:\n",
    "        destination (str): Name of the destination city or country (e.g., \"Paris\", \"Italy\").\n",
    "        duration (int, optional): Number of days for the trip. Default is 7.\n",
    "\n",
    "    Returns:\n",
    "        str: A cleaned text response from the LLM, which includes:\n",
    "            - An itemized list of places to visit with their addresses\n",
    "            - The mode of transportation for each transfer\n",
    "            - An overall realistic and enjoyable travel itinerary\n",
    "    \"\"\"\n",
    "   itinerary_planner_object = ItineraryPlanner()\n",
    "   response = itinerary_planner_object.create_full_itinerary(destination, duration)\n",
    "   return response\n",
    "   "
   ]
  },
  {
   "cell_type": "code",
   "execution_count": 19,
   "id": "dc1c0539",
   "metadata": {},
   "outputs": [],
   "source": [
    "tools = [attraction_and_activities_tool, get_current_weather_tool, get_weather_forecast_tool, accomodation_calculator_tool, expense_calculator_tool, exchange_rate_tool, convert_amount_tool, itinerary_planner_tool]\n"
   ]
  },
  {
   "cell_type": "code",
   "execution_count": 20,
   "id": "17d0f4b1",
   "metadata": {},
   "outputs": [],
   "source": [
    "llm_with_tools = llm.bind_tools(tools)"
   ]
  },
  {
   "cell_type": "code",
   "execution_count": 21,
   "id": "4b0a7c34",
   "metadata": {},
   "outputs": [],
   "source": [
    "response = llm_with_tools.invoke(\"Good evening, What is weather in Pune and What is currency rate for Indian rupees to Euro\")"
   ]
  },
  {
   "cell_type": "code",
   "execution_count": 22,
   "id": "d5e3b92f",
   "metadata": {},
   "outputs": [
    {
     "data": {
      "text/plain": [
       "''"
      ]
     },
     "execution_count": 22,
     "metadata": {},
     "output_type": "execute_result"
    }
   ],
   "source": [
    "response.content"
   ]
  },
  {
   "cell_type": "code",
   "execution_count": 23,
   "id": "4172bae7",
   "metadata": {},
   "outputs": [
    {
     "data": {
      "text/plain": [
       "[{'name': 'get_current_weather_tool',\n",
       "  'args': {'destination': 'Pune'},\n",
       "  'id': 'f8n1yftsx',\n",
       "  'type': 'tool_call'}]"
      ]
     },
     "execution_count": 23,
     "metadata": {},
     "output_type": "execute_result"
    }
   ],
   "source": [
    "response.tool_calls"
   ]
  },
  {
   "cell_type": "code",
   "execution_count": 24,
   "id": "74b04b20",
   "metadata": {},
   "outputs": [
    {
     "data": {
      "text/plain": [
       "AIMessage(content='', additional_kwargs={'tool_calls': [{'id': 'f8n1yftsx', 'function': {'arguments': '{\"destination\":\"Pune\"}', 'name': 'get_current_weather_tool'}, 'type': 'function'}]}, response_metadata={'token_usage': {'completion_tokens': 275, 'prompt_tokens': 1784, 'total_tokens': 2059, 'completion_time': 1.015968459, 'prompt_time': 0.123705821, 'queue_time': 0.06486830800000001, 'total_time': 1.13967428}, 'model_name': 'deepseek-r1-distill-llama-70b', 'system_fingerprint': 'fp_1bbe7845ec', 'finish_reason': 'tool_calls', 'logprobs': None}, id='run--ec97d0c4-24cf-4f5d-9ad7-0032dff24aa7-0', tool_calls=[{'name': 'get_current_weather_tool', 'args': {'destination': 'Pune'}, 'id': 'f8n1yftsx', 'type': 'tool_call'}], usage_metadata={'input_tokens': 1784, 'output_tokens': 275, 'total_tokens': 2059})"
      ]
     },
     "execution_count": 24,
     "metadata": {},
     "output_type": "execute_result"
    }
   ],
   "source": [
    "response"
   ]
  },
  {
   "cell_type": "code",
   "execution_count": 25,
   "id": "607502d1",
   "metadata": {},
   "outputs": [
    {
     "data": {
      "text/plain": [
       "'Good morning! How can I assist you today?'"
      ]
     },
     "execution_count": 25,
     "metadata": {},
     "output_type": "execute_result"
    }
   ],
   "source": [
    "response = llm_with_tools.invoke(\"Good morning\")\n",
    "response.content"
   ]
  },
  {
   "cell_type": "code",
   "execution_count": 26,
   "id": "a4028b53",
   "metadata": {},
   "outputs": [
    {
     "data": {
      "text/plain": [
       "[]"
      ]
     },
     "execution_count": 26,
     "metadata": {},
     "output_type": "execute_result"
    }
   ],
   "source": [
    "response.tool_calls"
   ]
  },
  {
   "cell_type": "code",
   "execution_count": 27,
   "id": "cde79402",
   "metadata": {},
   "outputs": [],
   "source": [
    "SYSTEM_PROMPT=\"\""
   ]
  },
  {
   "cell_type": "code",
   "execution_count": 28,
   "id": "63b55249",
   "metadata": {},
   "outputs": [],
   "source": [
    "def llm_decision_maker(state:MessagesState):\n",
    "    \n",
    "    user_question=state[\"messages\"]\n",
    "    \n",
    "    input_question = [SYSTEM_PROMPT]+user_question\n",
    "    \n",
    "    response = llm_with_tools.invoke(input_question)\n",
    "    \n",
    "    return {\n",
    "        \"messages\":[response]\n",
    "    }"
   ]
  },
  {
   "cell_type": "code",
   "execution_count": 29,
   "id": "e3138d32",
   "metadata": {},
   "outputs": [
    {
     "data": {
      "text/plain": [
       "<langgraph.graph.state.StateGraph at 0x1d92ab42a50>"
      ]
     },
     "execution_count": 29,
     "metadata": {},
     "output_type": "execute_result"
    }
   ],
   "source": [
    "workflow = StateGraph(MessagesState)\n",
    "workflow.add_node(\"llm_decision_maker\", llm_decision_maker)\n",
    "workflow.add_node(\"tools\", ToolNode(tools))\n",
    "\n",
    "workflow.add_edge(START, \"llm_decision_maker\")\n",
    "\n",
    "workflow.add_conditional_edges(\n",
    "    \"llm_decision_maker\",\n",
    "    tools_condition,\n",
    ")\n",
    "\n",
    "workflow.add_edge(\"tools\", \"llm_decision_maker\")"
   ]
  },
  {
   "cell_type": "code",
   "execution_count": 30,
   "id": "44215a09",
   "metadata": {},
   "outputs": [],
   "source": [
    "ReAct_app = workflow.compile()"
   ]
  },
  {
   "cell_type": "code",
   "execution_count": 31,
   "id": "bce1adb5",
   "metadata": {},
   "outputs": [
    {
     "data": {
      "image/png": "[encoded data removed]",
      "text/plain": [
       "<IPython.core.display.Image object>"
      ]
     },
     "metadata": {},
     "output_type": "display_data"
    }
   ],
   "source": [
    "from IPython.display import Image, display\n",
    "display(Image(ReAct_app.get_graph().draw_mermaid_png()))"
   ]
  },
  {
   "cell_type": "code",
   "execution_count": null,
   "id": "3562270f",
   "metadata": {},
   "outputs": [],
   "source": [
    "message=[HumanMessage(content=\"\")]\n",
    "ReAct_app.invoke({\"messages\":message})"
   ]
  },
  {
   "cell_type": "code",
   "execution_count": null,
   "metadata": {},
   "outputs": [],
   "source": []
  },
  {
   "cell_type": "code",
   "execution_count": null,
   "id": "3b779e49",
   "metadata": {},
   "outputs": [],
   "source": []
  },
  {
   "cell_type": "code",
   "execution_count": null,
   "id": "40947c59",
   "metadata": {},
   "outputs": [],
   "source": []
  },
  {
   "cell_type": "code",
   "execution_count": null,
   "id": "3641dfeb",
   "metadata": {},
   "outputs": [],
   "source": []
  },
  {
   "cell_type": "code",
   "execution_count": null,
   "id": "e1655ee9",
   "metadata": {},
   "outputs": [],
   "source": []
  },
  {
   "cell_type": "code",
   "execution_count": null,
   "id": "6d2bd4c1",
   "metadata": {},
   "outputs": [],
   "source": []
  },
  {
   "cell_type": "code",
   "execution_count": null,
   "id": "fe460a20",
   "metadata": {},
   "outputs": [],
   "source": [
    "from pyowm.owm import OWM\n",
    "\n",
    "# Replace with your API key\n",
    "owm = OWM(os.getenv(\"OPENWEATHERMAP_API_KEY\"))\n",
    "mgr = owm.weather_manager()\n",
    "\n",
    "place = \"Dubai\"\n",
    "# Search for weather in London\n",
    "mgr = owm.weather_manager()\n",
    "observation = mgr.weather_at_place(place)\n",
    "w = observation.weather\n",
    "\n",
    "# Get temperature in Celsius\n",
    "temp = w.temperature('celsius')\n",
    "print(temp)\n",
    "\n",
    "# Get weather status\n",
    "print(w.detailed_status)\n",
    "\n"
   ]
  },
  {
   "cell_type": "code",
   "execution_count": null,
   "id": "2eb726e9",
   "metadata": {},
   "outputs": [],
   "source": [
    "import os\n",
    "\n",
    "from langchain_community.utilities import OpenWeatherMapAPIWrapper\n",
    "\n",
    "weather = OpenWeatherMapAPIWrapper()\n",
    "\n",
    "weather_data = weather.run(\"Kolhapur\")\n",
    "print(weather_data)\n",
    "\n",
    "\n",
    "\n"
   ]
  },
  {
   "cell_type": "code",
   "execution_count": null,
   "id": "3b4d9174",
   "metadata": {},
   "outputs": [],
   "source": [
    "\n",
    "# Replace 'YOUR_API_KEY' with your actual API key\n",
    "owm = pyowm.OWM(os.getenv(\"OPENWEATHERMAP_API_KEY\"))\n",
    "mgr = owm.weather_manager()\n",
    "\n",
    "# Get weather forecast for a location (e.g., London, UK)\n",
    "observation = mgr.weather_at_place('London,UK')\n",
    "weather = observation.weather\n",
    "\n",
    "# Print weather details\n",
    "print(f\"Location: {observation.location.name}\")\n",
    "print(f\"Temperature: {weather.temperature('celsius')['temp']}°C\")\n",
    "print(f\"Status: {weather.status}\")\n",
    "print(f\"Humidity: {weather.humidity}%\")\n",
    "print(f\"Wind Speed: {weather.wind()['speed']} m/s\")"
   ]
  },
  {
   "cell_type": "code",
   "execution_count": null,
   "id": "9cf0f489",
   "metadata": {},
   "outputs": [],
   "source": [
    "# Get the 5-day forecast with 3-hour intervals\n",
    "forecast = mgr.forecast_at_place('London,UK', interval='3h')\n",
    "\n",
    "# Iterate through the forecast\n",
    "for weather_data in forecast.forecast:\n",
    "    print(f\"Time: {weather_data.reference_time('iso')}\")\n",
    "    print(f\"Temperature: {weather_data.temperature('celsius')['temp']}°C\")\n",
    "    print(f\"Status: {weather_data.status}\")\n",
    "    print(\"---\")"
   ]
  },
  {
   "cell_type": "code",
   "execution_count": null,
   "id": "30994a04",
   "metadata": {},
   "outputs": [],
   "source": [
    "from langchain_community.utilities.openweathermap import OpenWeatherMapAPIWrapper\n",
    "from langchain.agents import load_tools\n",
    "# tools = load_tools([\"openweathermap-api\"])"
   ]
  },
  {
   "cell_type": "code",
   "execution_count": null,
   "id": "bdbe5b85",
   "metadata": {},
   "outputs": [],
   "source": []
  },
  {
   "cell_type": "code",
   "execution_count": null,
   "id": "add47725",
   "metadata": {},
   "outputs": [],
   "source": []
  },
  {
   "cell_type": "code",
   "execution_count": null,
   "id": "1692c867",
   "metadata": {},
   "outputs": [],
   "source": []
  },
  {
   "cell_type": "code",
   "execution_count": null,
   "id": "e6794744",
   "metadata": {},
   "outputs": [],
   "source": []
  },
  {
   "cell_type": "code",
   "execution_count": null,
   "id": "054f2141",
   "metadata": {},
   "outputs": [],
   "source": []
  },
  {
   "cell_type": "code",
   "execution_count": null,
   "id": "c0c736fe",
   "metadata": {},
   "outputs": [],
   "source": []
  },
  {
   "cell_type": "code",
   "execution_count": null,
   "id": "b60d16b2",
   "metadata": {},
   "outputs": [],
   "source": []
  },
  {
   "cell_type": "code",
   "execution_count": null,
   "id": "f140372b",
   "metadata": {},
   "outputs": [],
   "source": []
  },
  {
   "cell_type": "code",
   "execution_count": null,
   "id": "16839ea1",
   "metadata": {},
   "outputs": [],
   "source": []
  },
  {
   "cell_type": "code",
   "execution_count": null,
   "id": "056ad7c9",
   "metadata": {},
   "outputs": [],
   "source": []
  },
  {
   "cell_type": "code",
   "execution_count": null,
   "id": "2150db52",
   "metadata": {},
   "outputs": [],
   "source": []
  },
  {
   "cell_type": "code",
   "execution_count": null,
   "id": "30a5e315",
   "metadata": {},
   "outputs": [],
   "source": []
  },
  {
   "cell_type": "code",
   "execution_count": null,
   "id": "e4df7ee1",
   "metadata": {},
   "outputs": [],
   "source": []
  },
  {
   "cell_type": "code",
   "execution_count": null,
   "id": "ca8f8d19",
   "metadata": {},
   "outputs": [],
   "source": []
  },
  {
   "cell_type": "code",
   "execution_count": null,
   "id": "a572e9f6",
   "metadata": {},
   "outputs": [],
   "source": []
  },
  {
   "cell_type": "code",
   "execution_count": null,
   "id": "47d0db09",
   "metadata": {},
   "outputs": [],
   "source": []
  },
  {
   "cell_type": "code",
   "execution_count": null,
   "id": "ccd7b356",
   "metadata": {},
   "outputs": [],
   "source": []
  }
 ],
 "metadata": {
  "kernelspec": {
   "display_name": "Python 3",
   "language": "python",
   "name": "python3"
  },
  "language_info": {
   "codemirror_mode": {
    "name": "ipython",
    "version": 3
   },
   "file_extension": ".py",
   "mimetype": "text/x-python",
   "name": "python",
   "nbconvert_exporter": "python",
   "pygments_lexer": "ipython3",
   "version": "3.13.0"
  }
 },
 "nbformat": 4,
 "nbformat_minor": 5
}
