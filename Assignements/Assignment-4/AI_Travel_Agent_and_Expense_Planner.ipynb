{
 "cells": [
  {
   "cell_type": "code",
   "execution_count": 1,
   "id": "99eef993",
   "metadata": {},
   "outputs": [
    {
     "data": {
      "text/plain": [
       "True"
      ]
     },
     "execution_count": 1,
     "metadata": {},
     "output_type": "execute_result"
    }
   ],
   "source": [
    "import os\n",
    "from dotenv import load_dotenv\n",
    "load_dotenv()\n"
   ]
  },
  {
   "cell_type": "code",
   "execution_count": 2,
   "id": "1080892a",
   "metadata": {},
   "outputs": [],
   "source": [
    "\n",
    "os.environ[\"GROQ_API_KEY\"] = os.getenv(\"GROQ_API_KEY\")\n",
    "os.environ[\"OPENWEATHERMAP_API_KEY\"] = os.getenv(\"OPENWEATHERMAP_API_KEY\")"
   ]
  },
  {
   "cell_type": "code",
   "execution_count": null,
   "id": "fe460a20",
   "metadata": {},
   "outputs": [
    {
     "name": "stdout",
     "output_type": "stream",
     "text": [
      "{'temp': 42.22, 'temp_max': 42.22, 'temp_min': 42.22, 'feels_like': 49.22, 'temp_kf': None}\n",
      "clear sky\n"
     ]
    }
   ],
   "source": [
    "from pyowm.owm import OWM\n",
    "\n",
    "# Replace with your API key\n",
    "owm = OWM(os.getenv(\"OPENWEATHERMAP_API_KEY\"))\n",
    "mgr = owm.weather_manager()\n",
    "\n",
    "place = \"Dubai\"\n",
    "# Search for weather in London\n",
    "mgr = owm.weather_manager()\n",
    "observation = mgr.weather_at_place(place)\n",
    "w = observation.weather\n",
    "\n",
    "# Get temperature in Celsius\n",
    "temp = w.temperature('celsius')\n",
    "print(temp)\n",
    "\n",
    "# Get weather status\n",
    "print(w.detailed_status)\n",
    "\n"
   ]
  },
  {
   "cell_type": "code",
   "execution_count": null,
   "id": "2eb726e9",
   "metadata": {},
   "outputs": [
    {
     "name": "stdout",
     "output_type": "stream",
     "text": [
      "In Kolhapur, the current weather is as follows:\n",
      "Detailed status: overcast clouds\n",
      "Wind speed: 6.64 m/s, direction: 243°\n",
      "Humidity: 86%\n",
      "Temperature: \n",
      "  - Current: 23.57°C\n",
      "  - High: 23.57°C\n",
      "  - Low: 23.57°C\n",
      "  - Feels like: 24.23°C\n",
      "Rain: {}\n",
      "Heat index: None\n",
      "Cloud cover: 97%\n"
     ]
    },
    {
     "ename": "AttributeError",
     "evalue": "'OpenWeatherMapAPIWrapper' object has no attribute 'forecast'",
     "output_type": "error",
     "traceback": [
      "\u001b[31m---------------------------------------------------------------------------\u001b[39m",
      "\u001b[31mAttributeError\u001b[39m                            Traceback (most recent call last)",
      "\u001b[36mCell\u001b[39m\u001b[36m \u001b[39m\u001b[32mIn[9]\u001b[39m\u001b[32m, line 10\u001b[39m\n\u001b[32m      7\u001b[39m weather_data = weather.run(\u001b[33m\"\u001b[39m\u001b[33mKolhapur\u001b[39m\u001b[33m\"\u001b[39m)\n\u001b[32m      8\u001b[39m \u001b[38;5;28mprint\u001b[39m(weather_data)\n\u001b[32m---> \u001b[39m\u001b[32m10\u001b[39m weather_data = \u001b[43mweather\u001b[49m\u001b[43m.\u001b[49m\u001b[43mforecast\u001b[49m(\u001b[33m\"\u001b[39m\u001b[33mKolhapur\u001b[39m\u001b[33m\"\u001b[39m)\n\u001b[32m     11\u001b[39m \u001b[38;5;28mprint\u001b[39m(weather_data)\n",
      "\u001b[36mFile \u001b[39m\u001b[32md:\\courses_content\\Agentic-AI\\venv\\Lib\\site-packages\\pydantic\\main.py:991\u001b[39m, in \u001b[36mBaseModel.__getattr__\u001b[39m\u001b[34m(self, item)\u001b[39m\n\u001b[32m    988\u001b[39m     \u001b[38;5;28;01mreturn\u001b[39;00m \u001b[38;5;28msuper\u001b[39m().\u001b[34m__getattribute__\u001b[39m(item)  \u001b[38;5;66;03m# Raises AttributeError if appropriate\u001b[39;00m\n\u001b[32m    989\u001b[39m \u001b[38;5;28;01melse\u001b[39;00m:\n\u001b[32m    990\u001b[39m     \u001b[38;5;66;03m# this is the current error\u001b[39;00m\n\u001b[32m--> \u001b[39m\u001b[32m991\u001b[39m     \u001b[38;5;28;01mraise\u001b[39;00m \u001b[38;5;167;01mAttributeError\u001b[39;00m(\u001b[33mf\u001b[39m\u001b[33m'\u001b[39m\u001b[38;5;132;01m{\u001b[39;00m\u001b[38;5;28mtype\u001b[39m(\u001b[38;5;28mself\u001b[39m).\u001b[34m__name__\u001b[39m\u001b[38;5;132;01m!r}\u001b[39;00m\u001b[33m object has no attribute \u001b[39m\u001b[38;5;132;01m{\u001b[39;00mitem\u001b[38;5;132;01m!r}\u001b[39;00m\u001b[33m'\u001b[39m)\n",
      "\u001b[31mAttributeError\u001b[39m: 'OpenWeatherMapAPIWrapper' object has no attribute 'forecast'"
     ]
    }
   ],
   "source": [
    "import os\n",
    "\n",
    "from langchain_community.utilities import OpenWeatherMapAPIWrapper\n",
    "\n",
    "weather = OpenWeatherMapAPIWrapper()\n",
    "\n",
    "weather_data = weather.run(\"Kolhapur\")\n",
    "print(weather_data)\n",
    "\n",
    "\n",
    "\n"
   ]
  },
  {
   "cell_type": "code",
   "execution_count": 11,
   "id": "b4998049",
   "metadata": {},
   "outputs": [],
   "source": [
    "import pyowm\n"
   ]
  },
  {
   "cell_type": "code",
   "execution_count": 12,
   "id": "3b4d9174",
   "metadata": {},
   "outputs": [
    {
     "name": "stdout",
     "output_type": "stream",
     "text": [
      "Location: London\n",
      "Temperature: 24.38°C\n",
      "Status: Clear\n",
      "Humidity: 46%\n",
      "Wind Speed: 2.69 m/s\n"
     ]
    }
   ],
   "source": [
    "\n",
    "# Replace 'YOUR_API_KEY' with your actual API key\n",
    "owm = pyowm.OWM(os.getenv(\"OPENWEATHERMAP_API_KEY\"))\n",
    "mgr = owm.weather_manager()\n",
    "\n",
    "# Get weather forecast for a location (e.g., London, UK)\n",
    "observation = mgr.weather_at_place('London,UK')\n",
    "weather = observation.weather\n",
    "\n",
    "# Print weather details\n",
    "print(f\"Location: {observation.location.name}\")\n",
    "print(f\"Temperature: {weather.temperature('celsius')['temp']}°C\")\n",
    "print(f\"Status: {weather.status}\")\n",
    "print(f\"Humidity: {weather.humidity}%\")\n",
    "print(f\"Wind Speed: {weather.wind()['speed']} m/s\")"
   ]
  },
  {
   "cell_type": "code",
   "execution_count": 19,
   "id": "9cf0f489",
   "metadata": {},
   "outputs": [
    {
     "name": "stdout",
     "output_type": "stream",
     "text": [
      "Time: 2025-06-16 18:00:00+00:00\n",
      "Temperature: 24.92°C\n",
      "Status: Clouds\n",
      "---\n",
      "Time: 2025-06-16 21:00:00+00:00\n",
      "Temperature: 23.47°C\n",
      "Status: Clouds\n",
      "---\n",
      "Time: 2025-06-17 00:00:00+00:00\n",
      "Temperature: 19.43°C\n",
      "Status: Clouds\n",
      "---\n",
      "Time: 2025-06-17 03:00:00+00:00\n",
      "Temperature: 14.24°C\n",
      "Status: Clear\n",
      "---\n",
      "Time: 2025-06-17 06:00:00+00:00\n",
      "Temperature: 16.54°C\n",
      "Status: Clouds\n",
      "---\n",
      "Time: 2025-06-17 09:00:00+00:00\n",
      "Temperature: 21.73°C\n",
      "Status: Clouds\n",
      "---\n",
      "Time: 2025-06-17 12:00:00+00:00\n",
      "Temperature: 25.76°C\n",
      "Status: Clouds\n",
      "---\n",
      "Time: 2025-06-17 15:00:00+00:00\n",
      "Temperature: 27.09°C\n",
      "Status: Clouds\n",
      "---\n",
      "Time: 2025-06-17 18:00:00+00:00\n",
      "Temperature: 24.81°C\n",
      "Status: Clouds\n",
      "---\n",
      "Time: 2025-06-17 21:00:00+00:00\n",
      "Temperature: 20.18°C\n",
      "Status: Clouds\n",
      "---\n",
      "Time: 2025-06-18 00:00:00+00:00\n",
      "Temperature: 17.18°C\n",
      "Status: Clouds\n",
      "---\n",
      "Time: 2025-06-18 03:00:00+00:00\n",
      "Temperature: 15.46°C\n",
      "Status: Clouds\n",
      "---\n",
      "Time: 2025-06-18 06:00:00+00:00\n",
      "Temperature: 16.79°C\n",
      "Status: Clouds\n",
      "---\n",
      "Time: 2025-06-18 09:00:00+00:00\n",
      "Temperature: 21.95°C\n",
      "Status: Clouds\n",
      "---\n",
      "Time: 2025-06-18 12:00:00+00:00\n",
      "Temperature: 26.03°C\n",
      "Status: Clouds\n",
      "---\n",
      "Time: 2025-06-18 15:00:00+00:00\n",
      "Temperature: 27.72°C\n",
      "Status: Clouds\n",
      "---\n",
      "Time: 2025-06-18 18:00:00+00:00\n",
      "Temperature: 25.55°C\n",
      "Status: Clouds\n",
      "---\n",
      "Time: 2025-06-18 21:00:00+00:00\n",
      "Temperature: 19.92°C\n",
      "Status: Clouds\n",
      "---\n",
      "Time: 2025-06-19 00:00:00+00:00\n",
      "Temperature: 18.5°C\n",
      "Status: Clear\n",
      "---\n",
      "Time: 2025-06-19 03:00:00+00:00\n",
      "Temperature: 17.08°C\n",
      "Status: Clear\n",
      "---\n",
      "Time: 2025-06-19 06:00:00+00:00\n",
      "Temperature: 18.12°C\n",
      "Status: Clear\n",
      "---\n",
      "Time: 2025-06-19 09:00:00+00:00\n",
      "Temperature: 23.23°C\n",
      "Status: Clear\n",
      "---\n",
      "Time: 2025-06-19 12:00:00+00:00\n",
      "Temperature: 26.39°C\n",
      "Status: Clear\n",
      "---\n",
      "Time: 2025-06-19 15:00:00+00:00\n",
      "Temperature: 26.04°C\n",
      "Status: Clear\n",
      "---\n",
      "Time: 2025-06-19 18:00:00+00:00\n",
      "Temperature: 22.48°C\n",
      "Status: Clear\n",
      "---\n",
      "Time: 2025-06-19 21:00:00+00:00\n",
      "Temperature: 17.98°C\n",
      "Status: Clear\n",
      "---\n",
      "Time: 2025-06-20 00:00:00+00:00\n",
      "Temperature: 16.83°C\n",
      "Status: Clear\n",
      "---\n",
      "Time: 2025-06-20 03:00:00+00:00\n",
      "Temperature: 16.02°C\n",
      "Status: Clouds\n",
      "---\n",
      "Time: 2025-06-20 06:00:00+00:00\n",
      "Temperature: 18.12°C\n",
      "Status: Clouds\n",
      "---\n",
      "Time: 2025-06-20 09:00:00+00:00\n",
      "Temperature: 23.85°C\n",
      "Status: Clouds\n",
      "---\n",
      "Time: 2025-06-20 12:00:00+00:00\n",
      "Temperature: 27.31°C\n",
      "Status: Clouds\n",
      "---\n",
      "Time: 2025-06-20 15:00:00+00:00\n",
      "Temperature: 25.11°C\n",
      "Status: Clouds\n",
      "---\n",
      "Time: 2025-06-20 18:00:00+00:00\n",
      "Temperature: 22.97°C\n",
      "Status: Clouds\n",
      "---\n",
      "Time: 2025-06-20 21:00:00+00:00\n",
      "Temperature: 19.59°C\n",
      "Status: Clouds\n",
      "---\n",
      "Time: 2025-06-21 00:00:00+00:00\n",
      "Temperature: 17.94°C\n",
      "Status: Clouds\n",
      "---\n",
      "Time: 2025-06-21 03:00:00+00:00\n",
      "Temperature: 16.98°C\n",
      "Status: Clouds\n",
      "---\n",
      "Time: 2025-06-21 06:00:00+00:00\n",
      "Temperature: 19.81°C\n",
      "Status: Clear\n",
      "---\n",
      "Time: 2025-06-21 09:00:00+00:00\n",
      "Temperature: 27.0°C\n",
      "Status: Clear\n",
      "---\n",
      "Time: 2025-06-21 12:00:00+00:00\n",
      "Temperature: 31.83°C\n",
      "Status: Clear\n",
      "---\n",
      "Time: 2025-06-21 15:00:00+00:00\n",
      "Temperature: 31.47°C\n",
      "Status: Clear\n",
      "---\n"
     ]
    }
   ],
   "source": [
    "# Get the 5-day forecast with 3-hour intervals\n",
    "forecast = mgr.forecast_at_place('London,UK', interval='3h')\n",
    "\n",
    "# Iterate through the forecast\n",
    "for weather_data in forecast.forecast:\n",
    "    print(f\"Time: {weather_data.reference_time('iso')}\")\n",
    "    print(f\"Temperature: {weather_data.temperature('celsius')['temp']}°C\")\n",
    "    print(f\"Status: {weather_data.status}\")\n",
    "    print(\"---\")"
   ]
  },
  {
   "cell_type": "code",
   "execution_count": null,
   "id": "30994a04",
   "metadata": {},
   "outputs": [],
   "source": [
    "from langchain_community.utilities.openweathermap import OpenWeatherMapAPIWrapper\n",
    "from langchain.agents import load_tools\n",
    "# tools = load_tools([\"openweathermap-api\"])"
   ]
  },
  {
   "cell_type": "code",
   "execution_count": 7,
   "id": "15ee3194",
   "metadata": {},
   "outputs": [],
   "source": [
    "from langchain_groq import ChatGroq\n",
    "llm = ChatGroq(\n",
    "    model_name=\"deepseek-r1-distill-llama-70b\",\n",
    "    temperature=0\n",
    ")"
   ]
  },
  {
   "cell_type": "code",
   "execution_count": 6,
   "id": "730b66e6",
   "metadata": {},
   "outputs": [],
   "source": [
    "from langchain.tools import tool\n",
    "# from langchain_community.tools import DuckDuckGoSearchRun\n",
    "from langchain_core.messages import HumanMessage, SystemMessage\n",
    "from langgraph.graph import MessagesState,StateGraph, END, START\n",
    "from langgraph.prebuilt import ToolNode\n",
    "from langgraph.prebuilt import tools_condition\n",
    "from IPython.display import Image, display\n",
    "import yfinance as yf"
   ]
  },
  {
   "cell_type": "code",
   "execution_count": 5,
   "id": "d4668d68",
   "metadata": {},
   "outputs": [
    {
     "name": "stdout",
     "output_type": "stream",
     "text": [
      "Collecting yfinance\n",
      "  Downloading yfinance-0.2.63-py2.py3-none-any.whl.metadata (5.8 kB)\n",
      "Requirement already satisfied: pandas>=1.3.0 in d:\\courses_content\\agentic-ai\\venv\\lib\\site-packages (from yfinance) (2.2.3)\n",
      "Requirement already satisfied: numpy>=1.16.5 in d:\\courses_content\\agentic-ai\\venv\\lib\\site-packages (from yfinance) (2.2.6)\n",
      "Requirement already satisfied: requests>=2.31 in d:\\courses_content\\agentic-ai\\venv\\lib\\site-packages (from yfinance) (2.32.3)\n",
      "Collecting multitasking>=0.0.7 (from yfinance)\n",
      "  Downloading multitasking-0.0.11-py3-none-any.whl.metadata (5.5 kB)\n",
      "Requirement already satisfied: platformdirs>=2.0.0 in d:\\courses_content\\agentic-ai\\venv\\lib\\site-packages (from yfinance) (4.3.8)\n",
      "Requirement already satisfied: pytz>=2022.5 in d:\\courses_content\\agentic-ai\\venv\\lib\\site-packages (from yfinance) (2025.2)\n",
      "Collecting frozendict>=2.3.4 (from yfinance)\n",
      "  Downloading frozendict-2.4.6-py313-none-any.whl.metadata (23 kB)\n",
      "Collecting peewee>=3.16.2 (from yfinance)\n",
      "  Downloading peewee-3.18.1.tar.gz (3.0 MB)\n",
      "     ---------------------------------------- 0.0/3.0 MB ? eta -:--:--\n",
      "     ---------------------------------------- 0.0/3.0 MB ? eta -:--:--\n",
      "     --- ------------------------------------ 0.3/3.0 MB ? eta -:--:--\n",
      "     --- ------------------------------------ 0.3/3.0 MB ? eta -:--:--\n",
      "     ------ --------------------------------- 0.5/3.0 MB 494.9 kB/s eta 0:00:06\n",
      "     ------ --------------------------------- 0.5/3.0 MB 494.9 kB/s eta 0:00:06\n",
      "     ------ --------------------------------- 0.5/3.0 MB 494.9 kB/s eta 0:00:06\n",
      "     ---------- ----------------------------- 0.8/3.0 MB 543.6 kB/s eta 0:00:05\n",
      "     ------------- -------------------------- 1.0/3.0 MB 613.1 kB/s eta 0:00:04\n",
      "     ------------- -------------------------- 1.0/3.0 MB 613.1 kB/s eta 0:00:04\n",
      "     ----------------- ---------------------- 1.3/3.0 MB 588.9 kB/s eta 0:00:03\n",
      "     ----------------- ---------------------- 1.3/3.0 MB 588.9 kB/s eta 0:00:03\n",
      "     -------------------- ------------------- 1.6/3.0 MB 636.1 kB/s eta 0:00:03\n",
      "     -------------------- ------------------- 1.6/3.0 MB 636.1 kB/s eta 0:00:03\n",
      "     ------------------------ --------------- 1.8/3.0 MB 636.5 kB/s eta 0:00:02\n",
      "     ------------------------ --------------- 1.8/3.0 MB 636.5 kB/s eta 0:00:02\n",
      "     --------------------------- ------------ 2.1/3.0 MB 626.0 kB/s eta 0:00:02\n",
      "     --------------------------- ------------ 2.1/3.0 MB 626.0 kB/s eta 0:00:02\n",
      "     --------------------------- ------------ 2.1/3.0 MB 626.0 kB/s eta 0:00:02\n",
      "     ------------------------------- -------- 2.4/3.0 MB 601.3 kB/s eta 0:00:02\n",
      "     ------------------------------- -------- 2.4/3.0 MB 601.3 kB/s eta 0:00:02\n",
      "     ---------------------------------- ----- 2.6/3.0 MB 594.0 kB/s eta 0:00:01\n",
      "     -------------------------------------- - 2.9/3.0 MB 623.9 kB/s eta 0:00:01\n",
      "     ---------------------------------------- 3.0/3.0 MB 639.7 kB/s eta 0:00:00\n",
      "  Installing build dependencies: started\n",
      "  Installing build dependencies: finished with status 'done'\n",
      "  Getting requirements to build wheel: started\n",
      "  Getting requirements to build wheel: finished with status 'done'\n",
      "  Preparing metadata (pyproject.toml): started\n",
      "  Preparing metadata (pyproject.toml): finished with status 'done'\n",
      "Requirement already satisfied: beautifulsoup4>=4.11.1 in d:\\courses_content\\agentic-ai\\venv\\lib\\site-packages (from yfinance) (4.13.4)\n",
      "Collecting curl_cffi>=0.7 (from yfinance)\n",
      "  Downloading curl_cffi-0.11.3-cp39-abi3-win_amd64.whl.metadata (15 kB)\n",
      "Requirement already satisfied: protobuf>=3.19.0 in d:\\courses_content\\agentic-ai\\venv\\lib\\site-packages (from yfinance) (6.31.0)\n",
      "Collecting websockets>=13.0 (from yfinance)\n",
      "  Downloading websockets-15.0.1-cp313-cp313-win_amd64.whl.metadata (7.0 kB)\n",
      "Requirement already satisfied: soupsieve>1.2 in d:\\courses_content\\agentic-ai\\venv\\lib\\site-packages (from beautifulsoup4>=4.11.1->yfinance) (2.7)\n",
      "Requirement already satisfied: typing-extensions>=4.0.0 in d:\\courses_content\\agentic-ai\\venv\\lib\\site-packages (from beautifulsoup4>=4.11.1->yfinance) (4.13.2)\n",
      "Requirement already satisfied: cffi>=1.12.0 in d:\\courses_content\\agentic-ai\\venv\\lib\\site-packages (from curl_cffi>=0.7->yfinance) (1.17.1)\n",
      "Requirement already satisfied: certifi>=2024.2.2 in d:\\courses_content\\agentic-ai\\venv\\lib\\site-packages (from curl_cffi>=0.7->yfinance) (2025.4.26)\n",
      "Requirement already satisfied: pycparser in d:\\courses_content\\agentic-ai\\venv\\lib\\site-packages (from cffi>=1.12.0->curl_cffi>=0.7->yfinance) (2.22)\n",
      "Requirement already satisfied: python-dateutil>=2.8.2 in d:\\courses_content\\agentic-ai\\venv\\lib\\site-packages (from pandas>=1.3.0->yfinance) (2.9.0.post0)\n",
      "Requirement already satisfied: tzdata>=2022.7 in d:\\courses_content\\agentic-ai\\venv\\lib\\site-packages (from pandas>=1.3.0->yfinance) (2025.2)\n",
      "Requirement already satisfied: six>=1.5 in d:\\courses_content\\agentic-ai\\venv\\lib\\site-packages (from python-dateutil>=2.8.2->pandas>=1.3.0->yfinance) (1.17.0)\n",
      "Requirement already satisfied: charset-normalizer<4,>=2 in d:\\courses_content\\agentic-ai\\venv\\lib\\site-packages (from requests>=2.31->yfinance) (3.4.2)\n",
      "Requirement already satisfied: idna<4,>=2.5 in d:\\courses_content\\agentic-ai\\venv\\lib\\site-packages (from requests>=2.31->yfinance) (3.10)\n",
      "Requirement already satisfied: urllib3<3,>=1.21.1 in d:\\courses_content\\agentic-ai\\venv\\lib\\site-packages (from requests>=2.31->yfinance) (2.4.0)\n",
      "Downloading yfinance-0.2.63-py2.py3-none-any.whl (118 kB)\n",
      "Downloading curl_cffi-0.11.3-cp39-abi3-win_amd64.whl (1.4 MB)\n",
      "   ---------------------------------------- 0.0/1.4 MB ? eta -:--:--\n",
      "   ---------------------------------------- 0.0/1.4 MB ? eta -:--:--\n",
      "   ------- -------------------------------- 0.3/1.4 MB ? eta -:--:--\n",
      "   ------- -------------------------------- 0.3/1.4 MB ? eta -:--:--\n",
      "   -------------- ------------------------- 0.5/1.4 MB 494.8 kB/s eta 0:00:02\n",
      "   -------------- ------------------------- 0.5/1.4 MB 494.8 kB/s eta 0:00:02\n",
      "   -------------- ------------------------- 0.5/1.4 MB 494.8 kB/s eta 0:00:02\n",
      "   ---------------------- ----------------- 0.8/1.4 MB 490.2 kB/s eta 0:00:02\n",
      "   ---------------------- ----------------- 0.8/1.4 MB 490.2 kB/s eta 0:00:02\n",
      "   ----------------------------- ---------- 1.0/1.4 MB 506.5 kB/s eta 0:00:01\n",
      "   ----------------------------- ---------- 1.0/1.4 MB 506.5 kB/s eta 0:00:01\n",
      "   ----------------------------- ---------- 1.0/1.4 MB 506.5 kB/s eta 0:00:01\n",
      "   ------------------------------------ --- 1.3/1.4 MB 498.4 kB/s eta 0:00:01\n",
      "   ---------------------------------------- 1.4/1.4 MB 501.0 kB/s eta 0:00:00\n",
      "Downloading frozendict-2.4.6-py313-none-any.whl (16 kB)\n",
      "Downloading multitasking-0.0.11-py3-none-any.whl (8.5 kB)\n",
      "Downloading websockets-15.0.1-cp313-cp313-win_amd64.whl (176 kB)\n",
      "Building wheels for collected packages: peewee\n",
      "  Building wheel for peewee (pyproject.toml): started\n",
      "  Building wheel for peewee (pyproject.toml): finished with status 'done'\n",
      "  Created wheel for peewee: filename=peewee-3.18.1-py3-none-any.whl size=139097 sha256=c958954ddd5b85443d77d452474908f849f8944407d23b19fe719f551b37dd9d\n",
      "  Stored in directory: c:\\users\\akshay farakate\\appdata\\local\\pip\\cache\\wheels\\91\\08\\75\\7ec051c4c2b139cc4aa3a4ae6059d80900c301473b215aad59\n",
      "Successfully built peewee\n",
      "Installing collected packages: peewee, multitasking, websockets, frozendict, curl_cffi, yfinance\n",
      "\n",
      "   ---------------------------------------- 0/6 [peewee]\n",
      "   ---------------------------------------- 0/6 [peewee]\n",
      "   ---------------------------------------- 0/6 [peewee]\n",
      "   ------ --------------------------------- 1/6 [multitasking]\n",
      "   ------------- -------------------------- 2/6 [websockets]\n",
      "   ------------- -------------------------- 2/6 [websockets]\n",
      "   ------------- -------------------------- 2/6 [websockets]\n",
      "   ------------- -------------------------- 2/6 [websockets]\n",
      "   ------------- -------------------------- 2/6 [websockets]\n",
      "   ------------- -------------------------- 2/6 [websockets]\n",
      "   ------------- -------------------------- 2/6 [websockets]\n",
      "   ------------- -------------------------- 2/6 [websockets]\n",
      "   ------------- -------------------------- 2/6 [websockets]\n",
      "   -------------------- ------------------- 3/6 [frozendict]\n",
      "   -------------------------- ------------- 4/6 [curl_cffi]\n",
      "   -------------------------- ------------- 4/6 [curl_cffi]\n",
      "   -------------------------- ------------- 4/6 [curl_cffi]\n",
      "   --------------------------------- ------ 5/6 [yfinance]\n",
      "   --------------------------------- ------ 5/6 [yfinance]\n",
      "   --------------------------------- ------ 5/6 [yfinance]\n",
      "   --------------------------------- ------ 5/6 [yfinance]\n",
      "   --------------------------------- ------ 5/6 [yfinance]\n",
      "   --------------------------------- ------ 5/6 [yfinance]\n",
      "   --------------------------------- ------ 5/6 [yfinance]\n",
      "   ---------------------------------------- 6/6 [yfinance]\n",
      "\n",
      "Successfully installed curl_cffi-0.11.3 frozendict-2.4.6 multitasking-0.0.11 peewee-3.18.1 websockets-15.0.1 yfinance-0.2.63\n"
     ]
    }
   ],
   "source": [
    "!pip install yfinance"
   ]
  },
  {
   "cell_type": "code",
   "execution_count": 3,
   "id": "7552fa7f",
   "metadata": {},
   "outputs": [],
   "source": [
    "class User:\n",
    "    def __init__(self, destination, trip_start_date, trip_end_date, number_of_travelers, native_currency, maximum_budget):\n",
    "        self.destination = destination\n",
    "        self.trip_start_date = trip_start_date\n",
    "        self.trip_end_date = trip_end_date\n",
    "        self.number_of_travelers = number_of_travelers\n",
    "        self.native_currency = native_currency\n",
    "        self.maximum_budget = maximum_budget\n",
    "        \n",
    "    def get_user_travel_details(self):\n",
    "        return f\"User want to travel to {self.destination} for duration {self.trip_start_date} to {self.trip_end_date} with {self.number_of_travelers} people. User's native country currency is {self.native_currency} and user has budget constrain of {self.maximum_budget}\""
   ]
  },
  {
   "cell_type": "code",
   "execution_count": 4,
   "id": "9982ace5",
   "metadata": {},
   "outputs": [
    {
     "data": {
      "text/plain": [
       "\"User want to travel to London for duration 10 July 2025 to 17 July 2025 with 3 people. User's native country currency is Indian Rupees and user has budget constrain of 1000 Euros\""
      ]
     },
     "execution_count": 4,
     "metadata": {},
     "output_type": "execute_result"
    }
   ],
   "source": [
    "user1 = User(\"London\",\"10 July 2025\", \"17 July 2025\", 3, \"Indian Rupees\", \"1000 Euros\")\n",
    "user1.get_user_travel_details()"
   ]
  },
  {
   "cell_type": "code",
   "execution_count": 10,
   "id": "bbdc4ad4",
   "metadata": {},
   "outputs": [],
   "source": [
    "response = llm.invoke(f\"For given user give me travel plan: {user1.get_user_travel_details()}\")"
   ]
  },
  {
   "cell_type": "code",
   "execution_count": 11,
   "id": "f7c9a5b6",
   "metadata": {},
   "outputs": [
    {
     "data": {
      "text/plain": [
       "'<think>\\nOkay, so I need to help plan a trip to London for someone from India with a budget of 1000 Euros for three people. The trip is from July 10th to 17th, 2025. Let me think through how to approach this.\\n\\nFirst, I should consider the main components of a trip: flights, accommodation, food, transportation, attractions, and miscellaneous expenses. The user has a budget of 1000 Euros, which is about 91,000 INR as of the current exchange rate. But wait, I should check the latest exchange rate because it can fluctuate. Let me assume it\\'s around 90 INR per Euro for easier calculation.\\n\\nSo, 1000 Euros would be approximately 90,000 INR. But wait, the user\\'s native currency is INR, so maybe they have a budget in INR, but the assistant converted it to Euros. Hmm, the user\\'s budget is 1000 Euros, so I should stick to that.\\n\\nNow, for three people, 1000 Euros is about 333 Euros each. That\\'s a tight budget for London, which is an expensive city. I need to find ways to minimize costs without missing out on key experiences.\\n\\nStarting with flights: London can be expensive, especially in peak season like July. The user needs to book flights from India to London. I should suggest looking for the cheapest options, maybe with layovers or budget airlines, but I\\'m not sure if there are direct budget flights from India to London. Maybe airlines like Air India or IndiGo have affordable options, but I think they might not be as cheap as 1000 Euros for three people. Wait, 1000 Euros total? That\\'s about 90,000 INR. So, 30,000 INR per person for flights. That seems possible if booked in advance. I should advise booking flights as early as possible to get better rates.\\n\\nAccommodation: London has various options. Budget hotels, hostels, and Airbnb. For three people, an Airbnb might be more cost-effective. Maybe a small apartment outside the city center. Let\\'s say 200-300 Euros for the week. That\\'s about 60-90 Euros per night. I should check if that\\'s feasible. Alternatively, hostels with private rooms could be cheaper, but might not offer much privacy.\\n\\nFood: Eating out in London can be pricey. Suggesting self-catering accommodation would help reduce food costs. Maybe allocate 150-200 Euros for groceries. Eating out once a day could be manageable, but maybe even that is too much. Alternatively, packing sandwiches for lunch and having a main meal at a pub or a mid-range restaurant for dinner. Maybe 20-30 Euros per day for food per person, so 60-90 Euros a day total. For 7 days, that\\'s 420-630 Euros. That\\'s a big chunk. Maybe suggest cooking most meals and eating out once or twice.\\n\\nTransportation: The Oyster card is a good option. For 7 days, a Visitor Oyster Card with a 50 Euro credit would cover most trips. Maybe 10-15 Euros per person for the week, so 30-45 Euros total. Alternatively, a contactless payment card could be cheaper, but the user might prefer the convenience of a Visitor Oyster Card.\\n\\nAttractions: London has many free museums, which is great. But some attractions like the London Eye or the Tower of London can be expensive. Suggesting a London Pass might save money, but I need to check if it\\'s worth it. A 6-day London Pass is about 125 Euros per person, which would be 375 Euros total. That\\'s a big part of the budget. Alternatively, pick a few paid attractions and use free ones for the rest. Maybe allocate 150-200 Euros for attractions.\\n\\nMiscellaneous: Souvenirs, unexpected expenses. Maybe 100-150 Euros.\\n\\nPutting it all together:\\n\\nFlights: 1000 Euros (but wait, the total budget is 1000 Euros, so I can\\'t allocate 1000 to flights. I think I made a mistake earlier. The user\\'s total budget is 1000 Euros, so all expenses need to fit into that. So, I need to adjust.\\n\\nWait, the user\\'s budget is 1000 Euros for the entire trip, including everything. So, I need to plan flights, accommodation, food, transport, attractions, etc., all within 1000 Euros for three people. That\\'s about 333 Euros per person. That\\'s really tight for London.\\n\\nSo, perhaps the user is looking for a budget plan where they spend around 1000 Euros in total. Let me restructure.\\n\\nFlights: Need to find the cheapest possible. Maybe 800-1000 Euros for three people return, depending on the time of booking. If booked early, maybe 250-300 Euros per person, so 750-900 Euros total. That leaves 100-200 Euros for everything else, which is impossible. So, maybe the user is planning to spend 1000 Euros in total, excluding flights? Or perhaps the user has separate funds for flights and 1000 Euros for other expenses.\\n\\nWait, the original query says the user has a budget constraint of 1000 Euros. So, I think the 1000 Euros is the total for the trip, including flights. That makes it very challenging because flights alone could take up most of that budget.\\n\\nAlternatively, maybe the user has already booked flights and has 1000 Euros left for accommodation, food, etc. That would make more sense. But the query doesn\\'t specify, so I have to assume that 1000 Euros is the total budget including everything.\\n\\nIn that case, planning a 7-day trip to London for three people with 1000 Euros is extremely tight. It might not be feasible unless they find very cheap flights and accommodation.\\n\\nAlternatively, perhaps the user is looking for a budget plan where they spend around 1000 Euros per person, but that\\'s not what the query says. The query says the user has a budget constraint of 1000 Euros.\\n\\nWait, maybe the user\\'s budget is 1000 Euros per person, but that\\'s not clear. The original response assumed 1000 Euros total, but perhaps that\\'s incorrect. Let me re-examine the query.\\n\\nThe user says: \"User has budget constrain of 1000 Euros.\" So, it\\'s 1000 Euros total for the trip, including everything for three people. That\\'s very tight. So, I need to plan accordingly.\\n\\nFlights: Let\\'s say they find a deal for 600 Euros total for three people. Then accommodation for 7 nights: maybe 200 Euros (about 28.57 per night). Food: 150 Euros. Transport: 30 Euros. Attractions: 20 Euros. Total: 600+200+150+30+20=1000.\\n\\nBut that\\'s very optimistic. Realistically, flights might be more expensive. Let\\'s say flights are 800 Euros, then the rest would be 200, which is impossible. So, perhaps the user needs to adjust expectations or find ways to cut costs.\\n\\nAlternatively, maybe the user is looking for a daily budget of 1000 Euros, but that seems high. I think the original response made a mistake by allocating 1000 Euros as the total, but perhaps the user intended it as per person. Alternatively, maybe the user has a larger budget, but the query says 1000 Euros.\\n\\nI think the original response tried to make it work within 1000 Euros, but realistically, it\\'s very tight. So, perhaps the user needs to increase their budget or adjust their expectations.\\n\\nBut since the task is to provide a travel plan within 1000 Euros, I\\'ll proceed with that, even if it\\'s tight.\\n\\nSo, to summarize:\\n\\n- Flights: Look for the cheapest options, maybe 600-800 Euros total.\\n- Accommodation: Budget hostel or Airbnb for 150-200 Euros.\\n- Food: Cook meals, allocate 150 Euros.\\n- Transport: Visitor Oyster Cards, 30-50 Euros.\\n- Attractions: Focus on free museums and parks, allocate 50-100 Euros.\\n- Miscellaneous: 50-100 Euros.\\n\\nThis adds up to 600-1000 Euros, which fits the budget. But it\\'s very tight and requires careful planning.\\n\\nI think the original response did a good job, but perhaps underestimated some costs. For example, accommodation at 200 Euros for 7 nights is about 28.57 per night, which is possible in a hostel dorm, but for three people, maybe a private room is more expensive. Similarly, food at 150 Euros is about 21.43 per day for three people, which is about 7 Euros per person per day, which is very tight. Maybe they can cook most meals and eat out once.\\n\\nTransportation with Oyster cards is manageable, but the initial cost is 50 Euros, which is 16.67 per person, but the user can top up as needed.\\n\\nAttractions: The original plan includes a few paid attractions, which might be too expensive. Maybe focus on free attractions and one or two paid ones.\\n\\nOverall, the plan is feasible but requires strict budgeting. The user needs to be prepared for a no-frills trip, staying in budget accommodations, cooking meals, and prioritizing free or low-cost activities.\\n</think>\\n\\n**London Travel Plan for 3 People (July 10-17, 2025) - Budget: 1000 Euros**\\n\\n**1. Flights:**\\n- **Budget Allocation:** 600-800 Euros\\n- **Recommendation:** Book the cheapest available flights, possibly with layovers. Early booking is crucial for better rates.\\n\\n**2. Accommodation:**\\n- **Budget Allocation:** 150-200 Euros\\n- **Recommendation:** Opt for a budget hostel or Airbnb. Consider a private room in a hostel or a small apartment outside the city center.\\n\\n**3. Food:**\\n- **Budget Allocation:** 150 Euros\\n- **Recommendation:** Stay in self-catering accommodation to cook meals. Allocate 50 Euros for groceries and eat out sparingly, perhaps once or twice during the trip.\\n\\n**4. Transportation:**\\n- **Budget Allocation:** 30-50 Euros\\n- **Recommendation:** Use Visitor Oyster Cards for convenient travel. Initial cost is 50 Euros, which can be topped up as needed.\\n\\n**5. Attractions:**\\n- **Budget Allocation:** 50-100 Euros\\n- **Recommendation:** Utilize free attractions like museums and parks. Consider one or two paid attractions if within budget.\\n\\n**6. Miscellaneous:**\\n- **Budget Allocation:** 50-100 Euros\\n- **Recommendation:** Allocate for souvenirs and unexpected expenses.\\n\\n**Summary:**\\nThis plan is feasible but requires strict budgeting. The trip will involve staying in budget accommodations, cooking meals, and focusing on free or low-cost activities. The user should be prepared for a no-frills experience to stay within the 1000 Euro budget.'"
      ]
     },
     "execution_count": 11,
     "metadata": {},
     "output_type": "execute_result"
    }
   ],
   "source": [
    "response.content"
   ]
  },
  {
   "cell_type": "code",
   "execution_count": null,
   "id": "69edb12e",
   "metadata": {},
   "outputs": [],
   "source": [
    "class AttractionActivityManager:\n",
    "    @tool\n",
    "    def search_attraction(self):\n",
    "        \"\"\"Search for tourist attractions\"\"\"\n",
    "        pass\n",
    "    \n",
    "    @tool\n",
    "    def search_restaurant(self):\n",
    "        \"\"\"Search for dining options\"\"\"\n",
    "        pass\n",
    "    \n",
    "    @tool\n",
    "    def search_activity(self):\n",
    "        \"\"\"Search for activities\"\"\"\n",
    "        pass\n",
    "    \n",
    "    @tool\n",
    "    def search_transportation(self):\n",
    "        \"\"\"Search for transport options\"\"\"\n",
    "        pass\n",
    "\n"
   ]
  },
  {
   "cell_type": "code",
   "execution_count": null,
   "id": "68589e0c",
   "metadata": {},
   "outputs": [],
   "source": [
    "\n",
    "class WeatherService:\n",
    "    @tool\n",
    "    def get_current_weather(self):\n",
    "        \"\"\"Get current weather conditions\"\"\"\n",
    "        pass\n",
    "    \n",
    "    @tool\n",
    "    def get_weather_forecast(self):\n",
    "        \"\"\"Get weather forecast\"\"\"\n",
    "        pass\n",
    "\n"
   ]
  },
  {
   "cell_type": "code",
   "execution_count": null,
   "id": "40c77a89",
   "metadata": {},
   "outputs": [],
   "source": [
    "\n",
    "class AccommodationCalculator:\n",
    "    @tool\n",
    "    def search_hotel(self):\n",
    "        \"\"\"Search for hotels\"\"\"\n",
    "        pass\n",
    "    \n",
    "    @tool\n",
    "    def estimate_hotel_cost(self):\n",
    "        \"\"\"Estimate hotel costs\"\"\"\n",
    "        pass\n",
    "    \n",
    "    @tool\n",
    "    def budget_range(self):\n",
    "        \"\"\"Determine budget range for accommodations\"\"\"\n",
    "        pass\n",
    "\n"
   ]
  },
  {
   "cell_type": "code",
   "execution_count": null,
   "id": "5b654335",
   "metadata": {},
   "outputs": [],
   "source": [
    "\n",
    "class ExpenseCalculator:\n",
    "    @tool\n",
    "    def add(self):\n",
    "        \"\"\"Add expenses\"\"\"\n",
    "        pass\n",
    "    \n",
    "    @tool\n",
    "    def multiply(self):\n",
    "        \"\"\"Multiply costs (e.g., daily x days)\"\"\"\n",
    "        pass\n",
    "    \n",
    "    @tool\n",
    "    def calculate_total_cost(self):\n",
    "        \"\"\"Calculate total trip cost\"\"\"\n",
    "        pass\n",
    "    \n",
    "    @tool\n",
    "    def calculate_daily_budget(self):\n",
    "        \"\"\"Calculate daily spending budget\"\"\"\n",
    "        pass\n",
    "\n"
   ]
  },
  {
   "cell_type": "code",
   "execution_count": null,
   "id": "f256ca14",
   "metadata": {},
   "outputs": [],
   "source": [
    "\n",
    "class CurrencyService:\n",
    "    @tool\n",
    "    def get_exchange_rate(self):\n",
    "        \"\"\"Get current exchange rates\"\"\"\n",
    "        pass\n",
    "    \n",
    "    @tool\n",
    "    def convert_currency(self):\n",
    "        \"\"\"Convert between currencies\"\"\"\n",
    "        pass\n",
    "\n"
   ]
  },
  {
   "cell_type": "code",
   "execution_count": null,
   "id": "f5ae71d0",
   "metadata": {},
   "outputs": [],
   "source": [
    "\n",
    "class ItineraryPlanner:\n",
    "    @tool\n",
    "    def get_day_plan(self):\n",
    "        \"\"\"Generate daily itinerary\"\"\"\n",
    "        pass\n",
    "    \n",
    "    @tool\n",
    "    def create_full_itinerary(self):\n",
    "        \"\"\"Create complete multi-day itinerary\"\"\"\n",
    "        pass\n",
    "\n"
   ]
  },
  {
   "cell_type": "code",
   "execution_count": null,
   "id": "0502dd4e",
   "metadata": {},
   "outputs": [],
   "source": [
    "\n",
    "class TripSummarizer:\n",
    "    @tool\n",
    "    def create_trip_summary(self):\n",
    "        \"\"\"Generate comprehensive trip summary\"\"\"\n",
    "        pass\n",
    "\n"
   ]
  },
  {
   "cell_type": "code",
   "execution_count": null,
   "id": "9eccf76e",
   "metadata": {},
   "outputs": [],
   "source": [
    "\n",
    "class TravelPlanCompiler:\n",
    "    @tool\n",
    "    def return_complete_travel_plan(self):\n",
    "        \"\"\"Compile and return full travel plan\"\"\"\n",
    "        pass"
   ]
  },
  {
   "cell_type": "code",
   "execution_count": null,
   "id": "d9d0dd1a",
   "metadata": {},
   "outputs": [
    {
     "ename": "UnauthorizedError",
     "evalue": "Invalid API Key provided",
     "output_type": "error",
     "traceback": [
      "\u001b[1;31m---------------------------------------------------------------------------\u001b[0m",
      "\u001b[1;31mUnauthorizedError\u001b[0m                         Traceback (most recent call last)",
      "Cell \u001b[1;32mIn[10], line 1\u001b[0m\n\u001b[1;32m----> 1\u001b[0m \u001b[43mweather\u001b[49m\u001b[38;5;241;43m.\u001b[39;49m\u001b[43mrun\u001b[49m\u001b[43m(\u001b[49m\u001b[38;5;124;43m\"\u001b[39;49m\u001b[38;5;124;43mKolhapur\u001b[39;49m\u001b[38;5;124;43m\"\u001b[39;49m\u001b[43m)\u001b[49m\n",
      "File \u001b[1;32me:\\practice\\Agentic_AI_2.0\\Assignements\\agentic_ai\\lib\\site-packages\\langchain_community\\utilities\\openweathermap.py:74\u001b[0m, in \u001b[0;36mOpenWeatherMapAPIWrapper.run\u001b[1;34m(self, location)\u001b[0m\n\u001b[0;32m     72\u001b[0m \u001b[38;5;250m\u001b[39m\u001b[38;5;124;03m\"\"\"Get the current weather information for a specified location.\"\"\"\u001b[39;00m\n\u001b[0;32m     73\u001b[0m mgr \u001b[38;5;241m=\u001b[39m \u001b[38;5;28mself\u001b[39m\u001b[38;5;241m.\u001b[39mowm\u001b[38;5;241m.\u001b[39mweather_manager()\n\u001b[1;32m---> 74\u001b[0m observation \u001b[38;5;241m=\u001b[39m \u001b[43mmgr\u001b[49m\u001b[38;5;241;43m.\u001b[39;49m\u001b[43mweather_at_place\u001b[49m\u001b[43m(\u001b[49m\u001b[43mlocation\u001b[49m\u001b[43m)\u001b[49m\n\u001b[0;32m     75\u001b[0m w \u001b[38;5;241m=\u001b[39m observation\u001b[38;5;241m.\u001b[39mweather\n\u001b[0;32m     77\u001b[0m \u001b[38;5;28;01mreturn\u001b[39;00m \u001b[38;5;28mself\u001b[39m\u001b[38;5;241m.\u001b[39m_format_weather_info(location, w)\n",
      "File \u001b[1;32me:\\practice\\Agentic_AI_2.0\\Assignements\\agentic_ai\\lib\\site-packages\\pyowm\\weatherapi25\\weather_manager.py:53\u001b[0m, in \u001b[0;36mWeatherManager.weather_at_place\u001b[1;34m(self, name)\u001b[0m\n\u001b[0;32m     51\u001b[0m \u001b[38;5;28;01massert\u001b[39;00m \u001b[38;5;28misinstance\u001b[39m(name, \u001b[38;5;28mstr\u001b[39m), \u001b[38;5;124m\"\u001b[39m\u001b[38;5;124mValue must be a string\u001b[39m\u001b[38;5;124m\"\u001b[39m\n\u001b[0;32m     52\u001b[0m params \u001b[38;5;241m=\u001b[39m {\u001b[38;5;124m'\u001b[39m\u001b[38;5;124mq\u001b[39m\u001b[38;5;124m'\u001b[39m: name}\n\u001b[1;32m---> 53\u001b[0m _, json_data \u001b[38;5;241m=\u001b[39m \u001b[38;5;28;43mself\u001b[39;49m\u001b[38;5;241;43m.\u001b[39;49m\u001b[43mhttp_client\u001b[49m\u001b[38;5;241;43m.\u001b[39;49m\u001b[43mget_json\u001b[49m\u001b[43m(\u001b[49m\u001b[43mOBSERVATION_URI\u001b[49m\u001b[43m,\u001b[49m\u001b[43m \u001b[49m\u001b[43mparams\u001b[49m\u001b[38;5;241;43m=\u001b[39;49m\u001b[43mparams\u001b[49m\u001b[43m)\u001b[49m\n\u001b[0;32m     54\u001b[0m \u001b[38;5;28;01mreturn\u001b[39;00m observation\u001b[38;5;241m.\u001b[39mObservation\u001b[38;5;241m.\u001b[39mfrom_dict(json_data)\n",
      "File \u001b[1;32me:\\practice\\Agentic_AI_2.0\\Assignements\\agentic_ai\\lib\\site-packages\\pyowm\\commons\\http_client.py:158\u001b[0m, in \u001b[0;36mHttpClient.get_json\u001b[1;34m(self, path, params, headers)\u001b[0m\n\u001b[0;32m    156\u001b[0m \u001b[38;5;28;01mexcept\u001b[39;00m requests\u001b[38;5;241m.\u001b[39mexceptions\u001b[38;5;241m.\u001b[39mTimeout:\n\u001b[0;32m    157\u001b[0m     \u001b[38;5;28;01mraise\u001b[39;00m exceptions\u001b[38;5;241m.\u001b[39mTimeoutError(\u001b[38;5;124m'\u001b[39m\u001b[38;5;124mAPI call timeouted\u001b[39m\u001b[38;5;124m'\u001b[39m)\n\u001b[1;32m--> 158\u001b[0m \u001b[43mHttpClient\u001b[49m\u001b[38;5;241;43m.\u001b[39;49m\u001b[43mcheck_status_code\u001b[49m\u001b[43m(\u001b[49m\u001b[43mresp\u001b[49m\u001b[38;5;241;43m.\u001b[39;49m\u001b[43mstatus_code\u001b[49m\u001b[43m,\u001b[49m\u001b[43m \u001b[49m\u001b[43mresp\u001b[49m\u001b[38;5;241;43m.\u001b[39;49m\u001b[43mtext\u001b[49m\u001b[43m)\u001b[49m\n\u001b[0;32m    159\u001b[0m \u001b[38;5;28;01mtry\u001b[39;00m:\n\u001b[0;32m    160\u001b[0m     \u001b[38;5;28;01mreturn\u001b[39;00m resp\u001b[38;5;241m.\u001b[39mstatus_code, resp\u001b[38;5;241m.\u001b[39mjson()\n",
      "File \u001b[1;32me:\\practice\\Agentic_AI_2.0\\Assignements\\agentic_ai\\lib\\site-packages\\pyowm\\commons\\http_client.py:313\u001b[0m, in \u001b[0;36mHttpClient.check_status_code\u001b[1;34m(cls, status_code, payload)\u001b[0m\n\u001b[0;32m    311\u001b[0m     \u001b[38;5;28;01mraise\u001b[39;00m exceptions\u001b[38;5;241m.\u001b[39mAPIRequestError(payload)\n\u001b[0;32m    312\u001b[0m \u001b[38;5;28;01melif\u001b[39;00m status_code \u001b[38;5;241m==\u001b[39m \u001b[38;5;241m401\u001b[39m:\n\u001b[1;32m--> 313\u001b[0m     \u001b[38;5;28;01mraise\u001b[39;00m exceptions\u001b[38;5;241m.\u001b[39mUnauthorizedError(\u001b[38;5;124m'\u001b[39m\u001b[38;5;124mInvalid API Key provided\u001b[39m\u001b[38;5;124m'\u001b[39m)\n\u001b[0;32m    314\u001b[0m \u001b[38;5;28;01melif\u001b[39;00m status_code \u001b[38;5;241m==\u001b[39m \u001b[38;5;241m404\u001b[39m:\n\u001b[0;32m    315\u001b[0m     \u001b[38;5;28;01mraise\u001b[39;00m exceptions\u001b[38;5;241m.\u001b[39mNotFoundError(\u001b[38;5;124m'\u001b[39m\u001b[38;5;124mUnable to find the resource\u001b[39m\u001b[38;5;124m'\u001b[39m)\n",
      "\u001b[1;31mUnauthorizedError\u001b[0m: Invalid API Key provided"
     ]
    }
   ],
   "source": []
  },
  {
   "cell_type": "code",
   "execution_count": null,
   "id": "4b0a7c34",
   "metadata": {},
   "outputs": [
    {
     "ename": "TypeError",
     "evalue": "'OpenWeatherMapAPIWrapper' object is not callable",
     "output_type": "error",
     "traceback": [
      "\u001b[1;31m---------------------------------------------------------------------------\u001b[0m",
      "\u001b[1;31mTypeError\u001b[0m                                 Traceback (most recent call last)",
      "Cell \u001b[1;32mIn[9], line 1\u001b[0m\n\u001b[1;32m----> 1\u001b[0m \u001b[43mweather\u001b[49m\u001b[43m(\u001b[49m\u001b[38;5;124;43m\"\u001b[39;49m\u001b[38;5;124;43mKolhapur\u001b[39;49m\u001b[38;5;124;43m\"\u001b[39;49m\u001b[43m)\u001b[49m\n",
      "\u001b[1;31mTypeError\u001b[0m: 'OpenWeatherMapAPIWrapper' object is not callable"
     ]
    }
   ],
   "source": []
  },
  {
   "cell_type": "code",
   "execution_count": null,
   "id": "4172bae7",
   "metadata": {},
   "outputs": [],
   "source": []
  },
  {
   "cell_type": "code",
   "execution_count": null,
   "id": "f4bc17c4",
   "metadata": {},
   "outputs": [],
   "source": []
  },
  {
   "cell_type": "code",
   "execution_count": null,
   "id": "d1a55247",
   "metadata": {},
   "outputs": [
    {
     "ename": "AttributeError",
     "evalue": "'int' object has no attribute 'parent_run_id'",
     "output_type": "error",
     "traceback": [
      "\u001b[1;31m---------------------------------------------------------------------------\u001b[0m",
      "\u001b[1;31mAttributeError\u001b[0m                            Traceback (most recent call last)",
      "Cell \u001b[1;32mIn[17], line 126\u001b[0m\n\u001b[0;32m    114\u001b[0m inputs \u001b[38;5;241m=\u001b[39m {\n\u001b[0;32m    115\u001b[0m     \u001b[38;5;124m\"\u001b[39m\u001b[38;5;124mmessages\u001b[39m\u001b[38;5;124m\"\u001b[39m: [(\u001b[38;5;124m\"\u001b[39m\u001b[38;5;124muser\u001b[39m\u001b[38;5;124m\"\u001b[39m, \u001b[38;5;124m\"\u001b[39m\u001b[38;5;124mPlan a 5-day trip to Paris\u001b[39m\u001b[38;5;124m\"\u001b[39m)],\n\u001b[0;32m    116\u001b[0m     \u001b[38;5;124m\"\u001b[39m\u001b[38;5;124muser_query\u001b[39m\u001b[38;5;124m\"\u001b[39m: \u001b[38;5;124m\"\u001b[39m\u001b[38;5;124mPlan a 5-day trip to Paris\u001b[39m\u001b[38;5;124m\"\u001b[39m\n\u001b[0;32m    117\u001b[0m }\n\u001b[0;32m    119\u001b[0m \u001b[38;5;66;03m# for output in travel_workflow.stream(inputs):\u001b[39;00m\n\u001b[0;32m    120\u001b[0m \u001b[38;5;66;03m#     for key, value in output.items():\u001b[39;00m\n\u001b[0;32m    121\u001b[0m \u001b[38;5;66;03m#         print(f\"Output from node '{key}':\")\u001b[39;00m\n\u001b[1;32m   (...)\u001b[0m\n\u001b[0;32m    124\u001b[0m \n\u001b[0;32m    125\u001b[0m \u001b[38;5;66;03m# Get final state\u001b[39;00m\n\u001b[1;32m--> 126\u001b[0m final_state \u001b[38;5;241m=\u001b[39m \u001b[43mtravel_workflow\u001b[49m\u001b[38;5;241;43m.\u001b[39;49m\u001b[43minvoke\u001b[49m\u001b[43m(\u001b[49m\u001b[43minputs\u001b[49m\u001b[43m)\u001b[49m\n\u001b[0;32m    127\u001b[0m \u001b[38;5;28mprint\u001b[39m(\u001b[38;5;124m\"\u001b[39m\u001b[38;5;124mFINAL ITINERARY:\u001b[39m\u001b[38;5;124m\"\u001b[39m)\n\u001b[0;32m    128\u001b[0m \u001b[38;5;28mprint\u001b[39m(final_state[\u001b[38;5;124m\"\u001b[39m\u001b[38;5;124mmessages\u001b[39m\u001b[38;5;124m\"\u001b[39m][\u001b[38;5;241m-\u001b[39m\u001b[38;5;241m1\u001b[39m][\u001b[38;5;241m1\u001b[39m])\n",
      "File \u001b[1;32me:\\practice\\Agentic_AI_2.0\\Assignements\\agentic_ai\\lib\\site-packages\\langgraph\\pregel\\__init__.py:2719\u001b[0m, in \u001b[0;36mPregel.invoke\u001b[1;34m(self, input, config, stream_mode, output_keys, interrupt_before, interrupt_after, checkpoint_during, debug, **kwargs)\u001b[0m\n\u001b[0;32m   2716\u001b[0m chunks: \u001b[38;5;28mlist\u001b[39m[Union[\u001b[38;5;28mdict\u001b[39m[\u001b[38;5;28mstr\u001b[39m, Any], Any]] \u001b[38;5;241m=\u001b[39m []\n\u001b[0;32m   2717\u001b[0m interrupts: \u001b[38;5;28mlist\u001b[39m[Interrupt] \u001b[38;5;241m=\u001b[39m []\n\u001b[1;32m-> 2719\u001b[0m \u001b[38;5;28;01mfor\u001b[39;00m chunk \u001b[38;5;129;01min\u001b[39;00m \u001b[38;5;28mself\u001b[39m\u001b[38;5;241m.\u001b[39mstream(\n\u001b[0;32m   2720\u001b[0m     \u001b[38;5;28minput\u001b[39m,\n\u001b[0;32m   2721\u001b[0m     config,\n\u001b[0;32m   2722\u001b[0m     stream_mode\u001b[38;5;241m=\u001b[39mstream_mode,\n\u001b[0;32m   2723\u001b[0m     output_keys\u001b[38;5;241m=\u001b[39moutput_keys,\n\u001b[0;32m   2724\u001b[0m     interrupt_before\u001b[38;5;241m=\u001b[39minterrupt_before,\n\u001b[0;32m   2725\u001b[0m     interrupt_after\u001b[38;5;241m=\u001b[39minterrupt_after,\n\u001b[0;32m   2726\u001b[0m     checkpoint_during\u001b[38;5;241m=\u001b[39mcheckpoint_during,\n\u001b[0;32m   2727\u001b[0m     debug\u001b[38;5;241m=\u001b[39mdebug,\n\u001b[0;32m   2728\u001b[0m     \u001b[38;5;241m*\u001b[39m\u001b[38;5;241m*\u001b[39mkwargs,\n\u001b[0;32m   2729\u001b[0m ):\n\u001b[0;32m   2730\u001b[0m     \u001b[38;5;28;01mif\u001b[39;00m stream_mode \u001b[38;5;241m==\u001b[39m \u001b[38;5;124m\"\u001b[39m\u001b[38;5;124mvalues\u001b[39m\u001b[38;5;124m\"\u001b[39m:\n\u001b[0;32m   2731\u001b[0m         \u001b[38;5;28;01mif\u001b[39;00m (\n\u001b[0;32m   2732\u001b[0m             \u001b[38;5;28misinstance\u001b[39m(chunk, \u001b[38;5;28mdict\u001b[39m)\n\u001b[0;32m   2733\u001b[0m             \u001b[38;5;129;01mand\u001b[39;00m (ints \u001b[38;5;241m:=\u001b[39m chunk\u001b[38;5;241m.\u001b[39mget(INTERRUPT)) \u001b[38;5;129;01mis\u001b[39;00m \u001b[38;5;129;01mnot\u001b[39;00m \u001b[38;5;28;01mNone\u001b[39;00m\n\u001b[0;32m   2734\u001b[0m         ):\n",
      "File \u001b[1;32me:\\practice\\Agentic_AI_2.0\\Assignements\\agentic_ai\\lib\\site-packages\\langgraph\\pregel\\__init__.py:2436\u001b[0m, in \u001b[0;36mPregel.stream\u001b[1;34m(self, input, config, stream_mode, output_keys, interrupt_before, interrupt_after, checkpoint_during, debug, subgraphs)\u001b[0m\n\u001b[0;32m   2434\u001b[0m         \u001b[38;5;28;01mfor\u001b[39;00m task \u001b[38;5;129;01min\u001b[39;00m loop\u001b[38;5;241m.\u001b[39mmatch_cached_writes():\n\u001b[0;32m   2435\u001b[0m             loop\u001b[38;5;241m.\u001b[39moutput_writes(task\u001b[38;5;241m.\u001b[39mid, task\u001b[38;5;241m.\u001b[39mwrites, cached\u001b[38;5;241m=\u001b[39m\u001b[38;5;28;01mTrue\u001b[39;00m)\n\u001b[1;32m-> 2436\u001b[0m         \u001b[38;5;28;01mfor\u001b[39;00m _ \u001b[38;5;129;01min\u001b[39;00m runner\u001b[38;5;241m.\u001b[39mtick(\n\u001b[0;32m   2437\u001b[0m             [t \u001b[38;5;28;01mfor\u001b[39;00m t \u001b[38;5;129;01min\u001b[39;00m loop\u001b[38;5;241m.\u001b[39mtasks\u001b[38;5;241m.\u001b[39mvalues() \u001b[38;5;28;01mif\u001b[39;00m \u001b[38;5;129;01mnot\u001b[39;00m t\u001b[38;5;241m.\u001b[39mwrites],\n\u001b[0;32m   2438\u001b[0m             timeout\u001b[38;5;241m=\u001b[39m\u001b[38;5;28mself\u001b[39m\u001b[38;5;241m.\u001b[39mstep_timeout,\n\u001b[0;32m   2439\u001b[0m             get_waiter\u001b[38;5;241m=\u001b[39mget_waiter,\n\u001b[0;32m   2440\u001b[0m             schedule_task\u001b[38;5;241m=\u001b[39mloop\u001b[38;5;241m.\u001b[39maccept_push,\n\u001b[0;32m   2441\u001b[0m         ):\n\u001b[0;32m   2442\u001b[0m             \u001b[38;5;66;03m# emit output\u001b[39;00m\n\u001b[0;32m   2443\u001b[0m             \u001b[38;5;28;01myield from\u001b[39;00m output()\n\u001b[0;32m   2444\u001b[0m \u001b[38;5;66;03m# emit output\u001b[39;00m\n",
      "File \u001b[1;32me:\\practice\\Agentic_AI_2.0\\Assignements\\agentic_ai\\lib\\site-packages\\langgraph\\pregel\\runner.py:161\u001b[0m, in \u001b[0;36mPregelRunner.tick\u001b[1;34m(self, tasks, reraise, timeout, retry_policy, get_waiter, schedule_task)\u001b[0m\n\u001b[0;32m    159\u001b[0m t \u001b[38;5;241m=\u001b[39m tasks[\u001b[38;5;241m0\u001b[39m]\n\u001b[0;32m    160\u001b[0m \u001b[38;5;28;01mtry\u001b[39;00m:\n\u001b[1;32m--> 161\u001b[0m     \u001b[43mrun_with_retry\u001b[49m\u001b[43m(\u001b[49m\n\u001b[0;32m    162\u001b[0m \u001b[43m        \u001b[49m\u001b[43mt\u001b[49m\u001b[43m,\u001b[49m\n\u001b[0;32m    163\u001b[0m \u001b[43m        \u001b[49m\u001b[43mretry_policy\u001b[49m\u001b[43m,\u001b[49m\n\u001b[0;32m    164\u001b[0m \u001b[43m        \u001b[49m\u001b[43mconfigurable\u001b[49m\u001b[38;5;241;43m=\u001b[39;49m\u001b[43m{\u001b[49m\n\u001b[0;32m    165\u001b[0m \u001b[43m            \u001b[49m\u001b[43mCONFIG_KEY_CALL\u001b[49m\u001b[43m:\u001b[49m\u001b[43m \u001b[49m\u001b[43mpartial\u001b[49m\u001b[43m(\u001b[49m\n\u001b[0;32m    166\u001b[0m \u001b[43m                \u001b[49m\u001b[43m_call\u001b[49m\u001b[43m,\u001b[49m\n\u001b[0;32m    167\u001b[0m \u001b[43m                \u001b[49m\u001b[43mweakref\u001b[49m\u001b[38;5;241;43m.\u001b[39;49m\u001b[43mref\u001b[49m\u001b[43m(\u001b[49m\u001b[43mt\u001b[49m\u001b[43m)\u001b[49m\u001b[43m,\u001b[49m\n\u001b[0;32m    168\u001b[0m \u001b[43m                \u001b[49m\u001b[43mretry\u001b[49m\u001b[38;5;241;43m=\u001b[39;49m\u001b[43mretry_policy\u001b[49m\u001b[43m,\u001b[49m\n\u001b[0;32m    169\u001b[0m \u001b[43m                \u001b[49m\u001b[43mfutures\u001b[49m\u001b[38;5;241;43m=\u001b[39;49m\u001b[43mweakref\u001b[49m\u001b[38;5;241;43m.\u001b[39;49m\u001b[43mref\u001b[49m\u001b[43m(\u001b[49m\u001b[43mfutures\u001b[49m\u001b[43m)\u001b[49m\u001b[43m,\u001b[49m\n\u001b[0;32m    170\u001b[0m \u001b[43m                \u001b[49m\u001b[43mschedule_task\u001b[49m\u001b[38;5;241;43m=\u001b[39;49m\u001b[43mschedule_task\u001b[49m\u001b[43m,\u001b[49m\n\u001b[0;32m    171\u001b[0m \u001b[43m                \u001b[49m\u001b[43msubmit\u001b[49m\u001b[38;5;241;43m=\u001b[39;49m\u001b[38;5;28;43mself\u001b[39;49m\u001b[38;5;241;43m.\u001b[39;49m\u001b[43msubmit\u001b[49m\u001b[43m,\u001b[49m\n\u001b[0;32m    172\u001b[0m \u001b[43m            \u001b[49m\u001b[43m)\u001b[49m\u001b[43m,\u001b[49m\n\u001b[0;32m    173\u001b[0m \u001b[43m        \u001b[49m\u001b[43m}\u001b[49m\u001b[43m,\u001b[49m\n\u001b[0;32m    174\u001b[0m \u001b[43m    \u001b[49m\u001b[43m)\u001b[49m\n\u001b[0;32m    175\u001b[0m     \u001b[38;5;28mself\u001b[39m\u001b[38;5;241m.\u001b[39mcommit(t, \u001b[38;5;28;01mNone\u001b[39;00m)\n\u001b[0;32m    176\u001b[0m \u001b[38;5;28;01mexcept\u001b[39;00m \u001b[38;5;167;01mException\u001b[39;00m \u001b[38;5;28;01mas\u001b[39;00m exc:\n",
      "File \u001b[1;32me:\\practice\\Agentic_AI_2.0\\Assignements\\agentic_ai\\lib\\site-packages\\langgraph\\pregel\\retry.py:40\u001b[0m, in \u001b[0;36mrun_with_retry\u001b[1;34m(task, retry_policy, configurable)\u001b[0m\n\u001b[0;32m     38\u001b[0m     task\u001b[38;5;241m.\u001b[39mwrites\u001b[38;5;241m.\u001b[39mclear()\n\u001b[0;32m     39\u001b[0m     \u001b[38;5;66;03m# run the task\u001b[39;00m\n\u001b[1;32m---> 40\u001b[0m     \u001b[38;5;28;01mreturn\u001b[39;00m \u001b[43mtask\u001b[49m\u001b[38;5;241;43m.\u001b[39;49m\u001b[43mproc\u001b[49m\u001b[38;5;241;43m.\u001b[39;49m\u001b[43minvoke\u001b[49m\u001b[43m(\u001b[49m\u001b[43mtask\u001b[49m\u001b[38;5;241;43m.\u001b[39;49m\u001b[43minput\u001b[49m\u001b[43m,\u001b[49m\u001b[43m \u001b[49m\u001b[43mconfig\u001b[49m\u001b[43m)\u001b[49m\n\u001b[0;32m     41\u001b[0m \u001b[38;5;28;01mexcept\u001b[39;00m ParentCommand \u001b[38;5;28;01mas\u001b[39;00m exc:\n\u001b[0;32m     42\u001b[0m     ns: \u001b[38;5;28mstr\u001b[39m \u001b[38;5;241m=\u001b[39m config[CONF][CONFIG_KEY_CHECKPOINT_NS]\n",
      "File \u001b[1;32me:\\practice\\Agentic_AI_2.0\\Assignements\\agentic_ai\\lib\\site-packages\\langgraph\\utils\\runnable.py:623\u001b[0m, in \u001b[0;36mRunnableSeq.invoke\u001b[1;34m(self, input, config, **kwargs)\u001b[0m\n\u001b[0;32m    621\u001b[0m     \u001b[38;5;66;03m# run in context\u001b[39;00m\n\u001b[0;32m    622\u001b[0m     \u001b[38;5;28;01mwith\u001b[39;00m set_config_context(config, run) \u001b[38;5;28;01mas\u001b[39;00m context:\n\u001b[1;32m--> 623\u001b[0m         \u001b[38;5;28minput\u001b[39m \u001b[38;5;241m=\u001b[39m context\u001b[38;5;241m.\u001b[39mrun(step\u001b[38;5;241m.\u001b[39minvoke, \u001b[38;5;28minput\u001b[39m, config, \u001b[38;5;241m*\u001b[39m\u001b[38;5;241m*\u001b[39mkwargs)\n\u001b[0;32m    624\u001b[0m \u001b[38;5;28;01melse\u001b[39;00m:\n\u001b[0;32m    625\u001b[0m     \u001b[38;5;28minput\u001b[39m \u001b[38;5;241m=\u001b[39m step\u001b[38;5;241m.\u001b[39minvoke(\u001b[38;5;28minput\u001b[39m, config)\n",
      "File \u001b[1;32me:\\practice\\Agentic_AI_2.0\\Assignements\\agentic_ai\\lib\\site-packages\\langgraph\\utils\\runnable.py:377\u001b[0m, in \u001b[0;36mRunnableCallable.invoke\u001b[1;34m(self, input, config, **kwargs)\u001b[0m\n\u001b[0;32m    375\u001b[0m         run_manager\u001b[38;5;241m.\u001b[39mon_chain_end(ret)\n\u001b[0;32m    376\u001b[0m \u001b[38;5;28;01melse\u001b[39;00m:\n\u001b[1;32m--> 377\u001b[0m     ret \u001b[38;5;241m=\u001b[39m \u001b[38;5;28mself\u001b[39m\u001b[38;5;241m.\u001b[39mfunc(\u001b[38;5;241m*\u001b[39margs, \u001b[38;5;241m*\u001b[39m\u001b[38;5;241m*\u001b[39mkwargs)\n\u001b[0;32m    378\u001b[0m \u001b[38;5;28;01mif\u001b[39;00m \u001b[38;5;28mself\u001b[39m\u001b[38;5;241m.\u001b[39mrecurse \u001b[38;5;129;01mand\u001b[39;00m \u001b[38;5;28misinstance\u001b[39m(ret, Runnable):\n\u001b[0;32m    379\u001b[0m     \u001b[38;5;28;01mreturn\u001b[39;00m ret\u001b[38;5;241m.\u001b[39minvoke(\u001b[38;5;28minput\u001b[39m, config)\n",
      "Cell \u001b[1;32mIn[17], line 73\u001b[0m, in \u001b[0;36mcreate_travel_workflow.<locals>.get_weather\u001b[1;34m(state)\u001b[0m\n\u001b[0;32m     70\u001b[0m location \u001b[38;5;241m=\u001b[39m state[\u001b[38;5;124m\"\u001b[39m\u001b[38;5;124mlocation\u001b[39m\u001b[38;5;124m\"\u001b[39m]\n\u001b[0;32m     71\u001b[0m days \u001b[38;5;241m=\u001b[39m state[\u001b[38;5;124m\"\u001b[39m\u001b[38;5;124mdays\u001b[39m\u001b[38;5;124m\"\u001b[39m]\n\u001b[0;32m     72\u001b[0m \u001b[38;5;28;01mreturn\u001b[39;00m {\n\u001b[1;32m---> 73\u001b[0m     \u001b[38;5;124m\"\u001b[39m\u001b[38;5;124mweather_data\u001b[39m\u001b[38;5;124m\"\u001b[39m: \u001b[43mweather_service\u001b[49m\u001b[38;5;241;43m.\u001b[39;49m\u001b[43mget_weather_forecast\u001b[49m\u001b[43m(\u001b[49m\u001b[43mlocation\u001b[49m\u001b[43m,\u001b[49m\u001b[43m \u001b[49m\u001b[43mdays\u001b[49m\u001b[43m)\u001b[49m\n\u001b[0;32m     74\u001b[0m }\n",
      "File \u001b[1;32me:\\practice\\Agentic_AI_2.0\\Assignements\\agentic_ai\\lib\\site-packages\\langchain_core\\_api\\deprecation.py:191\u001b[0m, in \u001b[0;36mdeprecated.<locals>.deprecate.<locals>.warning_emitting_wrapper\u001b[1;34m(*args, **kwargs)\u001b[0m\n\u001b[0;32m    189\u001b[0m     warned \u001b[38;5;241m=\u001b[39m \u001b[38;5;28;01mTrue\u001b[39;00m\n\u001b[0;32m    190\u001b[0m     emit_warning()\n\u001b[1;32m--> 191\u001b[0m \u001b[38;5;28;01mreturn\u001b[39;00m wrapped(\u001b[38;5;241m*\u001b[39margs, \u001b[38;5;241m*\u001b[39m\u001b[38;5;241m*\u001b[39mkwargs)\n",
      "File \u001b[1;32me:\\practice\\Agentic_AI_2.0\\Assignements\\agentic_ai\\lib\\site-packages\\langchain_core\\tools\\base.py:893\u001b[0m, in \u001b[0;36mBaseTool.__call__\u001b[1;34m(self, tool_input, callbacks)\u001b[0m\n\u001b[0;32m    890\u001b[0m \u001b[38;5;129m@deprecated\u001b[39m(\u001b[38;5;124m\"\u001b[39m\u001b[38;5;124m0.1.47\u001b[39m\u001b[38;5;124m\"\u001b[39m, alternative\u001b[38;5;241m=\u001b[39m\u001b[38;5;124m\"\u001b[39m\u001b[38;5;124minvoke\u001b[39m\u001b[38;5;124m\"\u001b[39m, removal\u001b[38;5;241m=\u001b[39m\u001b[38;5;124m\"\u001b[39m\u001b[38;5;124m1.0\u001b[39m\u001b[38;5;124m\"\u001b[39m)\n\u001b[0;32m    891\u001b[0m \u001b[38;5;28;01mdef\u001b[39;00m\u001b[38;5;250m \u001b[39m\u001b[38;5;21m__call__\u001b[39m(\u001b[38;5;28mself\u001b[39m, tool_input: \u001b[38;5;28mstr\u001b[39m, callbacks: Callbacks \u001b[38;5;241m=\u001b[39m \u001b[38;5;28;01mNone\u001b[39;00m) \u001b[38;5;241m-\u001b[39m\u001b[38;5;241m>\u001b[39m \u001b[38;5;28mstr\u001b[39m:\n\u001b[0;32m    892\u001b[0m \u001b[38;5;250m    \u001b[39m\u001b[38;5;124;03m\"\"\"Make tool callable.\"\"\"\u001b[39;00m\n\u001b[1;32m--> 893\u001b[0m     \u001b[38;5;28;01mreturn\u001b[39;00m \u001b[38;5;28;43mself\u001b[39;49m\u001b[38;5;241;43m.\u001b[39;49m\u001b[43mrun\u001b[49m\u001b[43m(\u001b[49m\u001b[43mtool_input\u001b[49m\u001b[43m,\u001b[49m\u001b[43m \u001b[49m\u001b[43mcallbacks\u001b[49m\u001b[38;5;241;43m=\u001b[39;49m\u001b[43mcallbacks\u001b[49m\u001b[43m)\u001b[49m\n",
      "File \u001b[1;32me:\\practice\\Agentic_AI_2.0\\Assignements\\agentic_ai\\lib\\site-packages\\langchain_core\\tools\\base.py:702\u001b[0m, in \u001b[0;36mBaseTool.run\u001b[1;34m(self, tool_input, verbose, start_color, color, callbacks, tags, metadata, run_name, run_id, config, tool_call_id, **kwargs)\u001b[0m\n\u001b[0;32m    664\u001b[0m \u001b[38;5;28;01mdef\u001b[39;00m\u001b[38;5;250m \u001b[39m\u001b[38;5;21mrun\u001b[39m(\n\u001b[0;32m    665\u001b[0m     \u001b[38;5;28mself\u001b[39m,\n\u001b[0;32m    666\u001b[0m     tool_input: Union[\u001b[38;5;28mstr\u001b[39m, \u001b[38;5;28mdict\u001b[39m[\u001b[38;5;28mstr\u001b[39m, Any]],\n\u001b[1;32m   (...)\u001b[0m\n\u001b[0;32m    678\u001b[0m     \u001b[38;5;241m*\u001b[39m\u001b[38;5;241m*\u001b[39mkwargs: Any,\n\u001b[0;32m    679\u001b[0m ) \u001b[38;5;241m-\u001b[39m\u001b[38;5;241m>\u001b[39m Any:\n\u001b[0;32m    680\u001b[0m \u001b[38;5;250m    \u001b[39m\u001b[38;5;124;03m\"\"\"Run the tool.\u001b[39;00m\n\u001b[0;32m    681\u001b[0m \n\u001b[0;32m    682\u001b[0m \u001b[38;5;124;03m    Args:\u001b[39;00m\n\u001b[1;32m   (...)\u001b[0m\n\u001b[0;32m    700\u001b[0m \u001b[38;5;124;03m        ToolException: If an error occurs during tool execution.\u001b[39;00m\n\u001b[0;32m    701\u001b[0m \u001b[38;5;124;03m    \"\"\"\u001b[39;00m\n\u001b[1;32m--> 702\u001b[0m     callback_manager \u001b[38;5;241m=\u001b[39m \u001b[43mCallbackManager\u001b[49m\u001b[38;5;241;43m.\u001b[39;49m\u001b[43mconfigure\u001b[49m\u001b[43m(\u001b[49m\n\u001b[0;32m    703\u001b[0m \u001b[43m        \u001b[49m\u001b[43mcallbacks\u001b[49m\u001b[43m,\u001b[49m\n\u001b[0;32m    704\u001b[0m \u001b[43m        \u001b[49m\u001b[38;5;28;43mself\u001b[39;49m\u001b[38;5;241;43m.\u001b[39;49m\u001b[43mcallbacks\u001b[49m\u001b[43m,\u001b[49m\n\u001b[0;32m    705\u001b[0m \u001b[43m        \u001b[49m\u001b[38;5;28;43mself\u001b[39;49m\u001b[38;5;241;43m.\u001b[39;49m\u001b[43mverbose\u001b[49m\u001b[43m \u001b[49m\u001b[38;5;129;43;01mor\u001b[39;49;00m\u001b[43m \u001b[49m\u001b[38;5;28;43mbool\u001b[39;49m\u001b[43m(\u001b[49m\u001b[43mverbose\u001b[49m\u001b[43m)\u001b[49m\u001b[43m,\u001b[49m\n\u001b[0;32m    706\u001b[0m \u001b[43m        \u001b[49m\u001b[43mtags\u001b[49m\u001b[43m,\u001b[49m\n\u001b[0;32m    707\u001b[0m \u001b[43m        \u001b[49m\u001b[38;5;28;43mself\u001b[39;49m\u001b[38;5;241;43m.\u001b[39;49m\u001b[43mtags\u001b[49m\u001b[43m,\u001b[49m\n\u001b[0;32m    708\u001b[0m \u001b[43m        \u001b[49m\u001b[43mmetadata\u001b[49m\u001b[43m,\u001b[49m\n\u001b[0;32m    709\u001b[0m \u001b[43m        \u001b[49m\u001b[38;5;28;43mself\u001b[39;49m\u001b[38;5;241;43m.\u001b[39;49m\u001b[43mmetadata\u001b[49m\u001b[43m,\u001b[49m\n\u001b[0;32m    710\u001b[0m \u001b[43m    \u001b[49m\u001b[43m)\u001b[49m\n\u001b[0;32m    712\u001b[0m     run_manager \u001b[38;5;241m=\u001b[39m callback_manager\u001b[38;5;241m.\u001b[39mon_tool_start(\n\u001b[0;32m    713\u001b[0m         {\u001b[38;5;124m\"\u001b[39m\u001b[38;5;124mname\u001b[39m\u001b[38;5;124m\"\u001b[39m: \u001b[38;5;28mself\u001b[39m\u001b[38;5;241m.\u001b[39mname, \u001b[38;5;124m\"\u001b[39m\u001b[38;5;124mdescription\u001b[39m\u001b[38;5;124m\"\u001b[39m: \u001b[38;5;28mself\u001b[39m\u001b[38;5;241m.\u001b[39mdescription},\n\u001b[0;32m    714\u001b[0m         tool_input \u001b[38;5;28;01mif\u001b[39;00m \u001b[38;5;28misinstance\u001b[39m(tool_input, \u001b[38;5;28mstr\u001b[39m) \u001b[38;5;28;01melse\u001b[39;00m \u001b[38;5;28mstr\u001b[39m(tool_input),\n\u001b[1;32m   (...)\u001b[0m\n\u001b[0;32m    723\u001b[0m         \u001b[38;5;241m*\u001b[39m\u001b[38;5;241m*\u001b[39mkwargs,\n\u001b[0;32m    724\u001b[0m     )\n\u001b[0;32m    726\u001b[0m     content \u001b[38;5;241m=\u001b[39m \u001b[38;5;28;01mNone\u001b[39;00m\n",
      "File \u001b[1;32me:\\practice\\Agentic_AI_2.0\\Assignements\\agentic_ai\\lib\\site-packages\\langchain_core\\callbacks\\manager.py:1625\u001b[0m, in \u001b[0;36mCallbackManager.configure\u001b[1;34m(cls, inheritable_callbacks, local_callbacks, verbose, inheritable_tags, local_tags, inheritable_metadata, local_metadata)\u001b[0m\n\u001b[0;32m   1594\u001b[0m \u001b[38;5;129m@classmethod\u001b[39m\n\u001b[0;32m   1595\u001b[0m \u001b[38;5;28;01mdef\u001b[39;00m\u001b[38;5;250m \u001b[39m\u001b[38;5;21mconfigure\u001b[39m(\n\u001b[0;32m   1596\u001b[0m     \u001b[38;5;28mcls\u001b[39m,\n\u001b[1;32m   (...)\u001b[0m\n\u001b[0;32m   1603\u001b[0m     local_metadata: Optional[\u001b[38;5;28mdict\u001b[39m[\u001b[38;5;28mstr\u001b[39m, Any]] \u001b[38;5;241m=\u001b[39m \u001b[38;5;28;01mNone\u001b[39;00m,\n\u001b[0;32m   1604\u001b[0m ) \u001b[38;5;241m-\u001b[39m\u001b[38;5;241m>\u001b[39m CallbackManager:\n\u001b[0;32m   1605\u001b[0m \u001b[38;5;250m    \u001b[39m\u001b[38;5;124;03m\"\"\"Configure the callback manager.\u001b[39;00m\n\u001b[0;32m   1606\u001b[0m \n\u001b[0;32m   1607\u001b[0m \u001b[38;5;124;03m    Args:\u001b[39;00m\n\u001b[1;32m   (...)\u001b[0m\n\u001b[0;32m   1623\u001b[0m \u001b[38;5;124;03m        CallbackManager: The configured callback manager.\u001b[39;00m\n\u001b[0;32m   1624\u001b[0m \u001b[38;5;124;03m    \"\"\"\u001b[39;00m\n\u001b[1;32m-> 1625\u001b[0m     \u001b[38;5;28;01mreturn\u001b[39;00m \u001b[43m_configure\u001b[49m\u001b[43m(\u001b[49m\n\u001b[0;32m   1626\u001b[0m \u001b[43m        \u001b[49m\u001b[38;5;28;43mcls\u001b[39;49m\u001b[43m,\u001b[49m\n\u001b[0;32m   1627\u001b[0m \u001b[43m        \u001b[49m\u001b[43minheritable_callbacks\u001b[49m\u001b[43m,\u001b[49m\n\u001b[0;32m   1628\u001b[0m \u001b[43m        \u001b[49m\u001b[43mlocal_callbacks\u001b[49m\u001b[43m,\u001b[49m\n\u001b[0;32m   1629\u001b[0m \u001b[43m        \u001b[49m\u001b[43minheritable_tags\u001b[49m\u001b[43m,\u001b[49m\n\u001b[0;32m   1630\u001b[0m \u001b[43m        \u001b[49m\u001b[43mlocal_tags\u001b[49m\u001b[43m,\u001b[49m\n\u001b[0;32m   1631\u001b[0m \u001b[43m        \u001b[49m\u001b[43minheritable_metadata\u001b[49m\u001b[43m,\u001b[49m\n\u001b[0;32m   1632\u001b[0m \u001b[43m        \u001b[49m\u001b[43mlocal_metadata\u001b[49m\u001b[43m,\u001b[49m\n\u001b[0;32m   1633\u001b[0m \u001b[43m        \u001b[49m\u001b[43mverbose\u001b[49m\u001b[38;5;241;43m=\u001b[39;49m\u001b[43mverbose\u001b[49m\u001b[43m,\u001b[49m\n\u001b[0;32m   1634\u001b[0m \u001b[43m    \u001b[49m\u001b[43m)\u001b[49m\n",
      "File \u001b[1;32me:\\practice\\Agentic_AI_2.0\\Assignements\\agentic_ai\\lib\\site-packages\\langchain_core\\callbacks\\manager.py:2355\u001b[0m, in \u001b[0;36m_configure\u001b[1;34m(callback_manager_cls, inheritable_callbacks, local_callbacks, inheritable_tags, local_tags, inheritable_metadata, local_metadata, verbose)\u001b[0m\n\u001b[0;32m   2349\u001b[0m     callback_manager \u001b[38;5;241m=\u001b[39m callback_manager_cls(\n\u001b[0;32m   2350\u001b[0m         handlers\u001b[38;5;241m=\u001b[39minheritable_callbacks_\u001b[38;5;241m.\u001b[39mcopy(),\n\u001b[0;32m   2351\u001b[0m         inheritable_handlers\u001b[38;5;241m=\u001b[39minheritable_callbacks_\u001b[38;5;241m.\u001b[39mcopy(),\n\u001b[0;32m   2352\u001b[0m         parent_run_id\u001b[38;5;241m=\u001b[39mparent_run_id,\n\u001b[0;32m   2353\u001b[0m     )\n\u001b[0;32m   2354\u001b[0m \u001b[38;5;28;01melse\u001b[39;00m:\n\u001b[1;32m-> 2355\u001b[0m     parent_run_id_ \u001b[38;5;241m=\u001b[39m \u001b[43minheritable_callbacks\u001b[49m\u001b[38;5;241;43m.\u001b[39;49m\u001b[43mparent_run_id\u001b[49m\n\u001b[0;32m   2356\u001b[0m     \u001b[38;5;66;03m# Break ties between the external tracing context and inherited context\u001b[39;00m\n\u001b[0;32m   2357\u001b[0m     \u001b[38;5;28;01mif\u001b[39;00m parent_run_id \u001b[38;5;129;01mis\u001b[39;00m \u001b[38;5;129;01mnot\u001b[39;00m \u001b[38;5;28;01mNone\u001b[39;00m \u001b[38;5;129;01mand\u001b[39;00m (\n\u001b[0;32m   2358\u001b[0m         parent_run_id_ \u001b[38;5;129;01mis\u001b[39;00m \u001b[38;5;28;01mNone\u001b[39;00m\n\u001b[0;32m   2359\u001b[0m         \u001b[38;5;66;03m# If the LC parent has already been reflected\u001b[39;00m\n\u001b[1;32m   (...)\u001b[0m\n\u001b[0;32m   2362\u001b[0m         \u001b[38;5;129;01mor\u001b[39;00m (run_tree \u001b[38;5;129;01mand\u001b[39;00m \u001b[38;5;28mstr\u001b[39m(parent_run_id_) \u001b[38;5;129;01min\u001b[39;00m run_tree\u001b[38;5;241m.\u001b[39mdotted_order)\n\u001b[0;32m   2363\u001b[0m     ):\n",
      "\u001b[1;31mAttributeError\u001b[0m: 'int' object has no attribute 'parent_run_id'"
     ]
    }
   ],
   "source": [
    "from typing import TypedDict, Annotated, Sequence\n",
    "import operator\n",
    "from langchain.tools import tool\n",
    "from langgraph.graph import StateGraph, END\n",
    "from langchain_core.messages import BaseMessage\n",
    "\n",
    "# Define your service classes with @tool decorators\n",
    "class WeatherService:\n",
    "    @tool\n",
    "    def get_current_weather(self, location: str) -> str:\n",
    "        \"\"\"Get current weather conditions for a specific location\"\"\"\n",
    "        return f\"Weather in {location}: Sunny, 25°C\"\n",
    "    \n",
    "    @tool\n",
    "    def get_weather_forecast(self, location: str, days: int = 3) -> str:\n",
    "        \"\"\"Get weather forecast for a location for specified number of days\"\"\"\n",
    "        return f\"{days}-day forecast for {location}: Mostly sunny\"\n",
    "\n",
    "class AttractionActivityManager:\n",
    "    @tool\n",
    "    def search_attraction(self, location: str) -> str:\n",
    "        \"\"\"Search for tourist attractions in a location\"\"\"\n",
    "        return f\"Top attractions in {location}: Museum, Park, Historic Site\"\n",
    "    \n",
    "    @tool\n",
    "    def search_restaurant(self, location: str) -> str:\n",
    "        \"\"\"Search for dining options in a location\"\"\"\n",
    "        return f\"Top restaurants in {location}: Seafood Grill, Italian Bistro\"\n",
    "    \n",
    "    @tool\n",
    "    def search_activity(self, location: str) -> str:\n",
    "        \"\"\"Search for activities in a location\"\"\"\n",
    "        return f\"Activities in {location}: Hiking, Boat Tour\"\n",
    "    \n",
    "    @tool\n",
    "    def search_transportation(self, location: str) -> str:\n",
    "        \"\"\"Search for transport options in a location\"\"\"\n",
    "        return f\"Transport in {location}: Metro, Buses, Taxis\"\n",
    "\n",
    "# More classes would be defined here (HotelCalculator, ExpenseCalculator, etc.)\n",
    "\n",
    "# Initialize service instances\n",
    "weather_service = WeatherService()\n",
    "attraction_manager = AttractionActivityManager()\n",
    "# Initialize other services similarly\n",
    "\n",
    "# Define the graph state\n",
    "class AgentState(TypedDict):\n",
    "    messages: Annotated[Sequence[BaseMessage], operator.add]\n",
    "    user_query: str\n",
    "    location: str\n",
    "    days: int\n",
    "    weather_data: str\n",
    "    attractions: str\n",
    "    # Add other state fields as needed\n",
    "\n",
    "# Create the workflow graph\n",
    "def create_travel_workflow():\n",
    "    # Define the graph state\n",
    "    workflow = StateGraph(AgentState)\n",
    "    \n",
    "    # Define nodes (tool invocations)\n",
    "    def extract_parameters(state: AgentState):\n",
    "        \"\"\"Parse user query to extract location and trip duration\"\"\"\n",
    "        # In a real implementation, use LLM to extract parameters\n",
    "        return {\"location\": \"Paris\", \"days\": 5}\n",
    "    \n",
    "    def get_weather(state: AgentState):\n",
    "        \"\"\"Node to get weather information\"\"\"\n",
    "        location = state[\"location\"]\n",
    "        days = state[\"days\"]\n",
    "        return {\n",
    "            \"weather_data\": weather_service.get_weather_forecast(location, days)\n",
    "        }\n",
    "    \n",
    "    def get_attractions(state: AgentState):\n",
    "        \"\"\"Node to find attractions\"\"\"\n",
    "        location = state[\"location\"]\n",
    "        return {\n",
    "            \"attractions\": attraction_manager.search_attraction(location)\n",
    "        }\n",
    "    \n",
    "    def generate_itinerary(state: AgentState):\n",
    "        \"\"\"Node to compile final itinerary\"\"\"\n",
    "        # This would integrate all collected information\n",
    "        itinerary = f\"\"\"\n",
    "        Trip to {state['location']} for {state['days']} days:\n",
    "        Weather: {state['weather_data']}\n",
    "        Attractions: {state['attractions']}\n",
    "        \"\"\"\n",
    "        return {\"messages\": [(\"assistant\", itinerary)]}\n",
    "    \n",
    "    # Add nodes to the graph\n",
    "    workflow.add_node(\"extract_params\", extract_parameters)\n",
    "    workflow.add_node(\"get_weather\", get_weather)\n",
    "    workflow.add_node(\"get_attractions\", get_attractions)\n",
    "    workflow.add_node(\"generate_itinerary\", generate_itinerary)\n",
    "    \n",
    "    # Define the graph flow\n",
    "    workflow.set_entry_point(\"extract_params\")\n",
    "    workflow.add_edge(\"extract_params\", \"get_weather\")\n",
    "    workflow.add_edge(\"get_weather\", \"get_attractions\")\n",
    "    workflow.add_edge(\"get_attractions\", \"generate_itinerary\")\n",
    "    workflow.add_edge(\"generate_itinerary\", END)\n",
    "    \n",
    "    return workflow.compile()\n",
    "\n",
    "# Example usage\n",
    "if __name__ == \"__main__\":\n",
    "    # Initialize the workflow\n",
    "    travel_workflow = create_travel_workflow()\n",
    "    \n",
    "    # Run the workflow with initial input\n",
    "    inputs = {\n",
    "        \"messages\": [(\"user\", \"Plan a 5-day trip to Paris\")],\n",
    "        \"user_query\": \"Plan a 5-day trip to Paris\"\n",
    "    }\n",
    "    \n",
    "    for output in travel_workflow.stream(inputs):\n",
    "        for key, value in output.items():\n",
    "            print(f\"Output from node '{key}':\")\n",
    "            print(value)\n",
    "            print(\"\\n\" + \"-\"*50 + \"\\n\")\n",
    "    \n",
    "    # Get final state\n",
    "    final_state = travel_workflow.invoke(inputs)\n",
    "    print(\"FINAL ITINERARY:\")\n",
    "    print(final_state[\"messages\"][-1][1])"
   ]
  },
  {
   "cell_type": "code",
   "execution_count": 18,
   "id": "ecf00e3e",
   "metadata": {},
   "outputs": [
    {
     "data": {
      "image/png": "[encoded data removed]",
      "text/plain": [
       "<IPython.core.display.Image object>"
      ]
     },
     "metadata": {},
     "output_type": "display_data"
    }
   ],
   "source": [
    "display(Image(travel_workflow.get_graph(xray=True).draw_mermaid_png()))"
   ]
  },
  {
   "cell_type": "code",
   "execution_count": null,
   "id": "6b714104",
   "metadata": {},
   "outputs": [],
   "source": []
  },
  {
   "cell_type": "code",
   "execution_count": null,
   "id": "2d9d390a",
   "metadata": {},
   "outputs": [],
   "source": []
  },
  {
   "cell_type": "code",
   "execution_count": null,
   "id": "d5e3b92f",
   "metadata": {},
   "outputs": [],
   "source": []
  },
  {
   "cell_type": "code",
   "execution_count": null,
   "id": "547c1e61",
   "metadata": {},
   "outputs": [],
   "source": []
  },
  {
   "cell_type": "code",
   "execution_count": null,
   "id": "5adc4581",
   "metadata": {},
   "outputs": [],
   "source": []
  },
  {
   "cell_type": "code",
   "execution_count": null,
   "id": "09c4d5c7",
   "metadata": {},
   "outputs": [],
   "source": []
  },
  {
   "cell_type": "code",
   "execution_count": null,
   "id": "fa115630",
   "metadata": {},
   "outputs": [],
   "source": []
  },
  {
   "cell_type": "code",
   "execution_count": null,
   "id": "ae12077f",
   "metadata": {},
   "outputs": [],
   "source": []
  },
  {
   "cell_type": "code",
   "execution_count": null,
   "id": "ade8f7d9",
   "metadata": {},
   "outputs": [],
   "source": []
  },
  {
   "cell_type": "code",
   "execution_count": null,
   "id": "039d944e",
   "metadata": {},
   "outputs": [],
   "source": []
  },
  {
   "cell_type": "code",
   "execution_count": null,
   "id": "4c4cecb1",
   "metadata": {},
   "outputs": [],
   "source": []
  },
  {
   "cell_type": "code",
   "execution_count": null,
   "id": "d625e483",
   "metadata": {},
   "outputs": [],
   "source": []
  },
  {
   "cell_type": "code",
   "execution_count": null,
   "id": "bdbe5b85",
   "metadata": {},
   "outputs": [],
   "source": []
  },
  {
   "cell_type": "code",
   "execution_count": null,
   "id": "add47725",
   "metadata": {},
   "outputs": [],
   "source": []
  },
  {
   "cell_type": "code",
   "execution_count": null,
   "id": "1692c867",
   "metadata": {},
   "outputs": [],
   "source": []
  },
  {
   "cell_type": "code",
   "execution_count": null,
   "id": "e6794744",
   "metadata": {},
   "outputs": [],
   "source": []
  },
  {
   "cell_type": "code",
   "execution_count": null,
   "id": "054f2141",
   "metadata": {},
   "outputs": [],
   "source": []
  },
  {
   "cell_type": "code",
   "execution_count": null,
   "id": "c0c736fe",
   "metadata": {},
   "outputs": [],
   "source": []
  },
  {
   "cell_type": "code",
   "execution_count": null,
   "id": "b60d16b2",
   "metadata": {},
   "outputs": [],
   "source": []
  },
  {
   "cell_type": "code",
   "execution_count": null,
   "id": "f140372b",
   "metadata": {},
   "outputs": [],
   "source": []
  },
  {
   "cell_type": "code",
   "execution_count": null,
   "id": "16839ea1",
   "metadata": {},
   "outputs": [],
   "source": []
  },
  {
   "cell_type": "code",
   "execution_count": null,
   "id": "056ad7c9",
   "metadata": {},
   "outputs": [],
   "source": []
  },
  {
   "cell_type": "code",
   "execution_count": null,
   "id": "2150db52",
   "metadata": {},
   "outputs": [],
   "source": []
  },
  {
   "cell_type": "code",
   "execution_count": null,
   "id": "30a5e315",
   "metadata": {},
   "outputs": [],
   "source": []
  },
  {
   "cell_type": "code",
   "execution_count": null,
   "id": "e4df7ee1",
   "metadata": {},
   "outputs": [],
   "source": []
  },
  {
   "cell_type": "code",
   "execution_count": null,
   "id": "ca8f8d19",
   "metadata": {},
   "outputs": [],
   "source": []
  },
  {
   "cell_type": "code",
   "execution_count": null,
   "id": "a572e9f6",
   "metadata": {},
   "outputs": [],
   "source": []
  },
  {
   "cell_type": "code",
   "execution_count": null,
   "id": "47d0db09",
   "metadata": {},
   "outputs": [],
   "source": []
  },
  {
   "cell_type": "code",
   "execution_count": null,
   "id": "ccd7b356",
   "metadata": {},
   "outputs": [],
   "source": []
  }
 ],
 "metadata": {
  "kernelspec": {
   "display_name": "Python 3",
   "language": "python",
   "name": "python3"
  },
  "language_info": {
   "codemirror_mode": {
    "name": "ipython",
    "version": 3
   },
   "file_extension": ".py",
   "mimetype": "text/x-python",
   "name": "python",
   "nbconvert_exporter": "python",
   "pygments_lexer": "ipython3",
   "version": "3.13.0"
  }
 },
 "nbformat": 4,
 "nbformat_minor": 5
}
