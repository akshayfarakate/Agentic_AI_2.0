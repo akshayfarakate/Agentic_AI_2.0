{
 "cells": [
  {
   "cell_type": "markdown",
   "id": "8fbfdfa2",
   "metadata": {},
   "source": [
    "Assignment:4\n",
    "1. you have to create one supervisor node.\n",
    "2. create one router function\n",
    "3. create three more node\n",
    "3.1 llm call (llm node)\n",
    "3.2 RAG (rag node)\n",
    "3.3 web crawler(fetch the info in realtime from internet)\n",
    "4. created one more node after this for validation for generated output --> explore the validation part how to do that\n",
    "5. if validation going to be failed in that case again go to supervioser node and then supervisor node will again decide what needs to be call next\n",
    "6. once the validation will pass then only generate the final output\n",
    "\n",
    "submission deadline till 9pm friday\n",
    "\n",
    "submission instruction:\n",
    "create your github repo and keep all the assisgnments over there(in that github repo)\n",
    "i will share one googleform in group after completing your assignment you can share the github link through that google form. "
   ]
  },
  {
   "cell_type": "code",
   "execution_count": 1,
   "id": "b68165cb",
   "metadata": {},
   "outputs": [],
   "source": [
    "from typing import List, TypedDict, Annotated, Sequence\n",
    "import operator\n",
    "from pydantic import BaseModel, Field\n",
    "from langchain.prompts import PromptTemplate\n",
    "from langchain_core.messages import BaseMessage\n",
    "from langchain_core.output_parsers import PydanticOutputParser, StrOutputParser\n",
    "from langchain_core.runnables import RunnablePassthrough\n",
    "from langgraph.graph import StateGraph, END\n",
    "from langchain_groq import ChatGroq"
   ]
  },
  {
   "cell_type": "markdown",
   "id": "ff1b30cd",
   "metadata": {},
   "source": [
    "### Create Vector DB for RAG operation"
   ]
  },
  {
   "cell_type": "code",
   "execution_count": 2,
   "id": "e12b6299",
   "metadata": {},
   "outputs": [],
   "source": [
    "from langchain_community.document_loaders import WikipediaLoader\n",
    "from langchain.vectorstores import Chroma\n",
    "from langchain.embeddings import HuggingFaceEmbeddings\n",
    "from langchain.text_splitter import RecursiveCharacterTextSplitter"
   ]
  },
  {
   "cell_type": "code",
   "execution_count": 3,
   "id": "c6f3b2a9",
   "metadata": {},
   "outputs": [
    {
     "name": "stdout",
     "output_type": "stream",
     "text": [
      "Number of documents loaded: 35\n"
     ]
    }
   ],
   "source": [
    "#  Load the documents\n",
    "docs = WikipediaLoader(query=\"India at the summer olympics\", load_max_docs=35).load()\n",
    "print(f\"Number of documents loaded: {len(docs)}\")"
   ]
  },
  {
   "cell_type": "code",
   "execution_count": 4,
   "id": "f6ae17b7",
   "metadata": {},
   "outputs": [
    {
     "data": {
      "text/plain": [
       "Document(metadata={'title': 'India at the Olympics', 'summary': \"India first participated at the Olympic Games in 1900, becoming the first Asian nation to do so. Norman Pritchard represented the country and won two medals, both silver, in athletics. The nation first sent a team to the Summer Olympic Games in 1920 and has participated in every Summer Games since then. India has competed at several Winter Olympic Games after its debut in 1964.\\nIndian athletes have won 41 medals, all at the Summer Games. At a period of time during the 1900s, the Indian men's field hockey team was dominant in the Olympic Games, winning eleven medals in twelve Olympics between 1928 and 1980 including eight gold medals of which six were won consecutively from 1928 to 1956. India's best performance happened at the 2020 Games, with seven medals including a gold and two silver.\", 'source': 'https://en.wikipedia.org/wiki/India_at_the_Olympics'}, page_content=\"India first participated at the Olympic Games in 1900, becoming the first Asian nation to do so. Norman Pritchard represented the country and won two medals, both silver, in athletics. The nation first sent a team to the Summer Olympic Games in 1920 and has participated in every Summer Games since then. India has competed at several Winter Olympic Games after its debut in 1964.\\nIndian athletes have won 41 medals, all at the Summer Games. At a period of time during the 1900s, the Indian men's field hockey team was dominant in the Olympic Games, winning eleven medals in twelve Olympics between 1928 and 1980 including eight gold medals of which six were won consecutively from 1928 to 1956. India's best performance happened at the 2020 Games, with seven medals including a gold and two silver.\\n\\n\\n== History ==\\n\\n\\n=== Before independence ===\\n\\nIndia made its first appearance at the 1900 Summer Olympics as part of British India (1858–1947), becoming the first Asian nation to participate in the Olympic Games. A lone athlete Norman Pritchard represented the country and won two silver medals in athletics. India was classified 19th in the overall medal table, which represents its best placement till date. India did not compete in the next three Summer Olympic Games. At the behest of then Governor of Bombay George Lloyd, Indian businessman Dorabji Tata secured representation for British India at the International Olympic Committee, enabling it to independently participate in the 1920 Summer Olympics. India sent a contingent of six competitors including four athletes and two wrestlers with two support staff. The Indian Olympic movement was then established during the 1920s. In 1923, a provisional All India Olympic Committee was formed, and in February 1924, the All India Olympic Games (later National Games of India) were held to select a team for the 1924 Summer Olympics at Paris. The Indian delegation at the Paris Olympics consisted of 14 competitors including eight in athletics and four in tennis, led by team manager Harry Buck.\\n\\nIn 1927, the provisional Indian Olympic Committee was recognized by the International Olympic Committee and formally became the Indian Olympic Association (IOA). The organization was formed to promote the development of sports in India, host the national games, and select teams for the Olympics. For the 1928 Summer Olympics in Amsterdam, it selected eight competitors, which included seven in athletics and one swimmer. The Indian Hockey Federation, which had been established earlier in 1925, sent the men's team to the 1928 Games. The hockey team won India's first gold medal in the Olympics at Amsterdam. This was the first gold medal won by any nation from Asia at the modern Olympic Games. For the 1932 Games, the Indian contingent consisted of the field hockey team and five athletes. For the subsequent 1936 Games, India sent a contingent consisting of the field hockey team and eight athletes, who competed in four sports. The only medals in the last two Games came from the Indian field hockey team, which won three consecutive gold medals from 1928 to 1936. The victory run included the largest victory margin in Olympics history after India defeated United States 24–1 in 1932 and the largest margin of victory in an Olympic final during the 8–1 defeat of Germany in the final in 1936.\\n\\n\\n=== After independence ===\\n\\nIndia gained its independence in 1947, it sent its first contingent as an independent country for the 1948 Summer Olympics held at London. The Indian contingent consisted of 79 athletes, who competed across ten sports and included country's first participation in arts, boxing, cycling, football, and water polo events. The Indian field hockey team won the lone medal, a gold, which was the first medal for India as an independent nation. The 1952 Summer Olympics marked the first time India sent women competitors to the Games. The Indian contingent consisted of 64 competitors including four women with first time par\")"
      ]
     },
     "execution_count": 4,
     "metadata": {},
     "output_type": "execute_result"
    }
   ],
   "source": [
    "docs[0]"
   ]
  },
  {
   "cell_type": "code",
   "execution_count": 5,
   "id": "f8202db0",
   "metadata": {},
   "outputs": [
    {
     "name": "stdout",
     "output_type": "stream",
     "text": [
      "Number of document chunks after splitting: 269\n"
     ]
    }
   ],
   "source": [
    "# Split the documents into smaller chunks\n",
    "text_splitter = RecursiveCharacterTextSplitter(\n",
    "    chunk_size=500,  # Maximum size of each chunk\n",
    "    chunk_overlap=50  # Overlap to maintain context between chunks\n",
    ")\n",
    "split_docs = text_splitter.split_documents(docs)\n",
    "print(f\"Number of document chunks after splitting: {len(split_docs)}\")"
   ]
  },
  {
   "cell_type": "code",
   "execution_count": 6,
   "id": "515cc355",
   "metadata": {},
   "outputs": [
    {
     "name": "stderr",
     "output_type": "stream",
     "text": [
      "C:\\Users\\ADMIN\\AppData\\Local\\Temp\\ipykernel_22956\\1189955211.py:2: LangChainDeprecationWarning: The class `HuggingFaceEmbeddings` was deprecated in LangChain 0.2.2 and will be removed in 1.0. An updated version of the class exists in the :class:`~langchain-huggingface package and should be used instead. To use it run `pip install -U :class:`~langchain-huggingface` and import as `from :class:`~langchain_huggingface import HuggingFaceEmbeddings``.\n",
      "  embedding_model = HuggingFaceEmbeddings(model_name=\"all-MiniLM-L6-v2\")\n",
      "e:\\practice\\Agentic_AI_2.0\\Assignements\\agentic_ai\\lib\\site-packages\\tqdm\\auto.py:21: TqdmWarning: IProgress not found. Please update jupyter and ipywidgets. See https://ipywidgets.readthedocs.io/en/stable/user_install.html\n",
      "  from .autonotebook import tqdm as notebook_tqdm\n"
     ]
    }
   ],
   "source": [
    "#Set up the embedding model\n",
    "embedding_model = HuggingFaceEmbeddings(model_name=\"all-MiniLM-L6-v2\")"
   ]
  },
  {
   "cell_type": "code",
   "execution_count": 7,
   "id": "a26ece3d",
   "metadata": {},
   "outputs": [
    {
     "name": "stdout",
     "output_type": "stream",
     "text": [
      "Number of documents in vector store: 269\n"
     ]
    }
   ],
   "source": [
    "#Create an in-memory Chroma vector store and load the split documents\n",
    "vector_store = Chroma.from_documents(\n",
    "    documents=split_docs,\n",
    "    embedding=embedding_model,\n",
    "    collection_name=\"india_olympics\"\n",
    ")\n",
    "\n",
    "#Verify the vector store\n",
    "print(f\"Number of documents in vector store: {vector_store._collection.count()}\")"
   ]
  },
  {
   "cell_type": "code",
   "execution_count": 8,
   "id": "48f79a0c",
   "metadata": {},
   "outputs": [
    {
     "name": "stdout",
     "output_type": "stream",
     "text": [
      "\n",
      "Sample similarity search results:\n",
      "- Indian athletes have won 41 medals, all at the Summer Games. At a period of time during the 1900s, t... (Source: https://en.wikipedia.org/wiki/India_at_the_Olympics)\n",
      "- India competed at the 2016 Summer Olympics in Rio de Janeiro, Brazil, from 5 to 21 August 2016. Indi... (Source: https://en.wikipedia.org/wiki/India_at_the_2016_Summer_Olympics)\n"
     ]
    }
   ],
   "source": [
    "query = \"India's medals in summer olympics\"\n",
    "results = vector_store.similarity_search(query, k=2)\n",
    "print(\"\\nSample similarity search results:\")\n",
    "for doc in results:\n",
    "    print(f\"- {doc.page_content[:100]}... (Source: {doc.metadata['source']})\")"
   ]
  },
  {
   "cell_type": "markdown",
   "id": "f2cbfdd8",
   "metadata": {},
   "source": [
    "### Define AgentState class to maintain state of workflow"
   ]
  },
  {
   "cell_type": "code",
   "execution_count": 9,
   "id": "84853145",
   "metadata": {},
   "outputs": [],
   "source": [
    "class AgentState(TypedDict):\n",
    "    messages: Annotated[Sequence[BaseMessage], operator.add]"
   ]
  },
  {
   "cell_type": "markdown",
   "id": "064d5e7d",
   "metadata": {},
   "source": [
    "### 1. Supervisor Node"
   ]
  },
  {
   "cell_type": "code",
   "execution_count": 10,
   "id": "945fc2d1",
   "metadata": {},
   "outputs": [],
   "source": [
    "##  Setting GROQ_API_KEY\n",
    "from dotenv import load_dotenv\n",
    "load_dotenv()\n",
    "import os\n",
    "os.environ[\"GROQ_API_KEY\"] = os.getenv(\"GROQ_API_KEY\")"
   ]
  },
  {
   "cell_type": "code",
   "execution_count": 11,
   "id": "b643d150",
   "metadata": {},
   "outputs": [],
   "source": [
    "## pydantic class for supervisor node output parser formatting\n",
    "class TopicSelectionParser(BaseModel):\n",
    "    Topic:str=Field(description=\"selected topic\")\n",
    "    Reasoning:str=Field(description='Reasoning behind topic selection')"
   ]
  },
  {
   "cell_type": "code",
   "execution_count": 12,
   "id": "51f7c5b4",
   "metadata": {},
   "outputs": [],
   "source": [
    "parser=PydanticOutputParser(pydantic_object=TopicSelectionParser)"
   ]
  },
  {
   "cell_type": "code",
   "execution_count": 20,
   "id": "8adcc44f",
   "metadata": {},
   "outputs": [],
   "source": [
    "# model = ChatGroq(model=\"qwen/qwen3-32b\")\n",
    "model = ChatGroq(model=\"gemma2-9b-it\")"
   ]
  },
  {
   "cell_type": "code",
   "execution_count": 21,
   "id": "f27a556b",
   "metadata": {},
   "outputs": [],
   "source": [
    "def supervisor_node(state:AgentState):\n",
    "    print(f\"---- supervisor node ----- {state}\")\n",
    "    question=state[\"messages\"][-1]\n",
    "\n",
    "    print(f\"Question:{question}\")\n",
    "\n",
    "    template = \"\"\"\n",
    "    You are a supervisor AI tasked with routing user queries to the correct module. You must classify each query into one of the following categories based on its requirement:\n",
    "\n",
    "    - \"llm\" if it is a general, creative, or conversational question not needing external data.\n",
    "    - \"rag\" if the query specifically relates to **India's performance or participation in the Summer Olympics** and should be answered using a Retrieval-Augmented Generation system.\n",
    "    - \"web\" if the question requires real-time or up-to-date information from the internet.\n",
    "\n",
    "    Strictly Only respond with one of the category names: llm, rag, or web.\n",
    "\n",
    "    User query: {question}\n",
    "    {format_instructions}\n",
    "    \"\"\"\n",
    "\n",
    "    prompt = PromptTemplate(\n",
    "        template=template,\n",
    "        input_variables=[\"question\"],\n",
    "        partial_variables={\"format_instructions\":parser.get_format_instructions()}\n",
    "    )\n",
    "\n",
    "    chain = prompt | model | parser\n",
    "\n",
    "    response = chain.invoke({\"question\":question})\n",
    "\n",
    "    print(f\"response from supervisor node : {response}\")\n",
    "\n",
    "    return {\"messages\":[response.Topic]}"
   ]
  },
  {
   "cell_type": "code",
   "execution_count": 22,
   "id": "5a682320",
   "metadata": {},
   "outputs": [
    {
     "name": "stdout",
     "output_type": "stream",
     "text": [
      "---- supervisor node ----- {'messages': ['Hi']}\n",
      "Question:Hi\n",
      "response from supervisor node : Topic='llm' Reasoning='General greeting, does not require specific knowledge or external data.'\n"
     ]
    },
    {
     "data": {
      "text/plain": [
       "{'messages': ['llm']}"
      ]
     },
     "execution_count": 22,
     "metadata": {},
     "output_type": "execute_result"
    }
   ],
   "source": [
    "supervisor_node({\"messages\":[\"Hi\"]})"
   ]
  },
  {
   "cell_type": "markdown",
   "id": "4e6010bd",
   "metadata": {},
   "source": [
    "### 2. router function"
   ]
  },
  {
   "cell_type": "code",
   "execution_count": 23,
   "id": "9eb13da1",
   "metadata": {},
   "outputs": [],
   "source": [
    "def call_router(state:AgentState):\n",
    "    print(f\"---- router function ----\")\n",
    "    topic = state[\"messages\"][-1]\n",
    "    print(f\"topic recieved from supervisor node: {topic}\")\n",
    "\n",
    "    if \"web\" in topic.lower():\n",
    "        return \"WEB call\"\n",
    "    elif \"rag\" in topic.lower():\n",
    "        return \"RAG call\"\n",
    "    else:\n",
    "        return \"LLM call\""
   ]
  },
  {
   "cell_type": "markdown",
   "id": "6c93e98c",
   "metadata": {},
   "source": [
    "### 3. LLM function"
   ]
  },
  {
   "cell_type": "code",
   "execution_count": 24,
   "id": "fff76ab8",
   "metadata": {},
   "outputs": [],
   "source": [
    "chat_model = ChatGroq(model=\"llama3-8b-8192\")"
   ]
  },
  {
   "cell_type": "code",
   "execution_count": 25,
   "id": "1419553c",
   "metadata": {},
   "outputs": [],
   "source": [
    "def llm_method(state:AgentState):\n",
    "    print(f\"---- LLM node ----\")\n",
    "\n",
    "    question = state[\"messages\"][0]\n",
    "\n",
    "    question_with_prompt=\"\"\"\n",
    "        You are a helpful and knowledgeable AI assistant.\n",
    "\n",
    "        Answer the following user query as clearly and accurately as possible using your own reasoning and general knowledge.\n",
    "\n",
    "        User question: \"\"\" + question\n",
    "\n",
    "    response = chat_model.invoke(question_with_prompt)\n",
    "    return {\"messages\": [response.content]}\n",
    "    "
   ]
  },
  {
   "cell_type": "markdown",
   "id": "99eff276",
   "metadata": {},
   "source": [
    "### 4. Rag function"
   ]
  },
  {
   "cell_type": "code",
   "execution_count": 26,
   "id": "c7f8e11d",
   "metadata": {},
   "outputs": [],
   "source": [
    "retriever=vector_store.as_retriever(search_kwargs={\"k\": 3})"
   ]
  },
  {
   "cell_type": "code",
   "execution_count": 27,
   "id": "3099cc5c",
   "metadata": {},
   "outputs": [],
   "source": [
    "def format_docs(docs):\n",
    "    return \"\\n\\n\".join(doc.page_content for doc in docs)"
   ]
  },
  {
   "cell_type": "code",
   "execution_count": 28,
   "id": "f2f82ed4",
   "metadata": {},
   "outputs": [],
   "source": [
    "def rag_method(state:AgentState):\n",
    "    print(\"---- RAG node ----\")\n",
    "\n",
    "    question = state[\"messages\"][0]\n",
    "   \n",
    "    template=\"\"\"\n",
    "    You are an expert assistant that uses provided context to answer the question accurately.\n",
    "\n",
    "    Context:\n",
    "    {context}\n",
    "\n",
    "    User question: {question}\n",
    "\n",
    "    Only use the above context to answer. If the context does not contain enough information, say \"I don't have enough information to answer that.\n",
    "    \"\"\"\n",
    "\n",
    "    prompt = PromptTemplate(\n",
    "       template=template,\n",
    "       input_variables=['context','question']\n",
    "    )\n",
    "\n",
    "    rag_chain = (\n",
    "        {\"context\":retriever | format_docs, \"question\":RunnablePassthrough()}\n",
    "        | prompt\n",
    "        | chat_model\n",
    "        | StrOutputParser()\n",
    "    )\n",
    "\n",
    "    result = rag_chain.invoke(question)\n",
    "    print(f\"Rag chain response: {result}\")\n",
    "    return {\"messages\":[result]}"
   ]
  },
  {
   "cell_type": "markdown",
   "id": "cd31c0b3",
   "metadata": {},
   "source": [
    "### 5. Web crawler"
   ]
  },
  {
   "cell_type": "code",
   "execution_count": 29,
   "id": "134dca68",
   "metadata": {},
   "outputs": [],
   "source": [
    "from langchain_community.tools import DuckDuckGoSearchRun"
   ]
  },
  {
   "cell_type": "code",
   "execution_count": 30,
   "id": "d1168a5b",
   "metadata": {},
   "outputs": [],
   "source": [
    "search = DuckDuckGoSearchRun(return_direct=True)"
   ]
  },
  {
   "cell_type": "code",
   "execution_count": 31,
   "id": "3aa8544d",
   "metadata": {},
   "outputs": [
    {
     "data": {
      "text/plain": [
       "'Droupadi Murmu, who was born June 20, 1958, in Uparbeda, is the 15th president of India. She began her term in July 2022. Murmu is the first person from the tribal community, and the second woman after Pratibha Patil, to hold the office of president. She is also the first president to have been born in independent India as well as the youngest person to occupy the post. She previously served ... This is a list of current heads of state and heads of government. In some cases, mainly in presidential systems, one leader is head of state and head of government. ... India: President - Droupadi Murmu: Prime Minister - Narendra Modi He was the 5th President of India. Varahagiri Venkata Giri: Odisha: August 24th, 1969: August 24th, 1974: He was the 4th President of India. Mohammad Hidayatullah: Chhattisgarh: July 20th, 1969 ... He was the 14th and current President of India. He became the President on 25 July 2017 and is a member of the Bhartiya Janata Party. He is the former Governor of Bihar. His approach towards ... The list of Presidents of India from 1947 to 2025 is an important topic for students as it helps build strong general knowledge. Till now, India has had 15 Presidents, with Dr Rajendra Prasad being the first President of India in 1950. The current President of India is Droupadi Murmu, who assumed office in 2022.'"
      ]
     },
     "execution_count": 31,
     "metadata": {},
     "output_type": "execute_result"
    }
   ],
   "source": [
    "search.invoke(\"Current president of India\")"
   ]
  },
  {
   "cell_type": "code",
   "execution_count": 32,
   "id": "a7c24097",
   "metadata": {},
   "outputs": [],
   "source": [
    "def web_crawler(state:AgentState):\n",
    "    print(f\"---- WEB Crawler ----\")\n",
    "    \n",
    "    question = state[\"messages\"][0]\n",
    "    \n",
    "    result = search.invoke(question)\n",
    "    print(f\"Web crawler result: {result}\")\n",
    "    \n",
    "    return {\"messages\":[result]}"
   ]
  },
  {
   "cell_type": "markdown",
   "id": "a6195d9d",
   "metadata": {},
   "source": [
    "### 6. validation Node"
   ]
  },
  {
   "cell_type": "code",
   "execution_count": 33,
   "id": "f132d004",
   "metadata": {},
   "outputs": [],
   "source": [
    "class ValidateOutput(BaseModel):\n",
    "    Validation: str = Field(description=\"Indicate whether the response is valid or invalid.\")\n",
    "    Reasoning: str = Field(description=\"Provide the reasoning behind the validation or invalidation of the response.\")"
   ]
  },
  {
   "cell_type": "code",
   "execution_count": 34,
   "id": "f867bfcc",
   "metadata": {},
   "outputs": [],
   "source": [
    "validation_parser = PydanticOutputParser(pydantic_object=ValidateOutput)"
   ]
  },
  {
   "cell_type": "code",
   "execution_count": 35,
   "id": "2fdedc32",
   "metadata": {},
   "outputs": [],
   "source": [
    "def validation_router(state:AgentState):\n",
    "    print(f\"--- Validation router ---\")\n",
    "    \n",
    "    validation = state[\"messages\"][-1]\n",
    "    if \"invalid\" in validation.lower():\n",
    "        return \"invalid response\"\n",
    "    else:\n",
    "        return \"valid response\""
   ]
  },
  {
   "cell_type": "code",
   "execution_count": 36,
   "id": "cc71cfa8",
   "metadata": {},
   "outputs": [],
   "source": [
    "def validation_node(state:AgentState):\n",
    "    print(\"---- validation node -----\")\n",
    "    response=state[\"messages\"][-1]\n",
    "    question=state[\"messages\"][0]\n",
    "\n",
    "    print(f\" Question:{question}, \\n Response:{response}\")\n",
    "\n",
    "    template = template = \"\"\"\n",
    "    Your task is to evaluate the relevance and correctness of a response generated by an AI system (RAG, LLM, or Web Crawler) based on the original user query.\n",
    "\n",
    "    You must:\n",
    "    1. Decide whether the response correctly and sufficiently answers the user query.\n",
    "    2. If yes, mark it as **Valid**.\n",
    "    3. If not, mark it as **Invalid**\n",
    "\n",
    "    Respond strictly using the required format.\n",
    "\n",
    "    User Query: {question}\n",
    "    AI Response: {response}\n",
    "\n",
    "    {format_instructions}\n",
    "    \"\"\"\n",
    "\n",
    "    prompt = PromptTemplate(\n",
    "        template=template,\n",
    "        input_variables=[\"question\", \"response\"],\n",
    "        partial_variables={\"format_instructions\":validation_parser.get_format_instructions()}\n",
    "    )\n",
    "\n",
    "    chain = prompt | model | validation_parser\n",
    "\n",
    "    response = chain.invoke({\"question\":question, \"response\":response})\n",
    "\n",
    "    print(f\"response from supervisor node : {response}\")\n",
    "\n",
    "    return {\"messages\":[response.Validation]}"
   ]
  },
  {
   "cell_type": "code",
   "execution_count": 37,
   "id": "acb85692",
   "metadata": {},
   "outputs": [],
   "source": [
    "def final_output_node(state:AgentState):\n",
    "    print(f\"---- final output ----\")\n",
    "    print(f\" Question: {state['messages'][0]} \\n final Answer: {state['messages'][-1]}\")"
   ]
  },
  {
   "cell_type": "markdown",
   "id": "906761f3",
   "metadata": {},
   "source": [
    "### 7. Workflow"
   ]
  },
  {
   "cell_type": "code",
   "execution_count": 38,
   "id": "6335b16a",
   "metadata": {},
   "outputs": [
    {
     "data": {
      "text/plain": [
       "<langgraph.graph.state.StateGraph at 0x22a73a6cd00>"
      ]
     },
     "execution_count": 38,
     "metadata": {},
     "output_type": "execute_result"
    }
   ],
   "source": [
    "from langgraph.graph import StateGraph,END\n",
    "\n",
    "workflow=StateGraph(AgentState)\n",
    "\n",
    "# Add nodes\n",
    "workflow.add_node(\"Supervisor\", supervisor_node)\n",
    "workflow.add_node(\"RAG\", rag_method)\n",
    "workflow.add_node(\"LLM\", llm_method)\n",
    "workflow.add_node(\"WEB\", web_crawler)\n",
    "workflow.add_node(\"Validation\", validation_node)\n",
    "workflow.add_node(\"final_output\", final_output_node)\n",
    "\n",
    "\n",
    "# Set the entry point\n",
    "workflow.set_entry_point(\"Supervisor\")\n",
    "\n",
    "# Add conditional edges from Supervisor to RAG/LLM/WEB\n",
    "workflow.add_conditional_edges(\n",
    "    \"Supervisor\",\n",
    "    call_router,\n",
    "    {\n",
    "        \"RAG call\": \"RAG\",\n",
    "        \"LLM call\": \"LLM\",\n",
    "        \"WEB call\": \"WEB\"\n",
    "    }\n",
    ")\n",
    "\n",
    "# Add edges from RAG/LLM/WEB to Validation\n",
    "workflow.add_edge(\"RAG\", \"Validation\")\n",
    "workflow.add_edge(\"LLM\", \"Validation\")\n",
    "workflow.add_edge(\"WEB\", \"Validation\")\n",
    "\n",
    "# Add conditional edges from Validation to END or Supervisor\n",
    "workflow.add_conditional_edges(\n",
    "    \"Validation\",\n",
    "    validation_router,\n",
    "    {\n",
    "        \"invalid response\": \"Supervisor\",\n",
    "        \"valid response\": \"final_output\"\n",
    "    }\n",
    ")\n",
    "\n",
    "workflow.add_edge(\"final_output\", END)"
   ]
  },
  {
   "cell_type": "code",
   "execution_count": 39,
   "id": "730fdb67",
   "metadata": {},
   "outputs": [],
   "source": [
    "app=workflow.compile()"
   ]
  },
  {
   "cell_type": "code",
   "execution_count": 40,
   "id": "bfc29d31",
   "metadata": {},
   "outputs": [
    {
     "data": {
      "image/png": "[encoded data removed]",
      "text/plain": [
       "<langgraph.graph.state.CompiledStateGraph object at 0x0000022A6464E890>"
      ]
     },
     "execution_count": 40,
     "metadata": {},
     "output_type": "execute_result"
    }
   ],
   "source": [
    "app"
   ]
  },
  {
   "cell_type": "markdown",
   "id": "bd257dca",
   "metadata": {},
   "source": [
    "### Workflow testing"
   ]
  },
  {
   "cell_type": "code",
   "execution_count": 41,
   "id": "15178c2d",
   "metadata": {},
   "outputs": [
    {
     "name": "stdout",
     "output_type": "stream",
     "text": [
      "---- supervisor node ----- {'messages': ['Hello']}\n",
      "Question:Hello\n",
      "response from supervisor node : Topic='llm' Reasoning='General greeting, no specific topic or external information required.'\n",
      "---- router function ----\n",
      "topic recieved from supervisor node: llm\n",
      "---- LLM node ----\n",
      "---- validation node -----\n",
      " Question:Hello, \n",
      " Response:Hello! It's great to connect with you! Is there something I can help you with or would you like to chat about something in particular? I'm here to assist you with any questions or topics you'd like to discuss.\n",
      "response from supervisor node : Validation='Valid' Reasoning=\"The AI response acknowledges the user's greeting and initiates a conversation by asking if the user has any questions or topics they'd like to discuss. This is a natural and appropriate response to a simple greeting.\"\n",
      "--- Validation router ---\n",
      "---- final output ----\n",
      " Question: Hello \n",
      " final Answer: Valid\n"
     ]
    },
    {
     "data": {
      "text/plain": [
       "{'messages': ['Hello',\n",
       "  'llm',\n",
       "  \"Hello! It's great to connect with you! Is there something I can help you with or would you like to chat about something in particular? I'm here to assist you with any questions or topics you'd like to discuss.\",\n",
       "  'Valid']}"
      ]
     },
     "execution_count": 41,
     "metadata": {},
     "output_type": "execute_result"
    }
   ],
   "source": [
    "state = {\"messages\": [\"Hello\"]}\n",
    "app.invoke(state)"
   ]
  },
  {
   "cell_type": "code",
   "execution_count": 42,
   "id": "ded5947b",
   "metadata": {},
   "outputs": [
    {
     "name": "stdout",
     "output_type": "stream",
     "text": [
      "---- supervisor node ----- {'messages': ['Who won first olympic medal for India']}\n",
      "Question:Who won first olympic medal for India\n",
      "response from supervisor node : Topic='rag' Reasoning=\"The query asks about India's performance in the Olympics\"\n",
      "---- router function ----\n",
      "topic recieved from supervisor node: rag\n",
      "---- RAG node ----\n",
      "Rag chain response: According to the provided context, Norman Pritchard won the first Olympic medal for India, specifically two silver medals in athletics, at the 1900 Summer Olympics in Paris, France.\n",
      "---- validation node -----\n",
      " Question:Who won first olympic medal for India, \n",
      " Response:According to the provided context, Norman Pritchard won the first Olympic medal for India, specifically two silver medals in athletics, at the 1900 Summer Olympics in Paris, France.\n",
      "response from supervisor node : Validation='Valid' Reasoning='The AI response correctly identifies Norman Pritchard as the first Indian Olympic medalist and provides the details of his achievement: two silver medals in athletics at the 1900 Paris Olympics.'\n",
      "--- Validation router ---\n",
      "---- final output ----\n",
      " Question: Who won first olympic medal for India \n",
      " final Answer: Valid\n"
     ]
    },
    {
     "data": {
      "text/plain": [
       "{'messages': ['Who won first olympic medal for India',\n",
       "  'rag',\n",
       "  'According to the provided context, Norman Pritchard won the first Olympic medal for India, specifically two silver medals in athletics, at the 1900 Summer Olympics in Paris, France.',\n",
       "  'Valid']}"
      ]
     },
     "execution_count": 42,
     "metadata": {},
     "output_type": "execute_result"
    }
   ],
   "source": [
    "state = {\"messages\":[\"Who won first olympic medal for India\"]}\n",
    "app.invoke(state)"
   ]
  },
  {
   "cell_type": "code",
   "execution_count": 43,
   "id": "1db54f1b",
   "metadata": {},
   "outputs": [
    {
     "name": "stdout",
     "output_type": "stream",
     "text": [
      "---- supervisor node ----- {'messages': ['Who is the president of India']}\n",
      "Question:Who is the president of India\n",
      "response from supervisor node : Topic='web' Reasoning='Requires real-time information'\n",
      "---- router function ----\n",
      "topic recieved from supervisor node: web\n",
      "---- WEB Crawler ----\n",
      "Web crawler result: List of all presidents of India from 1947 to 2025: Draupadi Murmu is serving as the 15th President of India and is the first tribal woman to occupy the top constitutional post in the country.With ... He was the 5th President of India. Varahagiri Venkata Giri: Odisha: August 24th, 1969: August 24th, 1974: He was the 4th President of India. Mohammad Hidayatullah: Chhattisgarh: July 20th, 1969 ... Droupadi Murmu, who was born June 20, 1958, in Uparbeda, is the 15th president of India. She began her term in July 2022. Murmu is the first person from the tribal community, and the second woman after Pratibha Patil, to hold the office of president. She is also the first president to have been born in independent India as well as the youngest person to occupy the post. She previously served ... Droupadi Murmu is an Indian politician and the first woman President of India, elected in 2022. She was born in Odisha, served as the Governor of Jharkhand, and belongs to the Santhal tribe. The President of India holds the position of the country's first citizen and nominal head. Since the adoption of the Indian Constitution in 1949, the nation has seen a total of 15 Presidents. The current and 15th President of India is Droupadi Murmu, who took the oath of office on July 25, 2022. The oath was administered by the then Chief ...\n",
      "---- validation node -----\n",
      " Question:Who is the president of India, \n",
      " Response:List of all presidents of India from 1947 to 2025: Draupadi Murmu is serving as the 15th President of India and is the first tribal woman to occupy the top constitutional post in the country.With ... He was the 5th President of India. Varahagiri Venkata Giri: Odisha: August 24th, 1969: August 24th, 1974: He was the 4th President of India. Mohammad Hidayatullah: Chhattisgarh: July 20th, 1969 ... Droupadi Murmu, who was born June 20, 1958, in Uparbeda, is the 15th president of India. She began her term in July 2022. Murmu is the first person from the tribal community, and the second woman after Pratibha Patil, to hold the office of president. She is also the first president to have been born in independent India as well as the youngest person to occupy the post. She previously served ... Droupadi Murmu is an Indian politician and the first woman President of India, elected in 2022. She was born in Odisha, served as the Governor of Jharkhand, and belongs to the Santhal tribe. The President of India holds the position of the country's first citizen and nominal head. Since the adoption of the Indian Constitution in 1949, the nation has seen a total of 15 Presidents. The current and 15th President of India is Droupadi Murmu, who took the oath of office on July 25, 2022. The oath was administered by the then Chief ...\n",
      "response from supervisor node : Validation='Valid' Reasoning='The AI response correctly identifies Droupadi Murmu as the current president of India and provides additional relevant information about her background and significance.'\n",
      "--- Validation router ---\n",
      "---- final output ----\n",
      " Question: Who is the president of India \n",
      " final Answer: Valid\n"
     ]
    },
    {
     "data": {
      "text/plain": [
       "{'messages': ['Who is the president of India',\n",
       "  'web',\n",
       "  \"List of all presidents of India from 1947 to 2025: Draupadi Murmu is serving as the 15th President of India and is the first tribal woman to occupy the top constitutional post in the country.With ... He was the 5th President of India. Varahagiri Venkata Giri: Odisha: August 24th, 1969: August 24th, 1974: He was the 4th President of India. Mohammad Hidayatullah: Chhattisgarh: July 20th, 1969 ... Droupadi Murmu, who was born June 20, 1958, in Uparbeda, is the 15th president of India. She began her term in July 2022. Murmu is the first person from the tribal community, and the second woman after Pratibha Patil, to hold the office of president. She is also the first president to have been born in independent India as well as the youngest person to occupy the post. She previously served ... Droupadi Murmu is an Indian politician and the first woman President of India, elected in 2022. She was born in Odisha, served as the Governor of Jharkhand, and belongs to the Santhal tribe. The President of India holds the position of the country's first citizen and nominal head. Since the adoption of the Indian Constitution in 1949, the nation has seen a total of 15 Presidents. The current and 15th President of India is Droupadi Murmu, who took the oath of office on July 25, 2022. The oath was administered by the then Chief ...\",\n",
       "  'Valid']}"
      ]
     },
     "execution_count": 43,
     "metadata": {},
     "output_type": "execute_result"
    }
   ],
   "source": [
    "state = {\"messages\":[\"Who is the president of India\"]}\n",
    "app.invoke(state)"
   ]
  },
  {
   "cell_type": "code",
   "execution_count": 44,
   "id": "d044eb94",
   "metadata": {},
   "outputs": [
    {
     "name": "stdout",
     "output_type": "stream",
     "text": [
      "---- supervisor node ----- {'messages': ['How to install pandas in python']}\n",
      "Question:How to install pandas in python\n",
      "response from supervisor node : Topic='web' Reasoning='Installing software packages requires real-time information and instructions which are best found on the internet.'\n",
      "---- router function ----\n",
      "topic recieved from supervisor node: web\n",
      "---- WEB Crawler ----\n",
      "Web crawler result: Learn different methods to install Pandas using pip or conda and verify your installation with a simple DataFrame creation. Find troubleshooting tips for common issues and links to related tutorials on working with Excel and CSV files. To install Pandas, run the following command: pip install pandas. To use Pandas in your code, import it with: ... Python is a great language for doing data analysis, primarily because of the fantastic ecosystem of data-centric python packages. Pandas is one of those packages and makes importing and analyzing data much easier. Pandas Index.to ... Learn how to install Pandas, a popular Python library for data analysis and manipulation, using pip, Anaconda, or from the source. Follow the steps, requirements, and troubleshooting tips for each method. Here's how you can install a specific version of Pandas: pip install pandas==1.4.2 Installing from a URL. If the package you need isn't available on PyPI, you can install it directly from a URL. This is particularly useful for installing packages from private repositories or development versions. pip install [package_url] In this python tutorial, I show you how to install pandas in python! I show you two different but essentially same methods to install pandas for your python ...\n",
      "---- validation node -----\n",
      " Question:How to install pandas in python, \n",
      " Response:Learn different methods to install Pandas using pip or conda and verify your installation with a simple DataFrame creation. Find troubleshooting tips for common issues and links to related tutorials on working with Excel and CSV files. To install Pandas, run the following command: pip install pandas. To use Pandas in your code, import it with: ... Python is a great language for doing data analysis, primarily because of the fantastic ecosystem of data-centric python packages. Pandas is one of those packages and makes importing and analyzing data much easier. Pandas Index.to ... Learn how to install Pandas, a popular Python library for data analysis and manipulation, using pip, Anaconda, or from the source. Follow the steps, requirements, and troubleshooting tips for each method. Here's how you can install a specific version of Pandas: pip install pandas==1.4.2 Installing from a URL. If the package you need isn't available on PyPI, you can install it directly from a URL. This is particularly useful for installing packages from private repositories or development versions. pip install [package_url] In this python tutorial, I show you how to install pandas in python! I show you two different but essentially same methods to install pandas for your python ...\n",
      "response from supervisor node : Validation='Valid' Reasoning='The AI response correctly identifies the primary method of installing pandas using pip and provides a basic installation command. It also touches upon alternative installation methods (conda) and offers additional resources for learning about pandas.'\n",
      "--- Validation router ---\n",
      "---- final output ----\n",
      " Question: How to install pandas in python \n",
      " final Answer: Valid\n"
     ]
    },
    {
     "data": {
      "text/plain": [
       "{'messages': ['How to install pandas in python',\n",
       "  'web',\n",
       "  \"Learn different methods to install Pandas using pip or conda and verify your installation with a simple DataFrame creation. Find troubleshooting tips for common issues and links to related tutorials on working with Excel and CSV files. To install Pandas, run the following command: pip install pandas. To use Pandas in your code, import it with: ... Python is a great language for doing data analysis, primarily because of the fantastic ecosystem of data-centric python packages. Pandas is one of those packages and makes importing and analyzing data much easier. Pandas Index.to ... Learn how to install Pandas, a popular Python library for data analysis and manipulation, using pip, Anaconda, or from the source. Follow the steps, requirements, and troubleshooting tips for each method. Here's how you can install a specific version of Pandas: pip install pandas==1.4.2 Installing from a URL. If the package you need isn't available on PyPI, you can install it directly from a URL. This is particularly useful for installing packages from private repositories or development versions. pip install [package_url] In this python tutorial, I show you how to install pandas in python! I show you two different but essentially same methods to install pandas for your python ...\",\n",
       "  'Valid']}"
      ]
     },
     "execution_count": 44,
     "metadata": {},
     "output_type": "execute_result"
    }
   ],
   "source": [
    "state = {\"messages\":[\"How to install pandas in python\"]}\n",
    "app.invoke(state)"
   ]
  },
  {
   "cell_type": "code",
   "execution_count": null,
   "id": "2ceeb8ce",
   "metadata": {},
   "outputs": [],
   "source": []
  }
 ],
 "metadata": {
  "kernelspec": {
   "display_name": "Python 3",
   "language": "python",
   "name": "python3"
  },
  "language_info": {
   "codemirror_mode": {
    "name": "ipython",
    "version": 3
   },
   "file_extension": ".py",
   "mimetype": "text/x-python",
   "name": "python",
   "nbconvert_exporter": "python",
   "pygments_lexer": "ipython3",
   "version": "3.10.18"
  }
 },
 "nbformat": 4,
 "nbformat_minor": 5
}
